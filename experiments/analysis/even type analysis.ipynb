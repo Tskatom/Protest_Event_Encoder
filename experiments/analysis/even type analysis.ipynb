{
 "metadata": {
  "name": "",
  "signature": "sha256:67d1144749ff6283be6b895299dd0daf6fa717f265744ce5a05391b7892ec590"
 },
 "nbformat": 3,
 "nbformat_minor": 0,
 "worksheets": [
  {
   "cells": [
    {
     "cell_type": "code",
     "collapsed": false,
     "input": [
      "pred_file = \"../results/type_cnn_100000_200_update_no_valid_max1000_200_90.pred\"\n",
      "class_file = \"../../data/type_cat.dic\"\n",
      "truth_file = \"../../data/single_label/spanish_protest_test.type_cat\"\n",
      "\n",
      "preds = [int(l.strip()) for l in open(pred_file)]\n",
      "print len(preds), \" Preds\"\n",
      "pop2id = {k.strip():i for i, k in enumerate(open(class_file))}\n",
      "id2pop = {v:k for k,v in pop2id.items()}\n",
      "truths = [pop2id[k.strip()] for k in open(truth_file)]\n",
      "print len(truths), \" Truths\"\n",
      "\n",
      "import numpy as np\n",
      "from sklearn.metrics import classification_report, confusion_matrix\n",
      "print 'Accuracy: ', np.mean(np.equal(truths, preds))\n",
      "targets = [id2pop[id] for id in range(len(id2pop))]\n",
      "print targets\n",
      "report = classification_report(truths, preds, target_names=targets)\n",
      "\n",
      "\n",
      "import pandas as pds\n",
      "print \"\"\"\n",
      "\n",
      "011 Employment and Wages\n",
      "012 Housing\n",
      "013 Energy and Resources\n",
      "014 Other Economic Policies\n",
      "015 Other Government Policies\n",
      "016 Other\n",
      "\n",
      "\"\"\"\n",
      "print report\n",
      "con_matrix = confusion_matrix(truths, preds)\n",
      "precision = np.diag(con_matrix) / (1.0 * np.sum(con_matrix, axis=0))\n",
      "df = pds.DataFrame.from_records(con_matrix, columns=targets)\n",
      "df.index = targets\n",
      "print df\n"
     ],
     "language": "python",
     "metadata": {},
     "outputs": [
      {
       "output_type": "stream",
       "stream": "stdout",
       "text": [
        "3518  Preds\n",
        "3518  Truths\n",
        "Accuracy:  0.687890847072\n",
        "['011', '012', '013', '014', '015', '016']\n",
        "\n",
        "\n",
        "011 Employment and Wages\n",
        "012 Housing\n",
        "013 Energy and Resources\n",
        "014 Other Economic Policies\n",
        "015 Other Government Policies\n",
        "016 Other\n",
        "\n",
        "\n",
        "             precision    recall  f1-score   support\n",
        "\n",
        "        011       0.78      0.84      0.81       848\n",
        "        012       0.72      0.64      0.67        91\n",
        "        013       0.72      0.65      0.68       609\n",
        "        014       0.60      0.47      0.53       230\n",
        "        015       0.66      0.78      0.72      1303\n",
        "        016       0.51      0.30      0.38       437\n",
        "\n",
        "avg / total       0.68      0.69      0.68      3518\n",
        "\n",
        "     011  012  013  014   015  016\n",
        "011  712    0   15   21    91    9\n",
        "012    0   58    9    1    19    4\n",
        "013   44   11  397   17   121   19\n",
        "014   36    1   28  108    51    6\n",
        "015   99    6   70   25  1015   88\n",
        "016   22    5   35    7   238  130\n"
       ]
      }
     ],
     "prompt_number": 7
    },
    {
     "cell_type": "code",
     "collapsed": false,
     "input": [
      "\"\"\"\"\"\""
     ],
     "language": "python",
     "metadata": {},
     "outputs": []
    }
   ],
   "metadata": {}
  }
 ]
}