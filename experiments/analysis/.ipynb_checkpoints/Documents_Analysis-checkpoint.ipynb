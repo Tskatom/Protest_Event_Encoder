{
 "metadata": {
  "name": "",
  "signature": "sha256:074cfc96fd21f18183cdb538d3be49356414224217c8e6cf394de82b1c800fd4"
 },
 "nbformat": 3,
 "nbformat_minor": 0,
 "worksheets": []
}