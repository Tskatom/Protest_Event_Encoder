{
 "metadata": {
  "name": "",
  "signature": "sha256:7c4c4abf5546f69e736f7815932bb393819e10fca329df386c5715f45977d794"
 },
 "nbformat": 3,
 "nbformat_minor": 0,
 "worksheets": [
  {
   "cells": [
    {
     "cell_type": "code",
     "collapsed": false,
     "input": [
      "# use microsoft translation API\n",
      "secret = \"CrqRJmTdIGSXzOKyqMNmRsNZ6MrZr7IVshVCNeGmyZs=\"\n",
      "client_id = \"ms_translation_002\"\n",
      "\n",
      "import requests\n",
      "import json\n",
      "from xml.dom import minidom\n",
      "\n",
      "clientSecret = secret\n",
      "clientID = client_id\n",
      "strTranslatorAccessURI = \"https://datamarket.accesscontrol.windows.net/v2/OAuth2-13\"\n",
      "token = ''\n",
      "\n",
      "def getToken():\n",
      "    strRequestDetails = {\n",
      "        \"grant_type\":\"client_credentials\",\n",
      "        \"client_id\":clientID,\n",
      "        \"client_secret\":clientSecret,\n",
      "        \"scope\":\"http://api.microsofttranslator.com\"\n",
      "    }\n",
      "    r = requests.post(strTranslatorAccessURI, data=strRequestDetails)\n",
      "    token = json.loads(r.text)\n",
      "    return token\n",
      "\n",
      "def getText(txtToTranslate, from_lan=\"es\", to_lan=\"en\"):\n",
      "    translations = []\n",
      "    authString = \"Bearer %s\" % token['access_token']\n",
      "    headers = {\"Authorization\" : authString}\n",
      "    uri = \"http://api.microsofttranslator.com/v2/Http.svc/Translate?text=%s&from=%s&to=%s\" %  (txtToTranslate, from_lan, to_lan)\n",
      "    r = requests.get(uri, headers=headers)\n",
      "    xmldoc = minidom.parseString(r.text)\n",
      "    itemlist = xmldoc.getElementsByTagName('string')\n",
      "\n",
      "    for item in itemlist:\n",
      "        for child in item.childNodes:\n",
      "            translations.append(child.nodeValue)\n",
      "    return translations\n",
      "\n",
      "\n",
      "token = getToken();"
     ],
     "language": "python",
     "metadata": {},
     "outputs": [],
     "prompt_number": 32
    },
    {
     "cell_type": "code",
     "collapsed": false,
     "input": [
      "token"
     ],
     "language": "python",
     "metadata": {},
     "outputs": [
      {
       "metadata": {},
       "output_type": "pyout",
       "prompt_number": 15,
       "text": [
        "{u'access_token': u'http%3a%2f%2fschemas.xmlsoap.org%2fws%2f2005%2f05%2fidentity%2fclaims%2fnameidentifier=ms_translation_002&http%3a%2f%2fschemas.microsoft.com%2faccesscontrolservice%2f2010%2f07%2fclaims%2fidentityprovider=https%3a%2f%2fdatamarket.accesscontrol.windows.net%2f&Audience=http%3a%2f%2fapi.microsofttranslator.com&ExpiresOn=1457816298&Issuer=https%3a%2f%2fdatamarket.accesscontrol.windows.net%2f&HMACSHA256=e%2bWTjX%2b5Y8Ju9BMuKqpGHs30wF6ZANsAfUo0CNvLenI%3d',\n",
        " u'expires_in': u'599',\n",
        " u'scope': u'http://api.microsofttranslator.com',\n",
        " u'token_type': u'http://schemas.xmlsoap.org/ws/2009/11/swt-token-profile-1.0'}"
       ]
      }
     ],
     "prompt_number": 15
    },
    {
     "cell_type": "code",
     "collapsed": false,
     "input": [
      "import cPickle\n",
      "import json\n",
      "from itertools import chain\n",
      "docs = [json.loads(l) for l in open('../data/new_multi_label_ksen/0/event_test.prob_score')]\n",
      "labels = [l.strip() for l in open('../data/new_multi_label_ksen/0/event_test.event_cat')]\n",
      "\n",
      "protest_docs = [doc for i, doc in enumerate(docs) if labels[i] == \"protest\"]\n",
      "protest_sens = [sen for sen in chain(*protest_docs)]"
     ],
     "language": "python",
     "metadata": {},
     "outputs": [],
     "prompt_number": 27
    },
    {
     "cell_type": "code",
     "collapsed": false,
     "input": [
      "#  compute the sentence id\n",
      "sen_dic = {}\n",
      "with open('../data/new_multi_label/0/event_test.txt.tok') as d:\n",
      "    for l in d:\n",
      "        doc = json.loads(l)\n",
      "        for i, s in enumerate(doc):\n",
      "            sen_dic[s.strip()] = i\n",
      "        "
     ],
     "language": "python",
     "metadata": {},
     "outputs": [],
     "prompt_number": 43
    },
    {
     "cell_type": "code",
     "collapsed": false,
     "input": [
      "sorted_sens = sorted(protest_sens,key=lambda x:x[1], reverse=True)"
     ],
     "language": "python",
     "metadata": {},
     "outputs": [],
     "prompt_number": 29
    },
    {
     "cell_type": "code",
     "collapsed": false,
     "input": [
      "sorted_sens[0]"
     ],
     "language": "python",
     "metadata": {},
     "outputs": [
      {
       "metadata": {},
       "output_type": "pyout",
       "prompt_number": 30,
       "text": [
        "[u'Los inconformes iniciaron su manifestaci\\xf3n en Plaza Ju\\xe1rez, avanzaron por 16 de Septiembre hasta llegar a Hidalgo.',\n",
        " 0.9991881251335144]"
       ]
      }
     ],
     "prompt_number": 30
    },
    {
     "cell_type": "code",
     "collapsed": false,
     "input": [
      "token = getToken();\n",
      "for sen in sorted_sens[:500]:\n",
      "    print 'Sen-----%0.4f \\n' % sen[1]\n",
      "    try:\n",
      "        if sen[0].strip() in sen_dic:\n",
      "            if sen_dic[sen[0].strip()] > 2:\n",
      "                print '--------------True'\n",
      "                print sen[0].strip()\n",
      "                print '====='\n",
      "                print getText(sen[0].encode('utf-8'))\n",
      "            else:\n",
      "                continue\n",
      "                print '---------------False'\n",
      "        else:\n",
      "            print '-----------not in False'\n",
      "    except:\n",
      "        print 'error'\n",
      "        continue\n",
      "    print '\\n'\n",
      "        "
     ],
     "language": "python",
     "metadata": {},
     "outputs": [
      {
       "output_type": "stream",
       "stream": "stdout",
       "text": [
        "Sen-----0.9992 \n",
        "\n",
        "Sen-----0.9991 \n",
        "\n",
        "Sen-----0.9991 \n",
        "\n",
        "Sen-----0.9991 \n",
        "\n",
        "Sen-----0.9991 \n",
        "\n",
        "--------------True\n",
        "| Foto por Mauricio Pineda Ante la falta de una respuesta a sus demandas, los protestantes quemaron llantas en medio de la carretera.\n",
        "=====\n",
        "[u'| Photo by Mauricio Pineda in the absence of a response to their demands, protesters burned tires in the middle of the road.']"
       ]
      },
      {
       "output_type": "stream",
       "stream": "stdout",
       "text": [
        "\n",
        "\n",
        "\n",
        "Sen-----0.9991 \n",
        "\n",
        "Sen-----0.9991 \n",
        "\n",
        "Sen-----0.9991 \n",
        "\n",
        "--------------True\n",
        "Los manifestantes reclaman la renuncia del presidente Cartes, ya que consideran que -seg\u00fan entienden- no gobierna para los sectores m\u00e1s pobres, y la instalaci\u00f3n una junta patri\u00f3tica en el poder.\n",
        "=====\n",
        "[u'Protesters are demanding the resignation of President Cartes, since they consider that - as they understand - no rules for the sectors poorer, and the installation a patriotic junta in power.']"
       ]
      },
      {
       "output_type": "stream",
       "stream": "stdout",
       "text": [
        "\n",
        "\n",
        "\n",
        "Sen-----0.9991 \n",
        "\n",
        "Sen-----0.9990 \n",
        "\n",
        "Sen-----0.9990 \n",
        "\n",
        "Sen-----0.9989 \n",
        "\n",
        "Sen-----0.9988 \n",
        "\n",
        "--------------True\n",
        "Un grupo de taxistas protestaron la ma\u00f1ana de este lunes en el casco central del municipio Carrizal, en el estado Miranda, seg\u00fan revela @PorCarrizal la manifestaci\u00f3n se debe a que, fue negado la circulaci\u00f3n a los ch\u00f3feres beneficiados con la Misi\u00f3n Transporte.\n",
        "=====\n",
        "[u'A group of taxi drivers protested this Monday morning in the central town of el Carrizal municipality, in Miranda State, according to @PorCarrizal the demonstration is due to that, he was denied the circulation to the drivers who benefited from the transport mission.']"
       ]
      },
      {
       "output_type": "stream",
       "stream": "stdout",
       "text": [
        "\n",
        "\n",
        "\n",
        "Sen-----0.9988 \n",
        "\n",
        "--------------True\n",
        "Mientras una parte de los manifestantes permanecieron en la autopista, otro sector march\u00f3 hacia el microcentro porte\u00f1o antes del mediod\u00eda de ayer.\n",
        "=====\n",
        "[u'While some of the demonstrators remained on the highway, another sector marched towards the microcentro before noon yesterday.']"
       ]
      },
      {
       "output_type": "stream",
       "stream": "stdout",
       "text": [
        "\n",
        "\n",
        "\n",
        "Sen-----0.9987 \n",
        "\n",
        "Sen-----0.9987 \n",
        "\n",
        "Sen-----0.9987 \n",
        "\n",
        "--------------True\n",
        "Durante gran parte del d\u00eda, los manifestantes bloquearon por completo el acceso al aeropuerto de Ezeiza y marcharon hacia la Casa Rosada con un petitorio al presidente Mauricio Macri para que se solucione el conflicto que tiene a los empleados en vilo desde hace varios meses por la crisis econ\u00f3mica que atraviesa la compa\u00f1\u00eda de los hermanos Ivo y Milenko Rasic.\n",
        "=====\n",
        "[u'During much of the day, the protesters completely blocked access to Ezeiza airport and marched on the Casa Rosada with a petition to President Mauricio Macri so will solve the conflict that has employees on tenterhooks for several months by the economic crisis affecting the company of the brothers Ivo and Milenko Rasic.']"
       ]
      },
      {
       "output_type": "stream",
       "stream": "stdout",
       "text": [
        "\n",
        "\n",
        "\n",
        "Sen-----0.9987 \n",
        "\n",
        "--------------True\n",
        "Las organizaciones campesinas que se encuentran en Sedatu anunciaron que marchar\u00e1n a las oficinas de Sagarpa.\n",
        "=====\n",
        "[u'Peasant organizations that are in Sedatu announced that they will March to the offices of Sagarpa.']"
       ]
      },
      {
       "output_type": "stream",
       "stream": "stdout",
       "text": [
        "\n",
        "\n",
        "\n",
        "Sen-----0.9984 \n",
        "\n",
        "Sen-----0.9984 \n",
        "\n",
        "Sen-----0.9983 \n",
        "\n",
        "Sen-----0.9982 \n",
        "\n",
        "Sen-----0.9982 \n",
        "\n",
        "Sen-----0.9981 \n",
        "\n",
        "--------------True\n",
        "El pasado jueves, los trabajadores y sus esposas realizaron un plant\u00f3n donde protestaron a cacerolazos frente al Palacio Municipal de Veracruz.\n",
        "=====\n",
        "[u'On Thursday, workers and their wives held a sit-in where protested to cacerolazos opposite the Municipal Palace of Veracruz.']"
       ]
      },
      {
       "output_type": "stream",
       "stream": "stdout",
       "text": [
        "\n",
        "\n",
        "\n",
        "Sen-----0.9977 \n",
        "\n",
        "Sen-----0.9977 \n",
        "\n",
        "Sen-----0.9977 \n",
        "\n",
        "Sen-----0.9977 \n",
        "\n",
        "Sen-----0.9976 \n",
        "\n",
        "Sen-----0.9976 \n",
        "\n",
        "Sen-----0.9976 \n",
        "\n",
        "Sen-----0.9975 \n",
        "\n",
        "--------------True\n",
        "Alumnos y padres de familia del Colegio Nacional de Lambar\u00e9 marcharon hasta la Municipalidad local en reclamo por el derrumbe del aula que afect\u00f3 a sus compa\u00f1eros.\n",
        "=====\n",
        "error"
       ]
      },
      {
       "output_type": "stream",
       "stream": "stdout",
       "text": [
        "\n",
        "Sen-----0.9975 \n",
        "\n",
        "--------------True\n",
        "La movilizaci\u00f3n cont\u00f3 con adherentes procedentes de Caaguaz\u00fa, Caazap\u00e1, Guair\u00e1, Itap\u00faa, Misiones, San Pedro, Canindey\u00fa y Concepci\u00f3n.\n",
        "=====\n",
        "error"
       ]
      },
      {
       "output_type": "stream",
       "stream": "stdout",
       "text": [
        "\n",
        "Sen-----0.9974 \n",
        "\n",
        "Sen-----0.9974 \n",
        "\n",
        "Sen-----0.9974 \n",
        "\n",
        "Sen-----0.9973 \n",
        "\n",
        "--------------True\n",
        "Desde el inicio de la movilizaci\u00f3n de los estudiantes de la Universidad Nacional de Asunci\u00f3n (UNA) en el Rectorado de San Lorenzo, los alumnos de la Facultad de Filosof\u00eda, filial de esta ciudad, se manifestaron en apoyo.\n",
        "=====\n",
        "error"
       ]
      },
      {
       "output_type": "stream",
       "stream": "stdout",
       "text": [
        "\n",
        "Sen-----0.9973 \n",
        "\n",
        "--------------True\n",
        "Para las 15:00, la marcha de maestros incorporados a la CETEG y el SUSPEG regresaron al campamento ubicado en la colonia bur\u00f3cratas, frente a las instalaciones del Ex Ineban.\n",
        "=====\n",
        "[u'For 15:00, the March of teachers incorporated into the CETEG and the SUSPEG returned to the camp located in the bureaucrats, off the premises of the former Ineban.']"
       ]
      },
      {
       "output_type": "stream",
       "stream": "stdout",
       "text": [
        "\n",
        "\n",
        "\n",
        "Sen-----0.9972 \n",
        "\n",
        "--------------True\n",
        "Una vez reincorporados en un solo contingente, los maestros disidentes caminaron sobre los carriles norte-sur de la Autopista del Sol, deteni\u00e9ndose hasta llegar al punto conocido como El Parador del Marqu\u00e9s.\n",
        "=====\n",
        "[u'Once reinstated a single contingent, dissident teachers stepped on North-South lanes of the motorway of the Sun, stopping until you reach the point known as El Parador del Marques.']"
       ]
      },
      {
       "output_type": "stream",
       "stream": "stdout",
       "text": [
        "\n",
        "\n",
        "\n",
        "Sen-----0.9971 \n",
        "\n",
        "--------------True\n",
        "Participaron de la movilizaci\u00f3n unas 15 instituciones educativas p\u00fablicas y privadas.\n",
        "=====\n",
        "[u'15 public and private educational institutions participated in the mobilization.']"
       ]
      },
      {
       "output_type": "stream",
       "stream": "stdout",
       "text": [
        "\n",
        "\n",
        "\n",
        "Sen-----0.9970 \n",
        "\n",
        "Sen-----0.9969 \n",
        "\n",
        "Sen-----0.9969 \n",
        "\n",
        "--------------True\n",
        "Los universitarios se re\u00fanen en la plaza Mariscal L\u00f3pez para realizar la medida de presi\u00f3n.\n",
        "=====\n",
        "[u'Students gather in plaza Mariscal Lopez to perform measurement of pressure.']"
       ]
      },
      {
       "output_type": "stream",
       "stream": "stdout",
       "text": [
        "\n",
        "\n",
        "\n",
        "Sen-----0.9968 \n",
        "\n",
        "Sen-----0.9968 \n",
        "\n",
        "Sen-----0.9968 \n",
        "\n",
        "--------------True\n",
        "Los manifestantes recorrieron con pancartas y pasacalles unos tres mil metros de la supercarretera y luego retornaron a la rotonda.\n",
        "=====\n",
        "[u'Protesters marched through banners and parade about three thousand meters of the superhighway and then returned to the roundabout.']"
       ]
      },
      {
       "output_type": "stream",
       "stream": "stdout",
       "text": [
        "\n",
        "\n",
        "\n",
        "Sen-----0.9968 \n",
        "\n",
        "Sen-----0.9968 \n",
        "\n",
        "--------------True\n",
        "Los inconformes bloquearon con caballos los carriles de importaci\u00f3n y exportaci\u00f3n de mercanc\u00edas, lo que evit\u00f3 que cientos de camiones ingresaran a M\u00e9xico.\n",
        "=====\n",
        "[u'The protesters blocked with horses Rails import and export of goods, which prevented hundreds of trucks from entering Mexico.']"
       ]
      },
      {
       "output_type": "stream",
       "stream": "stdout",
       "text": [
        "\n",
        "\n",
        "\n",
        "Sen-----0.9968 \n",
        "\n",
        "--------------True\n",
        "En horas de la noche los alumnos marchan por el centro de la ciudad para hacer escuchar sus reclamos.\n",
        "=====\n",
        "[u'In the evening students March through the center of the city to hear their claims.']"
       ]
      },
      {
       "output_type": "stream",
       "stream": "stdout",
       "text": [
        "\n",
        "\n",
        "\n",
        "Sen-----0.9966 \n",
        "\n",
        "Sen-----0.9966 \n",
        "\n",
        "--------------True\n",
        "Despu\u00e9s de marchar durante cuatro horas por la carretera federal, los manifestantes se concentraron en la explanada de Palacio de Gobierno, en la parte sur de Chilpancingo.\n",
        "=====\n",
        "[u'After marching for four hours by the federal highway, the protesters were concentrated in the forecourt of the Palace of Government, in the southern part of Chilpancingo.']"
       ]
      },
      {
       "output_type": "stream",
       "stream": "stdout",
       "text": [
        "\n",
        "\n",
        "\n",
        "Sen-----0.9966 \n",
        "\n",
        "--------------True\n",
        "Sentata en el Cristo Rey, al cual pertenecen varios de los organizadores de la gran movilizaci\u00f3n estudiantil.\n",
        "=====\n",
        "[u'Sit in the Christ the King, to which belong to several of the organizers of the great student protests.']"
       ]
      },
      {
       "output_type": "stream",
       "stream": "stdout",
       "text": [
        "\n",
        "\n",
        "\n",
        "Sen-----0.9966 \n",
        "\n",
        "Sen-----0.9966 \n",
        "\n",
        "--------------True\n",
        "Maestros de la Coordinadora Estatal de Trabajadores de la Educaci\u00f3n en Guerrero (Ceteg) tomaron indefinidamente las instalaciones de la Subdelegaci\u00f3n de los Servicios Educativos en Costa Grande, para protestar por la aplicaci\u00f3n de la evaluaci\u00f3n a profesores guerrerenses.\n",
        "=====\n",
        "[u'Teachers of the State Coordinator of education workers of Guerrero (Ceteg) indefinitely took the sub-delegation of the educational services facilities in Costa Grande, protesting the implementation of evaluation teachers Guerrero.']"
       ]
      },
      {
       "output_type": "stream",
       "stream": "stdout",
       "text": [
        "\n",
        "\n",
        "\n",
        "Sen-----0.9966 \n",
        "\n",
        "--------------True\n",
        "Los trabajadores de Empo reciben el apoyo de los gancheros nucleados en la Asociaci\u00f3n de Trabajadores y Recicladores del Vertedero Municipal (Asotravermu).\n",
        "=====\n",
        "[u'Empo workers receive the support of the nucleated recyclers Association of workers and Municipal landfill recyclers (Asotravermu).']"
       ]
      },
      {
       "output_type": "stream",
       "stream": "stdout",
       "text": [
        "\n",
        "\n",
        "\n",
        "Sen-----0.9965 \n",
        "\n",
        "--------------True\n",
        "El grupo de docentes llegaron al inmueble, y pac\u00edficamente pidieron a los trabajadores que se retiraran, mientras dos de ellos, con los rostros cubiertos, colocaron tres cartulinas en la entrada principal, la cual sellaron, donde expon\u00edan su rechazo a la reforma educativa.\n",
        "=====\n",
        "[u'The Group of teachers arrived at the property, and peacefully called for workers that they withdrew, while two of them with their faces covered, placed three cards at the main entrance, which sealed, where they exposed their rejection of education reform.']"
       ]
      },
      {
       "output_type": "stream",
       "stream": "stdout",
       "text": [
        "\n",
        "\n",
        "\n",
        "Sen-----0.9965 \n",
        "\n",
        "--------------True\n",
        "En la bajada a Villa Elisa manifestantes cortaban totalmente la calzada.\n",
        "=====\n",
        "[u'On the way down to Villa Elisa protesters completely cut road.']"
       ]
      },
      {
       "output_type": "stream",
       "stream": "stdout",
       "text": [
        "\n",
        "\n",
        "\n",
        "Sen-----0.9965 \n",
        "\n",
        "--------------True\n",
        "Portando carteles y uniformados, exigieron mejor educaci\u00f3n y seguridad en aulas.\n",
        "=====\n",
        "[u'Carrying signs and uniformed, demanded better education and safety in classrooms.']"
       ]
      },
      {
       "output_type": "stream",
       "stream": "stdout",
       "text": [
        "\n",
        "\n",
        "\n",
        "Sen-----0.9965 \n",
        "\n",
        "--------------True\n",
        "En el puente Pueyrred\u00f3n, un gremio de m\u00e9dicos bonaerenses realizaba una protesta por el cierre del \u00e1rea de Neonatolog\u00eda y de la Maternidad del Hospital Fiorito de Avellaneda, seg\u00fan denunciaron.\n",
        "=====\n",
        "[u'At the Pueyrredon bridge, a Guild of Buenos Aires doctors performed a protest by the closure of the area of gynaecology and the maternity of the Fiorito Hospital of Avellaneda, as they reported.']"
       ]
      },
      {
       "output_type": "stream",
       "stream": "stdout",
       "text": [
        "\n",
        "\n",
        "\n",
        "Sen-----0.9964 \n",
        "\n",
        "--------------True\n",
        "Indic\u00f3 que el lunes desde tempranas horas se manifestar\u00e1n frente al campus universitario de manera pac\u00edfica.\n",
        "=====\n",
        "[u'He said that early Monday they manifest themselves against the University campus in a peaceful manner.']"
       ]
      },
      {
       "output_type": "stream",
       "stream": "stdout",
       "text": [
        "\n",
        "\n",
        "\n",
        "Sen-----0.9964 \n",
        "\n",
        "--------------True\n",
        "Varios vendedores volvieron a bloquear este mediod\u00eda la 2 calle Poniente a un costado del parque San Mart\u00edn en Santa Tecla.\n",
        "=====\n",
        "[u'Various vendors returned to block this afternoon the 2 Street West to park next to San Martin in Santa Tecla.']"
       ]
      },
      {
       "output_type": "stream",
       "stream": "stdout",
       "text": [
        "\n",
        "\n",
        "\n",
        "Sen-----0.9964 \n",
        "\n",
        "--------------True\n",
        "M\u00e1s de 500 pensionados y jubilados de diversos municipios marcharon en esta ciudad para rechazar la intenci\u00f3n del gobierno federal de privatizar el Fondo Nacional de Pensiones de los Trabajadores al Servicio del Estado (Pensionissste), medida que afectar\u00e1 a alrededor de 18 mil trabajadores de esta entidad.\n",
        "=====\n",
        "[u'More than 500 retirees and pensioners of different municipalities marched into this city to repel the intention of the federal Government to privatize the National Fund for pensions of workers at the service of the State (Pensionissste), measure that will affect around 18 thousand workers of this entity.']"
       ]
      },
      {
       "output_type": "stream",
       "stream": "stdout",
       "text": [
        "\n",
        "\n",
        "\n",
        "Sen-----0.9964 \n",
        "\n",
        "--------------True\n",
        "La protesta se debe al descontento que mantienen desde que la semana pasada fueran desalojados.\n",
        "=====\n",
        "[u'The protest is due to dissatisfaction that remain from the last week were evicted.']"
       ]
      },
      {
       "output_type": "stream",
       "stream": "stdout",
       "text": [
        "\n",
        "\n",
        "\n",
        "Sen-----0.9964 \n",
        "\n",
        "--------------True\n",
        "La legisladora y la exdiputada Aida Robles, ambas del Frente Guasu, participan de la manifestaci\u00f3n, seg\u00fan la 780 AM.\n",
        "=====\n",
        "[u'The legislator and the exdiputada Aida Robles, both of the front Guasu, participate in the demonstration, according to the 780 AM.']"
       ]
      },
      {
       "output_type": "stream",
       "stream": "stdout",
       "text": [
        "\n",
        "\n",
        "\n",
        "Sen-----0.9963 \n",
        "\n",
        "Sen-----0.9963 \n",
        "\n",
        "Sen-----0.9962 \n",
        "\n",
        "--------------True\n",
        "Los manifestantes quitaron el bloqueo alrededor de las 13:00 horas y volvieron a su campamento.\n",
        "=====\n",
        "[u'Protesters removed the blockade around 13:00 hours and returned to their camp.']"
       ]
      },
      {
       "output_type": "stream",
       "stream": "stdout",
       "text": [
        "\n",
        "\n",
        "\n",
        "Sen-----0.9962 \n",
        "\n",
        "--------------True\n",
        "Adem\u00e1s, apoya la CUT-A, una central que no cuenta con transportistas y una agremiaci\u00f3n de camioneros.\n",
        "=====\n",
        "[u'In addition, it supports the CUT-A, a station which does not have an Association of truck drivers and hauliers.']"
       ]
      },
      {
       "output_type": "stream",
       "stream": "stdout",
       "text": [
        "\n",
        "\n",
        "\n",
        "Sen-----0.9962 \n",
        "\n",
        "Sen-----0.9962 \n",
        "\n",
        "Sen-----0.9961 \n",
        "\n",
        "Sen-----0.9961 \n",
        "\n",
        "--------------True\n",
        "La movilizaci\u00f3n ya debi\u00f3 realizarse la semana pasada, pero la inclemencia del tiempo opac\u00f3 la organizaci\u00f3n por lo que convocaron nuevamente para ayer con una respuesta m\u00e1s interesante, pero no la deseada por los organizadores.\n",
        "=====\n",
        "[u'Mobilization should already be done last week, but the inclement weather overshadowed the Organization for what it called again to yesterday with a more interesting answer, but not the desired by the organizers.']"
       ]
      },
      {
       "output_type": "stream",
       "stream": "stdout",
       "text": [
        "\n",
        "\n",
        "\n",
        "Sen-----0.9959 \n",
        "\n",
        "Sen-----0.9959 \n",
        "\n",
        "Sen-----0.9959 \n",
        "\n",
        "--------------True\n",
        "Uno de los miembros de la Fepatrat, Pastor Cristaldo, afirm\u00f3 que ser\u00e1n 40 l\u00edneas de transporte p\u00fablico las que se suman a la medida.\n",
        "=====\n",
        "[u'One of the members of the Fepatrat, Pastor Cristaldo, said that 40 lines of public transport will be which are added to the measure.']"
       ]
      },
      {
       "output_type": "stream",
       "stream": "stdout",
       "text": [
        "\n",
        "\n",
        "\n",
        "Sen-----0.9958 \n",
        "\n",
        "--------------True\n",
        "Mientras tanto, en Colima, un grupo de maestros protest\u00f3 con pancartas y consignas contra la evaluaci\u00f3n docente que se aplica en varias sedes del estado.\n",
        "=====\n",
        "[u'Meanwhile, in Colima, a group of teachers protested with banners and slogans against the teaching evaluation is applied in various offices of the State.']"
       ]
      },
      {
       "output_type": "stream",
       "stream": "stdout",
       "text": [
        "\n",
        "\n",
        "\n",
        "Sen-----0.9957 \n",
        "\n",
        "--------------True\n",
        "Alrededor de 50 manifestantes retuvieron adem\u00e1s a los camiones que pasaban por dicho acceso.\n",
        "=====\n",
        "[u'Around of 50 protesters they detained also trucks passing through such access.']"
       ]
      },
      {
       "output_type": "stream",
       "stream": "stdout",
       "text": [
        "\n",
        "\n",
        "\n",
        "Sen-----0.9956 \n",
        "\n",
        "--------------True\n",
        "Los transportistas ajenos a la movilizaci\u00f3n, a quienes detuvieron, en su mayor\u00eda apoyaron la medida, ya que tambi\u00e9n afirman que el cobro bidireccional es un abuso.\n",
        "=====\n",
        "[u'Carriers outside the mobilization, who arrested, mostly supported the measure, since they also assert that the bi-directional collection is an abuse.']"
       ]
      },
      {
       "output_type": "stream",
       "stream": "stdout",
       "text": [
        "\n",
        "\n",
        "\n",
        "Sen-----0.9955 \n",
        "\n",
        "--------------True\n",
        "Esta manifestaci\u00f3n sorpresiva se enmarca dentro del paro nacional anunciado por los secundarios desde la semana pasada, que se realiza hoy y ma\u00f1ana.\n",
        "=====\n",
        "[u'This surprising event falls within the national strike announced by the side since last week, which takes place today and tomorrow.']"
       ]
      },
      {
       "output_type": "stream",
       "stream": "stdout",
       "text": [
        "\n",
        "\n",
        "\n",
        "Sen-----0.9955 \n",
        "\n",
        "Sen-----0.9955 \n",
        "\n",
        "Sen-----0.9955 \n",
        "\n",
        "Sen-----0.9955 \n",
        "\n",
        "--------------True\n",
        "En los dos d\u00edas de movilizaci\u00f3n, el paro de las m\u00e1quinas en la zona de obras gener\u00f3 p\u00e9rdidas por G.\n",
        "=====\n",
        "[u'In the two days of mobilization, the stoppage of machinery in the area of works generated losses by G.']"
       ]
      },
      {
       "output_type": "stream",
       "stream": "stdout",
       "text": [
        "\n",
        "\n",
        "\n",
        "Sen-----0.9955 \n",
        "\n",
        "--------------True\n",
        "Adem\u00e1s de los pedidos de libertad para Edelio y Abrah\u00e1n, muchos j\u00f3venes que participaron de la marcha pidieron seguridad, trabajo y justicia.\n",
        "=====\n",
        "[u'In addition to requests for freedom for Edelio and Abraham, many young people who participated in the March called for security, labor and justice.']"
       ]
      },
      {
       "output_type": "stream",
       "stream": "stdout",
       "text": [
        "\n",
        "\n",
        "\n",
        "Sen-----0.9954 \n",
        "\n",
        "Sen-----0.9953 \n",
        "\n",
        "Sen-----0.9953 \n",
        "\n",
        "--------------True\n",
        "1.000 millones, que el Estado debe asumir, manifestaron desde la cartera estatal a este medio.\n",
        "=====\n",
        "[u'1,000 million, which the State must assume, expressed from the State portfolio to this medium.']"
       ]
      },
      {
       "output_type": "stream",
       "stream": "stdout",
       "text": [
        "\n",
        "\n",
        "\n",
        "Sen-----0.9953 \n",
        "\n",
        "--------------True\n",
        "En el Cbtis 157 de Villa de Alvarez los inconformes llegaron cerca de las 10 de la ma\u00f1ana y gritaron consignas.\n",
        "=====\n",
        "[u\"Cbtis 157 of Villa de Alvarez, the protesters came close to 10 o'clock in the morning and shouted slogans.\"]"
       ]
      },
      {
       "output_type": "stream",
       "stream": "stdout",
       "text": [
        "\n",
        "\n",
        "\n",
        "Sen-----0.9953 \n",
        "\n",
        "Sen-----0.9953 \n",
        "\n",
        "Sen-----0.9953 \n",
        "\n",
        "--------------True\n",
        "Los manifestantes se congregaron primeramente frente a la fiscal\u00eda de Paraguar\u00ed, y luego marcharon por la ruta internacional \u201cMariscal Francisco Solano L\u00f3pez\u201d, cerrando media calzada.\n",
        "=====\n",
        "error"
       ]
      },
      {
       "output_type": "stream",
       "stream": "stdout",
       "text": [
        "\n",
        "Sen-----0.9952 \n",
        "\n",
        "--------------True\n",
        "\u00daN.- Una situaci\u00f3n irregular se registra desde horas del mediod\u00eda de este jueves en las inmediaciones de la(Ucat) enprotagonizada por presuntos estudiantes.Lacre\u00f3 cerco de seguridad en alrededores de la Ucat en Barrio Obrero.\n",
        "=====\n",
        "[u'A-an irregular situation is recorded from noon on Thursday in the vicinity of the enprotagonizada (Ucat) for suspected students. Lacreo security fence in surroundings of the Ucat in Barrio Obrero.']"
       ]
      },
      {
       "output_type": "stream",
       "stream": "stdout",
       "text": [
        "\n",
        "\n",
        "\n",
        "Sen-----0.9949 \n",
        "\n",
        "Sen-----0.9947 \n",
        "\n",
        "Sen-----0.9947 \n",
        "\n",
        "Sen-----0.9947 \n",
        "\n",
        "Sen-----0.9947 \n",
        "\n",
        "Sen-----0.9947 \n",
        "\n",
        "Sen-----0.9947 \n",
        "\n",
        "--------------True\n",
        "Posteriormente, el paro en los colegios ser\u00e1 el lunes, para dar paso a una movilizaci\u00f3n a nivel nacional el martes.\n",
        "=====\n",
        "[u'Subsequently, unemployment in schools will be on Monday, to give way to a mobilization at the national level on Tuesday.']"
       ]
      },
      {
       "output_type": "stream",
       "stream": "stdout",
       "text": [
        "\n",
        "\n",
        "\n",
        "Sen-----0.9946 \n",
        "\n",
        "Sen-----0.9945 \n",
        "\n",
        "--------------True\n",
        "Los manifestantes se congregaron frente a la sede de la UNA sobre la calle Mariscal Estigarribia causando una gran congesti\u00f3n en el tr\u00e1fico.\n",
        "=====\n",
        "[u'Protesters gathered opposite the headquarters of the one on the calle Mariscal Estigarribia causing a great traffic congestion.']"
       ]
      },
      {
       "output_type": "stream",
       "stream": "stdout",
       "text": [
        "\n",
        "\n",
        "\n",
        "Sen-----0.9944 \n",
        "\n",
        "Sen-----0.9944 \n",
        "\n",
        "Sen-----0.9943 \n",
        "\n",
        "Sen-----0.9942 \n",
        "\n",
        "Sen-----0.9941 \n",
        "\n",
        "--------------True\n",
        "En el inicio de la medida est\u00e1 previsto realizar un piquete frente al campus universitario.\n",
        "=====\n",
        "[u'At the beginning of the measure is planned to carry out a picket in front of the University campus.']"
       ]
      },
      {
       "output_type": "stream",
       "stream": "stdout",
       "text": [
        "\n",
        "\n",
        "\n",
        "Sen-----0.9941 \n",
        "\n",
        "--------------True\n",
        "Tras la detenci\u00f3n de los docentes inconformes, los movimientos convocaron a profesores de diversos puntos al inicio de la autopista M\u00e9xico-Acapulco donde iniciaron una caminata rumbo a las instalaciones de la CES, ubicada a unos seis kil\u00f3metros al sur, lo cual genera un virtual bloqueo de la v\u00eda terrestre y un severo tr\u00e1fico.\n",
        "=====\n",
        "[u'Following the arrest of dissatisfied teachers, movements called for teachers of different points at the beginning of the highway Acapulco where began a walk towards the facilities of the CES, located some six kilometers to the South, which creates a virtual blockade of the land route and a severe traffic.']"
       ]
      },
      {
       "output_type": "stream",
       "stream": "stdout",
       "text": [
        "\n",
        "\n",
        "\n",
        "Sen-----0.9940 \n",
        "\n",
        "Sen-----0.9939 \n",
        "\n",
        "Sen-----0.9939 \n",
        "\n",
        "--------------True\n",
        "El jefe comunal, Ricardo N\u00fa\u00f1ez, no atendi\u00f3 a los manifestantes, que por primera vez realizaron una movilizaci\u00f3n de este tipo.\n",
        "=====\n",
        "error"
       ]
      },
      {
       "output_type": "stream",
       "stream": "stdout",
       "text": [
        "\n",
        "Sen-----0.9938 \n",
        "\n",
        "Sen-----0.9936 \n",
        "\n",
        "--------------True\n",
        "Los m\u00e1s de 200 inconformes bloquean dos carriles de la avenida Morelos, mientras que en Bucareli el tr\u00e1nsito fluye.\n",
        "=====\n",
        "[u'More than 200 protesters blocked two lanes of avenida Morelos, while in Bucareli transit flows.']"
       ]
      },
      {
       "output_type": "stream",
       "stream": "stdout",
       "text": [
        "\n",
        "\n",
        "\n",
        "Sen-----0.9936 \n",
        "\n",
        "Sen-----0.9935 \n",
        "\n",
        "--------------True\n",
        "La otra marcha Mientras se desarrollaba el acto oficial con estudiantes que expresaban sus proclamas desde un cami\u00f3n con banderas del PIT, decenas de manifestantes se distanciaron del tumulto al grito de \"traidores\".\n",
        "=====\n",
        "[u'Another March as unfolded the ceremony with students expressing their proclamations from a truck with flags of the PIT, dozens of protesters is distanced from the tumult to the cry of \"traitors\".']"
       ]
      },
      {
       "output_type": "stream",
       "stream": "stdout",
       "text": [
        "\n",
        "\n",
        "\n",
        "Sen-----0.9933 \n",
        "\n",
        "Sen-----0.9933 \n",
        "\n",
        "--------------True\n",
        "Un grupo de choferes de federaciones y gremios del sector decidieron hacer la huelga en solidaridad con los choferes despedidos de la L\u00ednea 49, de los cuales unos 20 siguen crucificados frente al Ministerio del Trabajo.\n",
        "=====\n",
        "[u'A group of drivers of federations and sector unions decided to make the strike in solidarity with the drivers fired from the line 49, of which about 20 are crucified against the Ministry of labor.']"
       ]
      },
      {
       "output_type": "stream",
       "stream": "stdout",
       "text": [
        "\n",
        "\n",
        "\n",
        "Sen-----0.9932 \n",
        "\n",
        "Sen-----0.9932 \n",
        "\n",
        "--------------True\n",
        "La movilizaci\u00f3n se concentrar\u00e1 frente a la Municipalidad de Fernando de la Mora ubicada sobre Mariscal Estigarribia.\n",
        "=====\n",
        "[u'The mobilization will focus against the municipality of Fernando de la Mora on Mariscal Estigarribia.']"
       ]
      },
      {
       "output_type": "stream",
       "stream": "stdout",
       "text": [
        "\n",
        "\n",
        "\n",
        "Sen-----0.9931 \n",
        "\n",
        "Sen-----0.9930 \n",
        "\n",
        "Sen-----0.9929 \n",
        "\n",
        "Sen-----0.9929 \n",
        "\n",
        "Sen-----0.9928 \n",
        "\n",
        "--------------True\n",
        "En las escaleras, otros manifestantes se sumaron a la otra marcha.\n",
        "=====\n",
        "[u'On the stairs, other protesters, please joined another March.']"
       ]
      },
      {
       "output_type": "stream",
       "stream": "stdout",
       "text": [
        "\n",
        "\n",
        "\n",
        "Sen-----0.9927 \n",
        "\n",
        "--------------True\n",
        "Frente al z\u00f3calo, los manifestantes efectuaron un mitin donde exigieron la renuncia del procurador del estado, V\u00edctor Carranc\u00e1 Bourget, ante la incapacidad y la falta de resultados.\n",
        "=====\n",
        "error"
       ]
      },
      {
       "output_type": "stream",
       "stream": "stdout",
       "text": [
        "\n",
        "Sen-----0.9927 \n",
        "\n",
        "Sen-----0.9926 \n",
        "\n",
        "Sen-----0.9925 \n",
        "\n",
        "Sen-----0.9925 \n",
        "\n",
        "Sen-----0.9924 \n",
        "\n",
        "--------------True\n",
        "En las pancartas de los inconformes se incluyeron fotograf\u00edas de los rostros de los reporteros asesinados.\n",
        "=====\n",
        "[u'The banners from the protesters included photographs of the faces of the slain reporters.']"
       ]
      },
      {
       "output_type": "stream",
       "stream": "stdout",
       "text": [
        "\n",
        "\n",
        "\n",
        "Sen-----0.9924 \n",
        "\n",
        "--------------True\n",
        "La marcha se desarroll\u00f3 por las principales calles de la ciudad y la sentata la realizaron en plena avenida Mariscal L\u00f3pez, frente a la Comuna local.\n",
        "=====\n",
        "error"
       ]
      },
      {
       "output_type": "stream",
       "stream": "stdout",
       "text": [
        "\n",
        "Sen-----0.9923 \n",
        "\n",
        "--------------True\n",
        "En el caso de los camioneros rechazan el costo del peaje ida y vuelta y acompa\u00f1an la reivindicaci\u00f3n de los transportistas.\n",
        "=====\n",
        "[u'For truckers rejected the cost of ida toll and turn and accompany the vindication of carriers.']"
       ]
      },
      {
       "output_type": "stream",
       "stream": "stdout",
       "text": [
        "\n",
        "\n",
        "\n",
        "Sen-----0.9923 \n",
        "\n",
        "Sen-----0.9923 \n",
        "\n",
        "--------------True\n",
        "Una gran cantidad de alumnos secundarios marcharon esta ma\u00f1ana por una mejor educaci\u00f3n.\n",
        "=====\n",
        "[u'A large number of secondary pupils marched this morning through better education.']"
       ]
      },
      {
       "output_type": "stream",
       "stream": "stdout",
       "text": [
        "\n",
        "\n",
        "\n",
        "Sen-----0.9921 \n",
        "\n",
        "--------------True\n",
        "En prosecuci\u00f3n a la medida de fuerza, en la noche del viernes los universitarios de esa casa de estudios realizaron una manifestaci\u00f3n pac\u00edfica frente a la casa de la decana, Mar\u00eda Ang\u00e9lica Gonz\u00e1lez, a quien exigen que renuncie.\n",
        "=====\n",
        "error"
       ]
      },
      {
       "output_type": "stream",
       "stream": "stdout",
       "text": [
        "\n",
        "Sen-----0.9921 \n",
        "\n",
        "--------------True\n",
        "Los empleados iniciaron las protestas el mi\u00e9rcoles de la semana pasada, con excepci\u00f3n del s\u00e1bado y domingo, con obstrucci\u00f3n parcial de la autopista.\n",
        "=====\n",
        "[u'Employees began the protests on Wednesday of last week, except Saturday and Sunday, with partial obstruction of the highway.']"
       ]
      },
      {
       "output_type": "stream",
       "stream": "stdout",
       "text": [
        "\n",
        "\n",
        "\n",
        "Sen-----0.9920 \n",
        "\n",
        "--------------True\n",
        "Como primera medida, bloquearon el paso en la carretera Panamericana, en la entrada de Los Chorros.\n",
        "=====\n",
        "[u'As a first step, they blocked the passage on the Pan-American Highway, at the entrance to Los Chorros.']"
       ]
      },
      {
       "output_type": "stream",
       "stream": "stdout",
       "text": [
        "\n",
        "\n",
        "\n",
        "Sen-----0.9916 \n",
        "\n",
        "--------------True\n",
        "Los manifestantes llevaban pancartas con las leyendas: \"Condenas a los responsables y c\u00f3mplices\", \"No a la impunidad y a las mentiras\", \"Exigimos Justicia\" .\n",
        "=====\n",
        "[u'Protesters carried banners with the legend: \"Sentences to perpetrators and accomplices\", \"No to impunity and lies\", \"We demand justice\".']"
       ]
      },
      {
       "output_type": "stream",
       "stream": "stdout",
       "text": [
        "\n",
        "\n",
        "\n",
        "Sen-----0.9916 \n",
        "\n",
        "Sen-----0.9915 \n",
        "\n",
        "Sen-----0.9915 \n",
        "\n",
        "--------------True\n",
        "\"Y tambi\u00e9n para decirle al gobierno que a pesar de los descuentos nosotros (los maestros de la CETEG) vamos a estar presentes a pesar del hostigamiento por la inseguridad y est\u00e1n exigiendo a los maestros que regresen a las aulas\", reclam\u00f3.\n",
        "=====\n",
        "[u'\"And also to say to the Government that despite the discounts we (teachers of the CETEG) will be present despite harassment by insecurity and they are calling for the teachers to return to classrooms,\" claimed.']"
       ]
      },
      {
       "output_type": "stream",
       "stream": "stdout",
       "text": [
        "\n",
        "\n",
        "\n",
        "Sen-----0.9914 \n",
        "\n",
        "Sen-----0.9914 \n",
        "\n",
        "--------------True\n",
        "Una de las exigencias del SUTIEMS es dar mantenimiento a las preparatorias.\n",
        "=====\n",
        "[u'One of the demands of the SUTIEMS is maintenance of schools.']"
       ]
      },
      {
       "output_type": "stream",
       "stream": "stdout",
       "text": [
        "\n",
        "\n",
        "\n",
        "Sen-----0.9913 \n",
        "\n",
        "--------------True\n",
        "Los alumnos se enteraron de la huelga por redes sociales, ya que el SUTIEMS public\u00f3 en su p\u00e1gina de Facebook que se ir\u00edan a paro.\n",
        "=====\n",
        "[u'Students found out strike by social networks, since the SUTIEMS published on your Facebook page that unemployment would skyrocket.']"
       ]
      },
      {
       "output_type": "stream",
       "stream": "stdout",
       "text": [
        "\n",
        "\n",
        "\n",
        "Sen-----0.9911 \n",
        "\n",
        "--------------True\n",
        "La movilizaci\u00f3n fue convocada por el Movimiento por la Alternativa Social (MAS), y en ella tambi\u00e9n participaron familiares y amigos de Camargo, quienes informaron que en esta misma semana reiniciar\u00e1 la b\u00fasqueda de la joven.\n",
        "=====\n",
        "[u'The mobilization was convened by the movement by the alternative Social (MAS), and she also included family and friends of Camargo, who reported that in this week, it will restart the search for the girl.']"
       ]
      },
      {
       "output_type": "stream",
       "stream": "stdout",
       "text": [
        "\n",
        "\n",
        "\n",
        "Sen-----0.9911 \n",
        "\n",
        "--------------True\n",
        "Las mujeres pertenecientes al Partido Paraguay Pyahur\u00e3 (PPP) y de la Coordinadora Nacional de Mujeres Rurales e Ind\u00edgenas (Conamuri) emprendieron una marcha desde la Plaza Italia.\n",
        "=====\n",
        "[u'Women belonging to the match Paraguay Pyahura (PPP) and the national coordinator of rural and indigenous women (Conamuri) undertook a March from the Italy Square.']"
       ]
      },
      {
       "output_type": "stream",
       "stream": "stdout",
       "text": [
        "\n",
        "\n",
        "\n",
        "Sen-----0.9911 \n",
        "\n",
        "--------------True\n",
        "Los manifestantes llevaron a cabo la protesta sobre la ruta Transchaco a la altura del kil\u00f3metro 25, en las cercan\u00edas de la b\u00e1scula del pesaje del Ministerio de Obras P\u00fablicas y Comunicaci\u00f3n (MOPC).\n",
        "=====\n",
        "[u\"Protesters carried out the protest on the Transchaco road at the height of 25 km, in the vicinity of the scale's weighing of the Ministry of public works and communication (MOPC).\"]"
       ]
      },
      {
       "output_type": "stream",
       "stream": "stdout",
       "text": [
        "\n",
        "\n",
        "\n",
        "Sen-----0.9910 \n",
        "\n",
        "--------------True\n",
        "Un grupo march\u00f3 por la ruta Mariscal Estigarribia, desde la sede de la Universidad Nacional de Asunci\u00f3n (UNA), en San Lorenzo.\n",
        "=====\n",
        "error"
       ]
      },
      {
       "output_type": "stream",
       "stream": "stdout",
       "text": [
        "\n",
        "Sen-----0.9908 \n",
        "\n",
        "Sen-----0.9906 \n",
        "\n",
        "Sen-----0.9905 \n",
        "\n",
        "Sen-----0.9904 \n",
        "\n",
        "Sen-----0.9903 \n",
        "\n",
        "--------------True\n",
        "Los manifestantes quieren marchar sobre la ruta III \u201cGeneral Elizardo Aquino\u201d, pero con machetes y m\u00e1scaras.\n",
        "=====\n",
        "[u'The protesters want to March on the route III \"General Elizardo Aquino\", but with machetes and masks.']"
       ]
      },
      {
       "output_type": "stream",
       "stream": "stdout",
       "text": [
        "\n",
        "\n",
        "\n",
        "Sen-----0.9903 \n",
        "\n",
        "--------------True\n",
        "Tras el acuerdo, los secundarios iniciar\u00e1n una vigilia frente al MEC que culminar\u00e1 ma\u00f1ana con varias movilizaciones que se realizar\u00e1n en los colegios a trav\u00e9s de paros escalonados, asambleas y sentatas para llamar la atenci\u00f3n de las autoridades, seg\u00fan lo resuelto el fin demanda durante el Congreso Nacional de Estudiantes Secundarios de Fenaes realizado para renovar la dirigencia.\n",
        "=====\n",
        "[u'After the agreement, children begin a vigil opposite the MEC which will culminate tomorrow with several demonstrations that will take place in schools through staggered paros, assemblies and sentatas for the attention of the authorities, according to the ruling order demand during the National Congress of high school students of Fenaes carried out to renew the leadership.']"
       ]
      },
      {
       "output_type": "stream",
       "stream": "stdout",
       "text": [
        "\n",
        "\n",
        "\n",
        "Sen-----0.9903 \n",
        "\n",
        "Sen-----0.9901 \n",
        "\n",
        "Sen-----0.9901 \n",
        "\n",
        "--------------True\n",
        "Los inconformes se colocaron dando la espalda a la presidencia municipal de Puebla, mientras transe\u00fantes y turistas que ten\u00edan copado el Centro Hist\u00f3rico cercaron a los manifestantes para escuchar sus demandas.\n",
        "=====\n",
        "[u'The protesters were turning their backs on the municipal President of Puebla, while passersby and tourists who had cornered the historic centre surrounded protesters to listen to their demands.']"
       ]
      },
      {
       "output_type": "stream",
       "stream": "stdout",
       "text": [
        "\n",
        "\n",
        "\n",
        "Sen-----0.9901 \n",
        "\n",
        "--------------True\n",
        "En este lugar las participantes, provenientes de diversos municipios miguele\u00f1os y unionenses, se congregaron con carteles alusivos al mes dedicado al combate del c\u00e1ncer de seno.\n",
        "=====\n",
        "[u'In this place the participants, coming from different municipalities miguelenos and unionenses, gathered with signs alluding to the month dedicated to combat breast cancer.']"
       ]
      },
      {
       "output_type": "stream",
       "stream": "stdout",
       "text": [
        "\n",
        "\n",
        "\n",
        "Sen-----0.9900 \n",
        "\n",
        "Sen-----0.9899 \n",
        "\n",
        "Sen-----0.9899 \n",
        "\n",
        "Sen-----0.9899 \n",
        "\n",
        "Sen-----0.9897 \n",
        "\n",
        "--------------True\n",
        "Lo mismo hicieron estudiantes del turno tarde del colegio, entre las 14:00 y las 15:00, e igual manifestaci\u00f3n realizaron los del turno noche, desde las seis de la tarde, tambi\u00e9n por una hora.\n",
        "=====\n",
        "[u'So did students of the late shift of the College, between 14:00 and 15:00, and equal demonstration were those of the night shift, from six in the afternoon, also for one hour.']"
       ]
      },
      {
       "output_type": "stream",
       "stream": "stdout",
       "text": [
        "\n",
        "\n",
        "\n",
        "Sen-----0.9895 \n",
        "\n",
        "--------------True\n",
        "Al mismo tiempo, otro grupo se moviliza frente a la Fiscal\u00eda en reclamo de la impunidad en los casos de feminicidio.\n",
        "=====\n",
        "[u'At the same time, another group is mobilized against the prosecution on claims of impunity in cases of femicide.']"
       ]
      },
      {
       "output_type": "stream",
       "stream": "stdout",
       "text": [
        "\n",
        "\n",
        "\n",
        "Sen-----0.9895 \n",
        "\n",
        "Sen-----0.9895 \n",
        "\n",
        "Sen-----0.9894 \n",
        "\n",
        "--------------True\n",
        "La Ley establece la eliminaci\u00f3n de los terciarios e incorporaci\u00f3n a la empresa u organismos a la que prestaban servicio.Posteriormente las autoridades de la USB deben solicitar al Ministerio de Educaci\u00f3n la aprobaci\u00f3n de recursos para incorporar a la n\u00f3mina a este grupo de personas.Los choferes amenazan con dejar de prestar servicio a las rutas estudiantiles de no llegar a un acuerdo o repuesta positiva a su situaci\u00f3n.\n",
        "=====\n",
        "[u'The law establishes the Elimination of the tertiary and incorporation into the company or agencies that provided service. Later USB authorities must apply to the Ministry of education approval of resources to add to the payroll to this group of people. Drivers threaten to stop providing service to student routes did not reach an agreement or positive response to their situation.']"
       ]
      },
      {
       "output_type": "stream",
       "stream": "stdout",
       "text": [
        "\n",
        "\n",
        "\n",
        "Sen-----0.9894 \n",
        "\n",
        "--------------True\n",
        "A pesar de la lluvia, estudiantes secundarios de varias instituciones educativas se manifestaron ayer frente al Ministerio de Educaci\u00f3n.\n",
        "=====\n",
        "[u'Despite the rain, high school students of various educational institutions marched yesterday against the Ministry of education.']"
       ]
      },
      {
       "output_type": "stream",
       "stream": "stdout",
       "text": [
        "\n",
        "\n",
        "\n",
        "Sen-----0.9894 \n",
        "\n",
        "Sen-----0.9894 \n",
        "\n",
        "Sen-----0.9893 \n",
        "\n",
        "--------------True\n",
        "Los manifestantes aseguraron que la medida continuar\u00e1 hasta que obtengan una respuesta favorable de las autoridades.\n",
        "=====\n",
        "[u'Protesters claimed that the measure will continue until they obtain a favourable response from the authorities.']"
       ]
      },
      {
       "output_type": "stream",
       "stream": "stdout",
       "text": [
        "\n",
        "\n",
        "\n",
        "Sen-----0.9892 \n",
        "\n",
        "Sen-----0.9892 \n",
        "\n",
        "--------------True\n",
        "Los j\u00f3venes tuvieron el apoyo de los directores de ciclo y la direcci\u00f3n general, y tambi\u00e9n se pudo ver una cantidad de padres de familia plegados a la medida de protesta.\n",
        "=====\n",
        "[u'Young people had the support of the directors of cycle and the general Directorate, and you could also see a number of parents folded tailored to protest.']"
       ]
      },
      {
       "output_type": "stream",
       "stream": "stdout",
       "text": [
        "\n",
        "\n",
        "\n",
        "Sen-----0.9889 \n",
        "\n",
        "--------------True\n",
        "En la ciudad de Coronel Oviedo marcharon esta ma\u00f1ana.\n",
        "=====\n",
        "[u'This morning they marched in the city of Coronel Oviedo.']"
       ]
      },
      {
       "output_type": "stream",
       "stream": "stdout",
       "text": [
        "\n",
        "\n",
        "\n",
        "Sen-----0.9889 \n",
        "\n",
        "--------------True\n",
        "Luego de varias sentatas y marchas, los estudiantes secundarios contin\u00faan en paro exigiendo mejoras en la educaci\u00f3n.\n",
        "=====\n",
        "[u'After several sentatas and marches, secondary students continue strike demanding improvements in education.']"
       ]
      },
      {
       "output_type": "stream",
       "stream": "stdout",
       "text": [
        "\n",
        "\n",
        "\n",
        "Sen-----0.9887 \n",
        "\n",
        "--------------True\n",
        "Cerca de las 7:15 horas luego de una asamblea que realizaron alrededor de 120 personas en el Parque de la Cabalgata, los vecinos trataron de cortar la circulaci\u00f3n vehicular pero fueron replegados por granaderos.\n",
        "=====\n",
        "[u'About 7:15 hours after a House who were around 120 people in the Park of the parade, residents tried to cut off vehicular circulation but were folded by grenadiers.']"
       ]
      },
      {
       "output_type": "stream",
       "stream": "stdout",
       "text": [
        "\n",
        "\n",
        "\n",
        "Sen-----0.9886 \n",
        "\n",
        "--------------True\n",
        "La actividad, que se realiz\u00f3 por la ma\u00f1ana en la cabecera departamental miguele\u00f1a, inici\u00f3 con un acto simb\u00f3lico realizado en el parque Guzm\u00e1n y continu\u00f3 con el recorrido de 1.5 kil\u00f3metros, desde el centro de la ciudad hasta la sede de Ciudad Mujer.\n",
        "=====\n",
        "error"
       ]
      },
      {
       "output_type": "stream",
       "stream": "stdout",
       "text": [
        "\n",
        "Sen-----0.9885 \n",
        "\n",
        "--------------True\n",
        "Un grupo de huelguistas se concentr\u00f3 frente al Ministerio del Trabajo y se unieron a los trabajadores de la l\u00ednea 49, Limpe\u00f1a SA, quienes se encuentran all\u00ed desde hace meses atr\u00e1s, para solicitar la renuncia del ministro Guillermo Sosa.\n",
        "=====\n",
        "[u'A group of strikers was concentrated at the Ministry of labour and joined the line 49, Limpena SA, workers who are there for months ago, to ask for the resignation of the Minister Guillermo Sosa.']"
       ]
      },
      {
       "output_type": "stream",
       "stream": "stdout",
       "text": [
        "\n",
        "\n",
        "\n",
        "Sen-----0.9885 \n",
        "\n",
        "--------------True\n",
        "Cerca del mediod\u00eda, los protestantes abandonaron el sito llevando sus pancartas donde se le\u00edan freses como \u201cEstamos en contra de las enmiendas!\u201d\n",
        "=====\n",
        "[u'Around noon, the Protestants abandoned the site carrying their banners is where read freses as \"Are against the amendments!\"']"
       ]
      },
      {
       "output_type": "stream",
       "stream": "stdout",
       "text": [
        "\n",
        "\n",
        "\n",
        "Sen-----0.9885 \n",
        "\n",
        "Sen-----0.9884 \n",
        "\n",
        "Sen-----0.9884 \n",
        "\n",
        "Sen-----0.9883 \n",
        "\n",
        "Sen-----0.9882 \n",
        "\n",
        "--------------True\n",
        "La medida supuso cortes intermitentes cada 20 minutos, que se extendieron hasta este mediod\u00eda.\n",
        "=====\n",
        "[u'The measure was intermittent every 20 minutes, which was extended until this afternoon.']"
       ]
      },
      {
       "output_type": "stream",
       "stream": "stdout",
       "text": [
        "\n",
        "\n",
        "\n",
        "Sen-----0.9881 \n",
        "\n",
        "Sen-----0.9881 \n",
        "\n",
        "Sen-----0.9881 \n",
        "\n",
        "--------------True\n",
        "Pancartas alusivas a la protesta ambientaban rotondas, intersecciones de rutas y calles y funcionaron como barrera desde las 10 de la ma\u00f1ana hasta cerca del mediod\u00eda.\n",
        "=====\n",
        "[u\"Alluding to the protest banners ambientaban roundabouts, intersections of roads and streets and operated as a barrier from 10 o'clock in the morning until about noon.\"]"
       ]
      },
      {
       "output_type": "stream",
       "stream": "stdout",
       "text": [
        "\n",
        "\n",
        "\n",
        "Sen-----0.9881 \n",
        "\n",
        "Sen-----0.9881 \n",
        "\n",
        "Sen-----0.9880 \n",
        "\n",
        "Sen-----0.9880 \n",
        "\n",
        "--------------True\n",
        "En el marco de esta movilizaci\u00f3n activa, hoy, a las 18:30, se convoca a todos los ciudadanos que deseen asistir a la marcha a realizarse frente al Pante\u00f3n de los H\u00e9roes.\n",
        "=====\n",
        "[u'In the framework of this active mobilization, today, at 18:30, it invites all citizens wishing to attend the March to be held against the Pantheon of Heroes.']"
       ]
      },
      {
       "output_type": "stream",
       "stream": "stdout",
       "text": [
        "\n",
        "\n",
        "\n",
        "Sen-----0.9879 \n",
        "\n",
        "--------------True\n",
        "Para las 14 est\u00e1 programada una movilizaci\u00f3n de docentes a la sede de la Legislatura porte\u00f1a.\n",
        "=====\n",
        "[u'A mobilization of teachers to the headquarters of the Buenos Aires legislature is scheduled for the 14.']"
       ]
      },
      {
       "output_type": "stream",
       "stream": "stdout",
       "text": [
        "\n",
        "\n",
        "\n",
        "Sen-----0.9879 \n",
        "\n",
        "Sen-----0.9878 \n",
        "\n",
        "--------------True\n",
        "Hasta las 19:00 no se registraron incidentes, pero los manifestantes segu\u00edan gritando consignas en contra del Gobierno, frente a la Gobernaci\u00f3n.\n",
        "=====\n",
        "[u\"Until 19:00 no incidents were recorded, but protesters were shouting slogans against the Government, the Governor's Office.\"]"
       ]
      },
      {
       "output_type": "stream",
       "stream": "stdout",
       "text": [
        "\n",
        "\n",
        "\n",
        "Sen-----0.9878 \n",
        "\n",
        "Sen-----0.9876 \n",
        "\n",
        "Sen-----0.9876 \n",
        "\n",
        "--------------True\n",
        "Tambi\u00e9n particip\u00f3 un contingente de alumnos normalistas de Ayotzinapa, y la marcha al llegar al palacio municipal de San Luis Acatl\u00e1n, los manifestantes encontraron cartulinas con la leyenda que rezaba: \"Que viva la CRAC\" y \"fuera sus malos dirigentes\", nadie supo explicar porque estaban ah\u00ed.\n",
        "=====\n",
        "error"
       ]
      },
      {
       "output_type": "stream",
       "stream": "stdout",
       "text": [
        "\n",
        "Sen-----0.9875 \n",
        "\n",
        "Sen-----0.9875 \n",
        "\n",
        "--------------True\n",
        "El arribo de la caravana de normalistas y padres de familia de Ayotzinapa ser\u00e1 el pr\u00f3ximo viernes a la ciudad de Huamantla, de donde se trasladar\u00e1n a la capital del estado para posteriormente llegar a la Normal Rural de Panotla donde pernoctar\u00e1n.\n",
        "=====\n",
        "[u'The arrival of the caravan of parents of Ayotzinapa and fearfully will be next Friday in the city of Huamantla, where will move to the State capital to later reach the Normal Rural Tlaxcala where sleeping.']"
       ]
      },
      {
       "output_type": "stream",
       "stream": "stdout",
       "text": [
        "\n",
        "\n",
        "\n",
        "Sen-----0.9874 \n",
        "\n",
        "Sen-----0.9874 \n",
        "\n",
        "Sen-----0.9873 \n",
        "\n",
        "--------------True\n",
        "La concentraci\u00f3n pac\u00edfica realizada ayer en la Plaza Moraz\u00e1n por los vendedores del centro pertenecientes al CNV, fue para expresar esta situaci\u00f3n.\n",
        "=====\n",
        "[u'The peaceful rally held yesterday in the Plaza Morazan by sellers of the Center belonging to the CNV, was to express this situation.']"
       ]
      },
      {
       "output_type": "stream",
       "stream": "stdout",
       "text": [
        "\n",
        "\n",
        "\n",
        "Sen-----0.9873 \n",
        "\n",
        "Sen-----0.9872 \n",
        "\n",
        "--------------True\n",
        "El conflicto comenz\u00f3 alrededor de las 14:00, cuando un grupo de estudiantes provenientes de General Artigas, portando carteles de protesta, intent\u00f3 ingresar al predio de la universidad, ubicada en barrio Quiteria de esta ciudad.\n",
        "=====\n",
        "[u'The conflict began around 14:00, when a group of students from General Artigas, carrying signs of protest, tried to enter the grounds of the University, located in this town Quiteria.']"
       ]
      },
      {
       "output_type": "stream",
       "stream": "stdout",
       "text": [
        "\n",
        "\n",
        "\n",
        "Sen-----0.9871 \n",
        "\n",
        "Sen-----0.9871 \n",
        "\n",
        "Sen-----0.9870 \n",
        "\n",
        "Sen-----0.9870 \n",
        "\n",
        "--------------True\n",
        "Explic\u00f3 que la movilizaci\u00f3n se realizar\u00e1 en todo el sector productivo de los departamentos afectados, que son Itap\u00faa, Misiones, Pilar, Paraguar\u00ed, Guair\u00e1, Caazap\u00e1, Caaguaz\u00fa, Alto Paran\u00e1, Concepci\u00f3n, San Pedro.\n",
        "=====\n",
        "error"
       ]
      },
      {
       "output_type": "stream",
       "stream": "stdout",
       "text": [
        "\n",
        "Sen-----0.9869 \n",
        "\n",
        "--------------True\n",
        "Los maestros cetegistas incrementaron de tono la movilizaci\u00f3n con la toma de los bancos ubicados en el Z\u00f3calo: Bancomer, Banamex y Santander.\n",
        "=====\n",
        "[u'The master cetegistas increased tone mobilisation with banks located in the socket outlet: Bancomer, Banamex and Santander.']"
       ]
      },
      {
       "output_type": "stream",
       "stream": "stdout",
       "text": [
        "\n",
        "\n",
        "\n",
        "Sen-----0.9868 \n",
        "\n",
        "Sen-----0.9866 \n",
        "\n",
        "--------------True\n",
        "Alrededor de 200 choferes no acoplaron fueron apedreados cuando intentaban prestar servicio, seg\u00fan denunci\u00f3 el gremio.\n",
        "=====\n",
        "[u'Around 200 drivers not mated were stoned when they tried to serve, as the Guild reported.']"
       ]
      },
      {
       "output_type": "stream",
       "stream": "stdout",
       "text": [
        "\n",
        "\n",
        "\n",
        "Sen-----0.9865 \n",
        "\n",
        "--------------True\n",
        "La citada medida de \u201cbrazos ca\u00eddos\u201d ser\u00e1 hoy por una hora, desde las 12:00 hasta las 13:00, y el lunes se tiene previsto realizar la misma manifestaci\u00f3n desde las 11:00 hasta las 13:00, indic\u00f3 Turo.\n",
        "=====\n",
        "[u'Cited as \"sit-down\" will be today for an hour, from 12:00 to 13:00, and on Monday are plans to conduct the same demonstration from 11:00 to 13:00, he said Turo.']"
       ]
      },
      {
       "output_type": "stream",
       "stream": "stdout",
       "text": [
        "\n",
        "\n",
        "\n",
        "Sen-----0.9865 \n",
        "\n",
        "Sen-----0.9862 \n",
        "\n",
        "--------------True\n",
        "En la pancarta piden a Ram\u00edrez que deje de regalarle a Radice G.\n",
        "=====\n",
        "[u'In the banner asked Ramirez to stop give Radice G.']"
       ]
      },
      {
       "output_type": "stream",
       "stream": "stdout",
       "text": [
        "\n",
        "\n",
        "\n",
        "Sen-----0.9862 \n",
        "\n",
        "Sen-----0.9862 \n",
        "\n",
        "--------------True\n",
        "La movilizaci\u00f3n comenz\u00f3 a las 18.00, en el mismo sitio donde los alumnos realizan vigilia desde hace d\u00edas, bajo el \u00e1rbol del tatajyva.\n",
        "=====\n",
        "[u'Mobilization started at 18.00, at the same site where students held vigil for days, under the tatajyva tree.']"
       ]
      },
      {
       "output_type": "stream",
       "stream": "stdout",
       "text": [
        "\n",
        "\n",
        "\n",
        "Sen-----0.9862 \n",
        "\n",
        "--------------True\n",
        "En la cuna de origen, San Luis Acatl\u00e1n, los comunitarios marcharon para celebrar su aniversario.\n",
        "=====\n",
        "error"
       ]
      },
      {
       "output_type": "stream",
       "stream": "stdout",
       "text": [
        "\n",
        "Sen-----0.9861 \n",
        "\n",
        "--------------True\n",
        "Por otra parte, destac\u00f3 como un gran \u201cgesto\u201d que los manifestantes cierran solo media calzada de la ruta Mariscal Estigarribia y de manera intermitente.\n",
        "=====\n",
        "[u'On the other hand, highlighted as a great \"gesture\" that protesters closed only half road route Mariscal Estigarribia and intermittently.']"
       ]
      },
      {
       "output_type": "stream",
       "stream": "stdout",
       "text": [
        "\n",
        "\n",
        "\n",
        "Sen-----0.9860 \n",
        "\n",
        "Sen-----0.9860 \n",
        "\n",
        "--------------True\n",
        "Desde las 8 manifestantes cortan el tr\u00e1nsito en Callao y Corrientes.\n",
        "=====\n",
        "[u'From the 8 protesters cut the transit in Callao and Corrientes.']"
       ]
      },
      {
       "output_type": "stream",
       "stream": "stdout",
       "text": [
        "\n",
        "\n",
        "\n",
        "Sen-----0.9859 \n",
        "\n",
        "--------------True\n",
        "La medida de fuerza continuar\u00e1 hasta que nos den una respuesta.\n",
        "=====\n",
        "[u'The measure of force will continue until they give us an answer.']"
       ]
      },
      {
       "output_type": "stream",
       "stream": "stdout",
       "text": [
        "\n",
        "\n",
        "\n",
        "Sen-----0.9857 \n",
        "\n",
        "Sen-----0.9856 \n",
        "\n",
        "--------------True\n",
        "Los funcionarios se encuentran sobre la calle Chile frente al edificio de la Fiscal\u00eda General, desde donde se movilizar\u00e1n hasta la plaza del Congreso exigiendo al Parlamento que se revea la medida de recortar su presupuesto.\n",
        "=====\n",
        "[u\"Officials are on the Chile Street opposite the building of the General Prosecutor's Office, from where will be mobilized to Congress square demanding the Parliament will review the measure to cut its budget.\"]"
       ]
      },
      {
       "output_type": "stream",
       "stream": "stdout",
       "text": [
        "\n",
        "\n",
        "\n",
        "Sen-----0.9856 \n",
        "\n",
        "--------------True\n",
        "El paro nacional convocada por la CNTE tuvo su impacto en Guerrero: una marcha encabezada por los pap\u00e1s de los 43 normalistas de Ayotzinapa, sobre la autopista del Sol, la cual bloquearon por unas dos horas y media, hasta que llegaron polic\u00edas antimotines.\n",
        "=====\n",
        "[u'The national strike convened by the CNTE had its impact in Guerrero: a March led by the popes of the 43 fearfully from Ayotzinapa, on the autopista del Sol, which blocked for about two hours and a half, until riot police arrived.']"
       ]
      },
      {
       "output_type": "stream",
       "stream": "stdout",
       "text": [
        "\n",
        "\n",
        "\n",
        "Sen-----0.9854 \n",
        "\n",
        "Sen-----0.9854 \n",
        "\n",
        "--------------True\n",
        "Los manifestantes reclamaron a los estudiantes locales su falta de apoyo y su miedo a manifestarse en contra de las autoridades de la universidad, hasta que un grupo de estudiantes de la Facultad de Ingenier\u00eda sali\u00f3 del interior del local y se sum\u00f3 a sus colegas que se encuentran en la calle.\n",
        "=====\n",
        "[u'The protesters claimed local students their lack of support and their fear to speak out against the University authorities, until a group of students of the Faculty of engineering left inside the room and joined their colleagues who are in the street.']"
       ]
      },
      {
       "output_type": "stream",
       "stream": "stdout",
       "text": [
        "\n",
        "\n",
        "\n",
        "Sen-----0.9854 \n",
        "\n",
        "Sen-----0.9851 \n",
        "\n",
        "--------------True\n",
        "Tambi\u00e9n hicieron alusi\u00f3n en una pancarta al caso del pol\u00edtico liberal Juan Manuel Radice, amigo del ministro Ram\u00edrez Zambonini, quien no solo logr\u00f3 ubicar a dos exesposas y a la actual, sino a los familiares de esta \u00faltima.\n",
        "=====\n",
        "error"
       ]
      },
      {
       "output_type": "stream",
       "stream": "stdout",
       "text": [
        "\n",
        "Sen-----0.9851 \n",
        "\n",
        "--------------True\n",
        "Los organizadores convocaron a concentrarse a las 15 en la Plaza Pringles para participar de talleres con diferentes tem\u00e1ticas y dos horas m\u00e1s tarde partir\u00e1 la manifestaci\u00f3n rumbo al Poder Judicial.\n",
        "=====\n",
        "[u'Organizers called focus at 15 on the Plaza Pringles to participate in workshops with different topics and two hours later will depart the demonstration course at the judiciary.']"
       ]
      },
      {
       "output_type": "stream",
       "stream": "stdout",
       "text": [
        "\n",
        "\n",
        "\n",
        "Sen-----0.9851 \n",
        "\n",
        "Sen-----0.9850 \n",
        "\n",
        "Sen-----0.9850 \n",
        "\n",
        "--------------True\n",
        "Son empleados gr\u00e1ficos de la ex Donnelley y WorldColor que reclaman la \"expropiaci\u00f3n inmediata\" de ambas f\u00e1bricas a favor de las cooperativas que conformaron los trabajadores.\n",
        "=====\n",
        "[u'They are graphics employees of the former Donnelley and WorldColor demanding \"immediate expropriation\" of both factories in favor of unions that formed the workers.']"
       ]
      },
      {
       "output_type": "stream",
       "stream": "stdout",
       "text": [
        "\n",
        "\n",
        "\n",
        "Sen-----0.9849 \n",
        "\n",
        "--------------True\n",
        "Luego marcharon bajo una pertinaz llovizna por la avenida Col\u00f3n, siguieron por la calle R\u00edo de la Plata directo hasta la explanada del emblem\u00e1tico edificio del hospital de Cl\u00ednicas, en el barrio Sajonia de la capital, que actualmente se encuentra parcialmente abandonado.\n",
        "=====\n",
        "error"
       ]
      },
      {
       "output_type": "stream",
       "stream": "stdout",
       "text": [
        "\n",
        "Sen-----0.9848 \n",
        "\n",
        "Sen-----0.9848 \n",
        "\n",
        "Sen-----0.9847 \n",
        "\n",
        "--------------True\n",
        "Esta medida tuvo amplio acompa\u00f1amiento por parte de los docentes que apoyaron a sus alumnos.\n",
        "=====\n",
        "[u'This measure had broad support by teachers who supported students.']"
       ]
      },
      {
       "output_type": "stream",
       "stream": "stdout",
       "text": [
        "\n",
        "\n",
        "\n",
        "Sen-----0.9846 \n",
        "\n",
        "--------------True\n",
        "La entrega de la misiva se realiz\u00f3 en medio de una manifestaci\u00f3n de padres de familia y representantes de diversos colectivos de la sociedad civil a las afueras de la sede de la Corte, en el Centro Hist\u00f3rico, a 16 meses de la desaparici\u00f3n de los 43 j\u00f3venes normalistas de Ayotzinapa.\n",
        "=====\n",
        "[u'Delivery of the missive was launched amid a manifestation of parents and representatives of various groups of the civil society on the edge of the seat of the Court, in the historic centre, 16 months after the disappearance of 43 normalistas Ayotzinapa young.']"
       ]
      },
      {
       "output_type": "stream",
       "stream": "stdout",
       "text": [
        "\n",
        "\n",
        "\n",
        "Sen-----0.9846 \n",
        "\n",
        "Sen-----0.9845 \n",
        "\n",
        "Sen-----0.9845 \n",
        "\n",
        "Sen-----0.9844 \n",
        "\n",
        "--------------True\n",
        "El grupo parti\u00f3 desde la Explanada de los H\u00e9roes, donde se reunieron los polic\u00edas y sus familias.\n",
        "=====\n",
        "[u'The group departed from the Explanada de los Heroes, where they met the policemen and their families.']"
       ]
      },
      {
       "output_type": "stream",
       "stream": "stdout",
       "text": [
        "\n",
        "\n",
        "\n",
        "Sen-----0.9839 \n",
        "\n",
        "--------------True\n",
        "A su vez, a las 17 se convoca a la marcha que partir\u00e1 desde Plaza Montenegro para terminar en el Monumento Nacional a La Bandera.\n",
        "=====\n",
        "[u'At the same time, 17 are invited to the March that will depart from Plaza Montenegro to complete at the national monument to the flag.']"
       ]
      },
      {
       "output_type": "stream",
       "stream": "stdout",
       "text": [
        "\n",
        "\n",
        "\n",
        "Sen-----0.9836 \n",
        "\n",
        "--------------True\n",
        "La movilizaci\u00f3n genera largas filas de veh\u00edculos que transitan sobre la ruta Transchaco.\n",
        "=====\n",
        "[u'The mobilization generated long lines of vehicles travelling on route Transchaco.']"
       ]
      },
      {
       "output_type": "stream",
       "stream": "stdout",
       "text": [
        "\n",
        "\n",
        "\n",
        "Sen-----0.9835 \n",
        "\n",
        "Sen-----0.9835 \n",
        "\n",
        "--------------True\n",
        "Los profesores decidieron realizar un mitin donde manifestaron su rechazo a la prueba educativa.\n",
        "=====\n",
        "[u'The teachers decided to hold a rally where expressed his rejection to the educational test.']"
       ]
      },
      {
       "output_type": "stream",
       "stream": "stdout",
       "text": [
        "\n",
        "\n",
        "\n",
        "Sen-----0.9835 \n",
        "\n",
        "Sen-----0.9832 \n",
        "\n",
        "Sen-----0.9832 \n",
        "\n",
        "Sen-----0.9831 \n",
        "\n",
        "Sen-----0.9831 \n",
        "\n",
        "Sen-----0.9831 \n",
        "\n",
        "--------------True\n",
        "La movilizaci\u00f3n, en tanto, se realizar\u00e1 desde Plaza de Armas a la Universidad de Chile, por el Paseo Ahumada.\n",
        "=====\n",
        "[u'Mobilization, meanwhile, will take place from Plaza de Armas to the University of Chile, by the Paseo Ahumada.']"
       ]
      },
      {
       "output_type": "stream",
       "stream": "stdout",
       "text": [
        "\n",
        "\n",
        "\n",
        "Sen-----0.9830 \n",
        "\n",
        "Sen-----0.9828 \n",
        "\n",
        "Sen-----0.9828 \n",
        "\n",
        "Sen-----0.9828 \n",
        "\n",
        "--------------True\n",
        "El pr\u00f3ximo jueves habr\u00e1 una manifestaci\u00f3n nuevamente para exigir que contin\u00faen los trabajos de refacci\u00f3n.\n",
        "=====\n",
        "[u'Next Thursday there will be a demonstration once again to demand to continue the renovation work.']"
       ]
      },
      {
       "output_type": "stream",
       "stream": "stdout",
       "text": [
        "\n",
        "\n",
        "\n",
        "Sen-----0.9827 \n",
        "\n",
        "Sen-----0.9827 \n",
        "\n",
        "Sen-----0.9827 \n",
        "\n",
        "--------------True\n",
        "Representantes de centrales obreras anunciaron que permanecer\u00e1n en el lugar hasta horas de la tarde.\n",
        "=====\n",
        "[u'Representatives of Central workers announced that they will remain in place until the afternoon.']"
       ]
      },
      {
       "output_type": "stream",
       "stream": "stdout",
       "text": [
        "\n",
        "\n",
        "\n",
        "Sen-----0.9826 \n",
        "\n",
        "Sen-----0.9826 \n",
        "\n",
        "Sen-----0.9825 \n",
        "\n",
        "--------------True\n",
        "Desde este lunes se prev\u00e9n plantones en la Plaza Grande, frente al Municipio de Quito.\n",
        "=====\n",
        "[u'Since this Monday will provide seedlings in the large Plaza, opposite the municipality of Quito.']"
       ]
      },
      {
       "output_type": "stream",
       "stream": "stdout",
       "text": [
        "\n",
        "\n",
        "\n",
        "Sen-----0.9825 \n",
        "\n",
        "--------------True\n",
        "En la zona sur, la ma\u00f1ana de este s\u00e1bado, los docentes protestaron contra la evaluaci\u00f3n en el crucero de cuatro caminos en Zacatepec, donde desde muy temprano, elementos del Mando \u00danico se apostaron para impedir el paso de los manifestantes.\n",
        "=====\n",
        "[u'In the South, this Saturday morning, teachers protested against the evaluation in four roads in Zacatepec Cruiser, where since very early, the only control elements were stationed to prevent the passage of the demonstrators.']"
       ]
      },
      {
       "output_type": "stream",
       "stream": "stdout",
       "text": [
        "\n",
        "\n",
        "\n",
        "Sen-----0.9824 \n",
        "\n",
        "--------------True\n",
        "A las protestas se sumaron cerca de 200 estudiantes de la normal nural de Ayotzinapa, quienes bloquearon la autopista del Sol en apoyo a los maestros, contra la forma educativa y la exigencia de la presentaci\u00f3n de los 43 normalistas desaparecidos.\n",
        "=====\n",
        "[u'The protests were joined by about 200 students from the normal nural from Ayotzinapa, who blocked the motorway of the Sun to support teachers, against the educational forms and the requirement of the submission of the 43 missing fearfully.']"
       ]
      },
      {
       "output_type": "stream",
       "stream": "stdout",
       "text": [
        "\n",
        "\n",
        "\n",
        "Sen-----0.9822 \n",
        "\n",
        "--------------True\n",
        "La jornada de lucha comenzar\u00e1 a las 11 con una manifestaci\u00f3n en los Tribunales Provinciales de la calle Balcarce 1651, donde se entregar\u00e1 un petitorio a la Corte Suprema de Justicia de la provincia, consignaron los organizadores.\n",
        "=====\n",
        "[u'The day of fight will begin at 11 am with a demonstration in the provincial courts of the Balcarce Street 1651, where a petition will be delivered to the Supreme Court of Justice of the province, appropriated the organizers.']"
       ]
      },
      {
       "output_type": "stream",
       "stream": "stdout",
       "text": [
        "\n",
        "\n",
        "\n",
        "Sen-----0.9822 \n",
        "\n",
        "--------------True\n",
        "Frente a la Municipalidad de Lambar\u00e9, los alumnos del CNL expresaron su repudio por el derrumbe en coincidencia con la protesta general de alumnos secundarios.\n",
        "=====\n",
        "[u'Opposite the municipality of Lambare, CNL students expressed their repudiation by the collapse in coincidence with the general protest of secondary students.']"
       ]
      },
      {
       "output_type": "stream",
       "stream": "stdout",
       "text": [
        "\n",
        "\n",
        "\n",
        "Sen-----0.9820 \n",
        "\n",
        "--------------True\n",
        "Adem\u00e1s, reclaman un incremento salarial para alcanzar un sueldo de 14 mil pesos.\n",
        "=====\n",
        "[u'In addition, they demand a wage increase to reach a salary of 14 thousand pesos.']"
       ]
      },
      {
       "output_type": "stream",
       "stream": "stdout",
       "text": [
        "\n",
        "\n",
        "\n",
        "Sen-----0.9819 \n",
        "\n",
        "--------------True\n",
        "Como apoyo a la protesta, dirigentes del gremio ATE a nivel nacional realizar\u00e1n ma\u00f1ana una marcha a las 11 hacia la Casa de Santa Cruz, en 25 de mayo 279, en Buenos Aires.\n",
        "=====\n",
        "[u'Support to the protest, leaders of the Guild ATE at the national level will be tomorrow a March at 11 to the Casa de Santa Cruz, may 25 279, in Buenos Aires.']"
       ]
      },
      {
       "output_type": "stream",
       "stream": "stdout",
       "text": [
        "\n",
        "\n",
        "\n",
        "Sen-----0.9817 \n",
        "\n",
        "--------------True\n",
        "En las calles del Centro, comerciantes y moradores miraron pasar la manifestaci\u00f3n.\n",
        "=====\n",
        "[u'In the streets of the Center, merchants and residents looked to pass the demonstration.']"
       ]
      },
      {
       "output_type": "stream",
       "stream": "stdout",
       "text": [
        "\n",
        "\n",
        "\n",
        "Sen-----0.9817 \n",
        "\n",
        "--------------True\n",
        "Alrededor de las 9 de la ma\u00f1ana dos grupos de mil 500 profesores de la Ceteg y el Suspeg, entre otras, organizaciones marcharon por el bulevar de Las Naciones, desde la desviaci\u00f3n hacia la caseta de Metlapil, hacia el Forum donde se efectuar\u00eda el examen docente.\n",
        "=====\n",
        "[u'Around 9 in the morning two groups of one thousand 500 teachers from the Ceteg and the Suspeg, among others, organizations marched along the Boulevard of the Nations, from the diversion to the booth of Metlapil, to the Forum where the teaching examination would be.']"
       ]
      },
      {
       "output_type": "stream",
       "stream": "stdout",
       "text": [
        "\n",
        "\n",
        "\n",
        "Sen-----0.9815 \n",
        "\n",
        "--------------True\n",
        "Limitado el acceso a Petare desde la Urbina por protesta @MaquinaDelAire @El_Noticiero @traficovv @EUtrafico pic.twitter.com/v50UWrKlAQ \u2014 Imagen (@Imag3n) noviembre 2, 2015\n",
        "=====\n",
        "[u'Limited access to Petare since the Urbina by protest @MaquinaDelAire @El_Noticiero @traficovv @EUtrafico pic.twitter.com/v50UWrKlAQ - image (@Imag3n) November 2, 2015']"
       ]
      },
      {
       "output_type": "stream",
       "stream": "stdout",
       "text": [
        "\n",
        "\n",
        "\n",
        "Sen-----0.9814 \n",
        "\n",
        "Sen-----0.9813 \n",
        "\n",
        "--------------True\n",
        "Los estudiantes exigen la renuncia de su decano Jaime Torales Kennedy.\n",
        "=====\n",
        "[u'Students are demanding the resignation of their Dean Torales Jaime Kennedy.']"
       ]
      },
      {
       "output_type": "stream",
       "stream": "stdout",
       "text": [
        "\n",
        "\n",
        "\n",
        "Sen-----0.9811 \n",
        "\n",
        "Sen-----0.9811 \n",
        "\n",
        "--------------True\n",
        "La tensi\u00f3n comenz\u00f3 cuando los cascos azules acordonaron a los manifestantes marcando la zona hasta la que pod\u00edan llegar.\n",
        "=====\n",
        "[u'The tension began when the peacekeepers cordoned off the protesters marking the area that could reach.']"
       ]
      },
      {
       "output_type": "stream",
       "stream": "stdout",
       "text": [
        "\n",
        "\n",
        "\n",
        "Sen-----0.9811 \n",
        "\n",
        "Sen-----0.9810 \n",
        "\n",
        "--------------True\n",
        "Los organizadores estiman que la movilizaci\u00f3n culmine alrededor de las 14:30 horas, tras la realizaci\u00f3n de diferentes actividades culturales.\n",
        "=====\n",
        "[u'The organizers estimate mobilization culminate around 14:30 hours, after the realization of different cultural activities.']"
       ]
      },
      {
       "output_type": "stream",
       "stream": "stdout",
       "text": [
        "\n",
        "\n",
        "\n",
        "Sen-----0.9810 \n",
        "\n",
        "Sen-----0.9810 \n",
        "\n",
        "--------------True\n",
        "Esta vez, ellas recorrieron la calle Guayaquil hasta llegar a la Plaza de Santo Domingo.\n",
        "=====\n",
        "[u'This time, they toured the Guayaquil Street until you reach the Plaza de Santo Domingo.']"
       ]
      },
      {
       "output_type": "stream",
       "stream": "stdout",
       "text": [
        "\n",
        "\n",
        "\n",
        "Sen-----0.9807 \n",
        "\n",
        "--------------True\n",
        "Los profesores de la secci\u00f3n 22 se congregaron en el monumento a Benito Ju\u00e1rez y avanzaron por la carretera hacia el Istmo.\n",
        "=====\n",
        "error"
       ]
      },
      {
       "output_type": "stream",
       "stream": "stdout",
       "text": [
        "\n",
        "Sen-----0.9807 \n",
        "\n",
        "Sen-----0.9805 \n",
        "\n",
        "--------------True\n",
        "Fueron trabajadores de ANSES que luego marcharon hacia Plaza de Mayo.\n",
        "=====\n",
        "[u'They were employees of ANSES who then marched to Plaza de Mayo.']"
       ]
      },
      {
       "output_type": "stream",
       "stream": "stdout",
       "text": [
        "\n",
        "\n",
        "\n",
        "Sen-----0.9805 \n",
        "\n",
        "--------------True\n",
        "Los docentes se congregaron este viernes frente al MEC para protestar contra la destituci\u00f3n de sus dirigentes.\n",
        "=====\n",
        "[u'Teachers gathered this Friday against the Ministry of education to protest the dismissal of their leaders.']"
       ]
      },
      {
       "output_type": "stream",
       "stream": "stdout",
       "text": [
        "\n",
        "\n",
        "\n",
        "Sen-----0.9805 \n",
        "\n",
        "--------------True\n",
        "Se quedaron en la intersecci\u00f3n con la Rocafuerte para gritar consignas como: \u201cqueremos trabajar!\n",
        "=====\n",
        "[u'Stayed at the intersection with the Rocafuerte to shout slogans such as: \"we want to work!']"
       ]
      },
      {
       "output_type": "stream",
       "stream": "stdout",
       "text": [
        "\n",
        "\n",
        "\n",
        "Sen-----0.9805 \n",
        "\n",
        "Sen-----0.9805 \n",
        "\n",
        "Sen-----0.9803 \n",
        "\n",
        "--------------True\n",
        "Fueron encabezados por los tres hermanos.\n",
        "=====\n",
        "[u'They were led by the three brothers.']"
       ]
      },
      {
       "output_type": "stream",
       "stream": "stdout",
       "text": [
        "\n",
        "\n",
        "\n",
        "Sen-----0.9803 \n",
        "\n",
        "Sen-----0.9801 \n",
        "\n",
        "Sen-----0.9800 \n",
        "\n",
        "Sen-----0.9799 \n",
        "\n",
        "Sen-----0.9797 \n",
        "\n",
        "--------------True\n",
        "Los dirigentes de las centrales obreras que convocan a la huelga general se hab\u00edan entrevistado con De Vargas el mi\u00e9rcoles.\n",
        "=====\n",
        "[u'The leaders of the central workers that call for the general strike had met with De Vargas on Wednesday.']"
       ]
      },
      {
       "output_type": "stream",
       "stream": "stdout",
       "text": [
        "\n",
        "\n",
        "\n",
        "Sen-----0.9796 \n",
        "\n",
        "Sen-----0.9794 \n",
        "\n",
        "Sen-----0.9794 \n",
        "\n",
        "Sen-----0.9790 \n",
        "\n",
        "--------------True\n",
        "Lo anterior durante la marcha que realizaron en el puerto de Acapulco, sobre la costera Miguel Alem\u00e1n, maestros agrupados en la CETEG, secci\u00f3n XIV del SUSPEG, del Sindicato del Colegio de Bachilleres y alumnos del grupo Kiosco, reprobados en los ex\u00e1menes de admisi\u00f3n de la Universidad Aut\u00f3noma de Guerrero, en las unidades acad\u00e9micas del \u00e1rea de la salud.\n",
        "=====\n",
        "error"
       ]
      },
      {
       "output_type": "stream",
       "stream": "stdout",
       "text": [
        "\n",
        "Sen-----0.9788 \n",
        "\n",
        "--------------True\n",
        "La huelga est\u00e1 organizada por la Confederaci\u00f3n de la Clase Trabajadora, la Confederaci\u00f3n Nacional de Trabajadores y la Central Unitaria Aut\u00e9ntica.\n",
        "=====\n",
        "[u'The strike is organized by the Confederation of working class, the National Confederation of workers and the Central Unit real.']"
       ]
      },
      {
       "output_type": "stream",
       "stream": "stdout",
       "text": [
        "\n",
        "\n",
        "\n",
        "Sen-----0.9786 \n",
        "\n",
        "--------------True\n",
        "A esto se suma el reclamo de los usuarios, incluso existe una denuncia en el Ministerio P\u00fablico de San Pedro de Ycuamandyy\u00fa, en la unidad de la doctora Dominga Ben\u00edtez, en contra de los directivos por supuesto hecho de estafa, lesi\u00f3n de confianza, producci\u00f3n de documentos no aut\u00e9nticos y de apropiaci\u00f3n, por lo que procedieron a lacrar el sector administrativo de la instituci\u00f3n.\n",
        "=====\n",
        "error"
       ]
      },
      {
       "output_type": "stream",
       "stream": "stdout",
       "text": [
        "\n",
        "Sen-----0.9786 \n",
        "\n",
        "Sen-----0.9786 \n",
        "\n",
        "Sen-----0.9784 \n",
        "\n",
        "Sen-----0.9783 \n",
        "\n",
        "--------------True\n",
        "SANTIAGO.- Cerca de las 13:00 horas de hoy se registraron incidentes entre manifestantes y Carabineros en el centro de Santiago, luego de la marcha mapuche realizada por el 12 de octubre.\n",
        "=====\n",
        "[u\"SANTIAGO.-close from 13:00 hours today's incidents between protesters and police in the Centre of Santiago, after the mapuche March by October 12.\"]"
       ]
      },
      {
       "output_type": "stream",
       "stream": "stdout",
       "text": [
        "\n",
        "\n",
        "\n",
        "Sen-----0.9780 \n",
        "\n",
        "--------------True\n",
        "La movilizaci\u00f3n terminar\u00e1 con un plant\u00f3n frente a las sedes de la Alcald\u00eda de Medell\u00edn y la Gobernaci\u00f3n de Antioquia, en el centro de la ciudad.\n",
        "=====\n",
        "error"
       ]
      },
      {
       "output_type": "stream",
       "stream": "stdout",
       "text": [
        "\n",
        "Sen-----0.9777 \n",
        "\n",
        "Sen-----0.9777 \n",
        "\n",
        "--------------True\n",
        "Pero el Gobierno, tras varios encuentros con los manifestantes, logr\u00f3 desactivar la protesta entregando 300 d\u00f3lares a las familias campesinas de la zona.\n",
        "=====\n",
        "[u'But the Government, after several encounters with protesters, managed to disable the protest by giving $300 to farm families in the area.']"
       ]
      },
      {
       "output_type": "stream",
       "stream": "stdout",
       "text": [
        "\n",
        "\n",
        "\n",
        "Sen-----0.9775 \n",
        "\n",
        "--------------True\n",
        "Una segunda protesta complicaba la circulaci\u00f3n en el cruce de C\u00f3rdoba con la calle Maip\u00fa.\n",
        "=====\n",
        "[u'A second protest complicated circulation in Cordoba with Maipu Street crossing.']"
       ]
      },
      {
       "output_type": "stream",
       "stream": "stdout",
       "text": [
        "\n",
        "\n",
        "\n",
        "Sen-----0.9775 \n",
        "\n",
        "Sen-----0.9773 \n",
        "\n",
        "Sen-----0.9771 \n",
        "\n",
        "--------------True\n",
        "Desde las 14.30 horas del lunes rige un paro en todos los servicios de la l\u00ednea de transporte Copsa.\n",
        "=====\n",
        "[u'From 14.30 hours on Monday ruled a strike in all the transport Copsa line services.']"
       ]
      },
      {
       "output_type": "stream",
       "stream": "stdout",
       "text": [
        "\n",
        "\n",
        "\n",
        "Sen-----0.9769 \n",
        "\n",
        "--------------True\n",
        "Este jueves reclamaron su renuncia con carteles alusivos a este y otros reclamos.\n",
        "=====\n",
        "[u'On Thursday claimed his resignation with posters alluding to this and other claims.']"
       ]
      },
      {
       "output_type": "stream",
       "stream": "stdout",
       "text": [
        "\n",
        "\n",
        "\n",
        "Sen-----0.9768 \n",
        "\n",
        "--------------True\n",
        "Durante varios minutos la situaci\u00f3n se tens\u00f3, hasta que algunos dirigentes se acercaron a los polic\u00edas para pedirles pacificar el ambiente y concluir su jornada de protesta.\n",
        "=====\n",
        "[u'For several minutes the situation tensed, until some leaders approached the officers to ask them pacify the environment and conclude your day of protest.']"
       ]
      },
      {
       "output_type": "stream",
       "stream": "stdout",
       "text": [
        "\n",
        "\n",
        "\n",
        "Sen-----0.9767 \n",
        "\n",
        "Sen-----0.9767 \n",
        "\n",
        "Sen-----0.9765 \n",
        "\n",
        "Sen-----0.9760 \n",
        "\n",
        "--------------True\n",
        "Los maestros que arribaron a este sitio se colocaron frente a los veh\u00edculos que pretend\u00edan ingresar a la universidad y con pancartas rechazaron la evaluaci\u00f3n docente.\n",
        "=====\n",
        "[u'Teachers who arrived at this site were placed against vehicles seeking to enter the University and with banners rejected the teaching evaluation.']"
       ]
      },
      {
       "output_type": "stream",
       "stream": "stdout",
       "text": [
        "\n",
        "\n",
        "\n",
        "Sen-----0.9760 \n",
        "\n",
        "Sen-----0.9759 \n",
        "\n",
        "Sen-----0.9757 \n",
        "\n",
        "--------------True\n",
        "Mientras que la sentata estudiantil frente al decanato de Ciencias Agrarias hab\u00eda iniciado el lunes, volvi\u00e9ndose a liberar el paso hasta ayer.\n",
        "=====\n",
        "[u'While the student sit opposite the Office of the Dean of agricultural sciences had begun on Monday, turning to release the step until yesterday.']"
       ]
      },
      {
       "output_type": "stream",
       "stream": "stdout",
       "text": [
        "\n",
        "\n",
        "\n",
        "Sen-----0.9756 \n",
        "\n",
        "--------------True\n",
        "Ayer, en una reuni\u00f3n realizada en la iglesia de este distrito sampedrano, los campesinos de la Coordinadora de Igualdad de Oportunidades acordaron reiniciar la movilizaci\u00f3n sobre la Ruta III \u201cGral E. Aquino\u201d, con bloqueo del tr\u00e1fico para exigir cuatro puntos que ya hab\u00edan pedido al Gobierno hace un a\u00f1o.\n",
        "=====\n",
        "[u'Yesterday, at a meeting held in the Church of this sampedrano district, the peasants of the Coordinator of equality of opportunities agreed to restart the mobilization on the route III \"General E. Aquino,\" blocking traffic to demand four points which had already asked the Government a year ago.']"
       ]
      },
      {
       "output_type": "stream",
       "stream": "stdout",
       "text": [
        "\n",
        "\n",
        "\n",
        "Sen-----0.9756 \n",
        "\n",
        "Sen-----0.9753 \n",
        "\n",
        "--------------True\n",
        "A diferencia de d\u00edas previos de la medida de fuerza que ya cumpli\u00f3 34 d\u00edas, ayer la tensi\u00f3n disminuy\u00f3.\n",
        "=====\n",
        "[u'In contrast to previous days of the measure of force that already served 34 days, yesterday the stress decreased.']"
       ]
      },
      {
       "output_type": "stream",
       "stream": "stdout",
       "text": [
        "\n",
        "\n",
        "\n",
        "Sen-----0.9752 \n",
        "\n",
        "--------------True\n",
        "{[ titulo ]} {[ epigrafe ]} {[ copyright ]}\n",
        "=====\n",
        "[u'{[title]} {[caption]} {[copyright]}']"
       ]
      },
      {
       "output_type": "stream",
       "stream": "stdout",
       "text": [
        "\n",
        "\n",
        "\n",
        "Sen-----0.9752 \n",
        "\n",
        "Sen-----0.9751 \n",
        "\n",
        "--------------True\n",
        "Hoy ya fue esterilizada por Ongaap, ya su calvario termin\u00f3.\n",
        "=====\n",
        "[u'Today was already sterilized by Ongaap, their ordeal is now over.']"
       ]
      },
      {
       "output_type": "stream",
       "stream": "stdout",
       "text": [
        "\n",
        "\n",
        "\n",
        "Sen-----0.9750 \n",
        "\n",
        "--------------True\n",
        "Los manifestantes denunciaron que al menos 10 millones de pesos de esa dependencia, a cargo de Ernesto Echeverr\u00eda, han sido desviados a las campa\u00f1as electorales de 2016, cuando se renovar\u00e1 la gubernatura.\n",
        "=====\n",
        "error"
       ]
      },
      {
       "output_type": "stream",
       "stream": "stdout",
       "text": [
        "\n",
        "Sen-----0.9750 \n",
        "\n",
        "--------------True\n",
        "El grupo de f\u00e9minas de todas las edades participaron en una marcha desde la colonia Santa M\u00f3nica, recorriendo la zona del mercado hasta concentrarse en la jornada frente a la alcald\u00eda.\n",
        "=====\n",
        "[u\"The Group of women of all ages participated in a March from the colonia Santa Monica, touring the area of the market to focus on the day against the Mayor's office.\"]"
       ]
      },
      {
       "output_type": "stream",
       "stream": "stdout",
       "text": [
        "\n",
        "\n",
        "\n",
        "Sen-----0.9749 \n",
        "\n",
        "--------------True\n",
        "Alrededor de 4.500 funcionarios se unir\u00e1n a la medida de fuerza.\n",
        "=====\n",
        "[u'Around of 4,500 civil servants they will join the force measurement.']"
       ]
      },
      {
       "output_type": "stream",
       "stream": "stdout",
       "text": [
        "\n",
        "\n",
        "\n",
        "Sen-----0.9749 \n",
        "\n",
        "--------------True\n",
        "Tambi\u00e9n les cortaron servicios como luz, agua y desde que iniciaron una protesta el pasado viernes, cuando como forma de protesta secuestraron a dos custodios, un profesor de educaci\u00f3n f\u00edsica y dos trabajadores sociales.\n",
        "=====\n",
        "[u'They also cut them services like electricity, water and since they launched a protest last Friday, when as a form of protest abducted two custodians, a Professor of physical education and two social workers.']"
       ]
      },
      {
       "output_type": "stream",
       "stream": "stdout",
       "text": [
        "\n",
        "\n",
        "\n",
        "Sen-----0.9747 \n",
        "\n",
        "Sen-----0.9746 \n",
        "\n",
        "--------------True\n",
        "de Cordillera (Desir\u00e9 Cabrera, de nuestra redacci\u00f3n regional).Funcionarios administrativos, investigadores y jornaleros del IPTA realizaron el viernes una protesta frente al Centro de Investigaciones Hernando Bertoni.\n",
        "=====\n",
        "error"
       ]
      },
      {
       "output_type": "stream",
       "stream": "stdout",
       "text": [
        "\n",
        "Sen-----0.9746 \n",
        "\n",
        "Sen-----0.9745 \n",
        "\n",
        "--------------True\n",
        "Poco antes de la una, alrededor de 15 personas interrumpieron el tr\u00e1nsito sobre la avenida Libertador.\n",
        "=====\n",
        "[u'Shortly before the one, about 15 people halted traffic on avenida Libertador.']"
       ]
      },
      {
       "output_type": "stream",
       "stream": "stdout",
       "text": [
        "\n",
        "\n",
        "\n",
        "Sen-----0.9740 \n",
        "\n",
        "--------------True\n",
        "Los compa\u00f1eros que llegaron a la sede se sumaron a la movilizaci\u00f3n.\n",
        "=====\n",
        "[u'The colleagues who came to the headquarters joined the mobilization.']"
       ]
      },
      {
       "output_type": "stream",
       "stream": "stdout",
       "text": [
        "\n",
        "\n",
        "\n",
        "Sen-----0.9738 \n",
        "\n",
        "Sen-----0.9736 \n",
        "\n",
        "--------------True\n",
        "En esta ciudad, fueron m\u00e1s de dos mil los manifestantes que con consigna y mantas, caminaron del poniente al centro, donde concluyeron con un mitin demandaron tambi\u00e9n que cesen las agresiones en contra de las mujeres.\n",
        "=====\n",
        "[u'In this city, were more than 2,000 demonstrators who walked from the West to the Center, which concluded with a rally with luggage and blankets, also demanded to cease attacks against women.']"
       ]
      },
      {
       "output_type": "stream",
       "stream": "stdout",
       "text": [
        "\n",
        "\n",
        "\n",
        "Sen-----0.9735 \n",
        "\n",
        "--------------True\n",
        "Los manifestantes reclaman rigor cient\u00edfico para decidir si sacrificar a un perro o no, y sostienen que existe un tratamiento para los perros, el principal reservorio del virus, que es transmitido por la picadura de una mosquita denominada fleb\u00f3tomo y que es altamente mortal tanto para perros como para humanos.\n",
        "=====\n",
        "[u'Protesters are demanding scientific rigor to decide if sacrificing a dog or not, and argue that there is a treatment for dogs, the main reservoir of the virus, which is transmitted by the bite of a sandfly called willows and that is highly lethal for dogs and humans.']"
       ]
      },
      {
       "output_type": "stream",
       "stream": "stdout",
       "text": [
        "\n",
        "\n",
        "\n",
        "Sen-----0.9735 \n",
        "\n",
        "--------------True\n",
        "Kokar fue una de las que convoc\u00f3 a la movida frente a la sede del MSP, bajo el lema \"Ciencia con conciencia\".\n",
        "=====\n",
        "error"
       ]
      },
      {
       "output_type": "stream",
       "stream": "stdout",
       "text": [
        "\n",
        "Sen-----0.9735 \n",
        "\n",
        "--------------True\n",
        "La jornada de movilizaci\u00f3n termina con un festival popular a las 19.00, por la libertad sindical y libertad de expresi\u00f3n.\n",
        "=====\n",
        "[u'Mobilization day ends with a popular festival at 19.00, freedom of Association and freedom of expression.']"
       ]
      },
      {
       "output_type": "stream",
       "stream": "stdout",
       "text": [
        "\n",
        "\n",
        "\n",
        "Sen-----0.9735 \n",
        "\n",
        "--------------True\n",
        "Sin embargo, la presencia policiaca, as\u00ed como las manifestaciones de los docentes disidentes a la secci\u00f3n 19 del SNTE, inhibi\u00f3 la presencia de maestros.\n",
        "=====\n",
        "[u'However, the police presence, as well as the manifestations of dissident teachers to section 19 of the SNTE, inhibited the presence of teachers.']"
       ]
      },
      {
       "output_type": "stream",
       "stream": "stdout",
       "text": [
        "\n",
        "\n",
        "\n",
        "Sen-----0.9734 \n",
        "\n",
        "--------------True\n",
        "Los manifestantes marcharon sobre la costera Miguel Alem\u00e1n desde La Diana Cazadora hasta galer\u00edas Acapulco y regresaron al punto del que partieron con cartulinas y mantas exigiendo seguridad.\n",
        "=====\n",
        "error"
       ]
      },
      {
       "output_type": "stream",
       "stream": "stdout",
       "text": [
        "\n",
        "Sen-----0.9732 \n",
        "\n",
        "--------------True\n",
        "Los manifestantes se\u00f1alaron que continuar\u00e1n las protestas hasta que tengan una respuesta positiva.\n",
        "=====\n",
        "[u'The protesters said that they will continue protests until they have a positive response.']"
       ]
      },
      {
       "output_type": "stream",
       "stream": "stdout",
       "text": [
        "\n",
        "\n",
        "\n",
        "Sen-----0.9731 \n",
        "\n",
        "--------------True\n",
        "Estudiantes se mantienen en la calle\n",
        "=====\n",
        "[u'Students remain in the street']"
       ]
      },
      {
       "output_type": "stream",
       "stream": "stdout",
       "text": [
        "\n",
        "\n",
        "\n",
        "Sen-----0.9731 \n",
        "\n",
        "--------------True\n",
        "Con meg\u00e1fonos en mano, los aproximadamente cien manifestantes siguen gritando sus consignas.\n",
        "=====\n",
        "[u'With megaphones in hand, about a hundred protesters still screaming their slogans.']"
       ]
      },
      {
       "output_type": "stream",
       "stream": "stdout",
       "text": [
        "\n",
        "\n",
        "\n",
        "Sen-----0.9730 \n",
        "\n",
        "--------------True\n",
        "La marcha se inici\u00f3 frente a la sede del colegio, sobre la avenida Eusebio Ayala, y culmin\u00f3 en la Plaza de Armas, en el centro de Asunci\u00f3n.\n",
        "=====\n",
        "[u'The March was launched from the headquarters of the College, on the avenida Eusebio Ayala, and culminated in the Plaza de Armas, in the center of Asuncion.']"
       ]
      },
      {
       "output_type": "stream",
       "stream": "stdout",
       "text": [
        "\n",
        "\n",
        "\n",
        "Sen-----0.9729 \n",
        "\n",
        "--------------True\n",
        "\"Los espero el pr\u00f3ximo martes en Miraflores, a una delegaci\u00f3n de voceros de Cantv para que me traigan el plan de mejoramiento, ampliaci\u00f3n y rectificaci\u00f3n de los servicios de la Cantv\", asent\u00f3 Maduro.\n",
        "=====\n",
        "[u'\"I hope next Tuesday in Miraflores, a delegation from spokesmen for Cantv to bring me the plan of improvement, expansion and rectification Cantv services\", it settled Maduro.']"
       ]
      },
      {
       "output_type": "stream",
       "stream": "stdout",
       "text": [
        "\n",
        "\n",
        "\n",
        "Sen-----0.9727 \n",
        "\n",
        "--------------True\n",
        "Los universitarios convocan a lo que quieran participar de las actividades para las 7:00 frente al edificio del Recortado de la UNA, donde primeramente har\u00e1n una manifestaci\u00f3n.\n",
        "=====\n",
        "[u'Academics call for wanting to participate in activities for 7:00 opposite the building of the cutaway of one, where will first make a demonstration.']"
       ]
      },
      {
       "output_type": "stream",
       "stream": "stdout",
       "text": [
        "\n",
        "\n",
        "\n",
        "Sen-----0.9727 \n",
        "\n",
        "Sen-----0.9726 \n",
        "\n",
        "--------------True\n",
        "Ante la falta de respuestas a las peticiones por parte de las autoridades del RNPN, el sindicato realiz\u00f3 un paro parcial de labores en los duicentros.\n",
        "=====\n",
        "[u'In the absence of replies to requests by the authorities of the/NRNP, the Union conducted a partial work stoppage in the duicentros.']"
       ]
      },
      {
       "output_type": "stream",
       "stream": "stdout",
       "text": [
        "\n",
        "\n",
        "\n",
        "Sen-----0.9726 \n",
        "\n",
        "--------------True\n",
        "Ah\u00ed, a pesar de la presencia de polic\u00edas del Mando \u00danico los inconformes bloquearon con piedras el acceso principal a las instalaciones universitarias y con pancartas rechazaron la reforma.\n",
        "=====\n",
        "[u'There, despite the presence of police officers of the single control the protesters blocked with stones the main entrance to the University facilities and with banners rejected the reform.']"
       ]
      },
      {
       "output_type": "stream",
       "stream": "stdout",
       "text": [
        "\n",
        "\n",
        "\n",
        "Sen-----0.9726 \n",
        "\n",
        "--------------True\n",
        "A las cinco de la tarde del viernes ces\u00f3 el conflicto y se realizaron los traslados.\n",
        "=====\n",
        "[u'At five in the afternoon on Friday ended the conflict and transfers were performed.']"
       ]
      },
      {
       "output_type": "stream",
       "stream": "stdout",
       "text": [
        "\n",
        "\n",
        "\n",
        "Sen-----0.9725 \n",
        "\n",
        "--------------True\n",
        "Ayer, con carteles de rechazo a dicho tope, una docena de trabajadores se acercaron hasta la Corte Constitucional para presentar la demanda patrocinada por el jurista Rafael Oyarte.\n",
        "=====\n",
        "[u'Yesterday, with posters of rejection that butt, a dozen workers came to the Constitutional Court to present demand sponsored by jurist Rafael Oyarte.']"
       ]
      },
      {
       "output_type": "stream",
       "stream": "stdout",
       "text": [
        "\n",
        "\n",
        "\n",
        "Sen-----0.9725 \n",
        "\n",
        "Sen-----0.9724 \n",
        "\n",
        "--------------True\n",
        "La inconformidad por la carencia del l\u00edquido gener\u00f3 una protesta frente a las oficinas de la aut\u00f3noma, en Sonsonate, el mi\u00e9rcoles anterior.\n",
        "=====\n",
        "[u'The dissatisfaction by the lack of liquid generated a protest outside the offices of the autonomous, in Sonsonate, earlier Wednesday.']"
       ]
      },
      {
       "output_type": "stream",
       "stream": "stdout",
       "text": [
        "\n",
        "\n",
        "\n",
        "Sen-----0.9724 \n",
        "\n",
        "--------------True\n",
        "La movilizaci\u00f3n re\u00fane varios reclamos, uno de ellos la Ley de Justicia Laboral, que recibi\u00f3 ayer su s\u00e9ptima demanda de inconstitucionalidad.\n",
        "=====\n",
        "[u'The mobilization brings together several claims, one of them the law of labour justice, which yesterday received his seventh demand for unconstitutionality.']"
       ]
      },
      {
       "output_type": "stream",
       "stream": "stdout",
       "text": [
        "\n",
        "\n",
        "\n",
        "Sen-----0.9723 \n",
        "\n",
        "--------------True\n",
        "Otra de las manifestantes, Karina Kokar -representante de la ONG Libera- sostuvo que existe una \"matanza indiscriminada\" bajo una \"alarma p\u00fablica\".\n",
        "=====\n",
        "error"
       ]
      },
      {
       "output_type": "stream",
       "stream": "stdout",
       "text": [
        "\n",
        "Sen-----0.9723 \n",
        "\n",
        "--------------True\n",
        "A su arribo ya los esperaba un grupo de estudiantes, quienes obstruyeron un carril de la carretera en las inmediaciones del Fraccionamiento Xangari, que fue resguardado por elementos de la Fuerza Ciudadana.\n",
        "=====\n",
        "[u'Upon arrival already awaited them a group of students, who obstructed a lane of the highway in the vicinity of the Xangari fractionation, which was guarded by members of the public force.']"
       ]
      },
      {
       "output_type": "stream",
       "stream": "stdout",
       "text": [
        "\n",
        "\n",
        "\n",
        "Sen-----0.9723 \n",
        "\n",
        "--------------True\n",
        "Mientras tanto, en la autopista a Reynosa a la altura del kil\u00f3metro 20, decenas de simpatizantes bloquearon la circulaci\u00f3n en ambos sentidos.\n",
        "=====\n",
        "[u'Meanwhile, on the highway to Reynosa to the height of km 20, dozens of supporters blocked traffic in both directions.']"
       ]
      },
      {
       "output_type": "stream",
       "stream": "stdout",
       "text": [
        "\n",
        "\n",
        "\n",
        "Sen-----0.9722 \n",
        "\n",
        "Sen-----0.9721 \n",
        "\n",
        "Sen-----0.9719 \n",
        "\n",
        "--------------True\n",
        "| Foto por Leonardo Gonz\u00e1lez Largas filas de furgones bloquearon el paso vehicular en la zona.\n",
        "=====\n",
        "[u'| Photo by Leonardo Gonzalez long rows of vans blocked the vehicle passage in the area.']"
       ]
      },
      {
       "output_type": "stream",
       "stream": "stdout",
       "text": [
        "\n",
        "\n",
        "\n",
        "Sen-----0.9717 \n",
        "\n",
        "--------------True\n",
        "Al cierre de esta edici\u00f3n, un pu\u00f1ado de manifestantes manten\u00eda un acampe frente a la comisar\u00eda 31a de General Roca para exigir su liberaci\u00f3n.\n",
        "=====\n",
        "[u'At the close of this Edition, a handful of protesters held a camp front the General Roca 31a station to demand his release.']"
       ]
      },
      {
       "output_type": "stream",
       "stream": "stdout",
       "text": [
        "\n",
        "\n",
        "\n",
        "Sen-----0.9716 \n",
        "\n",
        "--------------True\n",
        "Hay polic\u00edas metropolitanos, agentes de tr\u00e1nsito y polic\u00edas nacionales para evitar desmanes.\n",
        "=====\n",
        "[u'There are metropolitan police, forwarding agents and national police to prevent excesses.']"
       ]
      },
      {
       "output_type": "stream",
       "stream": "stdout",
       "text": [
        "\n",
        "\n",
        "\n",
        "Sen-----0.9715 \n",
        "\n",
        "--------------True\n",
        "Tras ofrecer una conferencia de prensa, los cetegistas encabezados por Ramos Reyes Guerrero salieron de su edificio y plant\u00f3n que tienen en la avenida Rufo Figueroa y la calle Circunvalaci\u00f3n, y marcharon por la avenida L\u00e1zaro C\u00e1rdenas para bajar hacia el Congreso del estado.\n",
        "=====\n",
        "error"
       ]
      },
      {
       "output_type": "stream",
       "stream": "stdout",
       "text": [
        "\n",
        "Sen-----0.9714 \n",
        "\n",
        "--------------True\n",
        "En horas de la ma\u00f1ana de este viernes, usuarios de twitter reportaron que nuevamente hay una manifestaci\u00f3n en la avenida Bicentenario de Los Teques frente al hospital.\n",
        "=====\n",
        "[u'In the morning of Friday, twitter users reported that there is again a manifestation on the bicentenary of Los Teques Avenue across from the hospital.']"
       ]
      },
      {
       "output_type": "stream",
       "stream": "stdout",
       "text": [
        "\n",
        "\n",
        "\n",
        "Sen-----0.9713 \n",
        "\n",
        "--------------True\n",
        "Adem\u00e1s, padres de los 52 normalistas retenidos protestaron afuera de la Procuradur\u00eda General de la Rep\u00fablica (PGR) para exigir que se esclarezca el hecho.\n",
        "=====\n",
        "[u\"In addition, parents of the 52 retained fearfully protested outside of the Attorney General's Office (PGR) to demand that the fact be clarified.\"]"
       ]
      },
      {
       "output_type": "stream",
       "stream": "stdout",
       "text": [
        "\n",
        "\n",
        "\n",
        "Sen-----0.9711 \n",
        "\n",
        "Sen-----0.9710 \n",
        "\n",
        "Sen-----0.9710 \n",
        "\n",
        "--------------True\n",
        "Sin embargo, a la llegada de los maestros ya los esperaba un grupo unos 60 polic\u00edas antimotines apostados en la lateral del sentido sur-norte, pero otros m\u00e1s estaban dentro de autobuses que estaban sobre la carretera libre y del sentido norte a sur; se ubicaron otros 25 autobuses con polic\u00edas antimot\u00edn adentro; ocho patrullas de la Polic\u00eda Estatal y unos ocho camiones de la Marina que transportaban embarcaciones peque\u00f1as.\n",
        "=====\n",
        "[u'However, the arrival of teachers already expected them a group about 60 police riot stationed on the side of the South-North direction, but others were inside buses that were on the free road and North to South direction; other 25 buses were placed with police riot inside; eight state police cars and eight trucks of the Navy carrying small boats.']"
       ]
      },
      {
       "output_type": "stream",
       "stream": "stdout",
       "text": [
        "\n",
        "\n",
        "\n",
        "Sen-----0.9708 \n",
        "\n",
        "--------------True\n",
        "Diferentes sectores se unieron a la marcha, como los conductores, los pensionados y los obreros.\n",
        "=====\n",
        "[u'Different sectors joined the March, as drivers, pensioners and workers.']"
       ]
      },
      {
       "output_type": "stream",
       "stream": "stdout",
       "text": [
        "\n",
        "\n",
        "\n",
        "Sen-----0.9708 \n",
        "\n",
        "--------------True\n",
        "El sindicato de trabajadores del Registro Nacional de las Personas Naturales (RNPN) protest\u00f3 ayer en la sede central de la instituci\u00f3n contra lo que consideran \u201cviolaciones flagrantes a los derechos laborales de los trabajadores\u201d por parte de la presidenta de la instituci\u00f3n, la efemelenista Margarita Velado, y la junta directiva de la entidad.\n",
        "=====\n",
        "[u'The Trade Union of workers of the national registry of the natural persons / (NRNP) protested yesterday at the headquarters of the institution against what they see as \"flagrant violations\" to the labour rights of workers by the President of the institution, the efemelenista Margarita veiled, and the Board of Directors of the entity.']"
       ]
      },
      {
       "output_type": "stream",
       "stream": "stdout",
       "text": [
        "\n",
        "\n",
        "\n",
        "Sen-----0.9708 \n",
        "\n",
        "--------------True\n",
        "Los galenos, reunidos en su mayor\u00eda en la Asociaci\u00f3n Sindical de Trabajadores de Colombia y la Salud (Asstracud), aseguraron en una misiva que las condiciones actuales en las que se encuentra el centro m\u00e9dico en materia de prestaci\u00f3n del servicio, les impiden cumplir a cabalidad con su trabajo lo que ha derivado en las m\u00faltiples quejas de los pacientes respecto al servicio y la atenci\u00f3n.\n",
        "=====\n",
        "[u'Physicians, gathered mostly in the Trade Union of workers of Colombia and health (Asstracud), claimed in a letter that the current conditions in which the Medical Center in the field of provision of the service, is preclude them from complying fully with their work which has resulted in multiple complaints of patients to the service and attention.']"
       ]
      },
      {
       "output_type": "stream",
       "stream": "stdout",
       "text": [
        "\n",
        "\n",
        "\n",
        "Sen-----0.9707 \n",
        "\n",
        "--------------True\n",
        "Los manifestantes portaban pancartas y banderas con frases como \u201cBasta de Violencia\u201d, \u201cNunca M\u00e1s al Criadazgo\u201d, \u201cNi Una Menos\u201d, \u201cNi Una Carolina M\u00e1s\u201d y \u201cJusticia Para Carolina\u201d.\n",
        "=====\n",
        "error"
       ]
      },
      {
       "output_type": "stream",
       "stream": "stdout",
       "text": [
        "\n",
        "Sen-----0.9705 \n",
        "\n",
        "--------------True\n",
        "Los hechos de Mapirip\u00e1n se suman a los desmanes ocurridos en el municipio de Lejan\u00edas, que exigieron la suspensi\u00f3n temporal de los comicios antes de las 3:00 de la tarde.\n",
        "=====\n",
        "[u'The facts of Mapiripan joined excesses occurred in the municipality of remoteness, which entailed the temporary elections before suspension 3:00 in the afternoon.']"
       ]
      },
      {
       "output_type": "stream",
       "stream": "stdout",
       "text": [
        "\n",
        "\n",
        "\n",
        "Sen-----0.9704 \n",
        "\n",
        "--------------True\n",
        "\"Estamos en permanente contacto con la CTA [la Aut\u00f3noma, de Pablo Micheli] y para el d\u00eda 22 se est\u00e1 puliendo una movilizaci\u00f3n por el bono de fin de a\u00f1o\", anticip\u00f3 el coordinador nacional de Barrios de Pie.\n",
        "=====\n",
        "[u'\"We are in permanent contact with the CTA [the autonomous, Pablo Micheli] and for the 22nd is polishing a mobilization by the end of the year bonus\", anticipated the national coordinator of neighborhoods of foot.']"
       ]
      },
      {
       "output_type": "stream",
       "stream": "stdout",
       "text": [
        "\n",
        "\n",
        "\n",
        "Sen-----0.9700 \n",
        "\n",
        "--------------True\n",
        "A la misma hora, en Reforma y la 11 Sur, unos 300 comerciantes encabezados por Ra\u00fal Nieto de la agrupaci\u00f3n Nueva Idea cerraron este importante cruce vial para exigir al gobierno del estado soluci\u00f3n a sus demandas.\n",
        "=====\n",
        "error"
       ]
      },
      {
       "output_type": "stream",
       "stream": "stdout",
       "text": [
        "\n",
        "Sen-----0.9699 \n",
        "\n",
        "--------------True\n",
        "Por otro lado, graves disturbios se reportaron desde de Tumaco, en la costa pac\u00edfica en Nari\u00f1o, donde simpatizantes del candidato a la alcald\u00eda, Diego Angulo, del Partido Liberal, llegaron hasta la sede de la Registradur\u00eda en la Calle Mercedes, en el centro del puerto, y lanzaron toda clase de objetos.\n",
        "=====\n",
        "error"
       ]
      },
      {
       "output_type": "stream",
       "stream": "stdout",
       "text": [
        "\n",
        "Sen-----0.9699 \n",
        "\n",
        "--------------True\n",
        "Los manifestantes lograron incendiar algunos uniformes y chalecos que los elementos de seguridad utilizaron como barricada.\n",
        "=====\n",
        "[u'The protesters managed to ignite some uniforms and vests that the safety elements used as a barricade.']"
       ]
      },
      {
       "output_type": "stream",
       "stream": "stdout",
       "text": [
        "\n",
        "\n",
        "\n",
        "Sen-----0.9698 \n",
        "\n",
        "--------------True\n",
        "Mencionaron que la mayor\u00eda de los afectados provienen de municipios como Xochistlahuaca, Tlacoachistlahuaca, Cuajinicuilapa, en la Costa Chica, y de Atoyac, y Zihuatanejo, en la Costa Grande; adem\u00e1s de la regi\u00f3n norte como Teloloapan, y aqu\u00ed en Chilpancingo.\n",
        "=====\n",
        "[u'They mentioned that the majority of those affected come from municipalities of Xochistlahuaca, Tlacoachistlahuaca, Cuajinicuilapa in the Costa Chica, and Atoyac, and Zihuatanejo, on the Pacific coast; In addition to the North of Teloloapan and here in Chilpancingo.']"
       ]
      },
      {
       "output_type": "stream",
       "stream": "stdout",
       "text": [
        "\n",
        "\n",
        "\n",
        "Sen-----0.9697 \n",
        "\n",
        "Sen-----0.9696 \n",
        "\n",
        "--------------True\n",
        "Unos 20 maestros de la Ceteg, que encabezaban la marcha, irrumpieron en el Congreso del estado donde rompieron vidrios del edificio, as\u00ed como de dos veh\u00edculos que se encontraban en el estacionamiento; adem\u00e1s golpearon a dos guardias del Congreso e incendiaron una silla que sacaron del m\u00f3dulo de seguridad del Poder Legislativo.\n",
        "=====\n",
        "[u'About 20 teachers of the Ceteg, who topped the March, stormed into the Congress of the State where smashed glasses of the building, as well as two vehicles that were in the parking lot; They also beat two guards of the Congress and set fire to a Chair that took out the legislative branch security module.']"
       ]
      },
      {
       "output_type": "stream",
       "stream": "stdout",
       "text": [
        "\n",
        "\n",
        "\n",
        "Sen-----0.9696 \n",
        "\n",
        "Sen-----0.9695 \n",
        "\n",
        "Sen-----0.9693 \n",
        "\n",
        "Sen-----0.9693 \n",
        "\n",
        "Sen-----0.9691 \n",
        "\n",
        "Sen-----0.9690 \n",
        "\n",
        "--------------True\n",
        "Los vecinos anunciaron que reunir\u00e1n firmas para solicitar a la Alcald\u00eda municipal que se encargue de la \u200eadministraci\u00f3n del agua a trav\u00e9s del Ibal.\n",
        "=====\n",
        "[u'Neighbors announced that they gather signatures to ask the municipality to be responsible for the administration of water through the Ibal.']"
       ]
      },
      {
       "output_type": "stream",
       "stream": "stdout",
       "text": [
        "\n",
        "\n",
        "\n",
        "Sen-----0.9690 \n",
        "\n",
        "--------------True\n",
        "Los mentores marcharon de la Fuente de las 8 regiones hacia el z\u00f3calo de la ciudad de Oaxaca, al llegar al palacio de gobierno solicitaron el ingreso de una comisi\u00f3n, la cual ser\u00eda encabezada por el secretario general de la secci\u00f3n, Rub\u00e9n N\u00fa\u00f1ez; sin embargo, se les neg\u00f3 el acceso a \"la casa del pueblo\u201d, como la llama el gobernador Gabino Cu\u00e9.\n",
        "=====\n",
        "error"
       ]
      },
      {
       "output_type": "stream",
       "stream": "stdout",
       "text": [
        "\n",
        "Sen-----0.9689 \n",
        "\n",
        "--------------True\n",
        "Ahora mismo Mar\u00eda Elena Lim\u00f3n atiende a los trabajadores inconformes en la plaza principal de san Pedro Tlaquepaque, se ha instalado una mesa de di\u00e1logo en el kiosko de la plaza.\n",
        "=====\n",
        "error"
       ]
      },
      {
       "output_type": "stream",
       "stream": "stdout",
       "text": [
        "\n",
        "Sen-----0.9689 \n",
        "\n",
        "--------------True\n",
        "Los manifestantes son funcionarios de las reparticiones del IPTA, de Capit\u00e1n Miranda, Chor\u00e9, Caacup\u00e9 y otras zonas.\n",
        "=====\n",
        "error"
       ]
      },
      {
       "output_type": "stream",
       "stream": "stdout",
       "text": [
        "\n",
        "Sen-----0.9688 \n",
        "\n",
        "Sen-----0.9686 \n",
        "\n",
        "Sen-----0.9686 \n",
        "\n",
        "Sen-----0.9686 \n",
        "\n",
        "--------------True\n",
        "Varios militantes y las Madres marcharon alrededor de la Pir\u00e1mide de Mayo.\n",
        "=====\n",
        "[u'Several militants and mothers marched around the pyramid of May.']"
       ]
      },
      {
       "output_type": "stream",
       "stream": "stdout",
       "text": [
        "\n",
        "\n",
        "\n",
        "Sen-----0.9680 \n",
        "\n",
        "--------------True\n",
        "Alrededor de las 8 horas un grupo de representantes de la organizaci\u00f3n de comerciantes Doroteo Arango y 21 de Diciembre cerr\u00f3 por tres horas el bulevar 5 de Mayo, frente al Paseo de San Francisco.\n",
        "=====\n",
        "[u'Around 8 hours a group of representatives from the Organization of merchants Doroteo Arango and 21 December closed for three hours the Boulevard on May 5, against the Paseo de San Francisco.']"
       ]
      },
      {
       "output_type": "stream",
       "stream": "stdout",
       "text": [
        "\n",
        "\n",
        "\n",
        "Sen-----0.9677 \n",
        "\n",
        "Sen-----0.9674 \n",
        "\n",
        "--------------True\n",
        "La protesta, que se realiz\u00f3 entre las 12 y las 13 de ayer, gener\u00f3 un caos de tr\u00e1nsito en la zona c\u00e9ntrica de la ciudad.\n",
        "=====\n",
        "[u\"The protest, which was held from 12-13 o'clock yesterday, generated a chaos of traffic in the downtown area of the city.\"]"
       ]
      },
      {
       "output_type": "stream",
       "stream": "stdout",
       "text": [
        "\n",
        "\n",
        "\n",
        "Sen-----0.9674 \n",
        "\n",
        "--------------True\n",
        "Las trabajadoras cesanteadas, que cumpl\u00edan tareas de limpieza en la universidad, apoyadas por ATE y empleados estatales, bloquearon el acceso a la sede de General Roca de la UNCo.\n",
        "=====\n",
        "[u'The working cesanteadas, serving jobs at the University, supported by ATE and State employees, blocked access to the headquarters of General Roca of the UNCo.']"
       ]
      },
      {
       "output_type": "stream",
       "stream": "stdout",
       "text": [
        "\n",
        "\n",
        "\n",
        "Sen-----0.9668 \n",
        "\n",
        "Sen-----0.9663 \n",
        "\n",
        "Sen-----0.9662 \n",
        "\n",
        "--------------True\n",
        "Los manifestantes se oponen a los operativos de desalojo que la Secretar\u00eda de Gobernaci\u00f3n del ayuntamiento capitalino lleva a cabo en el Centro Hist\u00f3rico para sacar a los ambulantes del primer cuadro de la ciudad.\n",
        "=====\n",
        "[u'The protesters oppose the operations of eviction that the Ministry of the Interior of the capital town hall takes place in the historic centre to remove street vendors from the first picture of the city.']"
       ]
      },
      {
       "output_type": "stream",
       "stream": "stdout",
       "text": [
        "\n",
        "\n",
        "\n",
        "Sen-----0.9661 \n",
        "\n",
        "Sen-----0.9659 \n",
        "\n",
        "--------------True\n",
        "Familiares de los reclusos informaron que custodios golpearon a los inconformes, a fin de poder someterlos.\n",
        "=====\n",
        "[u'Relatives of the inmates reported that guards beat the protesters, in order to be able to submit them.']"
       ]
      },
      {
       "output_type": "stream",
       "stream": "stdout",
       "text": [
        "\n",
        "\n",
        "\n",
        "Sen-----0.9657 \n",
        "\n",
        "--------------True\n",
        "Un grupo de pensionados y jubilados del gobierno acudieron a las instalaciones del Instituto, donde efectuaron una protesta para exigir una serie de demandas que tambi\u00e9n incluye el abasto de f\u00e1rmacos y mejorar la atenci\u00f3n m\u00e9dica.\n",
        "=====\n",
        "[u'A group of retirees and pensioners of the Government went to the premises of the Institute, where they carried out a protest to demand a series of demands, which also includes the supply of drugs and improve health care.']"
       ]
      },
      {
       "output_type": "stream",
       "stream": "stdout",
       "text": [
        "\n",
        "\n",
        "\n",
        "Sen-----0.9655 \n",
        "\n",
        "--------------True\n",
        "Los manifestantes comenzaron a empujar con fuerza y los polic\u00edas se cubr\u00edan con sus escudos transparentes.\n",
        "=====\n",
        "[u'The protesters started to push with force and police covered with their transparent shields.']"
       ]
      },
      {
       "output_type": "stream",
       "stream": "stdout",
       "text": [
        "\n",
        "\n",
        "\n",
        "Sen-----0.9653 \n",
        "\n",
        "--------------True\n",
        "| Foto por Leonardo Gonz\u00e1lez La medida podr\u00eda extenderse a otras fronteras seg\u00fan explicaron los manifestantes.\n",
        "=====\n",
        "error"
       ]
      },
      {
       "output_type": "stream",
       "stream": "stdout",
       "text": [
        "\n",
        "Sen-----0.9653 \n",
        "\n",
        "--------------True\n",
        "Entre los manifestantes se encuentra el ex alcalde Alfredo Barba Mariscal, quien busca formar parte de la comitiva que llegue a un acuerdo con la alcaldesa Mar\u00eda Elena Lim\u00f3n.\n",
        "=====\n",
        "error"
       ]
      },
      {
       "output_type": "stream",
       "stream": "stdout",
       "text": [
        "\n",
        "Sen-----0.9648 \n",
        "\n",
        "Sen-----0.9648 \n",
        "\n",
        "Sen-----0.9648 \n",
        "\n",
        "Sen-----0.9639 \n",
        "\n",
        "--------------True\n",
        "Un contingente aproximado de 250 habitantes en Arcelia, vigilados por elementos del Ej\u00e9rcito, marcharon este martes en exigencia de la aparici\u00f3n con vida de los m\u00e1s de 25 desaparecidos en dos eventos diferentes.\n",
        "=====\n",
        "[u'A contingent approximate 250 inhabitants in Arcelia, guarded by elements of the army, marched on Tuesday in demand for the onset of life from more than 25 disappeared in two different events.']"
       ]
      },
      {
       "output_type": "stream",
       "stream": "stdout",
       "text": [
        "\n",
        "\n",
        "\n",
        "Sen-----0.9636 \n",
        "\n",
        "--------------True\n",
        "Los alumnos pidieron al decano que revea su postura y \u00e9l les pidi\u00f3 elegir a cuatro candidatos con perfiles para director.\n",
        "=====\n",
        "[u'Students asked the Dean that it review its stance and he asked them to nominate four candidates with profiles for director.']"
       ]
      },
      {
       "output_type": "stream",
       "stream": "stdout",
       "text": [
        "\n",
        "\n",
        "\n",
        "Sen-----0.9635 \n",
        "\n",
        "Sen-----0.9632 \n",
        "\n",
        "--------------True\n",
        "Las personas llevaron pancartas donde denunciaban que s\u00f3lo reciben aire en sus grifos; al mismo tiempo que exigieron una soluci\u00f3n a corto plazo.\n",
        "=====\n",
        "[u'People held up signs where denounced that they receive only air on their faucets; at the same time that demanded a solution in the short term.']"
       ]
      },
      {
       "output_type": "stream",
       "stream": "stdout",
       "text": [
        "\n",
        "\n",
        "\n",
        "Sen-----0.9630 \n",
        "\n",
        "--------------True\n",
        "El Hospital de Cl\u00ednicas lleva cinco d\u00edas en paro.\n",
        "=====\n",
        "error"
       ]
      },
      {
       "output_type": "stream",
       "stream": "stdout",
       "text": [
        "\n",
        "Sen-----0.9629 \n",
        "\n",
        "Sen-----0.9626 \n",
        "\n",
        "--------------True\n",
        "Los manifestantes comenzaron la toma sin intenciones de levantar la protesta, hasta que representantes del gobierno se presenten y les solventen la falta de agua actual.\n",
        "=====\n",
        "[u'The protesters started the socket without intentions to raise the protest until government representatives present were and reallocating them the lack of current water.']"
       ]
      },
      {
       "output_type": "stream",
       "stream": "stdout",
       "text": [
        "\n",
        "\n",
        "\n",
        "Sen-----0.9625 \n",
        "\n",
        "Sen-----0.9623 \n",
        "\n",
        "--------------True\n",
        "A\u00f1adi\u00f3 que hoy har\u00e1n nuevamente una manifestaci\u00f3n pac\u00edfica y ma\u00f1ana ya tiene previsto llevar a cabo una marcha hasta el domicilio del Decano.\n",
        "=====\n",
        "[u'He added that today will be once again a peaceful demonstration and tomorrow already has planned to carry out a March to the home of the Dean.']"
       ]
      },
      {
       "output_type": "stream",
       "stream": "stdout",
       "text": [
        "\n",
        "\n",
        "\n",
        "Sen-----0.9622 \n",
        "\n",
        "--------------True\n",
        "Por su parte, el concejal de Ciudad del Este, Celso Miranda, alias Kelemb\u00fa, anunci\u00f3 que realizar\u00e1n una manifestaci\u00f3n este viernes frente a la plaza de la Paz, a las 16.00, y convocan a toda la ciudadan\u00eda a sumarse al repudio contra la titular de la comuna.\n",
        "=====\n",
        "[u'For its part, the Councillor of Ciudad del Este, Celso Miranda, alias Kelembu, announced that they will be holding a demonstration opposite the plaza de la Paz, at 16.00, Friday and call for all citizens to join the condemnation against the holder of the commune.']"
       ]
      },
      {
       "output_type": "stream",
       "stream": "stdout",
       "text": [
        "\n",
        "\n",
        "\n",
        "Sen-----0.9622 \n",
        "\n",
        "Sen-----0.9617 \n",
        "\n",
        "--------------True\n",
        "Desde anoche los transportistas decidieron atravesar los camiones porque tiene que esperar de dos a tres d\u00edas para realizar los tr\u00e1mites de migraci\u00f3n.\n",
        "=====\n",
        "[u'Last night carriers decided to cross trucks because you have to wait two to three days for the migration procedures.']"
       ]
      },
      {
       "output_type": "stream",
       "stream": "stdout",
       "text": [
        "\n",
        "\n",
        "\n",
        "Sen-----0.9616 \n",
        "\n",
        "Sen-----0.9613 \n",
        "\n",
        "Sen-----0.9612 \n",
        "\n",
        "Sen-----0.9612 \n",
        "\n",
        "--------------True\n",
        "Tambi\u00e9n aparecen entre las manifestantes la sobrina del intendente limpe\u00f1o e hija de Optaciano G\u00f3mez Verlangieri (PLRA), Natalia G\u00f3mez Aquino, actual funcionaria de la Secretar\u00eda del Ambiente (Seam).\n",
        "=====\n",
        "error"
       ]
      },
      {
       "output_type": "stream",
       "stream": "stdout",
       "text": [
        "\n",
        "Sen-----0.9607 \n",
        "\n",
        "Sen-----0.9607 \n",
        "\n",
        "Sen-----0.9605 \n",
        "\n",
        "Sen-----0.9601 \n",
        "\n",
        "Sen-----0.9599 \n",
        "\n",
        "Sen-----0.9599 \n",
        "\n",
        "--------------True\n",
        "Con pancartas y consignas hicieron sentir su afecto por las mascotas y todo animal y el rechazo a toda forma de maltrato.\n",
        "=====\n",
        "[u'With banners and slogans they feel his affection for pets and all animals and the rejection of any form of abuse.']"
       ]
      },
      {
       "output_type": "stream",
       "stream": "stdout",
       "text": [
        "\n",
        "\n",
        "\n",
        "Sen-----0.9598 \n",
        "\n",
        "--------------True\n",
        "Esta situaci\u00f3n se mantendr\u00e1 hasta el martes pr\u00f3ximo, mientras se estudia la posibilidad de trasladar la medida de protesta a la capital del pa\u00eds.\n",
        "=====\n",
        "[u'This situation will continue until next Tuesday, while we study the possibility of transferring the measurement of protest to the capital of the country.']"
       ]
      },
      {
       "output_type": "stream",
       "stream": "stdout",
       "text": [
        "\n",
        "\n",
        "\n",
        "Sen-----0.9597 \n",
        "\n",
        "Sen-----0.9596 \n",
        "\n",
        "--------------True\n",
        "Indic\u00f3 que desde que se iniciaron las movilizaciones de los secundarios apoya a sus hijos, quienes estudian en colegios p\u00fablicos.\n",
        "=====\n",
        "[u'He said that since the mobilizations of the side supports to their children, who study in public schools.']"
       ]
      },
      {
       "output_type": "stream",
       "stream": "stdout",
       "text": [
        "\n",
        "\n",
        "\n",
        "Sen-----0.9594 \n",
        "\n",
        "--------------True\n",
        "La movilizaci\u00f3n, que comenz\u00f3 en el Argentino Hotel de Piri\u00e1polis en la ma\u00f1ana y finaliz\u00f3 esta tarde con un acto de cierre frente al Hotel Conrad, donde manifestaron su repudio a la renovaci\u00f3n del contrato por parte del gobierno a la empresa chilena Enjoy para la explotaci\u00f3n del hotel.\n",
        "=====\n",
        "[u'The protest, which began at the Hotel Argentino of Piriapolis in the morning and ended this afternoon with a closing ceremony opposite the Conrad Hotel, where expressed their repudiation to the renewal of the contract by the Government to the Chilean company Enjoy for the exploitation of the hotel.']"
       ]
      },
      {
       "output_type": "stream",
       "stream": "stdout",
       "text": [
        "\n",
        "\n",
        "\n",
        "Sen-----0.9593 \n",
        "\n",
        "--------------True\n",
        "Ese d\u00eda, justamente un viernes 23 de octubre, un numeroso grupo de estudiantes marcharon hasta el Palacio de los L\u00f3pez en reclamo de la defensa de la soberan\u00eda nacional.\n",
        "=====\n",
        "[u'That day, a Friday, October 23, a large group of students marched to the Palace of the Lopez claim the defence of national sovereignty.']"
       ]
      },
      {
       "output_type": "stream",
       "stream": "stdout",
       "text": [
        "\n",
        "\n",
        "\n",
        "Sen-----0.9593 \n",
        "\n",
        "--------------True\n",
        "Cientos de vendedores informales bloquearon parte de la carretera Los Chorros, la tarde del lunes, como protesta por el desalojo del viernes pasado de la 2a.\n",
        "=====\n",
        "[u'Hundreds of informal vendors blocked part of the road Los Chorros, the afternoon of Monday, as a protest against the eviction of the last of the 2nd Friday.']"
       ]
      },
      {
       "output_type": "stream",
       "stream": "stdout",
       "text": [
        "\n",
        "\n",
        "\n",
        "Sen-----0.9593 \n",
        "\n",
        "Sen-----0.9591 \n",
        "\n",
        "--------------True\n",
        "Durante esta jornada, los funcionarios del Registro Civil entregaron v\u00eda correo electr\u00f3nico una contrapropuesta al Ejecutivo.\n",
        "=====\n",
        "[u'During this day, officials of the Civil Registry delivered via e-mail a counter-proposal to the Executive.']"
       ]
      },
      {
       "output_type": "stream",
       "stream": "stdout",
       "text": [
        "\n",
        "\n",
        "\n",
        "Sen-----0.9591 \n",
        "\n",
        "--------------True\n",
        "Los residentes de la Urbanizaci\u00f3n El Sauce, en Sonzacate, no cuentan con el servicio domiciliar de agua potable desde hace tres meses porque, seg\u00fan los mismos afectados, el pozo de donde se abastecen se sec\u00f3.\n",
        "=====\n",
        "[u'Residents of the urbanization El Sauce, in Sonzacate, do not have the service household drinking water for three months because, according to the same affected, the well where we supply dried up.']"
       ]
      },
      {
       "output_type": "stream",
       "stream": "stdout",
       "text": [
        "\n",
        "\n",
        "\n",
        "Sen-----0.9590 \n",
        "\n",
        "--------------True\n",
        "Antes de comenzar la movilizaci\u00f3n, los dirigentes de la Confech se pronunciaron respecto al proyecto de ley corta de gratuidad que se encuentra en tramitaci\u00f3n dentro del Congreso; situaci\u00f3n sobre la que Marta Matalama, presidenta de la Feusach, lament\u00f3 que \"a esta hora a\u00fan no se sepa las condiciones y qu\u00e9 universidades tendr\u00e1n el beneficio\".\n",
        "=====\n",
        "[u'Prior to mobilization, the leaders of the Confech were about Bill short of gratuity which is pending in Congress; situation that Marta Matalama, President of the Feusach, lamented that \"at this time still not known conditions and which universities will have the benefit\".']"
       ]
      },
      {
       "output_type": "stream",
       "stream": "stdout",
       "text": [
        "\n",
        "\n",
        "\n",
        "Sen-----0.9586 \n",
        "\n",
        "Sen-----0.9584 \n",
        "\n",
        "Sen-----0.9583 \n",
        "\n",
        "--------------True\n",
        "Indic\u00f3 que funcionarios de la Polic\u00eda Estadal y Guardia Nacional, llegaron al sitio de la protesta a exigirles que abrieran el paso de veh\u00edculos, porque se trataba de una v\u00eda importante.\n",
        "=====\n",
        "[u'He said that officials of the State police and national guard, arrived in the site of the protest to require them to open the passage of vehicles, because it was an important way.']"
       ]
      },
      {
       "output_type": "stream",
       "stream": "stdout",
       "text": [
        "\n",
        "\n",
        "\n",
        "Sen-----0.9582 \n",
        "\n",
        "--------------True\n",
        "Adem\u00e1s del gobernador de San Pedro, Vicente Rodr\u00edguez, estuvieron en la contraprotesta ayer alrededor de las 17:00, el intendente de San Pedro del Ycuamandyy\u00fa Juan Carlos Rodr\u00edguez (ANR), el hijo del citado jefe departamental y candidato a la intendencia municipal (Gustavo Rodr\u00edguez), el presidente de la seccional colorada y funcionario del IPS Cornelio Blanco, junto a un grupo de afiliados, adultos mayores y ni\u00f1os arreados de la zona rural.\n",
        "=====\n",
        "error"
       ]
      },
      {
       "output_type": "stream",
       "stream": "stdout",
       "text": [
        "\n",
        "Sen-----0.9574 \n",
        "\n",
        "Sen-----0.9573 \n",
        "\n",
        "--------------True\n",
        "M\u00e1s de un centenar de integrantes de la Coordinadora Estatal de Transportistas Independientes de Guerrero (Cetig) se manifestaron durante la ma\u00f1ana en la glorieta de La Diana, en la franja tur\u00edstica de Acapulco, para exigir que cese el hostigamiento de autoridades estatales en su contra.\n",
        "=====\n",
        "[u'More than one hundred members of the State Coordinator of independent carriers of Guerrero (Cetig) demonstrated during the morning at the roundabout of La Diana, in the tourist strip of Acapulco, to demand end to harassment by State authorities against.']"
       ]
      },
      {
       "output_type": "stream",
       "stream": "stdout",
       "text": [
        "\n",
        "\n",
        "\n",
        "Sen-----0.9573 \n",
        "\n",
        "--------------True\n",
        "El recorrido solicitado es entre Plaza de Armas, por Ahumada, hasta la Alameda.\n",
        "=====\n",
        "[u'The requested tour is from Plaza de Armas, by Ahumada, to the Mall.']"
       ]
      },
      {
       "output_type": "stream",
       "stream": "stdout",
       "text": [
        "\n",
        "\n",
        "\n",
        "Sen-----0.9572 \n",
        "\n",
        "Sen-----0.9572 \n",
        "\n",
        "--------------True\n",
        "Los manifestantes denuncian irregularidades en todos los \u00e1mbitos, que supuestamente se verifican en estas filiales.\n",
        "=====\n",
        "[u'Protesters denounce irregularities in all areas, that supposedly occur in these subsidiaries.']"
       ]
      },
      {
       "output_type": "stream",
       "stream": "stdout",
       "text": [
        "\n",
        "\n",
        "\n",
        "Sen-----0.9569 \n",
        "\n",
        "--------------True\n",
        "Los inconformes advirtieron que liberar\u00e1n el edificio cuando les paguen.\n",
        "=====\n",
        "[u'The protesters warned that they will release the building when they pay them.']"
       ]
      },
      {
       "output_type": "stream",
       "stream": "stdout",
       "text": [
        "\n",
        "\n",
        "\n",
        "Sen-----0.9569 \n",
        "\n",
        "Sen-----0.9567 \n",
        "\n",
        "--------------True\n",
        "Ruiz D\u00edaz asegur\u00f3 que al clarear completamente, los choferes no adheridos a la movilizaci\u00f3n ya salieron a prestar servicio.\n",
        "=====\n",
        "[u'Ruiz Diaz said that to fully lighten, not attached to the mobilization drivers already came out to serve.']"
       ]
      },
      {
       "output_type": "stream",
       "stream": "stdout",
       "text": [
        "\n",
        "\n",
        "\n",
        "Sen-----0.9561 \n",
        "\n",
        "--------------True\n",
        "A dos hombres que protestaban afuera del penal de Chilpancingo, en reclamo del traslado de sus familiares, les asesinaron a balazos frente a los polic\u00edas que resguardan el lugar.\n",
        "=====\n",
        "[u'Murdered by two men who were protesting outside of the prison of Chilpancingo, in the relocation of his family claim, shot against the police officers who protect the place.']"
       ]
      },
      {
       "output_type": "stream",
       "stream": "stdout",
       "text": [
        "\n",
        "\n",
        "\n",
        "Sen-----0.9560 \n",
        "\n",
        "Sen-----0.9558 \n",
        "\n",
        "Sen-----0.9558 \n",
        "\n",
        "--------------True\n",
        "Sin embargo, Valencia asegur\u00f3 que la principal apuesta de la movilizaci\u00f3n es crear una Asamblea Nacional Constituyente que sea hecha por los ciudadanos, y no la planteada ni por la guerrilla ni por el expresidente \u00c1lvaro Uribe.\n",
        "=====\n",
        "error"
       ]
      },
      {
       "output_type": "stream",
       "stream": "stdout",
       "text": [
        "\n",
        "Sen-----0.9558 \n",
        "\n",
        "--------------True\n",
        "Ayer, desafiando la pertinaz lluvia, una treintena de indigna- dos vecinos se congregaron en la explanada del predio muni- cipal para exigir que el ex intendente de la ciudad sea envia- do a la c\u00e1rcel, de acuerdo a las voces de los manifestantes durante el micr\u00f3fono abierto \u2013que tuvo esta protesta ciudadana\u2013 durante poco m\u00e1s de 3 horas, donde cada uno dio un testimonio de indignaci\u00f3n.\n",
        "=====\n",
        "[u'Yesterday, defying the persistent rain, unworthy thirty - two neighbors gathered on the Esplanade of the premise muni-cipal to demand that the former Mayor of the city is send - do to jail, according to the voices of the protesters during the open mic - which took this protest citizen - for about 3 hours, where each one gave a testimony of indignation.']"
       ]
      },
      {
       "output_type": "stream",
       "stream": "stdout",
       "text": [
        "\n",
        "\n",
        "\n",
        "Sen-----0.9557 \n",
        "\n",
        "--------------True\n",
        "| Foto por Marlon Hern\u00e1ndez Vendedores de puestos informales bloquearon la autopista los Chorros por el desalojo de sus puestos.\n",
        "=====\n",
        "[u'| Photo by Marlon Hernandez sellers of informal jobs blocked the motorway the Jets by eviction from their jobs.']"
       ]
      },
      {
       "output_type": "stream",
       "stream": "stdout",
       "text": [
        "\n",
        "\n",
        "\n",
        "Sen-----0.9557 \n",
        "\n",
        "Sen-----0.9556 \n",
        "\n",
        "Sen-----0.9553 \n",
        "\n",
        "--------------True\n",
        "El dirigente coment\u00f3 que la movilizaci\u00f3n comenzar\u00e1 a las 7:00 en distintos lugares del pa\u00eds.\n",
        "=====\n",
        "[u'The leader said that the mobilization will begin at 7:00 in different parts of the country.']"
       ]
      },
      {
       "output_type": "stream",
       "stream": "stdout",
       "text": [
        "\n",
        "\n",
        "\n",
        "Sen-----0.9551 \n",
        "\n",
        "--------------True\n",
        "Durante la protesta realizada en la Facultad y de forma pac\u00edfica, nos encontramos con funcionarios y egresados contratados que en todo momento intentaron amedrentar e incentivar a que la manifestaci\u00f3n se violente, indic\u00f3 Guedes.\n",
        "=====\n",
        "[u'During the protest held in the Faculty and in a peaceful manner, we have officers and hired graduates who constantly tried to frighten and encourage that the demonstration was violent, said Guedes.']"
       ]
      },
      {
       "output_type": "stream",
       "stream": "stdout",
       "text": [
        "\n",
        "\n",
        "\n",
        "Sen-----0.9550 \n",
        "\n",
        "--------------True\n",
        "Agrupados en la marcha iban transportistas, ambulantes y locatarios, encabezados por el Consejo de Juristas, quienes marcharon hasta llegar al Palacio Municipal, y luego seguir con su protesta hasta el z\u00f3calo porte\u00f1o.\n",
        "=====\n",
        "[u'Grouped in the March were carriers, street vendors and tenants, led by the Council of Jurists, who marched to get to City Hall, and then continue with their protest until Buenos Aires socket.']"
       ]
      },
      {
       "output_type": "stream",
       "stream": "stdout",
       "text": [
        "\n",
        "\n",
        "\n",
        "Sen-----0.9550 \n",
        "\n",
        "--------------True\n",
        "En Michoac\u00e1n, m\u00e1s de 10 mil maestros de las 22 regiones del estado, agremiados a la Coordinadora Nacional de Trabajadores de la Educaci\u00f3n (CNTE) marcharon en Morelia para rechazar la evaluaci\u00f3n educativa.\n",
        "=====\n",
        "[u'In Michoacan, more than 10 thousand teachers from 22 regions of the State, Guild members to the national coordinator of education workers (CNTE) marched in Morelia to reject the educational evaluation.']"
       ]
      },
      {
       "output_type": "stream",
       "stream": "stdout",
       "text": [
        "\n",
        "\n",
        "\n",
        "Sen-----0.9550 \n",
        "\n",
        "Sen-----0.9548 \n",
        "\n",
        "--------------True\n",
        "Los manifestantes, que llevan 49 d\u00edas de resistencia, bloquearon la entrada a los funcionarios.\n",
        "=====\n",
        "[u'The demonstrators, carrying 49 days of resistance, blocked the entrance to the officials.']"
       ]
      },
      {
       "output_type": "stream",
       "stream": "stdout",
       "text": [
        "\n",
        "\n",
        "\n",
        "Sen-----0.9548 \n",
        "\n",
        "--------------True\n",
        "A un mes de la Marcha Nacional de Colegios P\u00fablicos y Privados (MNCPP), el 18 de setiembre pasado, Esp\u00ednola comenta que siguen movilizados esperando que se cumplan los pedidos.\n",
        "=====\n",
        "[u'A month of the national March of public colleges and private (MNCPP), on 18 September last, Espinola says still mobilized waiting that orders are met.']"
       ]
      },
      {
       "output_type": "stream",
       "stream": "stdout",
       "text": [
        "\n",
        "\n",
        "\n",
        "Sen-----0.9547 \n",
        "\n",
        "--------------True\n",
        "Los lambare\u00f1os exigen que tanto la Contralor\u00eda como la Fiscal\u00eda intervengan las oficinas administrativas de la Comuna, ante las numerosas irregularidades y evidencias de malversaci\u00f3n de los fondos p\u00fablicos que salieron a luz.\n",
        "=====\n",
        "[u\"The lambarenos require both the Comptroller's Office and the Prosecutor's Office to intervene the administrative offices of the commune, to the numerous irregularities and evidence of embezzlement of public funds that came to light.\"]"
       ]
      },
      {
       "output_type": "stream",
       "stream": "stdout",
       "text": [
        "\n",
        "\n",
        "\n",
        "Sen-----0.9547 \n",
        "\n",
        "Sen-----0.9546 \n",
        "\n",
        "--------------True\n",
        "En Altamira un grupo de profesores de los cerca de 200 que se sometieron a los ex\u00e1menes de evaluaci\u00f3n, presentaron bajo protesta ya que dicen estar en contra de la Reforma Educativa.\n",
        "=====\n",
        "[u'Altamira in a group of teachers of the close to 200 who were subjected to the tests of evaluation, presented under protest since they say they are against education reform.']"
       ]
      },
      {
       "output_type": "stream",
       "stream": "stdout",
       "text": [
        "\n",
        "\n",
        "\n",
        "Sen-----0.9546 \n",
        "\n",
        "--------------True\n",
        "Por pedido de los universitarios, la polic\u00eda no permiti\u00f3 el acceso a dicha sede al gobernador de San Pedro ni a su grupo, quienes desde afuera gritaban buscando provocar, sin \u00e9xito, la reacci\u00f3n de los alumnos, que siguen con su manifestaci\u00f3n dentro de la universidad.\n",
        "=====\n",
        "[u'At the request of the University, police did not allow access to this seat the Governor of San Pedro and his group, who, from the outside, shouted looking for cause, without success, the reaction of the students, still with its manifestation within the University.']"
       ]
      },
      {
       "output_type": "stream",
       "stream": "stdout",
       "text": [
        "\n",
        "\n",
        "\n",
        "Sen-----0.9544 \n",
        "\n",
        "--------------True\n",
        "Afuera del penal de Chilpancingo protestaban los familiares de los 22 presos que ayer sacaron y trasladaron a Sinaloa.\n",
        "=====\n",
        "[u'Outside of Chilpancingo prison were protesting relatives of the 22 prisoners who yesterday pulled and moved to Sinaloa.']"
       ]
      },
      {
       "output_type": "stream",
       "stream": "stdout",
       "text": [
        "\n",
        "\n",
        "\n",
        "Sen-----0.9544 \n",
        "\n",
        "--------------True\n",
        "\"Ya no a protestar, vamos a vender en la calle\".\n",
        "=====\n",
        "[u'\"Already not to protest, we will sell on the street\".']"
       ]
      },
      {
       "output_type": "stream",
       "stream": "stdout",
       "text": [
        "\n",
        "\n",
        "\n",
        "Sen-----0.9541 \n",
        "\n",
        "--------------True\n",
        "En los \u00faltimos d\u00edas, otra protesta gremial hab\u00eda afectado a cuatro l\u00edneas de colectivos de la zona Sur del GBA, en reclamo de salarios atrasados.\n",
        "=====\n",
        "[u'In recent days, another trade union protest had affected four bus lines in the area south of the GBA, in demand of wage arrears.']"
       ]
      },
      {
       "output_type": "stream",
       "stream": "stdout",
       "text": [
        "\n",
        "\n",
        "\n",
        "Sen-----0.9540 \n",
        "\n",
        "Sen-----0.9540 \n",
        "\n",
        "Sen-----0.9538 \n",
        "\n",
        "--------------True\n",
        "Una manifestaci\u00f3n sali\u00f3 del Parque de Los Estudiantes o Jovita, frente al colegio Santa Librada, y se concentr\u00f3 frente al Centro Administrativa Municipal (CAM).\n",
        "=====\n",
        "[u'A demonstration left Park students or Jovita, opposite the Santa Librada College, and focused on Municipal administrative centre (CAM).']"
       ]
      },
      {
       "output_type": "stream",
       "stream": "stdout",
       "text": [
        "\n",
        "\n",
        "\n",
        "Sen-----0.9535 \n",
        "\n",
        "--------------True\n",
        "#AlertaApure grave situaci\u00f3n en protesta pac\u00edfica.\n",
        "=====\n",
        "[]\n",
        "\n",
        "\n",
        "Sen-----0.9535 \n",
        "\n",
        "Sen-----0.9532 \n",
        "\n",
        "--------------True\n",
        "ALERTA: hoy mi\u00e9rcoles y ma\u00f1ana jueves, PARO NACIONAL en servicios p\u00fablicos y ministerios.\n",
        "=====\n",
        "[u'Alert: Wednesday and Thursday, national strike in public services and ministries.']"
       ]
      },
      {
       "output_type": "stream",
       "stream": "stdout",
       "text": [
        "\n",
        "\n",
        "\n",
        "Sen-----0.9530 \n",
        "\n",
        "--------------True\n",
        "Hay choferes que resultaron heridos inclusive por no apoyar la movilizaci\u00f3n y salir a trabajar, seg\u00fan denunci\u00f3.\n",
        "=====\n",
        "[u'There are drivers who were injured even by not supporting the mobilization and going out to work, as reported.']"
       ]
      },
      {
       "output_type": "stream",
       "stream": "stdout",
       "text": [
        "\n",
        "\n",
        "\n",
        "Sen-----0.9529 \n",
        "\n",
        "Sen-----0.9526 \n",
        "\n",
        "--------------True\n",
        "Integrantes de diferentes colectivos se manifestaron frente a la representaci\u00f3n del estado de Veracruz en el Distrito Federal en contra de la reforma \"antiaborto\", que aprobaron los diputados locales el pasado jueves 21.\n",
        "=====\n",
        "[u'Members of different groups demonstrated against the representation of the State of Veracruz in Mexico City against the reform \"anti-abortion\", local Deputies approved last Thursday 21st.']"
       ]
      },
      {
       "output_type": "stream",
       "stream": "stdout",
       "text": [
        "\n",
        "\n",
        "\n",
        "Sen-----0.9520 \n",
        "\n",
        "Sen-----0.9519 \n",
        "\n",
        "--------------True\n",
        "Los estudiantes anunciaron que continuar\u00e1n con la medida de fuerza y explicaron que se turnar\u00e1n entre los universitarios que realizan el paro para no dejar libres los accesos.\n",
        "=====\n",
        "[u'The students announced that they will continue with the measurement of force and explained that they take turns between the University carried out the strike to keep free access.']"
       ]
      },
      {
       "output_type": "stream",
       "stream": "stdout",
       "text": [
        "\n",
        "\n",
        "\n",
        "Sen-----0.9518 \n",
        "\n",
        "Sen-----0.9510 \n",
        "\n",
        "--------------True\n",
        "Frente al Centro de Bachillerato Tecnol\u00f3gico, Industrial y de Servicios (Cebetis) 08 de Pachuca inconformes se manifestaban contra la evaluaci\u00f3n cuando llegaron unos 40 sujetos armados con palos y piedras, quienes los golpearon.\n",
        "=====\n",
        "[u'Across the center of technological high school, industry and services (Colegialas) Pachuca 08 protesters demonstrated against the evaluation when arrived about 40 individuals armed with sticks and stones, who beat them.']"
       ]
      },
      {
       "output_type": "stream",
       "stream": "stdout",
       "text": [
        "\n",
        "\n",
        "\n",
        "Sen-----0.9510 \n",
        "\n",
        "Sen-----0.9510 \n",
        "\n",
        "--------------True\n",
        "La protesta en la plaza que se encuentra frente a la casa de \u00d3scar Galeano, ante la cual se ubicaron m\u00e1s de tres patrulleras de la Polic\u00eda Nacional para evitar enfrentamientos.\n",
        "=====\n",
        "[u'The protest in the square which is located opposite the House of Oscar Galeano, which placed more than three patrol boats of the national police to prevent clashes.']"
       ]
      },
      {
       "output_type": "stream",
       "stream": "stdout",
       "text": [
        "\n",
        "\n",
        "\n",
        "Sen-----0.9505 \n",
        "\n",
        "Sen-----0.9501 \n",
        "\n",
        "Sen-----0.9499 \n",
        "\n",
        "--------------True\n",
        "As\u00ed como en la Universidad Nacional de Asunci\u00f3n (UNA), la movilizaci\u00f3n en la UNE comenz\u00f3 por el grosero planillerismo, nepotismo, concentraci\u00f3n de rubros docentes en un grupo privilegiado, entre otros.\n",
        "=====\n",
        "error"
       ]
      },
      {
       "output_type": "stream",
       "stream": "stdout",
       "text": [
        "\n",
        "Sen-----0.9499 \n",
        "\n",
        "--------------True\n",
        "El paro tambi\u00e9n fue realizado en apoyo a los trabajadores de La Pasiva de Maldonado, quienes reclaman el pago de los salarios de mayo y junio, adem\u00e1s del medio aguinaldo correspondiente al primer semestre del a\u00f1o.\n",
        "=====\n",
        "[u'Unemployment was also made in support of the workers of the passive of Maldonado, who demand the payment of wages for may and June, as well as the average bonus corresponding to the first half of the year.']"
       ]
      },
      {
       "output_type": "stream",
       "stream": "stdout",
       "text": [
        "\n",
        "\n",
        "\n",
        "Sen-----0.9498 \n",
        "\n",
        "--------------True\n",
        "\"Realizamos tres cortes por la ma\u00f1ana y tres por la tarde, durante 20 minutos cada uno\", explic\u00f3 Wladimiro Dubatouka, uno de los que encabezan la protesta en este lugar.\n",
        "=====\n",
        "[u'\"We make three cuts in the morning and three in the afternoon, 20 minutes each\", explained Wladimiro Dubatouka, one of those who lead the protest here.']"
       ]
      },
      {
       "output_type": "stream",
       "stream": "stdout",
       "text": [
        "\n",
        "\n",
        "\n",
        "Sen-----0.9495 \n",
        "\n",
        "Sen-----0.9492 \n",
        "\n",
        "Sen-----0.9492 \n",
        "\n",
        "--------------True\n",
        "Encabezados por su dirigente Juan Mendoza Tapia, cerca de un centenar de trabajadores demandaron tambi\u00e9n que las autoridades pongan alto a las extorsiones, los secuestros y los asesinatos.\n",
        "=====\n",
        "[u'Headed by its leader Juan Mendoza Tapia, about hundreds of workers also demanded that authorities put high to extortions, kidnappings and murders.']"
       ]
      },
      {
       "output_type": "stream",
       "stream": "stdout",
       "text": [
        "\n",
        "\n",
        "\n",
        "Sen-----0.9492 \n",
        "\n",
        "--------------True\n",
        "\u201cLas manifestaci\u00f3n en rechazo a las enmiendas que se realiza en las inmediaciones de la asamblea nacional fue violentamente reprimida por la Polic\u00eda anti disturbios con la consigna de detener dirigentes y referentes\u201d, dijo la informaci\u00f3n, al tiempo que demand\u00f3 la liberaci\u00f3n del grupo.\n",
        "=====\n",
        "[u'\"The demonstration in rejection of the amendments carried out in the vicinity of the National Assembly was violently suppressed by the police anti riot with the slogan stop leaders and referents\", he said the information, at the time that demanded the release of the group.']"
       ]
      },
      {
       "output_type": "stream",
       "stream": "stdout",
       "text": [
        "\n",
        "\n",
        "\n",
        "Sen-----0.9491 \n",
        "\n",
        "Sen-----0.9487 \n",
        "\n",
        "Sen-----0.9486 \n",
        "\n",
        "--------------True\n",
        "Ofreci\u00f3 un discurso a los trabajadores de Cantv en Miraflores, a prop\u00f3sito de la marcha que realizaron desde la sede de la empresa en la Avenida Libertador, para rechazar las supuestas pretensiones de algunos sectores de privatizarla.\n",
        "=====\n",
        "[u'He gave a speech to workers of Cantv in Miraflores, with regard to the progress made from the headquarters of the company in the Avenida Libertador, to reject the alleged claims of some sectors of privatizing it.']"
       ]
      },
      {
       "output_type": "stream",
       "stream": "stdout",
       "text": [
        "\n",
        "\n",
        "\n"
       ]
      }
     ],
     "prompt_number": 46
    },
    {
     "cell_type": "code",
     "collapsed": false,
     "input": [
      "print \"A tono con las complicaciones propias de fin de a\u00f1o, el tr\u00e1nsito no ser\u00e1 un factor menor para la jornada de hoy. Se esperan varias manifestaciones con cortes de calles durante la ma\u00f1ana. Adem\u00e1s, el ramal Retiro Su\u00e1rez del ferrocarril Mitre est\u00e1 interrumpido luego de que un guarda sufriera una agresi\u00f3n.\\n\\nDesde las 8 manifestantes cortan el tr\u00e1nsito en Callao y Corrientes. Son empleados gr\u00e1ficos de la ex Donnelley y WorldColor que reclaman la \\\"expropiaci\u00f3n inmediata\\\" de ambas f\u00e1bricas a favor de las cooperativas que conformaron los trabajadores.\\n\\nLa protesta, resguardada por un importante operativo de la Polic\u00eda Federal, comenz\u00f3 pasadas las 8 y deja liberado un solo carril al tr\u00e1nsito que se dirige por la avenida Corrientes en direcci\u00f3n al Obelisco. Los manifestantes adelantaron que tras la concentraci\u00f3n concurrir\u00e1n a la Asamblea General de la Federaci\u00f3n Gr\u00e1fica Bonaerense en la avenida Paseo Col\u00f3n 731 para \\\"exigir un plan de lucha de todos los gr\u00e1ficos para enfrentar el ajuste del nuevo gobierno de Macri\\\".\\n\\nA las 10 habr\u00e1 una protesta de maestros de varios gremios bajo la consigna \\\"basta de ajuste sobre la educaci\u00f3n p\u00fablica, absoluci\u00f3n a los docentes y amioneros de Tierra del Fuego\\\" que se concentrar\u00e1n en Sarmiento 745, donde se encuentra la Casa de Tierra del Fuego, y desde ah\u00ed se movilizar\u00e1n hasta Plaza de Mayo, donde realizar\u00e1n un acto de cierre.\\n\\nA las 11, trabajadores del informativo de Radio Rivadavia realizar\u00e1n un corte en Arenales y Pueyrred\u00f3n. Y a las 12 est\u00e1 previsto otro corte en Alem al 600. A esa hora tambi\u00e9n habr\u00e1 una movilizaci\u00f3n a Plaza de Mayo en la denominada 6\u00b0 Marcha Nacional de la Marihuana, para pedir la despenalizaci\u00f3n del uso, tenencia y cultivo del cannabis.\\n\\nPara las 14 est\u00e1 programada una movilizaci\u00f3n de docentes a la sede de la Legislatura porte\u00f1a. Son docentes porte\u00f1os de Ademys que reclamar\u00e1n al macrismo que no elimine las elecciones en las Juntas de Clasificaci\u00f3n Docente.\\n\\nAdem\u00e1s, entre las 15 y las 20 Madres de Plaza de Mayo l\u00ednea fundadora realizar\u00e1 una marcha en la misma plaza para pedir la continuidad de los juicios de lesa humanidad.\\n\\nEn tanto, los ramales Jos\u00e9 Le\u00f3n Su\u00e1rez y Bartolom\u00e9 Mitre del ferrocarril Mitre, que unen la terminal de Retiro con los partidos bonaerenses de San Mart\u00edn y Vicente L\u00f3pez, respectivamente, se encuentran interrumpidos esta ma\u00f1ana por medidas de fuerza gremiales como consecuencia de la agresi\u00f3n a un guarda, confirmaron fuentes de la operadora Trenes Argentinos.\\n\\n\\n\\n\\\"Desde las 7 no est\u00e1n saliendo formaciones desde las cabeceras como consecuencia de un paro determinado por los trabajadores ante la agresi\u00f3n a un guarda, pero s\u00ed continuaron andando los que estaban en camino\\\", inform\u00f3 a T\u00e9lam una vocera de la firma.\\n\\n\\n\\nDesde la operadora se\u00f1alaron que \\\"se encuentran dialogando pero no se puede confirmar un horario de reapertura del servicio\\\". El ramal Tigre no se encuentra afectado por la medida.\\n\\n\\n\\n\""
     ],
     "language": "python",
     "metadata": {},
     "outputs": [
      {
       "output_type": "stream",
       "stream": "stdout",
       "text": [
        "A tono con las complicaciones propias de fin de a\u00f1o, el tr\u00e1nsito no ser\u00e1 un factor menor para la jornada de hoy. Se esperan varias manifestaciones con cortes de calles durante la ma\u00f1ana. Adem\u00e1s, el ramal Retiro Su\u00e1rez del ferrocarril Mitre est\u00e1 interrumpido luego de que un guarda sufriera una agresi\u00f3n.\n",
        "\n",
        "Desde las 8 manifestantes cortan el tr\u00e1nsito en Callao y Corrientes. Son empleados gr\u00e1ficos de la ex Donnelley y WorldColor que reclaman la \"expropiaci\u00f3n inmediata\" de ambas f\u00e1bricas a favor de las cooperativas que conformaron los trabajadores.\n",
        "\n",
        "La protesta, resguardada por un importante operativo de la Polic\u00eda Federal, comenz\u00f3 pasadas las 8 y deja liberado un solo carril al tr\u00e1nsito que se dirige por la avenida Corrientes en direcci\u00f3n al Obelisco. Los manifestantes adelantaron que tras la concentraci\u00f3n concurrir\u00e1n a la Asamblea General de la Federaci\u00f3n Gr\u00e1fica Bonaerense en la avenida Paseo Col\u00f3n 731 para \"exigir un plan de lucha de todos los gr\u00e1ficos para enfrentar el ajuste del nuevo gobierno de Macri\".\n",
        "\n",
        "A las 10 habr\u00e1 una protesta de maestros de varios gremios bajo la consigna \"basta de ajuste sobre la educaci\u00f3n p\u00fablica, absoluci\u00f3n a los docentes y amioneros de Tierra del Fuego\" que se concentrar\u00e1n en Sarmiento 745, donde se encuentra la Casa de Tierra del Fuego, y desde ah\u00ed se movilizar\u00e1n hasta Plaza de Mayo, donde realizar\u00e1n un acto de cierre.\n",
        "\n",
        "A las 11, trabajadores del informativo de Radio Rivadavia realizar\u00e1n un corte en Arenales y Pueyrred\u00f3n. Y a las 12 est\u00e1 previsto otro corte en Alem al 600. A esa hora tambi\u00e9n habr\u00e1 una movilizaci\u00f3n a Plaza de Mayo en la denominada 6\u00b0 Marcha Nacional de la Marihuana, para pedir la despenalizaci\u00f3n del uso, tenencia y cultivo del cannabis.\n",
        "\n",
        "Para las 14 est\u00e1 programada una movilizaci\u00f3n de docentes a la sede de la Legislatura porte\u00f1a. Son docentes porte\u00f1os de Ademys que reclamar\u00e1n al macrismo que no elimine las elecciones en las Juntas de Clasificaci\u00f3n Docente.\n",
        "\n",
        "Adem\u00e1s, entre las 15 y las 20 Madres de Plaza de Mayo l\u00ednea fundadora realizar\u00e1 una marcha en la misma plaza para pedir la continuidad de los juicios de lesa humanidad.\n",
        "\n",
        "En tanto, los ramales Jos\u00e9 Le\u00f3n Su\u00e1rez y Bartolom\u00e9 Mitre del ferrocarril Mitre, que unen la terminal de Retiro con los partidos bonaerenses de San Mart\u00edn y Vicente L\u00f3pez, respectivamente, se encuentran interrumpidos esta ma\u00f1ana por medidas de fuerza gremiales como consecuencia de la agresi\u00f3n a un guarda, confirmaron fuentes de la operadora Trenes Argentinos.\n",
        "\n",
        "\n",
        "\n",
        "\"Desde las 7 no est\u00e1n saliendo formaciones desde las cabeceras como consecuencia de un paro determinado por los trabajadores ante la agresi\u00f3n a un guarda, pero s\u00ed continuaron andando los que estaban en camino\", inform\u00f3 a T\u00e9lam una vocera de la firma.\n",
        "\n",
        "\n",
        "\n",
        "Desde la operadora se\u00f1alaron que \"se encuentran dialogando pero no se puede confirmar un horario de reapertura del servicio\". El ramal Tigre no se encuentra afectado por la medida.\n",
        "\n",
        "\n",
        "\n",
        "\n"
       ]
      }
     ],
     "prompt_number": 65
    },
    {
     "cell_type": "code",
     "collapsed": false,
     "input": [
      "\n",
      "token = getToken();\n",
      "for sen in sorted_sens[-200:-100]:\n",
      "    print 'Sen-----%0.4f \\n' % sen[1]\n",
      "    try:\n",
      "        print getText(sen[0].encode('utf-8'))\n",
      "    except:\n",
      "        print 'error'\n",
      "        continue\n",
      "    print '\\n'"
     ],
     "language": "python",
     "metadata": {},
     "outputs": [
      {
       "output_type": "stream",
       "stream": "stdout",
       "text": [
        "Sen-----0.2119 \n",
        "\n",
        "[u\"'It's not about us, but it removes rights to children'\"]"
       ]
      },
      {
       "output_type": "stream",
       "stream": "stdout",
       "text": [
        "\n",
        "\n",
        "\n",
        "Sen-----0.2070 \n",
        "\n",
        "[u'She believes that her work is important for society because it is through the love and care that start children in education.']"
       ]
      },
      {
       "output_type": "stream",
       "stream": "stdout",
       "text": [
        "\n",
        "\n",
        "\n",
        "Sen-----0.2033 \n",
        "\n",
        "[u'\"The immediate implementation of the rule, which unknown administrative and operational factors that have subjects bound to tax, motivate a chaos tributary, keeping the material impossibility of compliance, distorting the objective of the same\", referred to the document. The imposition of VAT cooperatives produced a massive rejection in the sector which went out to the streets to mobilize expressing its repudiation on the grounds that affect most humble people who deposit their money. Cooperators continue with measures of protest until you review the Act.']"
       ]
      },
      {
       "output_type": "stream",
       "stream": "stdout",
       "text": [
        "\n",
        "\n",
        "\n",
        "Sen-----0.1991 \n",
        "\n",
        "[u'22 policemen were injured and four horses were hurt protesters \"tried to attack the police with the fences that separated them\".']"
       ]
      },
      {
       "output_type": "stream",
       "stream": "stdout",
       "text": [
        "\n",
        "\n",
        "\n",
        "Sen-----0.1968 \n",
        "\n",
        "[u'Ensure that students have awakened and demand their leaders \"to respond with facts and not with speeches and empty words like all the rulers who have gone\".']"
       ]
      },
      {
       "output_type": "stream",
       "stream": "stdout",
       "text": [
        "\n",
        "\n",
        "\n",
        "Sen-----0.1940 \n",
        "\n",
        "[u'Numerous contingent of street vendors protest at the Palacio Municipal de Guadalajara against the new municipal standards.']"
       ]
      },
      {
       "output_type": "stream",
       "stream": "stdout",
       "text": [
        "\n",
        "\n",
        "\n",
        "Sen-----0.1935 \n",
        "\n",
        "[u'Producers marched across the country on Tuesday rejecting the rise in rates and had warned that do not have a response in the short term would come back to protest routes.']"
       ]
      },
      {
       "output_type": "stream",
       "stream": "stdout",
       "text": [
        "\n",
        "\n",
        "\n",
        "Sen-----0.1899 \n",
        "\n",
        "[u'The headquarters is a historic building, national heritage, which operate several offices of the Codicen, as the sectoral direction for youth and adults.']"
       ]
      },
      {
       "output_type": "stream",
       "stream": "stdout",
       "text": [
        "\n",
        "\n",
        "\n",
        "Sen-----0.1895 \n",
        "\n",
        "[u'pic.twitter.com/MaFSkuRiHT - UNICOM (@MI_UNICOM) October 2, 2015']"
       ]
      },
      {
       "output_type": "stream",
       "stream": "stdout",
       "text": [
        "\n",
        "\n",
        "\n",
        "Sen-----0.1792 \n",
        "\n",
        "[u'In the early hours of Friday the headquarters of the Central Executive Council of ANEP (Codicen) located on the Black River Street, dawned with remains of could have been an explosion.']"
       ]
      },
      {
       "output_type": "stream",
       "stream": "stdout",
       "text": [
        "\n",
        "\n",
        "\n",
        "Sen-----0.1780 \n",
        "\n",
        "[u'Bled some guardians, also protesters, friends and family that went with them.']"
       ]
      },
      {
       "output_type": "stream",
       "stream": "stdout",
       "text": [
        "\n",
        "\n",
        "\n",
        "Sen-----0.1775 \n",
        "\n",
        "error"
       ]
      },
      {
       "output_type": "stream",
       "stream": "stdout",
       "text": [
        "\n",
        "Sen-----0.1763 \n",
        "\n",
        "[u'Today we made a symbolic walk and next Tuesday we will convene a general strike,\"said the Secretary of the Union of officers, employees and workers of the Public Ministry, Odilon Turo.']"
       ]
      },
      {
       "output_type": "stream",
       "stream": "stdout",
       "text": [
        "\n",
        "\n",
        "\n",
        "Sen-----0.1754 \n",
        "\n",
        "[u'Until he set up camp in the noses of Morales, on 14 December last year, the Tupac controlled 150 cooperatives.']"
       ]
      },
      {
       "output_type": "stream",
       "stream": "stdout",
       "text": [
        "\n",
        "\n",
        "\n",
        "Sen-----0.1751 \n",
        "\n",
        "[u'We seized because we were tired and we fell.']"
       ]
      },
      {
       "output_type": "stream",
       "stream": "stdout",
       "text": [
        "\n",
        "\n",
        "\n",
        "Sen-----0.1745 \n",
        "\n",
        "[u'GM workers in mining tailings working without security, denounces Union in Taxco']"
       ]
      },
      {
       "output_type": "stream",
       "stream": "stdout",
       "text": [
        "\n",
        "\n",
        "\n",
        "Sen-----0.1700 \n",
        "\n",
        "[u'According to the Ceteg, magisterial assessment was not conducted.']"
       ]
      },
      {
       "output_type": "stream",
       "stream": "stdout",
       "text": [
        "\n",
        "\n",
        "\n",
        "Sen-----0.1680 \n",
        "\n",
        "[u'In Bank of mining waste, several workers carry only boots, a helmet and a vest to remove the pull.']"
       ]
      },
      {
       "output_type": "stream",
       "stream": "stdout",
       "text": [
        "\n",
        "\n",
        "\n",
        "Sen-----0.1679 \n",
        "\n",
        "error"
       ]
      },
      {
       "output_type": "stream",
       "stream": "stdout",
       "text": [
        "\n",
        "Sen-----0.1641 \n",
        "\n",
        "[u'A contingent of the public school teachers March through the streets and is planted to protest against \"punitive evaluation\", sent by the new laws emerging from the Reformation to third party articles and seventy-three of the Constitution.']"
       ]
      },
      {
       "output_type": "stream",
       "stream": "stdout",
       "text": [
        "\n",
        "\n",
        "\n",
        "Sen-----0.1639 \n",
        "\n",
        "[u'Veron died on Monday morning.']"
       ]
      },
      {
       "output_type": "stream",
       "stream": "stdout",
       "text": [
        "\n",
        "\n",
        "\n",
        "Sen-----0.1612 \n",
        "\n",
        "[u'Line 49 protesters intend to move to the crucified to give evidence, but police were not allowed to leave claiming exposure to danger.']"
       ]
      },
      {
       "output_type": "stream",
       "stream": "stdout",
       "text": [
        "\n",
        "\n",
        "\n",
        "Sen-----0.1612 \n",
        "\n",
        "[u'One of the coordinators of the event, the Professor Dolly Ortiz, said that governance donated t-shirts that use volunteers; In addition, it has the support of farmers who gave food for those working at the event, which will culminate tomorrow, Saturday at 20:00.']"
       ]
      },
      {
       "output_type": "stream",
       "stream": "stdout",
       "text": [
        "\n",
        "\n",
        "\n",
        "Sen-----0.1599 \n",
        "\n",
        "[u'Relatives of Veron, on the other hand, returned to take responsibility of death to the repression executed on September 24.']"
       ]
      },
      {
       "output_type": "stream",
       "stream": "stdout",
       "text": [
        "\n",
        "\n",
        "\n",
        "Sen-----0.1596 \n",
        "\n",
        "[u'In a short time, Hall has established itself as top dog of the network of social organizations (ROS), comprising hundreds of unemployed and cooperative groups in addition to the Tupac.']"
       ]
      },
      {
       "output_type": "stream",
       "stream": "stdout",
       "text": [
        "\n",
        "\n",
        "\n",
        "Sen-----0.1591 \n",
        "\n",
        "[u'Estrada Lara said that this part of the insecurity was noted by environmental experts, State of Semaren and local officials, as well as by the core of the Advisory Council for sustainable development of Taxco that Friday were inspecting the work.']"
       ]
      },
      {
       "output_type": "stream",
       "stream": "stdout",
       "text": [
        "\n",
        "\n",
        "\n",
        "Sen-----0.1585 \n",
        "\n",
        "[u'Let tents are multiply metres from his office and during the first few days was limited to questioning the protest by the media.']"
       ]
      },
      {
       "output_type": "stream",
       "stream": "stdout",
       "text": [
        "\n",
        "\n",
        "\n",
        "Sen-----0.1581 \n",
        "\n",
        "[u'But those who violated a March which had been peaceful, were what one calls nacoanarquistas.']"
       ]
      },
      {
       "output_type": "stream",
       "stream": "stdout",
       "text": [
        "\n",
        "\n",
        "\n",
        "Sen-----0.1578 \n",
        "\n",
        "[u'\"Excessive violence\" agents were authorized to implement the progressive use of force, to avoid one confrontation with the protesters who were in other sectors of the Assembly.']"
       ]
      },
      {
       "output_type": "stream",
       "stream": "stdout",
       "text": [
        "\n",
        "\n",
        "\n",
        "Sen-----0.1576 \n",
        "\n",
        "[u'This once on Tuesday a group of small producers of milk of Tarqui and Victoria the Portete made a protest on the Panamericana Sur, where indicated that industrialists do not consume their production, that they want to pay less per liter and that there is overproduction by the importation of powdered milk.']"
       ]
      },
      {
       "output_type": "stream",
       "stream": "stdout",
       "text": [
        "\n",
        "\n",
        "\n",
        "Sen-----0.1548 \n",
        "\n",
        "[u'The police threw many gases, anger or stoned, and ultimately ran the boys.']"
       ]
      },
      {
       "output_type": "stream",
       "stream": "stdout",
       "text": [
        "\n",
        "\n",
        "\n",
        "Sen-----0.1532 \n",
        "\n",
        "[u'They reiterated to not agree with the work \"the people did not ask for and wants to impose public force\".']"
       ]
      },
      {
       "output_type": "stream",
       "stream": "stdout",
       "text": [
        "\n",
        "\n",
        "\n",
        "Sen-----0.1454 \n",
        "\n",
        "[u'\"Between 1991 and 2000 Codelco removed between 1 and 8 million tonnes of ice a year,\" declared a statement delivered Wednesday by the NGOs, expressed their displeasure and protest through dances performed Tuesday against the corporate building of the mining company in the center of Santiago.']"
       ]
      },
      {
       "output_type": "stream",
       "stream": "stdout",
       "text": [
        "\n",
        "\n",
        "\n",
        "Sen-----0.1438 \n",
        "\n",
        "[u'Relatives of the two sergeants ensured that they are humble and hard-working.']"
       ]
      },
      {
       "output_type": "stream",
       "stream": "stdout",
       "text": [
        "\n",
        "\n",
        "\n",
        "Sen-----0.1435 \n",
        "\n",
        "[u'The contingent is crowd, sometimes just numerous.']"
       ]
      },
      {
       "output_type": "stream",
       "stream": "stdout",
       "text": [
        "\n",
        "\n",
        "\n",
        "Sen-----0.1410 \n",
        "\n",
        "[u'The doctors went on strike Wednesday 4 November that in principle would extend for 15 days, but managed to deactivate it the 12 Thursday, after reaching an agreement with the management of the Faculty of medicine, through the mediation of the Ministry of labour.']"
       ]
      },
      {
       "output_type": "stream",
       "stream": "stdout",
       "text": [
        "\n",
        "\n",
        "\n",
        "Sen-----0.1378 \n",
        "\n",
        "[u'\"Since Friday we have been making demonstration and will increase the hours.']"
       ]
      },
      {
       "output_type": "stream",
       "stream": "stdout",
       "text": [
        "\n",
        "\n",
        "\n",
        "Sen-----0.1345 \n",
        "\n",
        "[u'Pizzurno pointed out that economical by stoppage loss there is no since the institution exempts 70% the services provided to users.']"
       ]
      },
      {
       "output_type": "stream",
       "stream": "stdout",
       "text": [
        "\n",
        "\n",
        "\n",
        "Sen-----0.1309 \n",
        "\n",
        "[u'With that I think that 10 days would be regulating everything\", said.']"
       ]
      },
      {
       "output_type": "stream",
       "stream": "stdout",
       "text": [
        "\n",
        "\n",
        "\n",
        "Sen-----0.1302 \n",
        "\n",
        "[u'From this place, the tenants claimed that the writing with the order to leave the enclosure does not have legislation for this, and that in addition not were notified that should make leaving the place.']"
       ]
      },
      {
       "output_type": "stream",
       "stream": "stdout",
       "text": [
        "\n",
        "\n",
        "\n",
        "Sen-----0.1298 \n",
        "\n",
        "[u'The complaint is by what happened on December 12, 2011, in Chilpancingo, Guerrero, when federal, State and municipality police officers mobilized to evict a demonstration that performed the preservice on the Autopista del Sol.']"
       ]
      },
      {
       "output_type": "stream",
       "stream": "stdout",
       "text": [
        "\n",
        "\n",
        "\n",
        "Sen-----0.1279 \n",
        "\n",
        "error"
       ]
      },
      {
       "output_type": "stream",
       "stream": "stdout",
       "text": [
        "\n",
        "Sen-----0.1279 \n",
        "\n",
        "[u'The leader of the Trade Union described as illegal discounts against the masters of the Trade Union, \"because their actions have them using their right to free expression\".']"
       ]
      },
      {
       "output_type": "stream",
       "stream": "stdout",
       "text": [
        "\n",
        "\n",
        "\n",
        "Sen-----0.1270 \n",
        "\n",
        "[u'Students of the Seine, Asonal and ICBF officials protested in the main streets of the city calling for a leveling wage n for the Judicial Branch.']"
       ]
      },
      {
       "output_type": "stream",
       "stream": "stdout",
       "text": [
        "\n",
        "\n",
        "\n",
        "Sen-----0.1268 \n",
        "\n",
        "[u'At the moment there is agreement to unlock the strike, signed by 750 physicians of the Hospital, of the total of about 1,300.']"
       ]
      },
      {
       "output_type": "stream",
       "stream": "stdout",
       "text": [
        "\n",
        "\n",
        "\n",
        "Sen-----0.1231 \n",
        "\n",
        "error"
       ]
      },
      {
       "output_type": "stream",
       "stream": "stdout",
       "text": [
        "\n",
        "Sen-----0.1215 \n",
        "\n",
        "[u'Arrived the kids to class,\"shouted the President of the employer of the cab, Oscar Dourado.']"
       ]
      },
      {
       "output_type": "stream",
       "stream": "stdout",
       "text": [
        "\n",
        "\n",
        "\n",
        "Sen-----0.1208 \n",
        "\n",
        "[u'Students were moved to the premises of the Attorney General of Justice of the State, located in Morelia.']"
       ]
      },
      {
       "output_type": "stream",
       "stream": "stdout",
       "text": [
        "\n",
        "\n",
        "\n",
        "Sen-----0.1179 \n",
        "\n",
        "[u'This \"should be outraged and as Chileans, we must demand that the company that claims to be a pride not destroy glaciers during their mining operations,\" said the ecologist.']"
       ]
      },
      {
       "output_type": "stream",
       "stream": "stdout",
       "text": [
        "\n",
        "\n",
        "\n",
        "Sen-----0.1172 \n",
        "\n",
        "[u'After students at the school Ysaty are placed to the demonstrations in favour of better education, the authorities of the institution decided to suspend all extracurricular activities outside of the educational facility, among these the intercollegiate.']"
       ]
      },
      {
       "output_type": "stream",
       "stream": "stdout",
       "text": [
        "\n",
        "\n",
        "\n",
        "Sen-----0.1165 \n",
        "\n",
        "[u'Mobilization will be held for 48 hours, \"while waiting for measures\" to help the fruit sector, he said.']"
       ]
      },
      {
       "output_type": "stream",
       "stream": "stdout",
       "text": [
        "\n",
        "\n",
        "\n",
        "Sen-----0.1160 \n",
        "\n",
        "[u'IEEPA reiterates that there will be discounts to truancy']"
       ]
      },
      {
       "output_type": "stream",
       "stream": "stdout",
       "text": [
        "\n",
        "\n",
        "\n",
        "Sen-----0.1146 \n",
        "\n",
        "[u'Sources close to the company told the country that identified several women arrived with the intention of training, and then turned and went.']"
       ]
      },
      {
       "output_type": "stream",
       "stream": "stdout",
       "text": [
        "\n",
        "\n",
        "\n",
        "Sen-----0.1138 \n",
        "\n",
        "[u'The hall they entered dozens of taximetristas.']"
       ]
      },
      {
       "output_type": "stream",
       "stream": "stdout",
       "text": [
        "\n",
        "\n",
        "\n",
        "Sen-----0.1138 \n",
        "\n",
        "[u'However, in communication with Lucia Benitez, the third course of the average student, the student denied this fact and even said that several times she and colleagues were threatened with this measure if they participated in the sit, that was finally fulfilled yesterday by Apuril.']"
       ]
      },
      {
       "output_type": "stream",
       "stream": "stdout",
       "text": [
        "\n",
        "\n",
        "\n",
        "Sen-----0.1133 \n",
        "\n",
        "error"
       ]
      },
      {
       "output_type": "stream",
       "stream": "stdout",
       "text": [
        "\n",
        "Sen-----0.1124 \n",
        "\n",
        "[u'In an interview, police command said that the security strategy yielded fruit and there were no major alterations to public order or damage to third parties, except for reports of complaints from motorists who criticized the semiparalizacion of Madero, Ventura bridge, solidarity and avenues Beltway South, where magisterial contingent marched.']"
       ]
      },
      {
       "output_type": "stream",
       "stream": "stdout",
       "text": [
        "\n",
        "\n",
        "\n",
        "Sen-----0.1116 \n",
        "\n",
        "[u'They may intervene, but not our conscience and our struggle\", warned Diaz together with hold that\"any decision will be with the officials of the country\". Thus the representative of workers who met 29 days on strike, pointed out that today will gather at Assembly \"to decide the future of this movement\".']"
       ]
      },
      {
       "output_type": "stream",
       "stream": "stdout",
       "text": [
        "\n",
        "\n",
        "\n",
        "Sen-----0.1115 \n",
        "\n",
        "[u'Robles said that he is already ready the second wage discount for educational paristas and informed that already it has discounted 50 thousand 83 thousand teachers salary for absences.']"
       ]
      },
      {
       "output_type": "stream",
       "stream": "stdout",
       "text": [
        "\n",
        "\n",
        "\n",
        "Sen-----0.1077 \n",
        "\n",
        "[u'Rodolfo Pisa, who had the idea of bringing together all the inhabitants of the village to protest against mining, has lost its cultivation of strawberries by the dust that rise mine trucks.']"
       ]
      },
      {
       "output_type": "stream",
       "stream": "stdout",
       "text": [
        "\n",
        "\n",
        "\n",
        "Sen-----0.1057 \n",
        "\n",
        "[u'With posters and banners in favor of ayoreo them totobiegosode, activists surrounded the front door of the SEAM with a long Ribbon and wait for an hour until finally they were received by officials of the institution.']"
       ]
      },
      {
       "output_type": "stream",
       "stream": "stdout",
       "text": [
        "\n",
        "\n",
        "\n",
        "Sen-----0.1048 \n",
        "\n",
        "[u'11 military troop processed concentrated their weapons of equipment and uniformed, the morning of July 24 in the floral clock, to then do a demonstration towards the Assembly to demand a bonus of $600 on the grounds that their lives are in danger as well as the police.']"
       ]
      },
      {
       "output_type": "stream",
       "stream": "stdout",
       "text": [
        "\n",
        "\n",
        "\n",
        "Sen-----0.1045 \n",
        "\n",
        "[u'The meeting was held from the Miraflores Palace']"
       ]
      },
      {
       "output_type": "stream",
       "stream": "stdout",
       "text": [
        "\n",
        "\n",
        "\n",
        "Sen-----0.1027 \n",
        "\n",
        "[u'Not for nothing: the followers of the star will meet today, at 23.30, to demand their release.']"
       ]
      },
      {
       "output_type": "stream",
       "stream": "stdout",
       "text": [
        "\n",
        "\n",
        "\n",
        "Sen-----0.1022 \n",
        "\n",
        "[u'A group of soldiers concentrated the morning of July 24 to demand a $600 bonus similar to given the cops as... | Do photo by file 14 military that they are arrested in the special Brigade of military security, by demanding a bonus of 600 d? lares similar to that received the polic? as, considering that also? n they expose their lives to the high? criminality indexes']"
       ]
      },
      {
       "output_type": "stream",
       "stream": "stdout",
       "text": [
        "\n",
        "\n",
        "\n",
        "Sen-----0.1005 \n",
        "\n",
        "[u'By the imprisonment of its fourth leader, the Popular Union of street vendors (UPVA) October 28 marched against the Attorney General of Justice (PGJ) and House Aguayo to demand the release of their prisoners.']"
       ]
      },
      {
       "output_type": "stream",
       "stream": "stdout",
       "text": [
        "\n",
        "\n",
        "\n",
        "Sen-----0.0961 \n",
        "\n",
        "error"
       ]
      },
      {
       "output_type": "stream",
       "stream": "stdout",
       "text": [
        "\n",
        "Sen-----0.0951 \n",
        "\n",
        "[u'A tent was installed in the sidewalk and next to a barbecue.']"
       ]
      },
      {
       "output_type": "stream",
       "stream": "stdout",
       "text": [
        "\n",
        "\n",
        "\n",
        "Sen-----0.0950 \n",
        "\n",
        "error"
       ]
      },
      {
       "output_type": "stream",
       "stream": "stdout",
       "text": [
        "\n",
        "Sen-----0.0948 \n",
        "\n",
        "[u'Today there will be a March in Tulua organized by relatives of the soldier Perez, who earlier Friday was 24 years old.']"
       ]
      },
      {
       "output_type": "stream",
       "stream": "stdout",
       "text": [
        "\n",
        "\n",
        "\n",
        "Sen-----0.0935 \n",
        "\n",
        "[u'Today, in fact, from 23.30, they held a March in the Obelisk order \"by the very rapid release of Mo!']"
       ]
      },
      {
       "output_type": "stream",
       "stream": "stdout",
       "text": [
        "\n",
        "\n",
        "\n",
        "Sen-----0.0919 \n",
        "\n",
        "[u'Also mentioned the progress made Monday by workers, who started from the headquarters of the Public Ministry, Park ideally, and whose end point was the Palacio de Miraflores, in defense of great mission housing Venezuela and the great mission District new Tricolor.']"
       ]
      },
      {
       "output_type": "stream",
       "stream": "stdout",
       "text": [
        "\n",
        "\n",
        "\n",
        "Sen-----0.0913 \n",
        "\n",
        "[u'Ayala argued that there is no legal provision that sustains the motives and the infringements which is directed downward.']"
       ]
      },
      {
       "output_type": "stream",
       "stream": "stdout",
       "text": [
        "\n",
        "\n",
        "\n",
        "Sen-----0.0904 \n",
        "\n",
        "[u'The communities of ayoreo, who have several years to denounce this situation, they have also seen on several occasions the presence of several hundred kilometers of fences, operators and tractor introduced into their lands by another company, the firm Itapoti, according to GAT.']"
       ]
      },
      {
       "output_type": "stream",
       "stream": "stdout",
       "text": [
        "\n",
        "\n",
        "\n",
        "Sen-----0.0897 \n",
        "\n",
        "[u'The occupation was carried out by officers uniform with green t-shirts.']"
       ]
      },
      {
       "output_type": "stream",
       "stream": "stdout",
       "text": [
        "\n",
        "\n",
        "\n",
        "Sen-----0.0853 \n",
        "\n",
        "[u'When harvest time came, most of their crops had died.']"
       ]
      },
      {
       "output_type": "stream",
       "stream": "stdout",
       "text": [
        "\n",
        "\n",
        "\n",
        "Sen-----0.0835 \n",
        "\n",
        "error"
       ]
      },
      {
       "output_type": "stream",
       "stream": "stdout",
       "text": [
        "\n",
        "Sen-----0.0819 \n",
        "\n",
        "[u'\"We are going to be paid directly to the cooperative members and beneficiaries, there is bancarizarlos decision.']"
       ]
      },
      {
       "output_type": "stream",
       "stream": "stdout",
       "text": [
        "\n",
        "\n",
        "\n",
        "Sen-----0.0816 \n",
        "\n",
        "[u'After weeks of struggle, where the municipality had given the refusal to the mobilization to end in the square, they didn\\'t provide the public baths and the ambulance service and asked the police to halt the passage of the cart drivers coming in motorcade an hour that starts everything, finally people could manifest itself in peace and tell : \"no to arrests for possession of face\".']"
       ]
      },
      {
       "output_type": "stream",
       "stream": "stdout",
       "text": [
        "\n",
        "\n",
        "\n",
        "Sen-----0.0793 \n",
        "\n",
        "[u'A group of protesters met against the facilities of Ecopetrol, in Barrancabermeja, ask the national Government to speed up the modernization of the plant refinery which will allow a growth of 22 percent in the use of oil derivatives to prevent the mass dismissal of employees.']"
       ]
      },
      {
       "output_type": "stream",
       "stream": "stdout",
       "text": [
        "\n",
        "\n",
        "\n",
        "Sen-----0.0787 \n",
        "\n",
        "[u'Members of the national coordinator of education workers (CNTE) will today be a mobilization of the Angel of independence to the facilities of the Secretariat of public education (SEP), in the historic centre, on demand of a roundtable dialogue.']"
       ]
      },
      {
       "output_type": "stream",
       "stream": "stdout",
       "text": [
        "\n",
        "\n",
        "\n",
        "Sen-----0.0784 \n",
        "\n",
        "error"
       ]
      },
      {
       "output_type": "stream",
       "stream": "stdout",
       "text": [
        "\n",
        "Sen-----0.0773 \n",
        "\n",
        "[u'Meanwhile, a conflict between the Polic a and the students of the Universidad Distrital Francisco Jos de Caldas (Headquarters Macarena) blocked Avenida Circunvalar.']"
       ]
      },
      {
       "output_type": "stream",
       "stream": "stdout",
       "text": [
        "\n",
        "\n",
        "\n",
        "Sen-----0.0757 \n",
        "\n",
        "[u'The transfer of the gendarmes was to control the routes\", said the President, who yesterday visited the injured policemen in Salta.']"
       ]
      },
      {
       "output_type": "stream",
       "stream": "stdout",
       "text": [
        "\n",
        "\n",
        "\n",
        "Sen-----0.0741 \n",
        "\n",
        "[u'Meanwhile a group of teachers of section 22 of the national coordinator of education workers (CNTE) manifested itself in front of a hotel in the area west of the city of Oaxaca to demand the withdrawal of federal forces and demand the release of detained colleagues, as well as protest against the teacher evaluation process, unless you report damage or injuries, or confrontation, since in the place he had hosted various elements of the national gendarmerie.']"
       ]
      },
      {
       "output_type": "stream",
       "stream": "stdout",
       "text": [
        "\n",
        "\n",
        "\n",
        "Sen-----0.0731 \n",
        "\n",
        "[u'Fruit producers return to routes to demand help']"
       ]
      },
      {
       "output_type": "stream",
       "stream": "stdout",
       "text": [
        "\n",
        "\n",
        "\n",
        "Sen-----0.0722 \n",
        "\n",
        "[u'Anti-bullfighting protest a group of activists are pronounced against the bullfights of bulls that will be developed in the square of Belmonte, since this December 2, by Quito parties.']"
       ]
      },
      {
       "output_type": "stream",
       "stream": "stdout",
       "text": [
        "\n",
        "\n",
        "\n",
        "Sen-----0.0720 \n",
        "\n",
        "[u'Shouting \"your police state left you front sea\", all the protesters asked: \"in the hands of zero tolerance, the executioner of the cordoban people (J.M.']"
       ]
      },
      {
       "output_type": "stream",
       "stream": "stdout",
       "text": [
        "\n",
        "\n",
        "\n",
        "Sen-----0.0703 \n",
        "\n",
        "[u'Teachers have rallied in the streets, have thrown eggs against the headquarters of the Palace of Government to require the installation of a political and legal table both with the Oaxaca as federal Government to secure the release of detained 4 teachers last weekend accused of committing federal crimes and who federal judges already dictated the car of detention and to demand the cancellation of orders arrest warrants against their leaders RID.']"
       ]
      },
      {
       "output_type": "stream",
       "stream": "stdout",
       "text": [
        "\n",
        "\n",
        "\n",
        "Sen-----0.0701 \n",
        "\n",
        "[u'Family members protested outside the municipality, where officials pledged to solve the problem.']"
       ]
      },
      {
       "output_type": "stream",
       "stream": "stdout",
       "text": [
        "\n",
        "\n",
        "\n",
        "Sen-----0.0676 \n",
        "\n",
        "[u'Sunday 27 December 2015, p.']"
       ]
      },
      {
       "output_type": "stream",
       "stream": "stdout",
       "text": [
        "\n",
        "\n",
        "\n",
        "Sen-----0.0675 \n",
        "\n",
        "error"
       ]
      },
      {
       "output_type": "stream",
       "stream": "stdout",
       "text": [
        "\n",
        "Sen-----0.0672 \n",
        "\n",
        "[u'Friday, October 2, 2015, p.']"
       ]
      },
      {
       "output_type": "stream",
       "stream": "stdout",
       "text": [
        "\n",
        "\n",
        "\n",
        "Sen-----0.0664 \n",
        "\n",
        "error"
       ]
      },
      {
       "output_type": "stream",
       "stream": "stdout",
       "text": [
        "\n",
        "Sen-----0.0664 \n",
        "\n",
        "[u'Nearly 1,000 people took part in the call organized by the Catholic and Evangelical churches.']"
       ]
      },
      {
       "output_type": "stream",
       "stream": "stdout",
       "text": [
        "\n",
        "\n",
        "\n",
        "Sen-----0.0661 \n",
        "\n",
        "[u'Activists are pronounced against the bullfights that will develop in Belmonte square from morning till 20:00, for the holidays of Quito.']"
       ]
      },
      {
       "output_type": "stream",
       "stream": "stdout",
       "text": [
        "\n",
        "\n",
        "\n",
        "Sen-----0.0656 \n",
        "\n",
        "[u'This afternoon, relatives of Miriam Patricia Almanza Cruz, held a March \"By the security in Vallarta\", which will depart at 19:00 hours at the hotel Sheraton.']"
       ]
      },
      {
       "output_type": "stream",
       "stream": "stdout",
       "text": [
        "\n",
        "\n",
        "\n",
        "Sen-----0.0656 \n",
        "\n",
        "[u'Freight forwarders closed borders this month to protest the arrears that have been common throughout the year.']"
       ]
      },
      {
       "output_type": "stream",
       "stream": "stdout",
       "text": [
        "\n",
        "\n",
        "\n",
        "Sen-----0.0638 \n",
        "\n",
        "[u'This is just one case of so many others, represented in the pictures, flags, t-shirts and pamphlet that family members had marked all the crimes of the State.']"
       ]
      },
      {
       "output_type": "stream",
       "stream": "stdout",
       "text": [
        "\n",
        "\n",
        "\n",
        "Sen-----0.0624 \n",
        "\n",
        "[u\"Valenzuela was one of the first speakers at the March for life, which began at the Plaza Uruguaya and ended on one side of the Plaza Juan E. O'Leary.\"]"
       ]
      },
      {
       "output_type": "stream",
       "stream": "stdout",
       "text": [
        "\n",
        "\n",
        "\n"
       ]
      }
     ],
     "prompt_number": 36
    },
    {
     "cell_type": "code",
     "collapsed": false,
     "input": [
      "getText(docs[6][4].encode(\"utf-8\"))"
     ],
     "language": "python",
     "metadata": {},
     "outputs": [
      {
       "metadata": {},
       "output_type": "pyout",
       "prompt_number": 26,
       "text": [
        "[u'There the dissident teachers showed banners and threw slogans against educational policies and public security.']"
       ]
      }
     ],
     "prompt_number": 26
    },
    {
     "cell_type": "code",
     "collapsed": false,
     "input": [
      "# load the protest articles\n",
      "full_docs_file = \"../data/new_multi_label/0/event_test.txt.tok\"\n",
      "full_docs = [json.loads(l) for l in open(full_docs_file)]"
     ],
     "language": "python",
     "metadata": {},
     "outputs": [],
     "prompt_number": 38
    },
    {
     "cell_type": "code",
     "collapsed": false,
     "input": [
      "token = getToken()\n",
      "for doc in full_docs[-10:]:\n",
      "    for sen in doc:\n",
      "        try:\n",
      "            print getText(sen.encode('utf-8'))\n",
      "        except:\n",
      "            print \"Error\"\n",
      "    print \"\\n\""
     ],
     "language": "python",
     "metadata": {},
     "outputs": [
      {
       "output_type": "stream",
       "stream": "stdout",
       "text": [
        "[u'Tax agents made a demonstration against a cut of G.']\n",
        "[u'23,000 million expected in the General expenditure budget of the coming year.']"
       ]
      },
      {
       "output_type": "stream",
       "stream": "stdout",
       "text": [
        "\n",
        "[u'One of the claims was made in Lambare.']"
       ]
      },
      {
       "output_type": "stream",
       "stream": "stdout",
       "text": [
        "\n",
        "Error"
       ]
      },
      {
       "output_type": "stream",
       "stream": "stdout",
       "text": [
        "\n",
        "[u'Starting tomorrow and in the days following, the demonstration will be from 10:00.']"
       ]
      },
      {
       "output_type": "stream",
       "stream": "stdout",
       "text": [
        "\n",
        "[u\"Workers of the public prosecutor's Office argue that this planned cut will do its work is scorns.\"]"
       ]
      },
      {
       "output_type": "stream",
       "stream": "stdout",
       "text": [
        "\n",
        "[u\"Gonzalez explained that the most affected will be those hired, that are most in the public prosecutor's Office.\"]"
       ]
      },
      {
       "output_type": "stream",
       "stream": "stdout",
       "text": [
        "\n",
        "[u'The cut was approved in the Chamber of Deputies.']"
       ]
      },
      {
       "output_type": "stream",
       "stream": "stdout",
       "text": [
        "\n",
        "[u'The cut made in the lower House will cause enormous damage to the Public Ministry, especially for the operational part and investigations to be carried later prosecutors across the country, said Odilon Turo, Secretary general of the Union of officers, employees and workers of the Ministry public of the Paraguay.']"
       ]
      },
      {
       "output_type": "stream",
       "stream": "stdout",
       "text": [
        "\n",
        "[u'Officials of the Public Ministry of the interior of the country also raised their voice of protest during the morning of Monday, rejecting the institution budget cuts, as lawmakers claim.']"
       ]
      },
      {
       "output_type": "stream",
       "stream": "stdout",
       "text": [
        "\n",
        "Error"
       ]
      },
      {
       "output_type": "stream",
       "stream": "stdout",
       "text": [
        "\n",
        "Error"
       ]
      },
      {
       "output_type": "stream",
       "stream": "stdout",
       "text": [
        "\n",
        "\n",
        "\n",
        "[u'Residents of the La Angostura area blocked the circulation on the second floor of the peripheral northbound, at the height of San Antonio, which caused road chaos in the area.']"
       ]
      },
      {
       "output_type": "stream",
       "stream": "stdout",
       "text": [
        "\n",
        "[u'Protesters arrived road dealer aboard buses, which also blocked circulation.']"
       ]
      },
      {
       "output_type": "stream",
       "stream": "stdout",
       "text": [
        "\n",
        "[u'The protesters, with cards in hands, demanded the Government of the Federal District services such as water, drainage, lighting, among others.']"
       ]
      },
      {
       "output_type": "stream",
       "stream": "stdout",
       "text": [
        "\n",
        "[u'Due to road congestion, elements of the Secretariat of public security of the Federal District came to the area to talk with the protesters so they lifted the blockade.']"
       ]
      },
      {
       "output_type": "stream",
       "stream": "stdout",
       "text": [
        "\n",
        "[u'It was after 19:00 hours when the blockade was withdrawn and circulation began to return to normal, even though it was slow due to congestion causing the manifestation.']"
       ]
      },
      {
       "output_type": "stream",
       "stream": "stdout",
       "text": [
        "\n",
        "\n",
        "\n",
        "[u'Protest in finance and strengthens the fearfully sit-in']"
       ]
      },
      {
       "output_type": "stream",
       "stream": "stdout",
       "text": [
        "\n",
        "[u'Demand for pending payments, teachers Guild members to section 18 of the national coordinator of education workers (CNTE) returned to March in Morelia, marched out of the Secretary of finance and administration and strengthened the encampment that the fearfully installed since Friday outside of Government Palace.']"
       ]
      },
      {
       "output_type": "stream",
       "stream": "stdout",
       "text": [
        "\n",
        "[u'The Technical Secretary C of section 18 of the CNTE, Eligio Valdez Cervantes, explained that the Government owed to teachers with State plaza five bonds--which were already paid them teachers with key federal-for a total amount of 54 million pesos, that since last August 14 of 23 centers for child development in the State have not received resources to pay their suppliers owed to those who around 11 million pesos, forcing workers from those places to stop work from last Monday.']"
       ]
      },
      {
       "output_type": "stream",
       "stream": "stdout",
       "text": [
        "\n",
        "[u'Several of the protesters claimed that Silvano Aureoles Governor pledged to release resources later than yesterday, so before the breach, decided to strengthen the encampment of the fearfully and manifested in the Ministry of finance and administration, which demanded a payment date.']"
       ]
      },
      {
       "output_type": "stream",
       "stream": "stdout",
       "text": [
        "\n",
        "[u'\"The debits continue accumulating 29 thousand workers of education.']"
       ]
      },
      {
       "output_type": "stream",
       "stream": "stdout",
       "text": [
        "\n",
        "[u'\"We have already said that it is an injustice that the federal workers Yes arrive them punctual payments and continue out to the State, so again we ask that you are not us it misled\", emphasized.']"
       ]
      },
      {
       "output_type": "stream",
       "stream": "stdout",
       "text": [
        "\n",
        "[u'With banners that could read legends \"at foot of the defense of education\" and \"good education is not repression\", teachers blocked one lane of the avenida Ventura Puente, despite the presence of police officers.']"
       ]
      },
      {
       "output_type": "stream",
       "stream": "stdout",
       "text": [
        "\n",
        "\n",
        "\n",
        "[u'Monday 30 November 2015, 01:00']"
       ]
      },
      {
       "output_type": "stream",
       "stream": "stdout",
       "text": [
        "\n",
        "Error"
       ]
      },
      {
       "output_type": "stream",
       "stream": "stdout",
       "text": [
        "\n",
        "[u'Now, 95 affected families are mobilized to demand a solution to the Senavitat authorities, taking into account that the background is a conflict for lack of payments to the owner of the property where the houses, by the construction company are built.']"
       ]
      },
      {
       "output_type": "stream",
       "stream": "stdout",
       "text": [
        "\n",
        "[u'About 95 families gathered in the Association of future inhabitants of the 10 kilometer Acaray claim access to semiterminadas homes.']"
       ]
      },
      {
       "output_type": "stream",
       "stream": "stdout",
       "text": [
        "\n",
        "[u'They say that they are tired of paying the high costs of the holiday, and may have paid the sum of 550,000 monthly Guarani by home ownership, as it is established.']"
       ]
      },
      {
       "output_type": "stream",
       "stream": "stdout",
       "text": [
        "\n",
        "Error"
       ]
      },
      {
       "output_type": "stream",
       "stream": "stdout",
       "text": [
        "\n",
        "[u'Yesterday gathered at the site to establish the measures to take and received the communication from the contractor, which mentions be waiting Senavitat to renew her contract that already finished.']"
       ]
      },
      {
       "output_type": "stream",
       "stream": "stdout",
       "text": [
        "\n",
        "[u'The neighborhood leader lamented that the structures are being looted and used as bath or for the consumption of any type of substance by inappropriate people.']"
       ]
      },
      {
       "output_type": "stream",
       "stream": "stdout",
       "text": [
        "\n",
        "Error"
       ]
      },
      {
       "output_type": "stream",
       "stream": "stdout",
       "text": [
        "\n",
        "Error"
       ]
      },
      {
       "output_type": "stream",
       "stream": "stdout",
       "text": [
        "\n",
        "[u'He received only a part of the value of the land and had to resort to legal action against the company, which resulted in the suspension of construction.']"
       ]
      },
      {
       "output_type": "stream",
       "stream": "stdout",
       "text": [
        "\n",
        "[u'The action taken is by nullity of contract and compensation order.']"
       ]
      },
      {
       "output_type": "stream",
       "stream": "stdout",
       "text": [
        "\n",
        "[u\"The Senavitat can not intervene in the process, since you don't have documents that support the purchase was made with its resources, since the money was handed over to the construction company.\"]"
       ]
      },
      {
       "output_type": "stream",
       "stream": "stdout",
       "text": [
        "\n",
        "[u\"Barreto had pointed out that Paiva does not have title to property and that is why they couldn't afford him, since the property could not be registered.\"]"
       ]
      },
      {
       "output_type": "stream",
       "stream": "stdout",
       "text": [
        "\n",
        "\n",
        "\n",
        "[u'Friday, January 29, 2016, 10:24']"
       ]
      },
      {
       "output_type": "stream",
       "stream": "stdout",
       "text": [
        "\n",
        "[u'Teachers warn that the policy of the President of the Republic, Horacio Cartes of delinking from the Ministry of education leaders, apeligra the start of classes.']"
       ]
      },
      {
       "output_type": "stream",
       "stream": "stdout",
       "text": [
        "\n",
        "[u'As a protest measure, sector analyses to move backward through the school year.']"
       ]
      },
      {
       "output_type": "stream",
       "stream": "stdout",
       "text": [
        "\n",
        "[u'The leader of the Organization of workers of the education of the Paraguay Union national (OTEP-SN), Vidal Ortega, announced that he will talk with other guilds to face a front to protest against the Government and ignore the date established by the MEC for the start of classes, scheduled for February 24.']"
       ]
      },
      {
       "output_type": "stream",
       "stream": "stdout",
       "text": [
        "\n",
        "[u'He argued that this measure responds to the anti-union persecution, recent disengagement from the public body of 8 leaders, also against corruption and lack of infrastructure in academic institutions.']"
       ]
      },
      {
       "output_type": "stream",
       "stream": "stdout",
       "text": [
        "\n",
        "[u'For the teacher, are unfair retaliation against sector claiming school kits and best quality in education, while the intendants who misappropriate resources of the National Fund of public investment and development (Fonacide), are still at large.']"
       ]
      },
      {
       "output_type": "stream",
       "stream": "stdout",
       "text": [
        "\n",
        "[u'\"Those who struggle are dismissed, persecuted and those who steal enjoy impunity,\" said.']"
       ]
      },
      {
       "output_type": "stream",
       "stream": "stdout",
       "text": [
        "\n",
        "[u'Teachers gathered this Friday against the Ministry of education to protest the dismissal of their leaders.']"
       ]
      },
      {
       "output_type": "stream",
       "stream": "stdout",
       "text": [
        "\n",
        "[u'They demand to investigate the lawyer Francis Mendoza, who was in charge of impeachment proceedings, because that ensures that perceived a heading of Deputy Director and enjoys teaching ladder irregularly.']"
       ]
      },
      {
       "output_type": "stream",
       "stream": "stdout",
       "text": [
        "\n",
        "[u'Mobilization day ends with a popular festival at 19.00, freedom of Association and freedom of expression.']"
       ]
      },
      {
       "output_type": "stream",
       "stream": "stdout",
       "text": [
        "\n",
        "[u'For their part, the members of the Federation of educators of the Paraguay (FEP) gather Friday to discuss measures that will take against the Government decision.']"
       ]
      },
      {
       "output_type": "stream",
       "stream": "stdout",
       "text": [
        "\n",
        "Error"
       ]
      },
      {
       "output_type": "stream",
       "stream": "stdout",
       "text": [
        "\n",
        "[u'The OTEP, were dismissed on the grounds of unjustified absence, Blanca Avalos, Secretary general of the Organization, with 23-year-old and his fellow Victor sanguine, Aldo Gray and Mario Villamayor.']"
       ]
      },
      {
       "output_type": "stream",
       "stream": "stdout",
       "text": [
        "\n",
        "\n",
        "\n",
        "Error"
       ]
      },
      {
       "output_type": "stream",
       "stream": "stdout",
       "text": [
        "\n",
        "[u'March in Chilapa, relatives and friends of missing persons; they require live submit them']"
       ]
      },
      {
       "output_type": "stream",
       "stream": "stdout",
       "text": [
        "\n",
        "Error"
       ]
      },
      {
       "output_type": "stream",
       "stream": "stdout",
       "text": [
        "\n",
        "[u'Arturo de Dios Palma)']"
       ]
      },
      {
       "output_type": "stream",
       "stream": "stdout",
       "text": [
        "\n",
        "[u'Relatives of the disappeared in Chilapa marched through the main streets of the city in demand for presentation with life of their relatives.']"
       ]
      },
      {
       "output_type": "stream",
       "stream": "stdout",
       "text": [
        "\n",
        "Error"
       ]
      },
      {
       "output_type": "stream",
       "stream": "stdout",
       "text": [
        "\n",
        "Error"
       ]
      },
      {
       "output_type": "stream",
       "stream": "stdout",
       "text": [
        "\n",
        "Error"
       ]
      },
      {
       "output_type": "stream",
       "stream": "stdout",
       "text": [
        "\n",
        "Error"
       ]
      },
      {
       "output_type": "stream",
       "stream": "stdout",
       "text": [
        "\n",
        "Error"
       ]
      },
      {
       "output_type": "stream",
       "stream": "stdout",
       "text": [
        "\n",
        "Error"
       ]
      },
      {
       "output_type": "stream",
       "stream": "stdout",
       "text": [
        "\n",
        "[u'Even denounced the inaction of different police corporations and military.']"
       ]
      },
      {
       "output_type": "stream",
       "stream": "stdout",
       "text": [
        "\n",
        "[u'However, three days later on the road that leads to the municipality of Zitlala appeared on a pickup truck five bodies dismembered and semicalcinados.']"
       ]
      },
      {
       "output_type": "stream",
       "stream": "stdout",
       "text": [
        "\n",
        "Error"
       ]
      },
      {
       "output_type": "stream",
       "stream": "stdout",
       "text": [
        "\n",
        "[u'The family has said that between those bodies and his brothers have similarities, but they have not accepted the remains.']"
       ]
      },
      {
       "output_type": "stream",
       "stream": "stdout",
       "text": [
        "\n",
        "[u'This Sunday marched to commemorate the fact.']"
       ]
      },
      {
       "output_type": "stream",
       "stream": "stdout",
       "text": [
        "\n",
        "Error"
       ]
      },
      {
       "output_type": "stream",
       "stream": "stdout",
       "text": [
        "\n",
        "Error"
       ]
      },
      {
       "output_type": "stream",
       "stream": "stdout",
       "text": [
        "\n",
        "\n",
        "\n",
        "Error"
       ]
      },
      {
       "output_type": "stream",
       "stream": "stdout",
       "text": [
        "\n",
        "Error"
       ]
      },
      {
       "output_type": "stream",
       "stream": "stdout",
       "text": [
        "\n",
        "[u'As they marched, the measure of strength is to ask for the resignation of the President of the Senave, Regis Mereles; and the Minister of agriculture and livestock, Jorge Gattini.']"
       ]
      },
      {
       "output_type": "stream",
       "stream": "stdout",
       "text": [
        "\n",
        "[u'Alejandrino Rhodes, Treasurer of the Association, said that they are tired of asking the Government to halt smuggling of vegetables from the Brazil and the Argentina and that their claims are never taken into account, despite the promises given weekly.']"
       ]
      },
      {
       "output_type": "stream",
       "stream": "stdout",
       "text": [
        "\n",
        "[u'The producer added that the President of the Senave, Regis Mereles, is that authorizes more than necessary the Afidis (phytosanitary import accreditation) to the large importers of, what hurts to growers in the area to sell their products.']"
       ]
      },
      {
       "output_type": "stream",
       "stream": "stdout",
       "text": [
        "\n",
        "[u'\"We do not have another alternative that exit to route to ask for the resignation of Gattini and Mereles, because they have never respected the agreements that we reach.\"']"
       ]
      },
      {
       "output_type": "stream",
       "stream": "stdout",
       "text": [
        "\n",
        "[u'They listen to us and engage in that it will not allow the massive entrance of foreign vegetable, which to us we annihilate.']"
       ]
      },
      {
       "output_type": "stream",
       "stream": "stdout",
       "text": [
        "\n",
        "[u'We need to resign and designated patriotic people, both in the Ministry of agriculture and livestock and vegetate,\"Rhodes said.']"
       ]
      },
      {
       "output_type": "stream",
       "stream": "stdout",
       "text": [
        "\n",
        "\n",
        "\n",
        "[u'Opponents to the long-distance train and the areas of economic and social development, among others, joined the contingent which rejects the works in the main thoroughfares of the city photo Victor Camacho']"
       ]
      },
      {
       "output_type": "stream",
       "stream": "stdout",
       "text": [
        "\n",
        "Error"
       ]
      },
      {
       "output_type": "stream",
       "stream": "stdout",
       "text": [
        "\n",
        "[u'Intends to concession Street to a group of investors, say the protesters, that toured from Seville to the Angel of independence']"
       ]
      },
      {
       "output_type": "stream",
       "stream": "stdout",
       "text": [
        "\n",
        "[u'They say that they distrust query neighbors']"
       ]
      },
      {
       "output_type": "stream",
       "stream": "stdout",
       "text": [
        "\n",
        "\n",
        "\n",
        "[u'Cries for and against constitutional amendments.']"
       ]
      },
      {
       "output_type": "stream",
       "stream": "stdout",
       "text": [
        "\n",
        "[u\"That's the contrast this Thursday, December 3, 2015 in the surroundings of the National Assembly, in the HomeStretch of the official project, which today will be discussed at the second debate in plenary.\"]"
       ]
      },
      {
       "output_type": "stream",
       "stream": "stdout",
       "text": [
        "\n",
        "[u'A few metres from the entrance to the Legislative Palace was installed a dais from which proclaimed slogans in favor of the Government.']"
       ]
      },
      {
       "output_type": "stream",
       "stream": "stdout",
       "text": [
        "\n",
        "[u'In this space people related to the regime, gathered while a police fence surrounds the building.']"
       ]
      },
      {
       "output_type": "stream",
       "stream": "stdout",
       "text": [
        "\n",
        "[u'Opposition to the Government, on the other hand, is located at the intersection of avenida Gran Colombia and Tarqui, where there is also a uniformed barrier.']"
       ]
      },
      {
       "output_type": "stream",
       "stream": "stdout",
       "text": [
        "\n",
        "Error"
       ]
      },
      {
       "output_type": "stream",
       "stream": "stdout",
       "text": [
        "\n",
        "[u'The second debate on the package of 16 amendments was summoned to 07:00.']"
       ]
      },
      {
       "output_type": "stream",
       "stream": "stdout",
       "text": [
        "\n",
        "[u'Legislators call for the strength of the order that will pass to the Protestants.']"
       ]
      },
      {
       "output_type": "stream",
       "stream": "stdout",
       "text": [
        "\n",
        "[u\"The Assemblyman's think, Mae mountain, announced they will participate in the debate if allowed access to citizenship, as was done with those who support the Government.\"]"
       ]
      },
      {
       "output_type": "stream",
       "stream": "stdout",
       "text": [
        "\n",
        "Error"
       ]
      },
      {
       "output_type": "stream",
       "stream": "stdout",
       "text": [
        "\n",
        "\n",
        "\n",
        "Error"
       ]
      },
      {
       "output_type": "stream",
       "stream": "stdout",
       "text": [
        "\n",
        "[u'Examples security will ask their superiors']"
       ]
      },
      {
       "output_type": "stream",
       "stream": "stdout",
       "text": [
        "\n",
        "Error"
       ]
      },
      {
       "output_type": "stream",
       "stream": "stdout",
       "text": [
        "\n",
        "[u'The community leader was imputed last Friday by the Prosecutor Bridget Aguilar for alleged irregularities in the use of funds of the Fonacide, so Ortiz waited until early hours of today to present, accompanied by a large group of people, that news several journalists who were doing coverage of the fact.']"
       ]
      },
      {
       "output_type": "stream",
       "stream": "stdout",
       "text": [
        "\n",
        "[u'In the place there is much tension between both groups and security is exceeded at times, according to reports.']"
       ]
      },
      {
       "output_type": "stream",
       "stream": "stdout",
       "text": [
        "\n",
        "Error"
       ]
      },
      {
       "output_type": "stream",
       "stream": "stdout",
       "text": [
        "\n",
        "[u'Meanwhile, critics of the Mayor denounced that the relatives of this are closing the municipal building.']"
       ]
      },
      {
       "output_type": "stream",
       "stream": "stdout",
       "text": [
        "\n",
        "Error"
       ]
      },
      {
       "output_type": "stream",
       "stream": "stdout",
       "text": [
        "\n",
        "Error"
       ]
      },
      {
       "output_type": "stream",
       "stream": "stdout",
       "text": [
        "\n",
        "[u'The agent said that the computer on the market costs G.']"
       ]
      },
      {
       "output_type": "stream",
       "stream": "stdout",
       "text": [
        "\n",
        "\n",
        "\n"
       ]
      }
     ],
     "prompt_number": 42
    },
    {
     "cell_type": "code",
     "collapsed": false,
     "input": [
      "import unicodedata\n",
      "\n",
      "len(full_docs[4154])\n",
      "token = getToken()\n",
      "for sen in full_docs[4154]:\n",
      "    print '\\n',\n",
      "    nfkd_form = unicodedata.normalize('NFKD', sen)\n",
      "    only_ascii = nfkd_form.encode('ASCII', 'ignore')\n",
      "    print sen\n",
      "    #print only_ascii\n",
      "    #print getText(only_ascii)\n",
      "    print \"\\n\""
     ],
     "language": "python",
     "metadata": {},
     "outputs": [
      {
       "output_type": "stream",
       "stream": "stdout",
       "text": [
        "\n",
        "Trabajadores del Sistema de Agua y Saneamiento de Veracruz (SAS) protestaron para pedir la paga de aguinaldo y caja de ahorro.\n",
        "\n",
        "\n",
        "\n",
        "Los m\u00e1s de mil trabajadores salieron de las inmediaciones de las oficinas del SAS para dirigirse a la Catedral de Nuestra Se\u00f1ora de la Asunci\u00f3n.\n",
        "\n",
        "\n",
        "\n",
        "Algunos de los manifestantes caminaron sin zapatos y con la imagen de San Jos\u00e9 Obrero al hombro, a quien pidieron el milagro del pago de aguinaldo, salario, ahorros y prestaciones.\n",
        "\n",
        "\n",
        "\n",
        "De acuerdo con los inconformes, el SAS, les debe a mil 300 trabajadores 85 millones de pesos.\n",
        "\n",
        "\n",
        "\n",
        "La protesta termin\u00f3 con una misa en la Catedral veracruzana, en donde apenas y hubo capacidad para albergar a los m\u00e1s de mil trabajadores participantes en la caminata de m\u00e1s de cinco kil\u00f3metros que realizaron con el santo al hombro.\n",
        "\n",
        "\n",
        "\n",
        "Ang\u00e9lica Navarrete, secretaria general del Sindicato de Trabajadores del SAS, insisti\u00f3 en que si el martes no reciben lo que les deben, se van a la huelga.\n",
        "\n",
        "\n",
        "\n",
        "Durante la marcha, a la altura del Parque Zamora, un autob\u00fas de pasajeros de la l\u00ednea Costera se les ech\u00f3 encima a los manifestantes, molesto porque quer\u00eda pasar y la marcha se le atraves\u00f3, pero no hubo heridos.\n",
        "\n",
        "\n",
        "\n",
        "El pasado jueves, los trabajadores y sus esposas realizaron un plant\u00f3n donde protestaron a cacerolazos frente al Palacio Municipal de Veracruz.\n",
        "\n",
        "\n",
        "\n",
        "La tarde del viernes 18 los obreros marcharon desde las oficinas del sistema de agua hasta las instalaciones de la empresa Grupo MAS que obtuvo la concesi\u00f3n del servicio.\n",
        "\n",
        "\n"
       ]
      }
     ],
     "prompt_number": 57
    }
   ],
   "metadata": {}
  }
 ]
}