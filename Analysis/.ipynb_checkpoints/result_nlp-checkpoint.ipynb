{
 "metadata": {
  "name": "",
  "signature": "sha256:c7bb911c3281b2d6da64a5114d9b822ad9d05c2f47342683e3260caf019ccace"
 },
 "nbformat": 3,
 "nbformat_minor": 0,
 "worksheets": [
  {
   "cells": [
    {
     "cell_type": "code",
     "collapsed": false,
     "input": [
      "# use microsoft translation API\n",
      "secret = \"CrqRJmTdIGSXzOKyqMNmRsNZ6MrZr7IVshVCNeGmyZs=\"\n",
      "client_id = \"ms_translation_002\"\n",
      "\n",
      "import requests\n",
      "import json\n",
      "from xml.dom import minidom\n",
      "\n",
      "clientSecret = secret\n",
      "clientID = client_id\n",
      "strTranslatorAccessURI = \"https://datamarket.accesscontrol.windows.net/v2/OAuth2-13\"\n",
      "token = ''\n",
      "\n",
      "def getToken():\n",
      "    strRequestDetails = {\n",
      "        \"grant_type\":\"client_credentials\",\n",
      "        \"client_id\":clientID,\n",
      "        \"client_secret\":clientSecret,\n",
      "        \"scope\":\"http://api.microsofttranslator.com\"\n",
      "    }\n",
      "    r = requests.post(strTranslatorAccessURI, data=strRequestDetails)\n",
      "    token = json.loads(r.text)\n",
      "    return token\n",
      "\n",
      "def getText(txtToTranslate, from_lan=\"es\", to_lan=\"en\"):\n",
      "    translations = []\n",
      "    authString = \"Bearer %s\" % token['access_token']\n",
      "    headers = {\"Authorization\" : authString}\n",
      "    uri = \"http://api.microsofttranslator.com/v2/Http.svc/Translate?text=%s&from=%s&to=%s\" %  (txtToTranslate, from_lan, to_lan)\n",
      "    r = requests.get(uri, headers=headers)\n",
      "    xmldoc = minidom.parseString(r.text)\n",
      "    itemlist = xmldoc.getElementsByTagName('string')\n",
      "\n",
      "    for item in itemlist:\n",
      "        for child in item.childNodes:\n",
      "            translations.append(child.nodeValue)\n",
      "    return translations\n",
      "\n",
      "\n",
      "token = getToken();"
     ],
     "language": "python",
     "metadata": {},
     "outputs": [],
     "prompt_number": 32
    },
    {
     "cell_type": "code",
     "collapsed": false,
     "input": [
      "token"
     ],
     "language": "python",
     "metadata": {},
     "outputs": [
      {
       "metadata": {},
       "output_type": "pyout",
       "prompt_number": 15,
       "text": [
        "{u'access_token': u'http%3a%2f%2fschemas.xmlsoap.org%2fws%2f2005%2f05%2fidentity%2fclaims%2fnameidentifier=ms_translation_002&http%3a%2f%2fschemas.microsoft.com%2faccesscontrolservice%2f2010%2f07%2fclaims%2fidentityprovider=https%3a%2f%2fdatamarket.accesscontrol.windows.net%2f&Audience=http%3a%2f%2fapi.microsofttranslator.com&ExpiresOn=1457816298&Issuer=https%3a%2f%2fdatamarket.accesscontrol.windows.net%2f&HMACSHA256=e%2bWTjX%2b5Y8Ju9BMuKqpGHs30wF6ZANsAfUo0CNvLenI%3d',\n",
        " u'expires_in': u'599',\n",
        " u'scope': u'http://api.microsofttranslator.com',\n",
        " u'token_type': u'http://schemas.xmlsoap.org/ws/2009/11/swt-token-profile-1.0'}"
       ]
      }
     ],
     "prompt_number": 15
    },
    {
     "cell_type": "code",
     "collapsed": false,
     "input": [
      "import cPickle\n",
      "import json\n",
      "from itertools import chain\n",
      "docs = [json.loads(l) for l in open('../data/new_multi_label_ksen/0/event_test.prob_score')]\n",
      "labels = [l.strip() for l in open('../data/new_multi_label_ksen/0/event_test.event_cat')]\n",
      "\n",
      "protest_docs = [doc for i, doc in enumerate(docs) if labels[i] == \"protest\"]\n",
      "protest_sens = [sen for sen in chain(*protest_docs)]"
     ],
     "language": "python",
     "metadata": {},
     "outputs": [],
     "prompt_number": 27
    },
    {
     "cell_type": "code",
     "collapsed": false,
     "input": [
      "sorted_sens = sorted(protest_sens,key=lambda x:x[1], reverse=True)"
     ],
     "language": "python",
     "metadata": {},
     "outputs": [],
     "prompt_number": 29
    },
    {
     "cell_type": "code",
     "collapsed": false,
     "input": [
      "sorted_sens[0]"
     ],
     "language": "python",
     "metadata": {},
     "outputs": [
      {
       "metadata": {},
       "output_type": "pyout",
       "prompt_number": 30,
       "text": [
        "[u'Los inconformes iniciaron su manifestaci\\xf3n en Plaza Ju\\xe1rez, avanzaron por 16 de Septiembre hasta llegar a Hidalgo.',\n",
        " 0.9991881251335144]"
       ]
      }
     ],
     "prompt_number": 30
    },
    {
     "cell_type": "code",
     "collapsed": false,
     "input": [
      "for sen in sorted_sens[:500]:\n",
      "    print 'Sen-----%0.4f \\n' % sen[1]\n",
      "    try:\n",
      "        print getText(sen[0].encode('utf-8'))\n",
      "    except:\n",
      "        print 'error'\n",
      "        continue\n",
      "    print '\\n'\n",
      "        "
     ],
     "language": "python",
     "metadata": {},
     "outputs": [
      {
       "output_type": "stream",
       "stream": "stdout",
       "text": [
        "Sen-----0.9992 \n",
        "\n",
        "[u'The protesters began their demonstration in Plaza Juarez, advanced by 16 September to Hidalgo.']"
       ]
      },
      {
       "output_type": "stream",
       "stream": "stdout",
       "text": [
        "\n",
        "\n",
        "\n",
        "Sen-----0.9991 \n",
        "\n",
        "[u'From the early hours of Saturday morning was locked by a protest the Francisco Fajardo highway from Caricuao, neighbors of the sector demand security']"
       ]
      },
      {
       "output_type": "stream",
       "stream": "stdout",
       "text": [
        "\n",
        "\n",
        "\n",
        "Sen-----0.9991 \n",
        "\n",
        "[u'The mobilization was convened by teachers unions, but the national March of public colleges and private (MNCPP), the National Federation of high school students (Fenaes) and the Center Union of secondary students (Unepy) joined the activity.']"
       ]
      },
      {
       "output_type": "stream",
       "stream": "stdout",
       "text": [
        "\n",
        "\n",
        "\n",
        "Sen-----0.9991 \n",
        "\n",
        "[u'People who protested lack of water blocked with stones, sticks and wheels the kilometer 8 to Mariona.']"
       ]
      },
      {
       "output_type": "stream",
       "stream": "stdout",
       "text": [
        "\n",
        "\n",
        "\n",
        "Sen-----0.9991 \n",
        "\n",
        "[u'| Photo by Mauricio Pineda in the absence of a response to their demands, protesters burned tires in the middle of the road.']"
       ]
      },
      {
       "output_type": "stream",
       "stream": "stdout",
       "text": [
        "\n",
        "\n",
        "\n",
        "Sen-----0.9991 \n",
        "\n",
        "[u'Manifestation of truckers paralyzed the traffic in the section clean-Roque Alonso']"
       ]
      },
      {
       "output_type": "stream",
       "stream": "stdout",
       "text": [
        "\n",
        "\n",
        "\n",
        "Sen-----0.9991 \n",
        "\n",
        "[u'Close Street in protest for not having water three months those who protested pointed out that the problem was reported to the go, but have not resolved them nothing.']"
       ]
      },
      {
       "output_type": "stream",
       "stream": "stdout",
       "text": [
        "\n",
        "\n",
        "\n",
        "Sen-----0.9991 \n",
        "\n",
        "[u'Protesters are demanding the resignation of President Cartes, since they consider that - as they understand - no rules for the sectors poorer, and the installation a patriotic junta in power.']"
       ]
      },
      {
       "output_type": "stream",
       "stream": "stdout",
       "text": [
        "\n",
        "\n",
        "\n",
        "Sen-----0.9991 \n",
        "\n",
        "[u'Adhering to the party Paraguay Pyahura troops in the Eusebio Ayala Avenue heading to downtown Asuncion, demanding the resignation of President Cartes.']"
       ]
      },
      {
       "output_type": "stream",
       "stream": "stdout",
       "text": [
        "\n",
        "\n",
        "\n",
        "Sen-----0.9990 \n",
        "\n",
        "[u'Inhabitants of Las Casitas, claiming a Mercal Mega installation planned for today']"
       ]
      },
      {
       "output_type": "stream",
       "stream": "stdout",
       "text": [
        "\n",
        "\n",
        "\n",
        "Sen-----0.9990 \n",
        "\n",
        "[u\"From 09:00 hours, tens of inhabitants of the municipal head were concentrated at the entrance of Arcelia and almost 10 o'clock began a March toward the Center, which showed banners against staff of the PF.\"]"
       ]
      },
      {
       "output_type": "stream",
       "stream": "stdout",
       "text": [
        "\n",
        "\n",
        "\n",
        "Sen-----0.9989 \n",
        "\n",
        "[u'Nurses were stationed opposite the hospital with placards to demand to the authorities of the IPS that their claims are solved immediately.']"
       ]
      },
      {
       "output_type": "stream",
       "stream": "stdout",
       "text": [
        "\n",
        "\n",
        "\n",
        "Sen-----0.9988 \n",
        "\n",
        "[u'A group of taxi drivers protested this Monday morning in the central town of el Carrizal municipality, in Miranda State, according to @PorCarrizal the demonstration is due to that, he was denied the circulation to the drivers who benefited from the transport mission.']"
       ]
      },
      {
       "output_type": "stream",
       "stream": "stdout",
       "text": [
        "\n",
        "\n",
        "\n",
        "Sen-----0.9988 \n",
        "\n",
        "[u'While some of the demonstrators remained on the highway, another sector marched towards the microcentro before noon yesterday.']"
       ]
      },
      {
       "output_type": "stream",
       "stream": "stdout",
       "text": [
        "\n",
        "\n",
        "\n",
        "Sen-----0.9987 \n",
        "\n",
        "[u'on Friday, he left the mobilization from the headquarters of the Universidad del Valle in Melendez.']"
       ]
      },
      {
       "output_type": "stream",
       "stream": "stdout",
       "text": [
        "\n",
        "\n",
        "\n",
        "Sen-----0.9987 \n",
        "\n",
        "[u'Just at the last minute they freed two lanes; employees of the firm also marched with a petition to Macri']"
       ]
      },
      {
       "output_type": "stream",
       "stream": "stdout",
       "text": [
        "\n",
        "\n",
        "\n",
        "Sen-----0.9987 \n",
        "\n",
        "[u'During much of the day, the protesters completely blocked access to Ezeiza airport and marched on the Casa Rosada with a petition to President Mauricio Macri so will solve the conflict that has employees on tenterhooks for several months by the economic crisis affecting the company of the brothers Ivo and Milenko Rasic.']"
       ]
      },
      {
       "output_type": "stream",
       "stream": "stdout",
       "text": [
        "\n",
        "\n",
        "\n",
        "Sen-----0.9987 \n",
        "\n",
        "[u'Peasant organizations that are in Sedatu announced that they will March to the offices of Sagarpa.']"
       ]
      },
      {
       "output_type": "stream",
       "stream": "stdout",
       "text": [
        "\n",
        "\n",
        "\n",
        "Sen-----0.9984 \n",
        "\n",
        "[u'The mobilization was convened by teachers unions, but the national March of public colleges and private (MNCPP), the National Federation of high school students (Fenaes) and the Center Union of secondary students (Unepy) joined the activity.']"
       ]
      },
      {
       "output_type": "stream",
       "stream": "stdout",
       "text": [
        "\n",
        "\n",
        "\n",
        "Sen-----0.9984 \n",
        "\n",
        "[u'The dissatisfied with different banners came from 08:00 hours at intervals, to demand the demands that have been asking for some time and without anyone to a satisfactory response.']"
       ]
      },
      {
       "output_type": "stream",
       "stream": "stdout",
       "text": [
        "\n",
        "\n",
        "\n",
        "Sen-----0.9983 \n",
        "\n",
        "[u'Settlers blocked a stretch of hot water Street.']"
       ]
      },
      {
       "output_type": "stream",
       "stream": "stdout",
       "text": [
        "\n",
        "\n",
        "\n",
        "Sen-----0.9982 \n",
        "\n",
        "[u'A group of carriers only protest in the Plaza de Toros, located in Maracaibo, Zulia State.']"
       ]
      },
      {
       "output_type": "stream",
       "stream": "stdout",
       "text": [
        "\n",
        "\n",
        "\n",
        "Sen-----0.9982 \n",
        "\n",
        "[u'Students - that characterized the mobilization as \"unprocessed gratuity is not to advance\" - leave again along the Road South of the Mall until calle Echaurren, place where it will be an act of closure in charge of the student leaders.']"
       ]
      },
      {
       "output_type": "stream",
       "stream": "stdout",
       "text": [
        "\n",
        "\n",
        "\n",
        "Sen-----0.9981 \n",
        "\n",
        "[u'On Thursday, workers and their wives held a sit-in where protested to cacerolazos opposite the Municipal Palace of Veracruz.']"
       ]
      },
      {
       "output_type": "stream",
       "stream": "stdout",
       "text": [
        "\n",
        "\n",
        "\n",
        "Sen-----0.9977 \n",
        "\n",
        "[u'Protesters again blocked the street Enriquez, once on Wednesday they were evicted by about 40 grenadiers, who used electric batons.']"
       ]
      },
      {
       "output_type": "stream",
       "stream": "stdout",
       "text": [
        "\n",
        "\n",
        "\n",
        "Sen-----0.9977 \n",
        "\n",
        "[u'Demonstrators chose to burn rubber and traversing several buses at the entrance of the UC Barbula, which obstructed traffic in the early hours of the morning for a short time.']"
       ]
      },
      {
       "output_type": "stream",
       "stream": "stdout",
       "text": [
        "\n",
        "\n",
        "\n",
        "Sen-----0.9977 \n",
        "\n",
        "error"
       ]
      },
      {
       "output_type": "stream",
       "stream": "stdout",
       "text": [
        "\n",
        "Sen-----0.9977 \n",
        "\n",
        "[u'With posters, Paraguayan flags and t-shirts albirrojas, the lambarenos carried out a demonstration in repudiation to the exintendente Robert Cardenas (ANR).']"
       ]
      },
      {
       "output_type": "stream",
       "stream": "stdout",
       "text": [
        "\n",
        "\n",
        "\n",
        "Sen-----0.9976 \n",
        "\n",
        "[u'Dissident teachers of the CETEG stormed the local Congress to break glass, burned an armchair and continued a mobilization that included blocking for an hour to four lanes of the motorway of the Sun, at the southern entrance of Chilpancingo.']"
       ]
      },
      {
       "output_type": "stream",
       "stream": "stdout",
       "text": [
        "\n",
        "\n",
        "\n",
        "Sen-----0.9976 \n",
        "\n",
        "error"
       ]
      },
      {
       "output_type": "stream",
       "stream": "stdout",
       "text": [
        "\n",
        "Sen-----0.9976 \n",
        "\n",
        "[u'A group of students protested on Thursday morning to reject a freeze on 70% of the units of transport that owns the University of Carabobo, obstructing Barbula arc to ask the authorities response to the situation.']"
       ]
      },
      {
       "output_type": "stream",
       "stream": "stdout",
       "text": [
        "\n",
        "\n",
        "\n",
        "Sen-----0.9975 \n",
        "\n",
        "error"
       ]
      },
      {
       "output_type": "stream",
       "stream": "stdout",
       "text": [
        "\n",
        "Sen-----0.9975 \n",
        "\n",
        "error"
       ]
      },
      {
       "output_type": "stream",
       "stream": "stdout",
       "text": [
        "\n",
        "Sen-----0.9974 \n",
        "\n",
        "[u'Mototaxistas blockaded the main avenue of La Urbina (credits: A)']"
       ]
      },
      {
       "output_type": "stream",
       "stream": "stdout",
       "text": [
        "\n",
        "\n",
        "\n",
        "Sen-----0.9974 \n",
        "\n",
        "error"
       ]
      },
      {
       "output_type": "stream",
       "stream": "stdout",
       "text": [
        "\n",
        "Sen-----0.9974 \n",
        "\n",
        "[u'Protesters set up pots popular in front of Congress places, after marching from last Street and Mariscal Estigarribia.']"
       ]
      },
      {
       "output_type": "stream",
       "stream": "stdout",
       "text": [
        "\n",
        "\n",
        "\n",
        "Sen-----0.9973 \n",
        "\n",
        "error"
       ]
      },
      {
       "output_type": "stream",
       "stream": "stdout",
       "text": [
        "\n",
        "Sen-----0.9973 \n",
        "\n",
        "[u'For 15:00, the March of teachers incorporated into the CETEG and the SUSPEG returned to the camp located in the bureaucrats, off the premises of the former Ineban.']"
       ]
      },
      {
       "output_type": "stream",
       "stream": "stdout",
       "text": [
        "\n",
        "\n",
        "\n",
        "Sen-----0.9972 \n",
        "\n",
        "[u'Once reinstated a single contingent, dissident teachers stepped on North-South lanes of the motorway of the Sun, stopping until you reach the point known as El Parador del Marques.']"
       ]
      },
      {
       "output_type": "stream",
       "stream": "stdout",
       "text": [
        "\n",
        "\n",
        "\n",
        "Sen-----0.9971 \n",
        "\n",
        "[u'15 public and private educational institutions participated in the mobilization.']"
       ]
      },
      {
       "output_type": "stream",
       "stream": "stdout",
       "text": [
        "\n",
        "\n",
        "\n",
        "Sen-----0.9970 \n",
        "\n",
        "[u'After the confrontation between federal and teachers, where three police officers were injured, members of the Trade Union marched surrounded by a security cordon.']"
       ]
      },
      {
       "output_type": "stream",
       "stream": "stdout",
       "text": [
        "\n",
        "\n",
        "\n",
        "Sen-----0.9969 \n",
        "\n",
        "[u'A group of protesters cut a sense of General Paz Avenue, at the height of Technopolis; health professionals block the Pueyrredon bridge']"
       ]
      },
      {
       "output_type": "stream",
       "stream": "stdout",
       "text": [
        "\n",
        "\n",
        "\n",
        "Sen-----0.9969 \n",
        "\n",
        "[u'Students gather in plaza Mariscal Lopez to perform measurement of pressure.']"
       ]
      },
      {
       "output_type": "stream",
       "stream": "stdout",
       "text": [
        "\n",
        "\n",
        "\n",
        "Sen-----0.9968 \n",
        "\n",
        "[u'Protesters arrived road dealer aboard buses, which also blocked circulation.']\n",
        "\n",
        "\n",
        "Sen-----0.9968 \n",
        "\n",
        "[u'Members of the revolutionary Popular Front troops monument the revolution towards Social Development secretariat and then the governorate.']"
       ]
      },
      {
       "output_type": "stream",
       "stream": "stdout",
       "text": [
        "\n",
        "\n",
        "\n",
        "Sen-----0.9968 \n",
        "\n",
        "[u'Protesters marched through banners and parade about three thousand meters of the superhighway and then returned to the roundabout.']"
       ]
      },
      {
       "output_type": "stream",
       "stream": "stdout",
       "text": [
        "\n",
        "\n",
        "\n",
        "Sen-----0.9968 \n",
        "\n",
        "[u'The protesters complained that the lack of disbursement by the municipality left them without their assets in November.']"
       ]
      },
      {
       "output_type": "stream",
       "stream": "stdout",
       "text": [
        "\n",
        "\n",
        "\n",
        "Sen-----0.9968 \n",
        "\n",
        "[u'The protesters blocked with horses Rails import and export of goods, which prevented hundreds of trucks from entering Mexico.']"
       ]
      },
      {
       "output_type": "stream",
       "stream": "stdout",
       "text": [
        "\n",
        "\n",
        "\n",
        "Sen-----0.9968 \n",
        "\n",
        "[u'In the evening students March through the center of the city to hear their claims.']"
       ]
      },
      {
       "output_type": "stream",
       "stream": "stdout",
       "text": [
        "\n",
        "\n",
        "\n",
        "Sen-----0.9966 \n",
        "\n",
        "[u\"Employees of Empo SA yesterday closed access and exit of Weir Cateura, located in the Santa Librada's assumption.\"]"
       ]
      },
      {
       "output_type": "stream",
       "stream": "stdout",
       "text": [
        "\n",
        "\n",
        "\n",
        "Sen-----0.9966 \n",
        "\n",
        "[u'After marching for four hours by the federal highway, the protesters were concentrated in the forecourt of the Palace of Government, in the southern part of Chilpancingo.']"
       ]
      },
      {
       "output_type": "stream",
       "stream": "stdout",
       "text": [
        "\n",
        "\n",
        "\n",
        "Sen-----0.9966 \n",
        "\n",
        "[u'Sit in the Christ the King, to which belong to several of the organizers of the great student protests.']"
       ]
      },
      {
       "output_type": "stream",
       "stream": "stdout",
       "text": [
        "\n",
        "\n",
        "\n",
        "Sen-----0.9966 \n",
        "\n",
        "error"
       ]
      },
      {
       "output_type": "stream",
       "stream": "stdout",
       "text": [
        "\n",
        "Sen-----0.9966 \n",
        "\n",
        "[u'Teachers of the State Coordinator of education workers of Guerrero (Ceteg) indefinitely took the sub-delegation of the educational services facilities in Costa Grande, protesting the implementation of evaluation teachers Guerrero.']"
       ]
      },
      {
       "output_type": "stream",
       "stream": "stdout",
       "text": [
        "\n",
        "\n",
        "\n",
        "Sen-----0.9966 \n",
        "\n",
        "[u'Empo workers receive the support of the nucleated recyclers Association of workers and Municipal landfill recyclers (Asotravermu).']"
       ]
      },
      {
       "output_type": "stream",
       "stream": "stdout",
       "text": [
        "\n",
        "\n",
        "\n",
        "Sen-----0.9965 \n",
        "\n",
        "[u'The Group of teachers arrived at the property, and peacefully called for workers that they withdrew, while two of them with their faces covered, placed three cards at the main entrance, which sealed, where they exposed their rejection of education reform.']"
       ]
      },
      {
       "output_type": "stream",
       "stream": "stdout",
       "text": [
        "\n",
        "\n",
        "\n",
        "Sen-----0.9965 \n",
        "\n",
        "[u'On the way down to Villa Elisa protesters completely cut road.']"
       ]
      },
      {
       "output_type": "stream",
       "stream": "stdout",
       "text": [
        "\n",
        "\n",
        "\n",
        "Sen-----0.9965 \n",
        "\n",
        "[u'Carrying signs and uniformed, demanded better education and safety in classrooms.']"
       ]
      },
      {
       "output_type": "stream",
       "stream": "stdout",
       "text": [
        "\n",
        "\n",
        "\n",
        "Sen-----0.9965 \n",
        "\n",
        "[u'At the Pueyrredon bridge, a Guild of Buenos Aires doctors performed a protest by the closure of the area of gynaecology and the maternity of the Fiorito Hospital of Avellaneda, as they reported.']"
       ]
      },
      {
       "output_type": "stream",
       "stream": "stdout",
       "text": [
        "\n",
        "\n",
        "\n",
        "Sen-----0.9964 \n",
        "\n",
        "[u'He said that early Monday they manifest themselves against the University campus in a peaceful manner.']"
       ]
      },
      {
       "output_type": "stream",
       "stream": "stdout",
       "text": [
        "\n",
        "\n",
        "\n",
        "Sen-----0.9964 \n",
        "\n",
        "[u'Various vendors returned to block this afternoon the 2 Street West to park next to San Martin in Santa Tecla.']"
       ]
      },
      {
       "output_type": "stream",
       "stream": "stdout",
       "text": [
        "\n",
        "\n",
        "\n",
        "Sen-----0.9964 \n",
        "\n",
        "[u'More than 500 retirees and pensioners of different municipalities marched into this city to repel the intention of the federal Government to privatize the National Fund for pensions of workers at the service of the State (Pensionissste), measure that will affect around 18 thousand workers of this entity.']"
       ]
      },
      {
       "output_type": "stream",
       "stream": "stdout",
       "text": [
        "\n",
        "\n",
        "\n",
        "Sen-----0.9964 \n",
        "\n",
        "[u'The protest is due to dissatisfaction that remain from the last week were evicted.']"
       ]
      },
      {
       "output_type": "stream",
       "stream": "stdout",
       "text": [
        "\n",
        "\n",
        "\n",
        "Sen-----0.9964 \n",
        "\n",
        "[u'The legislator and the exdiputada Aida Robles, both of the front Guasu, participate in the demonstration, according to the 780 AM.']"
       ]
      },
      {
       "output_type": "stream",
       "stream": "stdout",
       "text": [
        "\n",
        "\n",
        "\n",
        "Sen-----0.9963 \n",
        "\n",
        "[u'The 43 parents and students of Ayotzinapa Rural Normal conducted a walk toward Chilpancingo-Tixtla, with the intention of demonstrating against violence by the State and Federation police during the afternoon of last Wednesday.']"
       ]
      },
      {
       "output_type": "stream",
       "stream": "stdout",
       "text": [
        "\n",
        "\n",
        "\n",
        "Sen-----0.9963 \n",
        "\n",
        "[u'Union members closed the gates of the capital seat of the national electricity authority (ANDE), where they installed parades on claim of a \"fair budget\" for next year.']"
       ]
      },
      {
       "output_type": "stream",
       "stream": "stdout",
       "text": [
        "\n",
        "\n",
        "\n",
        "Sen-----0.9962 \n",
        "\n",
        "[u'Protesters removed the blockade around 13:00 hours and returned to their camp.']"
       ]
      },
      {
       "output_type": "stream",
       "stream": "stdout",
       "text": [
        "\n",
        "\n",
        "\n",
        "Sen-----0.9962 \n",
        "\n",
        "[u'In addition, it supports the CUT-A, a station which does not have an Association of truck drivers and hauliers.']"
       ]
      },
      {
       "output_type": "stream",
       "stream": "stdout",
       "text": [
        "\n",
        "\n",
        "\n",
        "Sen-----0.9962 \n",
        "\n",
        "error"
       ]
      },
      {
       "output_type": "stream",
       "stream": "stdout",
       "text": [
        "\n",
        "Sen-----0.9962 \n",
        "\n",
        "[u'The protesters with chants and slogans, settled on the stairs of the main entrance to the communal building, receiving support from motorists who drove through the area, said Osvaldo Cazenave, journalist for ABC Color.']"
       ]
      },
      {
       "output_type": "stream",
       "stream": "stdout",
       "text": [
        "\n",
        "\n",
        "\n",
        "Sen-----0.9961 \n",
        "\n",
        "[u'Protesters also took to repudiate the repression of workers in red Crest (see page 16).']"
       ]
      },
      {
       "output_type": "stream",
       "stream": "stdout",
       "text": [
        "\n",
        "\n",
        "\n",
        "Sen-----0.9961 \n",
        "\n",
        "[u'Mobilization should already be done last week, but the inclement weather overshadowed the Organization for what it called again to yesterday with a more interesting answer, but not the desired by the organizers.']"
       ]
      },
      {
       "output_type": "stream",
       "stream": "stdout",
       "text": [
        "\n",
        "\n",
        "\n",
        "Sen-----0.9959 \n",
        "\n",
        "[u'The headquarters of the walk remains blocked by trade unionists which 00: 00 of Tuesday went on strike for 48 hours to protest budget cuts.']"
       ]
      },
      {
       "output_type": "stream",
       "stream": "stdout",
       "text": [
        "\n",
        "\n",
        "\n",
        "Sen-----0.9959 \n",
        "\n",
        "error"
       ]
      },
      {
       "output_type": "stream",
       "stream": "stdout",
       "text": [
        "\n",
        "Sen-----0.9959 \n",
        "\n",
        "[u'One of the members of the Fepatrat, Pastor Cristaldo, said that 40 lines of public transport will be which are added to the measure.']"
       ]
      },
      {
       "output_type": "stream",
       "stream": "stdout",
       "text": [
        "\n",
        "\n",
        "\n",
        "Sen-----0.9958 \n",
        "\n",
        "[u'Meanwhile, in Colima, a group of teachers protested with banners and slogans against the teaching evaluation is applied in various offices of the State.']"
       ]
      },
      {
       "output_type": "stream",
       "stream": "stdout",
       "text": [
        "\n",
        "\n",
        "\n",
        "Sen-----0.9957 \n",
        "\n",
        "[u'Around of 50 protesters they detained also trucks passing through such access.']"
       ]
      },
      {
       "output_type": "stream",
       "stream": "stdout",
       "text": [
        "\n",
        "\n",
        "\n",
        "Sen-----0.9956 \n",
        "\n",
        "[u'Carriers outside the mobilization, who arrested, mostly supported the measure, since they also assert that the bi-directional collection is an abuse.']"
       ]
      },
      {
       "output_type": "stream",
       "stream": "stdout",
       "text": [
        "\n",
        "\n",
        "\n",
        "Sen-----0.9955 \n",
        "\n",
        "[u'This surprising event falls within the national strike announced by the side since last week, which takes place today and tomorrow.']"
       ]
      },
      {
       "output_type": "stream",
       "stream": "stdout",
       "text": [
        "\n",
        "\n",
        "\n",
        "Sen-----0.9955 \n",
        "\n",
        "[u'The uniformed mentioned that the manifestation of the Group of truckers continues in place, but already they are not blocking Route 3, in the area of the city of Limpio.']"
       ]
      },
      {
       "output_type": "stream",
       "stream": "stdout",
       "text": [
        "\n",
        "\n",
        "\n",
        "Sen-----0.9955 \n",
        "\n",
        "error"
       ]
      },
      {
       "output_type": "stream",
       "stream": "stdout",
       "text": [
        "\n",
        "Sen-----0.9955 \n",
        "\n",
        "error"
       ]
      },
      {
       "output_type": "stream",
       "stream": "stdout",
       "text": [
        "\n",
        "Sen-----0.9955 \n",
        "\n",
        "[u'In the two days of mobilization, the stoppage of machinery in the area of works generated losses by G.']"
       ]
      },
      {
       "output_type": "stream",
       "stream": "stdout",
       "text": [
        "\n",
        "\n",
        "\n",
        "Sen-----0.9955 \n",
        "\n",
        "[u'In addition to requests for freedom for Edelio and Abraham, many young people who participated in the March called for security, labor and justice.']"
       ]
      },
      {
       "output_type": "stream",
       "stream": "stdout",
       "text": [
        "\n",
        "\n",
        "\n",
        "Sen-----0.9954 \n",
        "\n",
        "error"
       ]
      },
      {
       "output_type": "stream",
       "stream": "stdout",
       "text": [
        "\n",
        "Sen-----0.9953 \n",
        "\n",
        "[u'Truckers demonstrating against the collection by double sense of the toll announced yesterday that they will continue with the closure of Route 3, between clean and Mariano Roque Alonso, for an indefinite time.']"
       ]
      },
      {
       "output_type": "stream",
       "stream": "stdout",
       "text": [
        "\n",
        "\n",
        "\n",
        "Sen-----0.9953 \n",
        "\n",
        "[u'1,000 million, which the State must assume, expressed from the State portfolio to this medium.']"
       ]
      },
      {
       "output_type": "stream",
       "stream": "stdout",
       "text": [
        "\n",
        "\n",
        "\n",
        "Sen-----0.9953 \n",
        "\n",
        "[u\"Cbtis 157 of Villa de Alvarez, the protesters came close to 10 o'clock in the morning and shouted slogans.\"]"
       ]
      },
      {
       "output_type": "stream",
       "stream": "stdout",
       "text": [
        "\n",
        "\n",
        "\n",
        "Sen-----0.9953 \n",
        "\n",
        "[u'Residents of the Eastern agricultural colony manifested yesterday morning in ring Periferico Oriente, close to the College of Sciences and Humanities, to demand the regularization of the service, a few hours starts the cut-off of supplies by the Cutzamala system works.']"
       ]
      },
      {
       "output_type": "stream",
       "stream": "stdout",
       "text": [
        "\n",
        "\n",
        "\n",
        "Sen-----0.9953 \n",
        "\n",
        "[u'For nearly two hours, prior to the manifestation mentors blocked the federal highway 190 outside the offices of the State Institute of public education in Oaxaca (IEEPA).']"
       ]
      },
      {
       "output_type": "stream",
       "stream": "stdout",
       "text": [
        "\n",
        "\n",
        "\n",
        "Sen-----0.9953 \n",
        "\n",
        "error"
       ]
      },
      {
       "output_type": "stream",
       "stream": "stdout",
       "text": [
        "\n",
        "Sen-----0.9952 \n",
        "\n",
        "[u'A-an irregular situation is recorded from noon on Thursday in the vicinity of the enprotagonizada (Ucat) for suspected students. Lacreo security fence in surroundings of the Ucat in Barrio Obrero.']"
       ]
      },
      {
       "output_type": "stream",
       "stream": "stdout",
       "text": [
        "\n",
        "\n",
        "\n",
        "Sen-----0.9949 \n",
        "\n",
        "error"
       ]
      },
      {
       "output_type": "stream",
       "stream": "stdout",
       "text": [
        "\n",
        "Sen-----0.9947 \n",
        "\n",
        "[u'Porphyria Melgarejo de Ocholasky, Secretary general of the Union of judicial officers of Paraguay (Sifjupar), announced that from tomorrow begin a strike stepped up to a total freeze on the activities of the judiciary, which would be in the first half of December.']"
       ]
      },
      {
       "output_type": "stream",
       "stream": "stdout",
       "text": [
        "\n",
        "\n",
        "\n",
        "Sen-----0.9947 \n",
        "\n",
        "[u'They are protesting workers of the Suspeg; they demand to be reinstated 13 employees']"
       ]
      },
      {
       "output_type": "stream",
       "stream": "stdout",
       "text": [
        "\n",
        "\n",
        "\n",
        "Sen-----0.9947 \n",
        "\n",
        "error"
       ]
      },
      {
       "output_type": "stream",
       "stream": "stdout",
       "text": [
        "\n",
        "Sen-----0.9947 \n",
        "\n",
        "[u'Regarding the mobilization that began yesterday, meanwhile, the leader pointed out that \"today the unemployment has risen considerably accession.']"
       ]
      },
      {
       "output_type": "stream",
       "stream": "stdout",
       "text": [
        "\n",
        "\n",
        "\n",
        "Sen-----0.9947 \n",
        "\n",
        "[u'Members of the CNTE blocked access from early time and planted in at least 30 municipal presidencies, to demand the release of the 52 fearfully arrested on December 7.']"
       ]
      },
      {
       "output_type": "stream",
       "stream": "stdout",
       "text": [
        "\n",
        "\n",
        "\n",
        "Sen-----0.9947 \n",
        "\n",
        "[u'Subsequently, unemployment in schools will be on Monday, to give way to a mobilization at the national level on Tuesday.']"
       ]
      },
      {
       "output_type": "stream",
       "stream": "stdout",
       "text": [
        "\n",
        "\n",
        "\n",
        "Sen-----0.9946 \n",
        "\n",
        "error"
       ]
      },
      {
       "output_type": "stream",
       "stream": "stdout",
       "text": [
        "\n",
        "Sen-----0.9945 \n",
        "\n",
        "[u'Protesters gathered opposite the headquarters of the one on the calle Mariscal Estigarribia causing a great traffic congestion.']"
       ]
      },
      {
       "output_type": "stream",
       "stream": "stdout",
       "text": [
        "\n",
        "\n",
        "\n",
        "Sen-----0.9944 \n",
        "\n",
        "[u'Mobilization was carried out through the streets of the city of Yasy Cany the day of Wednesday where it repudiated the disinterest of the competent authorities to the serious need.']"
       ]
      },
      {
       "output_type": "stream",
       "stream": "stdout",
       "text": [
        "\n",
        "\n",
        "\n",
        "Sen-----0.9944 \n",
        "\n",
        "[u'Yesterday, members of the SUTIEMS began an indefinite strike on all campuses of the Middle Education Institute prepas Superior (IEMS) in Mexico City.']"
       ]
      },
      {
       "output_type": "stream",
       "stream": "stdout",
       "text": [
        "\n",
        "\n",
        "\n",
        "Sen-----0.9943 \n",
        "\n",
        "error"
       ]
      },
      {
       "output_type": "stream",
       "stream": "stdout",
       "text": [
        "\n",
        "Sen-----0.9942 \n",
        "\n",
        "[u'Trade unionists carried out a protest in front of the City Hall of Santa key, in La Libertad, arguing that the commune has laid off hundreds of employees and has hired more.']"
       ]
      },
      {
       "output_type": "stream",
       "stream": "stdout",
       "text": [
        "\n",
        "\n",
        "\n",
        "Sen-----0.9941 \n",
        "\n",
        "[u'At the beginning of the measure is planned to carry out a picket in front of the University campus.']"
       ]
      },
      {
       "output_type": "stream",
       "stream": "stdout",
       "text": [
        "\n",
        "\n",
        "\n",
        "Sen-----0.9941 \n",
        "\n",
        "[u'Following the arrest of dissatisfied teachers, movements called for teachers of different points at the beginning of the highway Acapulco where began a walk towards the facilities of the CES, located some six kilometers to the South, which creates a virtual blockade of the land route and a severe traffic.']"
       ]
      },
      {
       "output_type": "stream",
       "stream": "stdout",
       "text": [
        "\n",
        "\n",
        "\n",
        "Sen-----0.9940 \n",
        "\n",
        "[u'Mobilization claimed 6% of GDP for education and criticizing the Minister of the Interior for eviction of the Codicen']"
       ]
      },
      {
       "output_type": "stream",
       "stream": "stdout",
       "text": [
        "\n",
        "\n",
        "\n",
        "Sen-----0.9939 \n",
        "\n",
        "[u\"Before the start of the caravan, the demonstrators chanted slogans against 'betrayal of the deputies' members of the Congress of the State, and took the Cancun-Playa del Carmen Highway heading north.\"]"
       ]
      },
      {
       "output_type": "stream",
       "stream": "stdout",
       "text": [
        "\n",
        "\n",
        "\n",
        "Sen-----0.9939 \n",
        "\n",
        "error"
       ]
      },
      {
       "output_type": "stream",
       "stream": "stdout",
       "text": [
        "\n",
        "Sen-----0.9938 \n",
        "\n",
        "[u\"Officials of the public prosecutor's Office continue mobilizing across the country to protest the cuts raised the 2016 budget for the institution.\"]"
       ]
      },
      {
       "output_type": "stream",
       "stream": "stdout",
       "text": [
        "\n",
        "\n",
        "\n",
        "Sen-----0.9936 \n",
        "\n",
        "[u'More than 200 protesters blocked two lanes of avenida Morelos, while in Bucareli transit flows.']"
       ]
      },
      {
       "output_type": "stream",
       "stream": "stdout",
       "text": [
        "\n",
        "\n",
        "\n",
        "Sen-----0.9936 \n",
        "\n",
        "error"
       ]
      },
      {
       "output_type": "stream",
       "stream": "stdout",
       "text": [
        "\n",
        "Sen-----0.9935 \n",
        "\n",
        "[u'Another March as unfolded the ceremony with students expressing their proclamations from a truck with flags of the PIT, dozens of protesters is distanced from the tumult to the cry of \"traitors\".']"
       ]
      },
      {
       "output_type": "stream",
       "stream": "stdout",
       "text": [
        "\n",
        "\n",
        "\n",
        "Sen-----0.9933 \n",
        "\n",
        "error"
       ]
      },
      {
       "output_type": "stream",
       "stream": "stdout",
       "text": [
        "\n",
        "Sen-----0.9933 \n",
        "\n",
        "[u'A group of drivers of federations and sector unions decided to make the strike in solidarity with the drivers fired from the line 49, of which about 20 are crucified against the Ministry of labor.']"
       ]
      },
      {
       "output_type": "stream",
       "stream": "stdout",
       "text": [
        "\n",
        "\n",
        "\n",
        "Sen-----0.9932 \n",
        "\n",
        "error"
       ]
      },
      {
       "output_type": "stream",
       "stream": "stdout",
       "text": [
        "\n",
        "Sen-----0.9932 \n",
        "\n",
        "[u'The mobilization will focus against the municipality of Fernando de la Mora on Mariscal Estigarribia.']"
       ]
      },
      {
       "output_type": "stream",
       "stream": "stdout",
       "text": [
        "\n",
        "\n",
        "\n",
        "Sen-----0.9931 \n",
        "\n",
        "error"
       ]
      },
      {
       "output_type": "stream",
       "stream": "stdout",
       "text": [
        "\n",
        "Sen-----0.9930 \n",
        "\n",
        "[u'Protests over lack of water remain in the Iztacalco delegation.']"
       ]
      },
      {
       "output_type": "stream",
       "stream": "stdout",
       "text": [
        "\n",
        "\n",
        "\n",
        "Sen-----0.9929 \n",
        "\n",
        "[u'| STUDENTS AND TEACHERS MARCHED TO THE MUNICIPALITY']"
       ]
      },
      {
       "output_type": "stream",
       "stream": "stdout",
       "text": [
        "\n",
        "\n",
        "\n",
        "Sen-----0.9929 \n",
        "\n",
        "[u'Residents blockaded the step about 7:00 a.m.']"
       ]
      },
      {
       "output_type": "stream",
       "stream": "stdout",
       "text": [
        "\n",
        "\n",
        "\n",
        "Sen-----0.9928 \n",
        "\n",
        "[u'On the stairs, other protesters, please joined another March.']"
       ]
      },
      {
       "output_type": "stream",
       "stream": "stdout",
       "text": [
        "\n",
        "\n",
        "\n",
        "Sen-----0.9927 \n",
        "\n",
        "error"
       ]
      },
      {
       "output_type": "stream",
       "stream": "stdout",
       "text": [
        "\n",
        "Sen-----0.9927 \n",
        "\n",
        "[u'Dozens of protesters are demanding changes that, they say, is driven from the administration of the Central de abastos.']"
       ]
      },
      {
       "output_type": "stream",
       "stream": "stdout",
       "text": [
        "\n",
        "\n",
        "\n",
        "Sen-----0.9926 \n",
        "\n",
        "error"
       ]
      },
      {
       "output_type": "stream",
       "stream": "stdout",
       "text": [
        "\n",
        "Sen-----0.9925 \n",
        "\n",
        "[u'Hundreds of people, led by relatives of the missing fearfully, marched from the Angel of independence to the Hemicycle to Juarez, where they held a rally by the 13 months of the attack on the fearfully in Iguala.']"
       ]
      },
      {
       "output_type": "stream",
       "stream": "stdout",
       "text": [
        "\n",
        "\n",
        "\n",
        "Sen-----0.9925 \n",
        "\n",
        "error"
       ]
      },
      {
       "output_type": "stream",
       "stream": "stdout",
       "text": [
        "\n",
        "Sen-----0.9924 \n",
        "\n",
        "[u'The banners from the protesters included photographs of the faces of the slain reporters.']"
       ]
      },
      {
       "output_type": "stream",
       "stream": "stdout",
       "text": [
        "\n",
        "\n",
        "\n",
        "Sen-----0.9924 \n",
        "\n",
        "error"
       ]
      },
      {
       "output_type": "stream",
       "stream": "stdout",
       "text": [
        "\n",
        "Sen-----0.9923 \n",
        "\n",
        "[u'For truckers rejected the cost of ida toll and turn and accompany the vindication of carriers.']"
       ]
      },
      {
       "output_type": "stream",
       "stream": "stdout",
       "text": [
        "\n",
        "\n",
        "\n",
        "Sen-----0.9923 \n",
        "\n",
        "[u'Demand for pending payments, teachers Guild members to section 18 of the national coordinator of education workers (CNTE) returned to March in Morelia, marched out of the Secretary of finance and administration and strengthened the encampment that the fearfully installed since Friday outside of Government Palace.']"
       ]
      },
      {
       "output_type": "stream",
       "stream": "stdout",
       "text": [
        "\n",
        "\n",
        "\n",
        "Sen-----0.9923 \n",
        "\n",
        "[u'A large number of secondary pupils marched this morning through better education.']"
       ]
      },
      {
       "output_type": "stream",
       "stream": "stdout",
       "text": [
        "\n",
        "\n",
        "\n",
        "Sen-----0.9921 \n",
        "\n",
        "error"
       ]
      },
      {
       "output_type": "stream",
       "stream": "stdout",
       "text": [
        "\n",
        "Sen-----0.9921 \n",
        "\n",
        "[u'Employees began the protests on Wednesday of last week, except Saturday and Sunday, with partial obstruction of the highway.']"
       ]
      },
      {
       "output_type": "stream",
       "stream": "stdout",
       "text": [
        "\n",
        "\n",
        "\n",
        "Sen-----0.9920 \n",
        "\n",
        "[u'As a first step, they blocked the passage on the Pan-American Highway, at the entrance to Los Chorros.']"
       ]
      },
      {
       "output_type": "stream",
       "stream": "stdout",
       "text": [
        "\n",
        "\n",
        "\n",
        "Sen-----0.9916 \n",
        "\n",
        "[u'Protesters carried banners with the legend: \"Sentences to perpetrators and accomplices\", \"No to impunity and lies\", \"We demand justice\".']"
       ]
      },
      {
       "output_type": "stream",
       "stream": "stdout",
       "text": [
        "\n",
        "\n",
        "\n",
        "Sen-----0.9916 \n",
        "\n",
        "[u'On this Monday morning is congested the Intercomunal Guarenas - Guatire Avenue because of a protest by a group of taxi drivers.']"
       ]
      },
      {
       "output_type": "stream",
       "stream": "stdout",
       "text": [
        "\n",
        "\n",
        "\n",
        "Sen-----0.9915 \n",
        "\n",
        "[u'Hundreds of people affiliated with Coomeva EPS services gathered at one of the venues of Cartagena to protest the terrible health services, according to the protesters.']"
       ]
      },
      {
       "output_type": "stream",
       "stream": "stdout",
       "text": [
        "\n",
        "\n",
        "\n",
        "Sen-----0.9915 \n",
        "\n",
        "[u'\"And also to say to the Government that despite the discounts we (teachers of the CETEG) will be present despite harassment by insecurity and they are calling for the teachers to return to classrooms,\" claimed.']"
       ]
      },
      {
       "output_type": "stream",
       "stream": "stdout",
       "text": [
        "\n",
        "\n",
        "\n",
        "Sen-----0.9914 \n",
        "\n",
        "[u'About 100 people blocked joint road and rail exclusive TransMilenio on Avenida Ciudad de Cali with 38th Street South, South - North, felt and prevent the passage towards the Patio Bonito sector.']"
       ]
      },
      {
       "output_type": "stream",
       "stream": "stdout",
       "text": [
        "\n",
        "\n",
        "\n",
        "Sen-----0.9914 \n",
        "\n",
        "[u'One of the demands of the SUTIEMS is maintenance of schools.']"
       ]
      },
      {
       "output_type": "stream",
       "stream": "stdout",
       "text": [
        "\n",
        "\n",
        "\n",
        "Sen-----0.9913 \n",
        "\n",
        "[u'Students found out strike by social networks, since the SUTIEMS published on your Facebook page that unemployment would skyrocket.']\n",
        "\n",
        "\n",
        "Sen-----0.9911 \n",
        "\n",
        "[u'The mobilization was convened by the movement by the alternative Social (MAS), and she also included family and friends of Camargo, who reported that in this week, it will restart the search for the girl.']"
       ]
      },
      {
       "output_type": "stream",
       "stream": "stdout",
       "text": [
        "\n",
        "\n",
        "\n",
        "Sen-----0.9911 \n",
        "\n",
        "[u'Women belonging to the match Paraguay Pyahura (PPP) and the national coordinator of rural and indigenous women (Conamuri) undertook a March from the Italy Square.']"
       ]
      },
      {
       "output_type": "stream",
       "stream": "stdout",
       "text": [
        "\n",
        "\n",
        "\n",
        "Sen-----0.9911 \n",
        "\n",
        "[u\"Protesters carried out the protest on the Transchaco road at the height of 25 km, in the vicinity of the scale's weighing of the Ministry of public works and communication (MOPC).\"]"
       ]
      },
      {
       "output_type": "stream",
       "stream": "stdout",
       "text": [
        "\n",
        "\n",
        "\n",
        "Sen-----0.9910 \n",
        "\n",
        "error"
       ]
      },
      {
       "output_type": "stream",
       "stream": "stdout",
       "text": [
        "\n",
        "Sen-----0.9908 \n",
        "\n",
        "error"
       ]
      },
      {
       "output_type": "stream",
       "stream": "stdout",
       "text": [
        "\n",
        "Sen-----0.9906 \n",
        "\n",
        "[u'Some 1,200 officials of the Directorate General of public records, the General direction of the automotive registration and the registration of trademarks and signs, yesterday began a 48-hour strike, claim of equal salaries and the lack of provision of inputs.']"
       ]
      },
      {
       "output_type": "stream",
       "stream": "stdout",
       "text": [
        "\n",
        "\n",
        "\n",
        "Sen-----0.9905 \n",
        "\n",
        "[u'Residents protesting the insecurity that exist in the area around the clock and blockaded the road in both directions...']"
       ]
      },
      {
       "output_type": "stream",
       "stream": "stdout",
       "text": [
        "\n",
        "\n",
        "\n",
        "Sen-----0.9904 \n",
        "\n",
        "[u'As they have done in recent days, residents of Filas de Mariche, protested at the height of the sector Las Tapias, for the failures in the water supply that has the entire area.']"
       ]
      },
      {
       "output_type": "stream",
       "stream": "stdout",
       "text": [
        "\n",
        "\n",
        "\n",
        "Sen-----0.9903 \n",
        "\n",
        "[u'The protesters want to March on the route III \"General Elizardo Aquino\", but with machetes and masks.']"
       ]
      },
      {
       "output_type": "stream",
       "stream": "stdout",
       "text": [
        "\n",
        "\n",
        "\n",
        "Sen-----0.9903 \n",
        "\n",
        "[u'After the agreement, children begin a vigil opposite the MEC which will culminate tomorrow with several demonstrations that will take place in schools through staggered paros, assemblies and sentatas for the attention of the authorities, according to the ruling order demand during the National Congress of high school students of Fenaes carried out to renew the leadership.']"
       ]
      },
      {
       "output_type": "stream",
       "stream": "stdout",
       "text": [
        "\n",
        "\n",
        "\n",
        "Sen-----0.9903 \n",
        "\n",
        "[u'Parents and relatives of the victims held a silent March and claimed against a religious school']"
       ]
      },
      {
       "output_type": "stream",
       "stream": "stdout",
       "text": [
        "\n",
        "\n",
        "\n",
        "Sen-----0.9901 \n",
        "\n",
        "[u\"Students of the College assumption escalation of the country's capital were this morning.\"]"
       ]
      },
      {
       "output_type": "stream",
       "stream": "stdout",
       "text": [
        "\n",
        "\n",
        "\n",
        "Sen-----0.9901 \n",
        "\n",
        "[u'The protesters were turning their backs on the municipal President of Puebla, while passersby and tourists who had cornered the historic centre surrounded protesters to listen to their demands.']"
       ]
      },
      {
       "output_type": "stream",
       "stream": "stdout",
       "text": [
        "\n",
        "\n",
        "\n",
        "Sen-----0.9901 \n",
        "\n",
        "[u'In this place the participants, coming from different municipalities miguelenos and unionenses, gathered with signs alluding to the month dedicated to combat breast cancer.']"
       ]
      },
      {
       "output_type": "stream",
       "stream": "stdout",
       "text": [
        "\n",
        "\n",
        "\n",
        "Sen-----0.9900 \n",
        "\n",
        "error"
       ]
      },
      {
       "output_type": "stream",
       "stream": "stdout",
       "text": [
        "\n",
        "Sen-----0.9899 \n",
        "\n",
        "[u'At the end of Thursday afternoon a group of peasants blocked the road to the coast in the sector of Puerto Valdivia, preventing the passage of vehicles, so Antioquia police confirmed it.']"
       ]
      },
      {
       "output_type": "stream",
       "stream": "stdout",
       "text": [
        "\n",
        "\n",
        "\n",
        "Sen-----0.9899 \n",
        "\n",
        "[u'This morning the services of B and H of the subway lines were interrupted by demonstrators from the Union of workers of the Metro (STS) that prevent the normal operation.']"
       ]
      },
      {
       "output_type": "stream",
       "stream": "stdout",
       "text": [
        "\n",
        "\n",
        "\n",
        "Sen-----0.9899 \n",
        "\n",
        "[u'Public transport drivers who went on strike today reaffirmed that the measure will continue until tomorrow.']"
       ]
      },
      {
       "output_type": "stream",
       "stream": "stdout",
       "text": [
        "\n",
        "\n",
        "\n",
        "Sen-----0.9897 \n",
        "\n",
        "[u'So did students of the late shift of the College, between 14:00 and 15:00, and equal demonstration were those of the night shift, from six in the afternoon, also for one hour.']"
       ]
      },
      {
       "output_type": "stream",
       "stream": "stdout",
       "text": [
        "\n",
        "\n",
        "\n",
        "Sen-----0.9895 \n",
        "\n",
        "[u'At the same time, another group is mobilized against the prosecution on claims of impunity in cases of femicide.']"
       ]
      },
      {
       "output_type": "stream",
       "stream": "stdout",
       "text": [
        "\n",
        "\n",
        "\n",
        "Sen-----0.9895 \n",
        "\n",
        "[u'The demonstrators joined the general strike were made from this Monday morning closure of route 5 \"General Bernardino Caballero\" and announced that they will continue to measure until this Tuesday.']"
       ]
      },
      {
       "output_type": "stream",
       "stream": "stdout",
       "text": [
        "\n",
        "\n",
        "\n",
        "Sen-----0.9895 \n",
        "\n",
        "[u'Students of Ayotzinapa Rural Normal and parents of students disappeared in September of 2014 arrive at Tlaxcala this weekend as part of the actions carried out to require relevant authorities clarify the facts in Iguala, Guerrero.']"
       ]
      },
      {
       "output_type": "stream",
       "stream": "stdout",
       "text": [
        "\n",
        "\n",
        "\n",
        "Sen-----0.9894 \n",
        "\n",
        "[u'The law establishes the Elimination of the tertiary and incorporation into the company or agencies that provided service. Later USB authorities must apply to the Ministry of education approval of resources to add to the payroll to this group of people. Drivers threaten to stop providing service to student routes did not reach an agreement or positive response to their situation.']"
       ]
      },
      {
       "output_type": "stream",
       "stream": "stdout",
       "text": [
        "\n",
        "\n",
        "\n",
        "Sen-----0.9894 \n",
        "\n",
        "[u'Despite the rain, high school students of various educational institutions marched yesterday against the Ministry of education.']"
       ]
      },
      {
       "output_type": "stream",
       "stream": "stdout",
       "text": [
        "\n",
        "\n",
        "\n",
        "Sen-----0.9894 \n",
        "\n",
        "[u'The measure had a low compliance with the worker sector, according to the same trade unionists.']"
       ]
      },
      {
       "output_type": "stream",
       "stream": "stdout",
       "text": [
        "\n",
        "\n",
        "\n",
        "Sen-----0.9894 \n",
        "\n",
        "[u'With blankets and banners, relatives of inmates who, by way of punishment, were transferred to prisons in other cities, concentrated on the access door to denounce what they describe as a violation of the Human Rights Act.']"
       ]
      },
      {
       "output_type": "stream",
       "stream": "stdout",
       "text": [
        "\n",
        "\n",
        "\n",
        "Sen-----0.9893 \n",
        "\n",
        "[u'Protesters claimed that the measure will continue until they obtain a favourable response from the authorities.']"
       ]
      },
      {
       "output_type": "stream",
       "stream": "stdout",
       "text": [
        "\n",
        "\n",
        "\n",
        "Sen-----0.9892 \n",
        "\n",
        "error"
       ]
      },
      {
       "output_type": "stream",
       "stream": "stdout",
       "text": [
        "\n",
        "Sen-----0.9892 \n",
        "\n",
        "[u'Young people had the support of the directors of cycle and the general Directorate, and you could also see a number of parents folded tailored to protest.']"
       ]
      },
      {
       "output_type": "stream",
       "stream": "stdout",
       "text": [
        "\n",
        "\n",
        "\n",
        "Sen-----0.9889 \n",
        "\n",
        "[u'This morning they marched in the city of Coronel Oviedo.']"
       ]
      },
      {
       "output_type": "stream",
       "stream": "stdout",
       "text": [
        "\n",
        "\n",
        "\n",
        "Sen-----0.9889 \n",
        "\n",
        "[u'After several sentatas and marches, secondary students continue strike demanding improvements in education.']"
       ]
      },
      {
       "output_type": "stream",
       "stream": "stdout",
       "text": [
        "\n",
        "\n",
        "\n",
        "Sen-----0.9887 \n",
        "\n",
        "[u'About 7:15 hours after a House who were around 120 people in the Park of the parade, residents tried to cut off vehicular circulation but were folded by grenadiers.']"
       ]
      },
      {
       "output_type": "stream",
       "stream": "stdout",
       "text": [
        "\n",
        "\n",
        "\n",
        "Sen-----0.9886 \n",
        "\n",
        "error"
       ]
      },
      {
       "output_type": "stream",
       "stream": "stdout",
       "text": [
        "\n",
        "Sen-----0.9885 \n",
        "\n",
        "[u'A group of strikers was concentrated at the Ministry of labour and joined the line 49, Limpena SA, workers who are there for months ago, to ask for the resignation of the Minister Guillermo Sosa.']"
       ]
      },
      {
       "output_type": "stream",
       "stream": "stdout",
       "text": [
        "\n",
        "\n",
        "\n",
        "Sen-----0.9885 \n",
        "\n",
        "[u'Around noon, the Protestants abandoned the site carrying their banners is where read freses as \"Are against the amendments!\"']"
       ]
      },
      {
       "output_type": "stream",
       "stream": "stdout",
       "text": [
        "\n",
        "\n",
        "\n",
        "Sen-----0.9885 \n",
        "\n",
        "[u'The protesters closed the Eusebio Ayala Avenue to repudiate the cases of planilleros with juicy wages in the institution, with banners containing messages such as: \"Wapenka and Bestard, Ramirez accomplice by accomplices, resign\" or \"please the people and honor their families.']"
       ]
      },
      {
       "output_type": "stream",
       "stream": "stdout",
       "text": [
        "\n",
        "\n",
        "\n",
        "Sen-----0.9884 \n",
        "\n",
        "[u'Members of the Federation of students peasants Socialists of Mexico and parents of the 43 missing fearfully marched yesterday in Tixtla to Chilpancingo, in rejection of the repression suffered the Normal Rural School of Ayotzinapa fellow on the road linking these two municipalities of the State of Guerrero on Wednesday.']"
       ]
      },
      {
       "output_type": "stream",
       "stream": "stdout",
       "text": [
        "\n",
        "\n",
        "\n",
        "Sen-----0.9884 \n",
        "\n",
        "[u'Held a March that was headed by officials of city woman San Miguel, municipal and central Government representatives.']"
       ]
      },
      {
       "output_type": "stream",
       "stream": "stdout",
       "text": [
        "\n",
        "\n",
        "\n",
        "Sen-----0.9883 \n",
        "\n",
        "[u'Around of 400 workers of the Ayuntamiento of San Pedro Tlaquepaque manifested in the vicinity of the Parian and the Municipal Presidency by the non-payment of their fortnight.']"
       ]
      },
      {
       "output_type": "stream",
       "stream": "stdout",
       "text": [
        "\n",
        "\n",
        "\n",
        "Sen-----0.9882 \n",
        "\n",
        "[u'The measure was intermittent every 20 minutes, which was extended until this afternoon.']"
       ]
      },
      {
       "output_type": "stream",
       "stream": "stdout",
       "text": [
        "\n",
        "\n",
        "\n",
        "Sen-----0.9881 \n",
        "\n",
        "[u'Vendors located in the calle Delgado, of the center of San Salvador, held a peaceful rally for not being in accordance with the transfer to the new market.']"
       ]
      },
      {
       "output_type": "stream",
       "stream": "stdout",
       "text": [
        "\n",
        "\n",
        "\n",
        "Sen-----0.9881 \n",
        "\n",
        "[u'An official of the health centre of Ayolas is chained and began a hunger strike to demand payment of six months of late salary.']"
       ]
      },
      {
       "output_type": "stream",
       "stream": "stdout",
       "text": [
        "\n",
        "\n",
        "\n",
        "Sen-----0.9881 \n",
        "\n",
        "[u\"Alluding to the protest banners ambientaban roundabouts, intersections of roads and streets and operated as a barrier from 10 o'clock in the morning until about noon.\"]"
       ]
      },
      {
       "output_type": "stream",
       "stream": "stdout",
       "text": [
        "\n",
        "\n",
        "\n",
        "Sen-----0.9881 \n",
        "\n",
        "error"
       ]
      },
      {
       "output_type": "stream",
       "stream": "stdout",
       "text": [
        "\n",
        "Sen-----0.9881 \n",
        "\n",
        "error"
       ]
      },
      {
       "output_type": "stream",
       "stream": "stdout",
       "text": [
        "\n",
        "Sen-----0.9880 \n",
        "\n",
        "[u\"It's Cristina Ramos Ayeza (42), who launched the hunger strike and is chained to the gates of the local assistance center in claim of six months of salary arrears.\"]"
       ]
      },
      {
       "output_type": "stream",
       "stream": "stdout",
       "text": [
        "\n",
        "\n",
        "\n",
        "Sen-----0.9880 \n",
        "\n",
        "[u'In the framework of this active mobilization, today, at 18:30, it invites all citizens wishing to attend the March to be held against the Pantheon of Heroes.']"
       ]
      },
      {
       "output_type": "stream",
       "stream": "stdout",
       "text": [
        "\n",
        "\n",
        "\n",
        "Sen-----0.9879 \n",
        "\n",
        "[u'A mobilization of teachers to the headquarters of the Buenos Aires legislature is scheduled for the 14.']"
       ]
      },
      {
       "output_type": "stream",
       "stream": "stdout",
       "text": [
        "\n",
        "\n",
        "\n",
        "Sen-----0.9879 \n",
        "\n",
        "error"
       ]
      },
      {
       "output_type": "stream",
       "stream": "stdout",
       "text": [
        "\n",
        "Sen-----0.9878 \n",
        "\n",
        "[u\"Until 19:00 no incidents were recorded, but protesters were shouting slogans against the Government, the Governor's Office.\"]"
       ]
      },
      {
       "output_type": "stream",
       "stream": "stdout",
       "text": [
        "\n",
        "\n",
        "\n",
        "Sen-----0.9878 \n",
        "\n",
        "[u'During the blockade there were moments of tension once some 300 federal police sought to evict the parents; However, the protesters and the authorities agreed that they would make the intermittent blockade to allow the passage of vehicles.']"
       ]
      },
      {
       "output_type": "stream",
       "stream": "stdout",
       "text": [
        "\n",
        "\n",
        "\n",
        "Sen-----0.9876 \n",
        "\n",
        "[u'About 200 protesters were part of the sit-in, which took place in the playground of the city of Esmeraldas, Center of the city, to protest against the constitutional amendments, the morning of this Thursday, December 3, 2015.']"
       ]
      },
      {
       "output_type": "stream",
       "stream": "stdout",
       "text": [
        "\n",
        "\n",
        "\n",
        "Sen-----0.9876 \n",
        "\n",
        "error"
       ]
      },
      {
       "output_type": "stream",
       "stream": "stdout",
       "text": [
        "\n",
        "Sen-----0.9875 \n",
        "\n",
        "[u'| Photo by EDH vendors located in the calle Delgado, of the center of San Salvador, held a peaceful rally for not being in accordance with the transfer to the new market.']"
       ]
      },
      {
       "output_type": "stream",
       "stream": "stdout",
       "text": [
        "\n",
        "\n",
        "\n",
        "Sen-----0.9875 \n",
        "\n",
        "[u'The arrival of the caravan of parents of Ayotzinapa and fearfully will be next Friday in the city of Huamantla, where will move to the State capital to later reach the Normal Rural Tlaxcala where sleeping.']"
       ]
      },
      {
       "output_type": "stream",
       "stream": "stdout",
       "text": [
        "\n",
        "\n",
        "\n",
        "Sen-----0.9874 \n",
        "\n",
        "[u'On the 20th anniversary of the founding of the Regional Coordinator of Community authorities (CRAC-PC) left normal, family community police of prisoners and social organizations demanding the recognition of the law 701 on the new Constitution and of prisoners.']"
       ]
      },
      {
       "output_type": "stream",
       "stream": "stdout",
       "text": [
        "\n",
        "\n",
        "\n",
        "Sen-----0.9874 \n",
        "\n",
        "[u'Demonstrated throughout the country by slowing transit; they received the support of drivers by honking or screaming from vehicles']"
       ]
      },
      {
       "output_type": "stream",
       "stream": "stdout",
       "text": [
        "\n",
        "\n",
        "\n",
        "Sen-----0.9873 \n",
        "\n",
        "[u'The peaceful rally held yesterday in the Plaza Morazan by sellers of the Center belonging to the CNV, was to express this situation.']"
       ]
      },
      {
       "output_type": "stream",
       "stream": "stdout",
       "text": [
        "\n",
        "\n",
        "\n",
        "Sen-----0.9873 \n",
        "\n",
        "[u'High school students from public and private colleges after a more than 15-hour Vigil, yesterday demonstrated outside the Ministry of education despite the heavy rain.']"
       ]
      },
      {
       "output_type": "stream",
       "stream": "stdout",
       "text": [
        "\n",
        "\n",
        "\n",
        "Sen-----0.9872 \n",
        "\n",
        "[u'The conflict began around 14:00, when a group of students from General Artigas, carrying signs of protest, tried to enter the grounds of the University, located in this town Quiteria.']"
       ]
      },
      {
       "output_type": "stream",
       "stream": "stdout",
       "text": [
        "\n",
        "\n",
        "\n",
        "Sen-----0.9871 \n",
        "\n",
        "error"
       ]
      },
      {
       "output_type": "stream",
       "stream": "stdout",
       "text": [
        "\n",
        "Sen-----0.9871 \n",
        "\n",
        "[u\"About 300 workers who were dismissed from the Agency's drinking water sewerage and sanitation (Oapas) of the Mexican municipality of Naucalpan demonstrated yesterday outside dependency to demand payment of wages for the first two weeks of January, settlements and the reinstatement in their seats.\"]"
       ]
      },
      {
       "output_type": "stream",
       "stream": "stdout",
       "text": [
        "\n",
        "\n",
        "\n",
        "Sen-----0.9870 \n",
        "\n",
        "[u'On Friday reported a protest in Quibor - Barquisimeto highway.']"
       ]
      },
      {
       "output_type": "stream",
       "stream": "stdout",
       "text": [
        "\n",
        "\n",
        "\n",
        "Sen-----0.9870 \n",
        "\n",
        "error"
       ]
      },
      {
       "output_type": "stream",
       "stream": "stdout",
       "text": [
        "\n",
        "Sen-----0.9869 \n",
        "\n",
        "[u'The master cetegistas increased tone mobilisation with banks located in the socket outlet: Bancomer, Banamex and Santander.']"
       ]
      },
      {
       "output_type": "stream",
       "stream": "stdout",
       "text": [
        "\n",
        "\n",
        "\n",
        "Sen-----0.9868 \n",
        "\n",
        "[u'Today at 18:30, they manifest against the Pantheon of Heroes.']"
       ]
      },
      {
       "output_type": "stream",
       "stream": "stdout",
       "text": [
        "\n",
        "\n",
        "\n",
        "Sen-----0.9866 \n",
        "\n",
        "[u'Around 200 drivers not mated were stoned when they tried to serve, as the Guild reported.']"
       ]
      },
      {
       "output_type": "stream",
       "stream": "stdout",
       "text": [
        "\n",
        "\n",
        "\n",
        "Sen-----0.9865 \n",
        "\n",
        "[u'Cited as \"sit-down\" will be today for an hour, from 12:00 to 13:00, and on Monday are plans to conduct the same demonstration from 11:00 to 13:00, he said Turo.']"
       ]
      },
      {
       "output_type": "stream",
       "stream": "stdout",
       "text": [
        "\n",
        "\n",
        "\n",
        "Sen-----0.9865 \n",
        "\n",
        "error"
       ]
      },
      {
       "output_type": "stream",
       "stream": "stdout",
       "text": [
        "\n",
        "Sen-----0.9862 \n",
        "\n",
        "[u'In the banner asked Ramirez to stop give Radice G.']"
       ]
      },
      {
       "output_type": "stream",
       "stream": "stdout",
       "text": [
        "\n",
        "\n",
        "\n",
        "Sen-----0.9862 \n",
        "\n",
        "[u'Five thousand members of the so-called movement of unification of fight Triqui Indians marched and marched in the city of Oaxaca to demand clarification of the assassination of its leader and founder, Heriberto Pazos.']"
       ]
      },
      {
       "output_type": "stream",
       "stream": "stdout",
       "text": [
        "\n",
        "\n",
        "\n",
        "Sen-----0.9862 \n",
        "\n",
        "[u'Mobilization started at 18.00, at the same site where students held vigil for days, under the tatajyva tree.']"
       ]
      },
      {
       "output_type": "stream",
       "stream": "stdout",
       "text": [
        "\n",
        "\n",
        "\n",
        "Sen-----0.9862 \n",
        "\n",
        "error"
       ]
      },
      {
       "output_type": "stream",
       "stream": "stdout",
       "text": [
        "\n",
        "Sen-----0.9861 \n",
        "\n",
        "[u'On the other hand, highlighted as a great \"gesture\" that protesters closed only half road route Mariscal Estigarribia and intermittently.']"
       ]
      },
      {
       "output_type": "stream",
       "stream": "stdout",
       "text": [
        "\n",
        "\n",
        "\n",
        "Sen-----0.9860 \n",
        "\n",
        "[u'In a fairly heated environment, officials of the Directorate of human resources are at this time conducting a demonstration that demanded the Mayor Mario Ferreiro resignation of officials Miriam Arroquia, responsible for documentations, and Lourdes Casanello, Director of human resources.']"
       ]
      },
      {
       "output_type": "stream",
       "stream": "stdout",
       "text": [
        "\n",
        "\n",
        "\n",
        "Sen-----0.9860 \n",
        "\n",
        "[u'From the 8 protesters cut the transit in Callao and Corrientes.']"
       ]
      },
      {
       "output_type": "stream",
       "stream": "stdout",
       "text": [
        "\n",
        "\n",
        "\n",
        "Sen-----0.9859 \n",
        "\n",
        "[u'The measure of force will continue until they give us an answer.']"
       ]
      },
      {
       "output_type": "stream",
       "stream": "stdout",
       "text": [
        "\n",
        "\n",
        "\n",
        "Sen-----0.9857 \n",
        "\n",
        "error"
       ]
      },
      {
       "output_type": "stream",
       "stream": "stdout",
       "text": [
        "\n",
        "Sen-----0.9856 \n",
        "\n",
        "[u\"Officials are on the Chile Street opposite the building of the General Prosecutor's Office, from where will be mobilized to Congress square demanding the Parliament will review the measure to cut its budget.\"]"
       ]
      },
      {
       "output_type": "stream",
       "stream": "stdout",
       "text": [
        "\n",
        "\n",
        "\n",
        "Sen-----0.9856 \n",
        "\n",
        "[u'The national strike convened by the CNTE had its impact in Guerrero: a March led by the popes of the 43 fearfully from Ayotzinapa, on the autopista del Sol, which blocked for about two hours and a half, until riot police arrived.']"
       ]
      },
      {
       "output_type": "stream",
       "stream": "stdout",
       "text": [
        "\n",
        "\n",
        "\n",
        "Sen-----0.9854 \n",
        "\n",
        "error"
       ]
      },
      {
       "output_type": "stream",
       "stream": "stdout",
       "text": [
        "\n",
        "Sen-----0.9854 \n",
        "\n",
        "[u'The protesters claimed local students their lack of support and their fear to speak out against the University authorities, until a group of students of the Faculty of engineering left inside the room and joined their colleagues who are in the street.']"
       ]
      },
      {
       "output_type": "stream",
       "stream": "stdout",
       "text": [
        "\n",
        "\n",
        "\n",
        "Sen-----0.9854 \n",
        "\n",
        "[u\"After hour and a half's March from the Angel of independence, the national coordinator of the workers of education teachers arrived at the headquarters of the Secretariat of public education (SEP9, in the historic centre of the city of Mexico, to held a rally against education reform and teacher evaluation.)\"]"
       ]
      },
      {
       "output_type": "stream",
       "stream": "stdout",
       "text": [
        "\n",
        "\n",
        "\n",
        "Sen-----0.9851 \n",
        "\n",
        "error"
       ]
      },
      {
       "output_type": "stream",
       "stream": "stdout",
       "text": [
        "\n",
        "Sen-----0.9851 \n",
        "\n",
        "[u'Organizers called focus at 15 on the Plaza Pringles to participate in workshops with different topics and two hours later will depart the demonstration course at the judiciary.']"
       ]
      },
      {
       "output_type": "stream",
       "stream": "stdout",
       "text": [
        "\n",
        "\n",
        "\n",
        "Sen-----0.9851 \n",
        "\n",
        "[u'To the cry of \"listening to Obama, we are in the fight!\", and \"no human being is illegal!\", the protesters marched on the side of reform to reach the Embassy as part of the commemoration by the international migrants day, which it said there is nothing to celebrate, after accusing that the Mexican federal Government has dedicated itself to do the job for us in the last 2 years.']"
       ]
      },
      {
       "output_type": "stream",
       "stream": "stdout",
       "text": [
        "\n",
        "\n",
        "\n",
        "Sen-----0.9850 \n",
        "\n",
        "[u'Producers announced that they will be installed on the side of routes 1 and 6 (see graphics), for an indefinite time, but without closing the sections.']"
       ]
      },
      {
       "output_type": "stream",
       "stream": "stdout",
       "text": [
        "\n",
        "\n",
        "\n",
        "Sen-----0.9850 \n",
        "\n",
        "[u'They are graphics employees of the former Donnelley and WorldColor demanding \"immediate expropriation\" of both factories in favor of unions that formed the workers.']"
       ]
      },
      {
       "output_type": "stream",
       "stream": "stdout",
       "text": [
        "\n",
        "\n",
        "\n",
        "Sen-----0.9849 \n",
        "\n",
        "error"
       ]
      },
      {
       "output_type": "stream",
       "stream": "stdout",
       "text": [
        "\n",
        "Sen-----0.9848 \n",
        "\n",
        "error"
       ]
      },
      {
       "output_type": "stream",
       "stream": "stdout",
       "text": [
        "\n",
        "Sen-----0.9848 \n",
        "\n",
        "[u'Neighbors of the sector expressed their discontent due to lack of public services.']"
       ]
      },
      {
       "output_type": "stream",
       "stream": "stdout",
       "text": [
        "\n",
        "\n",
        "\n",
        "Sen-----0.9847 \n",
        "\n",
        "[u'This measure had broad support by teachers who supported students.']"
       ]
      },
      {
       "output_type": "stream",
       "stream": "stdout",
       "text": [
        "\n",
        "\n",
        "\n",
        "Sen-----0.9846 \n",
        "\n",
        "[u'Delivery of the missive was launched amid a manifestation of parents and representatives of various groups of the civil society on the edge of the seat of the Court, in the historic centre, 16 months after the disappearance of 43 normalistas Ayotzinapa young.']"
       ]
      },
      {
       "output_type": "stream",
       "stream": "stdout",
       "text": [
        "\n",
        "\n",
        "\n",
        "Sen-----0.9846 \n",
        "\n",
        "[u'The action was promoted by the rector of the UNI, ING.']"
       ]
      },
      {
       "output_type": "stream",
       "stream": "stdout",
       "text": [
        "\n",
        "\n",
        "\n",
        "Sen-----0.9845 \n",
        "\n",
        "[u'With the slogan go with flags, posters and t-shirts of la Albirroja, a group of limpenos citizens organized a March in the city, against the municipal management. The March will start from Club new star to the municipality of clean, where a sit will be to reclaim the rights of citizenship. Among the main points requiring residents of clean request for greater transparency is in the municipal administration on the resources of the Fonacide and royalties.']"
       ]
      },
      {
       "output_type": "stream",
       "stream": "stdout",
       "text": [
        "\n",
        "\n",
        "\n",
        "Sen-----0.9845 \n",
        "\n",
        "[u'Bales, parked tractors, berets, thermoses and mates, jars of milk to mark territory, thousands of farmers marched in the yesterday morning in different parts of the country.']"
       ]
      },
      {
       "output_type": "stream",
       "stream": "stdout",
       "text": [
        "\n",
        "\n",
        "\n",
        "Sen-----0.9844 \n",
        "\n",
        "[u'The group departed from the Explanada de los Heroes, where they met the policemen and their families.']"
       ]
      },
      {
       "output_type": "stream",
       "stream": "stdout",
       "text": [
        "\n",
        "\n",
        "\n",
        "Sen-----0.9839 \n",
        "\n",
        "[u'At the same time, 17 are invited to the March that will depart from Plaza Montenegro to complete at the national monument to the flag.']"
       ]
      },
      {
       "output_type": "stream",
       "stream": "stdout",
       "text": [
        "\n",
        "\n",
        "\n",
        "Sen-----0.9836 \n",
        "\n",
        "[u'The mobilization generated long lines of vehicles travelling on route Transchaco.']"
       ]
      },
      {
       "output_type": "stream",
       "stream": "stdout",
       "text": [
        "\n",
        "\n",
        "\n",
        "Sen-----0.9835 \n",
        "\n",
        "[u'The Trustees did not permit the entry of a group of officials who carried out a strike to demand payment of their salaries.']"
       ]
      },
      {
       "output_type": "stream",
       "stream": "stdout",
       "text": [
        "\n",
        "\n",
        "\n",
        "Sen-----0.9835 \n",
        "\n",
        "[u'The teachers decided to hold a rally where expressed his rejection to the educational test.']"
       ]
      },
      {
       "output_type": "stream",
       "stream": "stdout",
       "text": [
        "\n",
        "\n",
        "\n",
        "Sen-----0.9835 \n",
        "\n",
        "[u'| SERIOUS ALLEGATIONS OF EMPLOYEES THAT PERFORM STRIKE TO DEMAND PAYMENT OF WAGES']"
       ]
      },
      {
       "output_type": "stream",
       "stream": "stdout",
       "text": [
        "\n",
        "\n",
        "\n",
        "Sen-----0.9832 \n",
        "\n",
        "[u'The students will leave Tuesday at 18:30 hours, from Plaza de Armas to the u. of Chile.']"
       ]
      },
      {
       "output_type": "stream",
       "stream": "stdout",
       "text": [
        "\n",
        "\n",
        "\n",
        "Sen-----0.9832 \n",
        "\n",
        "[u'From early time, the inhabitants of the colony the mill closed roads, first heading to the city of Mexico, in demand that will build a pedestrian bridge and a vehicular way.']"
       ]
      },
      {
       "output_type": "stream",
       "stream": "stdout",
       "text": [
        "\n",
        "\n",
        "\n",
        "Sen-----0.9831 \n",
        "\n",
        "error"
       ]
      },
      {
       "output_type": "stream",
       "stream": "stdout",
       "text": [
        "\n",
        "Sen-----0.9831 \n",
        "\n",
        "error"
       ]
      },
      {
       "output_type": "stream",
       "stream": "stdout",
       "text": [
        "\n",
        "Sen-----0.9831 \n",
        "\n",
        "[u'Mobilization, meanwhile, will take place from Plaza de Armas to the University of Chile, by the Paseo Ahumada.']"
       ]
      },
      {
       "output_type": "stream",
       "stream": "stdout",
       "text": [
        "\n",
        "\n",
        "\n",
        "Sen-----0.9830 \n",
        "\n",
        "[u'About 40,000 people were in this Monday morning were affected by the blockade carried out several buses in public transport (TPC) to TransMilenio (TM), in the South of the city.']"
       ]
      },
      {
       "output_type": "stream",
       "stream": "stdout",
       "text": [
        "\n",
        "\n",
        "\n",
        "Sen-----0.9828 \n",
        "\n",
        "error"
       ]
      },
      {
       "output_type": "stream",
       "stream": "stdout",
       "text": [
        "\n",
        "Sen-----0.9828 \n",
        "\n",
        "[u'Around 1,000 students from the Faculty of philosophy and the Polytechnic of the National University of the East, they carried out a demonstration against cases of corruption involving the authorities.']"
       ]
      },
      {
       "output_type": "stream",
       "stream": "stdout",
       "text": [
        "\n",
        "\n",
        "\n",
        "Sen-----0.9828 \n",
        "\n",
        "[u'Next Thursday there will be a demonstration once again to demand to continue the renovation work.']"
       ]
      },
      {
       "output_type": "stream",
       "stream": "stdout",
       "text": [
        "\n",
        "\n",
        "\n",
        "Sen-----0.9827 \n",
        "\n",
        "[u'Before continuing his March through the Eusebio Ayala Avenue, members of the party Pyahura Paraguay - who started a mobilization since last Street and Mariscal Estigarribia - made a stop in front of the TSJE, where referred to the Court as \"bandits\" that govern the country.']"
       ]
      },
      {
       "output_type": "stream",
       "stream": "stdout",
       "text": [
        "\n",
        "\n",
        "\n",
        "Sen-----0.9827 \n",
        "\n",
        "error"
       ]
      },
      {
       "output_type": "stream",
       "stream": "stdout",
       "text": [
        "\n",
        "Sen-----0.9827 \n",
        "\n",
        "[u'Representatives of Central workers announced that they will remain in place until the afternoon.']"
       ]
      },
      {
       "output_type": "stream",
       "stream": "stdout",
       "text": [
        "\n",
        "\n",
        "\n",
        "Sen-----0.9826 \n",
        "\n",
        "[u'Fernando de la Mora made Thursday a sit, after the general formation of entrance to the institution in the morning.']"
       ]
      },
      {
       "output_type": "stream",
       "stream": "stdout",
       "text": [
        "\n",
        "\n",
        "\n",
        "Sen-----0.9826 \n",
        "\n",
        "error"
       ]
      },
      {
       "output_type": "stream",
       "stream": "stdout",
       "text": [
        "\n",
        "Sen-----0.9825 \n",
        "\n",
        "[u'Since this Monday will provide seedlings in the large Plaza, opposite the municipality of Quito.']"
       ]
      },
      {
       "output_type": "stream",
       "stream": "stdout",
       "text": [
        "\n",
        "\n",
        "\n",
        "Sen-----0.9825 \n",
        "\n",
        "[u'In the South, this Saturday morning, teachers protested against the evaluation in four roads in Zacatepec Cruiser, where since very early, the only control elements were stationed to prevent the passage of the demonstrators.']"
       ]
      },
      {
       "output_type": "stream",
       "stream": "stdout",
       "text": [
        "\n",
        "\n",
        "\n",
        "Sen-----0.9824 \n",
        "\n",
        "[u'The protests were joined by about 200 students from the normal nural from Ayotzinapa, who blocked the motorway of the Sun to support teachers, against the educational forms and the requirement of the submission of the 43 missing fearfully.']"
       ]
      },
      {
       "output_type": "stream",
       "stream": "stdout",
       "text": [
        "\n",
        "\n",
        "\n",
        "Sen-----0.9822 \n",
        "\n",
        "[u'The day of fight will begin at 11 am with a demonstration in the provincial courts of the Balcarce Street 1651, where a petition will be delivered to the Supreme Court of Justice of the province, appropriated the organizers.']"
       ]
      },
      {
       "output_type": "stream",
       "stream": "stdout",
       "text": [
        "\n",
        "\n",
        "\n",
        "Sen-----0.9822 \n",
        "\n",
        "[u'Opposite the municipality of Lambare, CNL students expressed their repudiation by the collapse in coincidence with the general protest of secondary students.']"
       ]
      },
      {
       "output_type": "stream",
       "stream": "stdout",
       "text": [
        "\n",
        "\n",
        "\n",
        "Sen-----0.9820 \n",
        "\n",
        "[u'In addition, they demand a wage increase to reach a salary of 14 thousand pesos.']"
       ]
      },
      {
       "output_type": "stream",
       "stream": "stdout",
       "text": [
        "\n",
        "\n",
        "\n",
        "Sen-----0.9819 \n",
        "\n",
        "[u'Support to the protest, leaders of the Guild ATE at the national level will be tomorrow a March at 11 to the Casa de Santa Cruz, may 25 279, in Buenos Aires.']"
       ]
      },
      {
       "output_type": "stream",
       "stream": "stdout",
       "text": [
        "\n",
        "\n",
        "\n",
        "Sen-----0.9817 \n",
        "\n",
        "[u'In the streets of the Center, merchants and residents looked to pass the demonstration.']"
       ]
      },
      {
       "output_type": "stream",
       "stream": "stdout",
       "text": [
        "\n",
        "\n",
        "\n",
        "Sen-----0.9817 \n",
        "\n",
        "[u'Around 9 in the morning two groups of one thousand 500 teachers from the Ceteg and the Suspeg, among others, organizations marched along the Boulevard of the Nations, from the diversion to the booth of Metlapil, to the Forum where the teaching examination would be.']"
       ]
      },
      {
       "output_type": "stream",
       "stream": "stdout",
       "text": [
        "\n",
        "\n",
        "\n",
        "Sen-----0.9815 \n",
        "\n",
        "[u'Limited access to Petare since the Urbina by protest @MaquinaDelAire @El_Noticiero @traficovv @EUtrafico pic.twitter.com/v50UWrKlAQ - image (@Imag3n) November 2, 2015']"
       ]
      },
      {
       "output_type": "stream",
       "stream": "stdout",
       "text": [
        "\n",
        "\n",
        "\n",
        "Sen-----0.9814 \n",
        "\n",
        "[u\"In the morning, workers of the State-owned company is grouped into its headquarters, in the avenida Libertador, to March to the Palace of Government in order to protest by opposition spokesmen's comments on privatization of Cantv.\"]"
       ]
      },
      {
       "output_type": "stream",
       "stream": "stdout",
       "text": [
        "\n",
        "\n",
        "\n",
        "Sen-----0.9813 \n",
        "\n",
        "[u'Students are demanding the resignation of their Dean Torales Jaime Kennedy.']"
       ]
      },
      {
       "output_type": "stream",
       "stream": "stdout",
       "text": [
        "\n",
        "\n",
        "\n",
        "Sen-----0.9811 \n",
        "\n",
        "error"
       ]
      },
      {
       "output_type": "stream",
       "stream": "stdout",
       "text": [
        "\n",
        "Sen-----0.9811 \n",
        "\n",
        "[u'The tension began when the peacekeepers cordoned off the protesters marking the area that could reach.']"
       ]
      },
      {
       "output_type": "stream",
       "stream": "stdout",
       "text": [
        "\n",
        "\n",
        "\n",
        "Sen-----0.9811 \n",
        "\n",
        "error"
       ]
      },
      {
       "output_type": "stream",
       "stream": "stdout",
       "text": [
        "\n",
        "Sen-----0.9810 \n",
        "\n",
        "[u'The organizers estimate mobilization culminate around 14:30 hours, after the realization of different cultural activities.']"
       ]
      },
      {
       "output_type": "stream",
       "stream": "stdout",
       "text": [
        "\n",
        "\n",
        "\n",
        "Sen-----0.9810 \n",
        "\n",
        "[u'Some 200 demonstrators held opposite the one campus.']"
       ]
      },
      {
       "output_type": "stream",
       "stream": "stdout",
       "text": [
        "\n",
        "\n",
        "\n",
        "Sen-----0.9810 \n",
        "\n",
        "[u'This time, they toured the Guayaquil Street until you reach the Plaza de Santo Domingo.']"
       ]
      },
      {
       "output_type": "stream",
       "stream": "stdout",
       "text": [
        "\n",
        "\n",
        "\n",
        "Sen-----0.9807 \n",
        "\n",
        "error"
       ]
      },
      {
       "output_type": "stream",
       "stream": "stdout",
       "text": [
        "\n",
        "Sen-----0.9807 \n",
        "\n",
        "[u'The trancon went from the portals of Usme and Tunal to Calle 40 sur station.']"
       ]
      },
      {
       "output_type": "stream",
       "stream": "stdout",
       "text": [
        "\n",
        "\n",
        "\n",
        "Sen-----0.9805 \n",
        "\n",
        "[u'They were employees of ANSES who then marched to Plaza de Mayo.']"
       ]
      },
      {
       "output_type": "stream",
       "stream": "stdout",
       "text": [
        "\n",
        "\n",
        "\n",
        "Sen-----0.9805 \n",
        "\n",
        "[u'Teachers gathered this Friday against the Ministry of education to protest the dismissal of their leaders.']"
       ]
      },
      {
       "output_type": "stream",
       "stream": "stdout",
       "text": [
        "\n",
        "\n",
        "\n",
        "Sen-----0.9805 \n",
        "\n",
        "[u'Stayed at the intersection with the Rocafuerte to shout slogans such as: \"we want to work!']"
       ]
      },
      {
       "output_type": "stream",
       "stream": "stdout",
       "text": [
        "\n",
        "\n",
        "\n",
        "Sen-----0.9805 \n",
        "\n",
        "[u'Cooperators hold protest for 34 days before the provincial Government House. Photo: the nation/press governorate']"
       ]
      },
      {
       "output_type": "stream",
       "stream": "stdout",
       "text": [
        "\n",
        "\n",
        "\n",
        "Sen-----0.9805 \n",
        "\n",
        "[u'Educators gathered to the Organization of workers of the education of the Paraguay - National Union (OTEP-SN) manifest themselves in front of the building of the Ministry of education (MEC).']"
       ]
      },
      {
       "output_type": "stream",
       "stream": "stdout",
       "text": [
        "\n",
        "\n",
        "\n",
        "Sen-----0.9803 \n",
        "\n",
        "[u'They were led by the three brothers.']"
       ]
      },
      {
       "output_type": "stream",
       "stream": "stdout",
       "text": [
        "\n",
        "\n",
        "\n",
        "Sen-----0.9803 \n",
        "\n",
        "[u'Two articulated buses were punctured, apparently by protesters.']"
       ]
      },
      {
       "output_type": "stream",
       "stream": "stdout",
       "text": [
        "\n",
        "\n",
        "\n",
        "Sen-----0.9801 \n",
        "\n",
        "[u'Past 7: 00 this morning a group of protesters reached the commune from Central station, at the intersection of the Alameda with the bars to intervene the transit in place.']"
       ]
      },
      {
       "output_type": "stream",
       "stream": "stdout",
       "text": [
        "\n",
        "\n",
        "\n",
        "Sen-----0.9800 \n",
        "\n",
        "error"
       ]
      },
      {
       "output_type": "stream",
       "stream": "stdout",
       "text": [
        "\n",
        "Sen-----0.9799 \n",
        "\n",
        "[u'With banners, sticks and whistles shout slogans to allow them to continue working.']"
       ]
      },
      {
       "output_type": "stream",
       "stream": "stdout",
       "text": [
        "\n",
        "\n",
        "\n",
        "Sen-----0.9797 \n",
        "\n",
        "[u'The leaders of the central workers that call for the general strike had met with De Vargas on Wednesday.']"
       ]
      },
      {
       "output_type": "stream",
       "stream": "stdout",
       "text": [
        "\n",
        "\n",
        "\n",
        "Sen-----0.9796 \n",
        "\n",
        "[u'Trade unionists closed facilities at the central offices of the/NRNP as a measure of pressure due to lack of response to their requests.']"
       ]
      },
      {
       "output_type": "stream",
       "stream": "stdout",
       "text": [
        "\n",
        "\n",
        "\n",
        "Sen-----0.9794 \n",
        "\n",
        "[u'At the time of his entrance to the Court of appeal, Bishop Barros prevented a group of demonstrators that reached the outskirts of place with banners and loudly making clear their opposition to the appointment of the priest as the holder of the bishopric osornino.']"
       ]
      },
      {
       "output_type": "stream",
       "stream": "stdout",
       "text": [
        "\n",
        "\n",
        "\n",
        "Sen-----0.9794 \n",
        "\n",
        "[u'Rio Mixcoac neighbor placed an offering in protest for felling 600 trees in the area.']"
       ]
      },
      {
       "output_type": "stream",
       "stream": "stdout",
       "text": [
        "\n",
        "\n",
        "\n",
        "Sen-----0.9790 \n",
        "\n",
        "error"
       ]
      },
      {
       "output_type": "stream",
       "stream": "stdout",
       "text": [
        "\n",
        "Sen-----0.9788 \n",
        "\n",
        "[u'The strike is organized by the Confederation of working class, the National Confederation of workers and the Central Unit real.']"
       ]
      },
      {
       "output_type": "stream",
       "stream": "stdout",
       "text": [
        "\n",
        "\n",
        "\n",
        "Sen-----0.9786 \n",
        "\n",
        "error"
       ]
      },
      {
       "output_type": "stream",
       "stream": "stdout",
       "text": [
        "\n",
        "Sen-----0.9786 \n",
        "\n",
        "error"
       ]
      },
      {
       "output_type": "stream",
       "stream": "stdout",
       "text": [
        "\n",
        "Sen-----0.9786 \n",
        "\n",
        "error"
       ]
      },
      {
       "output_type": "stream",
       "stream": "stdout",
       "text": [
        "\n",
        "Sen-----0.9784 \n",
        "\n",
        "[u'In addition, they chained in front of the premises of the institution.']"
       ]
      },
      {
       "output_type": "stream",
       "stream": "stdout",
       "text": [
        "\n",
        "\n",
        "\n",
        "Sen-----0.9783 \n",
        "\n",
        "[u\"SANTIAGO.-close from 13:00 hours today's incidents between protesters and police in the Centre of Santiago, after the mapuche March by October 12.\"]"
       ]
      },
      {
       "output_type": "stream",
       "stream": "stdout",
       "text": [
        "\n",
        "\n",
        "\n",
        "Sen-----0.9780 \n",
        "\n",
        "error"
       ]
      },
      {
       "output_type": "stream",
       "stream": "stdout",
       "text": [
        "\n",
        "Sen-----0.9777 \n",
        "\n",
        "[u'Young people were carrying Paraguayan flags and banners.']"
       ]
      },
      {
       "output_type": "stream",
       "stream": "stdout",
       "text": [
        "\n",
        "\n",
        "\n",
        "Sen-----0.9777 \n",
        "\n",
        "[u'But the Government, after several encounters with protesters, managed to disable the protest by giving $300 to farm families in the area.']"
       ]
      },
      {
       "output_type": "stream",
       "stream": "stdout",
       "text": [
        "\n",
        "\n",
        "\n",
        "Sen-----0.9775 \n",
        "\n",
        "[u'A second protest complicated circulation in Cordoba with Maipu Street crossing.']"
       ]
      },
      {
       "output_type": "stream",
       "stream": "stdout",
       "text": [
        "\n",
        "\n",
        "\n",
        "Sen-----0.9775 \n",
        "\n",
        "[u'The U.S. Hansuh maquiladora workers blocked the Friday night and tomorrow Saturday the accesses of the factory to demand better wages, benefits and to cease the harassment at work, as what you earn fails them to live.']"
       ]
      },
      {
       "output_type": "stream",
       "stream": "stdout",
       "text": [
        "\n",
        "\n",
        "\n",
        "Sen-----0.9773 \n",
        "\n",
        "[u'Students of the human ecology career blocked the access to the Dean of the Faculty of agricultural sciences and his specialty as a protest by the appointment in the direction of a teacher who is not of the affection of the students.']"
       ]
      },
      {
       "output_type": "stream",
       "stream": "stdout",
       "text": [
        "\n",
        "\n",
        "\n",
        "Sen-----0.9771 \n",
        "\n",
        "[u'From 14.30 hours on Monday ruled a strike in all the transport Copsa line services.']"
       ]
      },
      {
       "output_type": "stream",
       "stream": "stdout",
       "text": [
        "\n",
        "\n",
        "\n",
        "Sen-----0.9769 \n",
        "\n",
        "[u'On Thursday claimed his resignation with posters alluding to this and other claims.']"
       ]
      },
      {
       "output_type": "stream",
       "stream": "stdout",
       "text": [
        "\n",
        "\n",
        "\n",
        "Sen-----0.9768 \n",
        "\n",
        "[u'For several minutes the situation tensed, until some leaders approached the officers to ask them pacify the environment and conclude your day of protest.']"
       ]
      },
      {
       "output_type": "stream",
       "stream": "stdout",
       "text": [
        "\n",
        "\n",
        "\n",
        "Sen-----0.9767 \n",
        "\n",
        "[u'The response of sex workers was also blunt: held marches to demand their right to work.']"
       ]
      },
      {
       "output_type": "stream",
       "stream": "stdout",
       "text": [
        "\n",
        "\n",
        "\n",
        "Sen-----0.9767 \n",
        "\n",
        "[u'University students announced Monday for a new demonstration and March, demanding a better quality of education on the one.']"
       ]
      },
      {
       "output_type": "stream",
       "stream": "stdout",
       "text": [
        "\n",
        "\n",
        "\n",
        "Sen-----0.9765 \n",
        "\n",
        "[u'Around one hundred promoters and coordinators of the crusade against hunger in Guerrero they marched in this capital to demand the payment of 4 months of their salaries, under the Ministry of Social Development (Sedesol).']"
       ]
      },
      {
       "output_type": "stream",
       "stream": "stdout",
       "text": [
        "\n",
        "\n",
        "\n",
        "Sen-----0.9760 \n",
        "\n",
        "[u'Teachers who arrived at this site were placed against vehicles seeking to enter the University and with banners rejected the teaching evaluation.']"
       ]
      },
      {
       "output_type": "stream",
       "stream": "stdout",
       "text": [
        "\n",
        "\n",
        "\n",
        "Sen-----0.9760 \n",
        "\n",
        "error"
       ]
      },
      {
       "output_type": "stream",
       "stream": "stdout",
       "text": [
        "\n",
        "Sen-----0.9759 \n",
        "\n",
        "[u'A group of 25 establishment of the Regional penitentiary of missions started from this Tuesday morning its manifestation on the budget which was approved for them, but that so far has not reached them.']"
       ]
      },
      {
       "output_type": "stream",
       "stream": "stdout",
       "text": [
        "\n",
        "\n",
        "\n",
        "Sen-----0.9757 \n",
        "\n",
        "[u'While the student sit opposite the Office of the Dean of agricultural sciences had begun on Monday, turning to release the step until yesterday.']"
       ]
      },
      {
       "output_type": "stream",
       "stream": "stdout",
       "text": [
        "\n",
        "\n",
        "\n",
        "Sen-----0.9756 \n",
        "\n",
        "[u'Yesterday, at a meeting held in the Church of this sampedrano district, the peasants of the Coordinator of equality of opportunities agreed to restart the mobilization on the route III \"General E. Aquino,\" blocking traffic to demand four points which had already asked the Government a year ago.']"
       ]
      },
      {
       "output_type": "stream",
       "stream": "stdout",
       "text": [
        "\n",
        "\n",
        "\n",
        "Sen-----0.9756 \n",
        "\n",
        "[u'President Nicolas Maduro, said yesterday from the outskirts of Miraflores and before a large concentration of workers of Cantv, the optimization of the service of the State telephone company at national level.']"
       ]
      },
      {
       "output_type": "stream",
       "stream": "stdout",
       "text": [
        "\n",
        "\n",
        "\n",
        "Sen-----0.9753 \n",
        "\n",
        "[u'In contrast to previous days of the measure of force that already served 34 days, yesterday the stress decreased.']"
       ]
      },
      {
       "output_type": "stream",
       "stream": "stdout",
       "text": [
        "\n",
        "\n",
        "\n",
        "Sen-----0.9752 \n",
        "\n",
        "[u'{[title]} {[caption]} {[copyright]}']"
       ]
      },
      {
       "output_type": "stream",
       "stream": "stdout",
       "text": [
        "\n",
        "\n",
        "\n",
        "Sen-----0.9752 \n",
        "\n",
        "[u'Cantv workers are protesting in the Av.']"
       ]
      },
      {
       "output_type": "stream",
       "stream": "stdout",
       "text": [
        "\n",
        "\n",
        "\n",
        "Sen-----0.9751 \n",
        "\n",
        "[u'Today was already sterilized by Ongaap, their ordeal is now over.']"
       ]
      },
      {
       "output_type": "stream",
       "stream": "stdout",
       "text": [
        "\n",
        "\n",
        "\n",
        "Sen-----0.9750 \n",
        "\n",
        "error"
       ]
      },
      {
       "output_type": "stream",
       "stream": "stdout",
       "text": [
        "\n",
        "Sen-----0.9750 \n",
        "\n",
        "[u\"The Group of women of all ages participated in a March from the colonia Santa Monica, touring the area of the market to focus on the day against the Mayor's office.\"]"
       ]
      },
      {
       "output_type": "stream",
       "stream": "stdout",
       "text": [
        "\n",
        "\n",
        "\n",
        "Sen-----0.9749 \n",
        "\n",
        "[u'Around of 4,500 civil servants they will join the force measurement.']"
       ]
      },
      {
       "output_type": "stream",
       "stream": "stdout",
       "text": [
        "\n",
        "\n",
        "\n",
        "Sen-----0.9749 \n",
        "\n",
        "[u'They also cut them services like electricity, water and since they launched a protest last Friday, when as a form of protest abducted two custodians, a Professor of physical education and two social workers.']"
       ]
      },
      {
       "output_type": "stream",
       "stream": "stdout",
       "text": [
        "\n",
        "\n",
        "\n",
        "Sen-----0.9747 \n",
        "\n",
        "error"
       ]
      },
      {
       "output_type": "stream",
       "stream": "stdout",
       "text": [
        "\n",
        "Sen-----0.9746 \n",
        "\n",
        "error"
       ]
      },
      {
       "output_type": "stream",
       "stream": "stdout",
       "text": [
        "\n",
        "Sen-----0.9746 \n",
        "\n",
        "[u\"Self-employed traders working in the street Jorge Garces, the people's Committee, carried out a March in rejection to the relocation in a trade center.\"]"
       ]
      },
      {
       "output_type": "stream",
       "stream": "stdout",
       "text": [
        "\n",
        "\n",
        "\n",
        "Sen-----0.9745 \n",
        "\n",
        "[u'Shortly before the one, about 15 people halted traffic on avenida Libertador.']"
       ]
      },
      {
       "output_type": "stream",
       "stream": "stdout",
       "text": [
        "\n",
        "\n",
        "\n",
        "Sen-----0.9740 \n",
        "\n",
        "[u'The colleagues who came to the headquarters joined the mobilization.']"
       ]
      },
      {
       "output_type": "stream",
       "stream": "stdout",
       "text": [
        "\n",
        "\n",
        "\n",
        "Sen-----0.9738 \n",
        "\n",
        "[u'Thus also, outside the home of the Dean of philosophy also recorded another student protest.']"
       ]
      },
      {
       "output_type": "stream",
       "stream": "stdout",
       "text": [
        "\n",
        "\n",
        "\n",
        "Sen-----0.9736 \n",
        "\n",
        "[u'In this city, were more than 2,000 demonstrators who walked from the West to the Center, which concluded with a rally with luggage and blankets, also demanded to cease attacks against women.']"
       ]
      },
      {
       "output_type": "stream",
       "stream": "stdout",
       "text": [
        "\n",
        "\n",
        "\n",
        "Sen-----0.9735 \n",
        "\n",
        "[u'Protesters are demanding scientific rigor to decide if sacrificing a dog or not, and argue that there is a treatment for dogs, the main reservoir of the virus, which is transmitted by the bite of a sandfly called willows and that is highly lethal for dogs and humans.']"
       ]
      },
      {
       "output_type": "stream",
       "stream": "stdout",
       "text": [
        "\n",
        "\n",
        "\n",
        "Sen-----0.9735 \n",
        "\n",
        "error"
       ]
      },
      {
       "output_type": "stream",
       "stream": "stdout",
       "text": [
        "\n",
        "Sen-----0.9735 \n",
        "\n",
        "[u'Mobilization day ends with a popular festival at 19.00, freedom of Association and freedom of expression.']"
       ]
      },
      {
       "output_type": "stream",
       "stream": "stdout",
       "text": [
        "\n",
        "\n",
        "\n",
        "Sen-----0.9735 \n",
        "\n",
        "[u'However, the police presence, as well as the manifestations of dissident teachers to section 19 of the SNTE, inhibited the presence of teachers.']"
       ]
      },
      {
       "output_type": "stream",
       "stream": "stdout",
       "text": [
        "\n",
        "\n",
        "\n",
        "Sen-----0.9734 \n",
        "\n",
        "error"
       ]
      },
      {
       "output_type": "stream",
       "stream": "stdout",
       "text": [
        "\n",
        "Sen-----0.9732 \n",
        "\n",
        "[u'The protesters said that they will continue protests until they have a positive response.']"
       ]
      },
      {
       "output_type": "stream",
       "stream": "stdout",
       "text": [
        "\n",
        "\n",
        "\n",
        "Sen-----0.9731 \n",
        "\n",
        "[u'Students remain in the street']"
       ]
      },
      {
       "output_type": "stream",
       "stream": "stdout",
       "text": [
        "\n",
        "\n",
        "\n",
        "Sen-----0.9731 \n",
        "\n",
        "[u'With megaphones in hand, about a hundred protesters still screaming their slogans.']"
       ]
      },
      {
       "output_type": "stream",
       "stream": "stdout",
       "text": [
        "\n",
        "\n",
        "\n",
        "Sen-----0.9730 \n",
        "\n",
        "[u'The March was launched from the headquarters of the College, on the avenida Eusebio Ayala, and culminated in the Plaza de Armas, in the center of Asuncion.']"
       ]
      },
      {
       "output_type": "stream",
       "stream": "stdout",
       "text": [
        "\n",
        "\n",
        "\n",
        "Sen-----0.9729 \n",
        "\n",
        "[u'\"I hope next Tuesday in Miraflores, a delegation from spokesmen for Cantv to bring me the plan of improvement, expansion and rectification Cantv services\", it settled Maduro.']"
       ]
      },
      {
       "output_type": "stream",
       "stream": "stdout",
       "text": [
        "\n",
        "\n",
        "\n",
        "Sen-----0.9727 \n",
        "\n",
        "[u'Academics call for wanting to participate in activities for 7:00 opposite the building of the cutaway of one, where will first make a demonstration.']"
       ]
      },
      {
       "output_type": "stream",
       "stream": "stdout",
       "text": [
        "\n",
        "\n",
        "\n",
        "Sen-----0.9727 \n",
        "\n",
        "[u'NGOs claim that animal abuse is punishable with prison']"
       ]
      },
      {
       "output_type": "stream",
       "stream": "stdout",
       "text": [
        "\n",
        "\n",
        "\n",
        "Sen-----0.9726 \n",
        "\n",
        "[u'In the absence of replies to requests by the authorities of the/NRNP, the Union conducted a partial work stoppage in the duicentros.']"
       ]
      },
      {
       "output_type": "stream",
       "stream": "stdout",
       "text": [
        "\n",
        "\n",
        "\n",
        "Sen-----0.9726 \n",
        "\n",
        "[u'There, despite the presence of police officers of the single control the protesters blocked with stones the main entrance to the University facilities and with banners rejected the reform.']"
       ]
      },
      {
       "output_type": "stream",
       "stream": "stdout",
       "text": [
        "\n",
        "\n",
        "\n",
        "Sen-----0.9726 \n",
        "\n",
        "[u'At five in the afternoon on Friday ended the conflict and transfers were performed.']"
       ]
      },
      {
       "output_type": "stream",
       "stream": "stdout",
       "text": [
        "\n",
        "\n",
        "\n",
        "Sen-----0.9725 \n",
        "\n",
        "[u'Yesterday, with posters of rejection that butt, a dozen workers came to the Constitutional Court to present demand sponsored by jurist Rafael Oyarte.']"
       ]
      },
      {
       "output_type": "stream",
       "stream": "stdout",
       "text": [
        "\n",
        "\n",
        "\n",
        "Sen-----0.9725 \n",
        "\n",
        "[u'Demonstration in Tierra Blanca in demand of the presentation with life of five young people disappeared after being arrested by State police.']"
       ]
      },
      {
       "output_type": "stream",
       "stream": "stdout",
       "text": [
        "\n",
        "\n",
        "\n",
        "Sen-----0.9724 \n",
        "\n",
        "[u'The dissatisfaction by the lack of liquid generated a protest outside the offices of the autonomous, in Sonsonate, earlier Wednesday.']"
       ]
      },
      {
       "output_type": "stream",
       "stream": "stdout",
       "text": [
        "\n",
        "\n",
        "\n",
        "Sen-----0.9724 \n",
        "\n",
        "[u'The mobilization brings together several claims, one of them the law of labour justice, which yesterday received his seventh demand for unconstitutionality.']"
       ]
      },
      {
       "output_type": "stream",
       "stream": "stdout",
       "text": [
        "\n",
        "\n",
        "\n",
        "Sen-----0.9723 \n",
        "\n",
        "error"
       ]
      },
      {
       "output_type": "stream",
       "stream": "stdout",
       "text": [
        "\n",
        "Sen-----0.9723 \n",
        "\n",
        "[u'Upon arrival already awaited them a group of students, who obstructed a lane of the highway in the vicinity of the Xangari fractionation, which was guarded by members of the public force.']"
       ]
      },
      {
       "output_type": "stream",
       "stream": "stdout",
       "text": [
        "\n",
        "\n",
        "\n",
        "Sen-----0.9723 \n",
        "\n",
        "[u'Meanwhile, on the highway to Reynosa to the height of km 20, dozens of supporters blocked traffic in both directions.']"
       ]
      },
      {
       "output_type": "stream",
       "stream": "stdout",
       "text": [
        "\n",
        "\n",
        "\n",
        "Sen-----0.9722 \n",
        "\n",
        "[u'The Barrios de Pie organization starred yesterday at noon a protest to demand a bond from the end of the year the Government of Mauricio Macri.']"
       ]
      },
      {
       "output_type": "stream",
       "stream": "stdout",
       "text": [
        "\n",
        "\n",
        "\n",
        "Sen-----0.9721 \n",
        "\n",
        "[u'| Group of officers of the ipta reject salary matrix']"
       ]
      },
      {
       "output_type": "stream",
       "stream": "stdout",
       "text": [
        "\n",
        "\n",
        "\n",
        "Sen-----0.9719 \n",
        "\n",
        "[u'| Photo by Leonardo Gonzalez long rows of vans blocked the vehicle passage in the area.']"
       ]
      },
      {
       "output_type": "stream",
       "stream": "stdout",
       "text": [
        "\n",
        "\n",
        "\n",
        "Sen-----0.9717 \n",
        "\n",
        "[u'At the close of this Edition, a handful of protesters held a camp front the General Roca 31a station to demand his release.']"
       ]
      },
      {
       "output_type": "stream",
       "stream": "stdout",
       "text": [
        "\n",
        "\n",
        "\n",
        "Sen-----0.9716 \n",
        "\n",
        "[u'There are metropolitan police, forwarding agents and national police to prevent excesses.']"
       ]
      },
      {
       "output_type": "stream",
       "stream": "stdout",
       "text": [
        "\n",
        "\n",
        "\n",
        "Sen-----0.9715 \n",
        "\n",
        "error"
       ]
      },
      {
       "output_type": "stream",
       "stream": "stdout",
       "text": [
        "\n",
        "Sen-----0.9714 \n",
        "\n",
        "[u'In the morning of Friday, twitter users reported that there is again a manifestation on the bicentenary of Los Teques Avenue across from the hospital.']"
       ]
      },
      {
       "output_type": "stream",
       "stream": "stdout",
       "text": [
        "\n",
        "\n",
        "\n",
        "Sen-----0.9713 \n",
        "\n",
        "[u\"In addition, parents of the 52 retained fearfully protested outside of the Attorney General's Office (PGR) to demand that the fact be clarified.\"]"
       ]
      },
      {
       "output_type": "stream",
       "stream": "stdout",
       "text": [
        "\n",
        "\n",
        "\n",
        "Sen-----0.9711 \n",
        "\n",
        "[u'The Secretary general of the Rio Negro, Rodolfo Aguiar, ATE State Guild was arrested yesterday when he headed a protest at the National University of Comahue (UNCo) mobilization by the reinstatement of 12 workers outsourced farewells.']"
       ]
      },
      {
       "output_type": "stream",
       "stream": "stdout",
       "text": [
        "\n",
        "\n",
        "\n",
        "Sen-----0.9710 \n",
        "\n",
        "[u'VIDEO - the Trade Union of workers of the ANDE (Sitrande) has called for a 48-hour strike in protest against the cut that was to the benefits of civil servants in the budget of the 2016.']"
       ]
      },
      {
       "output_type": "stream",
       "stream": "stdout",
       "text": [
        "\n",
        "\n",
        "\n",
        "Sen-----0.9710 \n",
        "\n",
        "[u'However, the arrival of teachers already expected them a group about 60 police riot stationed on the side of the South-North direction, but others were inside buses that were on the free road and North to South direction; other 25 buses were placed with police riot inside; eight state police cars and eight trucks of the Navy carrying small boats.']"
       ]
      },
      {
       "output_type": "stream",
       "stream": "stdout",
       "text": [
        "\n",
        "\n",
        "\n",
        "Sen-----0.9708 \n",
        "\n",
        "[u'Different sectors joined the March, as drivers, pensioners and workers.']"
       ]
      },
      {
       "output_type": "stream",
       "stream": "stdout",
       "text": [
        "\n",
        "\n",
        "\n",
        "Sen-----0.9708 \n",
        "\n",
        "[u'The Trade Union of workers of the national registry of the natural persons / (NRNP) protested yesterday at the headquarters of the institution against what they see as \"flagrant violations\" to the labour rights of workers by the President of the institution, the efemelenista Margarita veiled, and the Board of Directors of the entity.']"
       ]
      },
      {
       "output_type": "stream",
       "stream": "stdout",
       "text": [
        "\n",
        "\n",
        "\n",
        "Sen-----0.9708 \n",
        "\n",
        "[u'Physicians, gathered mostly in the Trade Union of workers of Colombia and health (Asstracud), claimed in a letter that the current conditions in which the Medical Center in the field of provision of the service, is preclude them from complying fully with their work which has resulted in multiple complaints of patients to the service and attention.']"
       ]
      },
      {
       "output_type": "stream",
       "stream": "stdout",
       "text": [
        "\n",
        "\n",
        "\n",
        "Sen-----0.9707 \n",
        "\n",
        "error"
       ]
      },
      {
       "output_type": "stream",
       "stream": "stdout",
       "text": [
        "\n",
        "Sen-----0.9705 \n",
        "\n",
        "[u'The facts of Mapiripan joined excesses occurred in the municipality of remoteness, which entailed the temporary elections before suspension 3:00 in the afternoon.']"
       ]
      },
      {
       "output_type": "stream",
       "stream": "stdout",
       "text": [
        "\n",
        "\n",
        "\n",
        "Sen-----0.9704 \n",
        "\n",
        "[u'\"We are in permanent contact with the CTA [the autonomous, Pablo Micheli] and for the 22nd is polishing a mobilization by the end of the year bonus\", anticipated the national coordinator of neighborhoods of foot.']"
       ]
      },
      {
       "output_type": "stream",
       "stream": "stdout",
       "text": [
        "\n",
        "\n",
        "\n",
        "Sen-----0.9700 \n",
        "\n",
        "error"
       ]
      },
      {
       "output_type": "stream",
       "stream": "stdout",
       "text": [
        "\n",
        "Sen-----0.9699 \n",
        "\n",
        "error"
       ]
      },
      {
       "output_type": "stream",
       "stream": "stdout",
       "text": [
        "\n",
        "Sen-----0.9699 \n",
        "\n",
        "[u'The protesters managed to ignite some uniforms and vests that the safety elements used as a barricade.']"
       ]
      },
      {
       "output_type": "stream",
       "stream": "stdout",
       "text": [
        "\n",
        "\n",
        "\n",
        "Sen-----0.9698 \n",
        "\n",
        "[u'They mentioned that the majority of those affected come from municipalities of Xochistlahuaca, Tlacoachistlahuaca, Cuajinicuilapa in the Costa Chica, and Atoyac, and Zihuatanejo, on the Pacific coast; In addition to the North of Teloloapan and here in Chilpancingo.']"
       ]
      },
      {
       "output_type": "stream",
       "stream": "stdout",
       "text": [
        "\n",
        "\n",
        "\n",
        "Sen-----0.9697 \n",
        "\n",
        "[u'We are doing this as a way of protest for education today.']"
       ]
      },
      {
       "output_type": "stream",
       "stream": "stdout",
       "text": [
        "\n",
        "\n",
        "\n",
        "Sen-----0.9696 \n",
        "\n",
        "[u'About 20 teachers of the Ceteg, who topped the March, stormed into the Congress of the State where smashed glasses of the building, as well as two vehicles that were in the parking lot; They also beat two guards of the Congress and set fire to a Chair that took out the legislative branch security module.']"
       ]
      },
      {
       "output_type": "stream",
       "stream": "stdout",
       "text": [
        "\n",
        "\n",
        "\n",
        "Sen-----0.9696 \n",
        "\n",
        "[u'Medical workers and patients of the Hospital Vargas protest on the morning of Wednesday because of the lack of inputs, presenting the medical facility.']"
       ]
      },
      {
       "output_type": "stream",
       "stream": "stdout",
       "text": [
        "\n",
        "\n",
        "\n",
        "Sen-----0.9695 \n",
        "\n",
        "[u'Those are the watchwords of the Group of workers, political organizations and farmers... That since 08:00 today Thursday, December 3, he met outside of the matrix of the Ecuadorian Institute of Social Security (IESS), against the approval of the amendments.']"
       ]
      },
      {
       "output_type": "stream",
       "stream": "stdout",
       "text": [
        "\n",
        "\n",
        "\n",
        "Sen-----0.9693 \n",
        "\n",
        "[u\"Caracas.-families of detainees in dungeons of Polisucre blockaded access to the Francisco Fajardo Highway, right on the joint from the Cota Mil, with sense toward Petare, and towards Guarenas, in protest at the riot prisoners began at nine o'clock in the morning today.\"]"
       ]
      },
      {
       "output_type": "stream",
       "stream": "stdout",
       "text": [
        "\n",
        "\n",
        "\n",
        "Sen-----0.9693 \n",
        "\n",
        "[u'The situation has mobilized transits seeking alternate routes for motorists.']"
       ]
      },
      {
       "output_type": "stream",
       "stream": "stdout",
       "text": [
        "\n",
        "\n",
        "\n",
        "Sen-----0.9691 \n",
        "\n",
        "[u'Demonstrators protested the extension of the contract to the company Enjoy, they called for improvements in wage and labor.']"
       ]
      },
      {
       "output_type": "stream",
       "stream": "stdout",
       "text": [
        "\n",
        "\n",
        "\n",
        "Sen-----0.9690 \n",
        "\n",
        "[u'Neighbors announced that they gather signatures to ask the municipality to be responsible for the administration of water through the Ibal.']"
       ]
      },
      {
       "output_type": "stream",
       "stream": "stdout",
       "text": [
        "\n",
        "\n",
        "\n",
        "Sen-----0.9690 \n",
        "\n",
        "error"
       ]
      },
      {
       "output_type": "stream",
       "stream": "stdout",
       "text": [
        "\n",
        "Sen-----0.9689 \n",
        "\n",
        "error"
       ]
      },
      {
       "output_type": "stream",
       "stream": "stdout",
       "text": [
        "\n",
        "Sen-----0.9689 \n",
        "\n",
        "error"
       ]
      },
      {
       "output_type": "stream",
       "stream": "stdout",
       "text": [
        "\n",
        "Sen-----0.9688 \n",
        "\n",
        "[u'The leader supporters fear that be evicted his camp in the square']"
       ]
      },
      {
       "output_type": "stream",
       "stream": "stdout",
       "text": [
        "\n",
        "\n",
        "\n",
        "Sen-----0.9686 \n",
        "\n",
        "[u'The measure will extend for 72 hours; They claim that the Executive power to convene them to negotiate']"
       ]
      },
      {
       "output_type": "stream",
       "stream": "stdout",
       "text": [
        "\n",
        "\n",
        "\n",
        "Sen-----0.9686 \n",
        "\n",
        "error"
       ]
      },
      {
       "output_type": "stream",
       "stream": "stdout",
       "text": [
        "\n",
        "Sen-----0.9686 \n",
        "\n",
        "[u'Several militants and mothers marched around the pyramid of May.']"
       ]
      },
      {
       "output_type": "stream",
       "stream": "stdout",
       "text": [
        "\n",
        "\n",
        "\n",
        "Sen-----0.9680 \n",
        "\n",
        "[u'Around 8 hours a group of representatives from the Organization of merchants Doroteo Arango and 21 December closed for three hours the Boulevard on May 5, against the Paseo de San Francisco.']"
       ]
      },
      {
       "output_type": "stream",
       "stream": "stdout",
       "text": [
        "\n",
        "\n",
        "\n",
        "Sen-----0.9677 \n",
        "\n",
        "[u'Retired employees of State Government protested against the ISSSTEP hospital to demand an increase in the payment of their pensions, to the excessive increase of the basic shopping basket and other inputs.']"
       ]
      },
      {
       "output_type": "stream",
       "stream": "stdout",
       "text": [
        "\n",
        "\n",
        "\n",
        "Sen-----0.9674 \n",
        "\n",
        "[u\"The protest, which was held from 12-13 o'clock yesterday, generated a chaos of traffic in the downtown area of the city.\"]"
       ]
      },
      {
       "output_type": "stream",
       "stream": "stdout",
       "text": [
        "\n",
        "\n",
        "\n",
        "Sen-----0.9674 \n",
        "\n",
        "[u'The working cesanteadas, serving jobs at the University, supported by ATE and State employees, blocked access to the headquarters of General Roca of the UNCo.']"
       ]
      },
      {
       "output_type": "stream",
       "stream": "stdout",
       "text": [
        "\n",
        "\n",
        "\n",
        "Sen-----0.9668 \n",
        "\n",
        "error"
       ]
      },
      {
       "output_type": "stream",
       "stream": "stdout",
       "text": [
        "\n",
        "Sen-----0.9663 \n",
        "\n",
        "error"
       ]
      },
      {
       "output_type": "stream",
       "stream": "stdout",
       "text": [
        "\n",
        "Sen-----0.9662 \n",
        "\n",
        "[u'The protesters oppose the operations of eviction that the Ministry of the Interior of the capital town hall takes place in the historic centre to remove street vendors from the first picture of the city.']"
       ]
      },
      {
       "output_type": "stream",
       "stream": "stdout",
       "text": [
        "\n",
        "\n",
        "\n",
        "Sen-----0.9661 \n",
        "\n",
        "error"
       ]
      },
      {
       "output_type": "stream",
       "stream": "stdout",
       "text": [
        "\n",
        "Sen-----0.9659 \n",
        "\n",
        "[u'Relatives of the inmates reported that guards beat the protesters, in order to be able to submit them.']"
       ]
      },
      {
       "output_type": "stream",
       "stream": "stdout",
       "text": [
        "\n",
        "\n",
        "\n",
        "Sen-----0.9657 \n",
        "\n",
        "[u'A group of retirees and pensioners of the Government went to the premises of the Institute, where they carried out a protest to demand a series of demands, which also includes the supply of drugs and improve health care.']"
       ]
      },
      {
       "output_type": "stream",
       "stream": "stdout",
       "text": [
        "\n",
        "\n",
        "\n",
        "Sen-----0.9655 \n",
        "\n",
        "[u'The protesters started to push with force and police covered with their transparent shields.']"
       ]
      },
      {
       "output_type": "stream",
       "stream": "stdout",
       "text": [
        "\n",
        "\n",
        "\n",
        "Sen-----0.9653 \n",
        "\n",
        "error"
       ]
      },
      {
       "output_type": "stream",
       "stream": "stdout",
       "text": [
        "\n",
        "Sen-----0.9653 \n",
        "\n",
        "error"
       ]
      },
      {
       "output_type": "stream",
       "stream": "stdout",
       "text": [
        "\n",
        "Sen-----0.9648 \n",
        "\n",
        "[u'\"In nationalized Cantv we decided to democratize telecommunications and there are positive financial and operational indicators\", said Luis Garcia spokesman for workers in protest']"
       ]
      },
      {
       "output_type": "stream",
       "stream": "stdout",
       "text": [
        "\n",
        "\n",
        "\n",
        "Sen-----0.9648 \n",
        "\n",
        "[u'From 10 in the morning this Monday residents were stationed in both lanes of the Texcoco - Kings Highway at the height of the Cultural Center Mexiquense of the bicentennial.']"
       ]
      },
      {
       "output_type": "stream",
       "stream": "stdout",
       "text": [
        "\n",
        "\n",
        "\n",
        "Sen-----0.9648 \n",
        "\n",
        "[u'8:00 hours from Monday 26 October, the surgical anesthetic society (SAQ) began a national strike for 72 hours in the mutual and the centers of the administration of the services of health of the State (ASSE), within the framework of wage negotiations.']"
       ]
      },
      {
       "output_type": "stream",
       "stream": "stdout",
       "text": [
        "\n",
        "\n",
        "\n",
        "Sen-----0.9639 \n",
        "\n",
        "[u'A contingent approximate 250 inhabitants in Arcelia, guarded by elements of the army, marched on Tuesday in demand for the onset of life from more than 25 disappeared in two different events.']"
       ]
      },
      {
       "output_type": "stream",
       "stream": "stdout",
       "text": [
        "\n",
        "\n",
        "\n",
        "Sen-----0.9636 \n",
        "\n",
        "[u'Students asked the Dean that it review its stance and he asked them to nominate four candidates with profiles for director.']"
       ]
      },
      {
       "output_type": "stream",
       "stream": "stdout",
       "text": [
        "\n",
        "\n",
        "\n",
        "Sen-----0.9635 \n",
        "\n",
        "[u'The step in the alameda Manuel Enrique Araujo was blocked by protesters in the lane that leads to Santa Tecla.']"
       ]
      },
      {
       "output_type": "stream",
       "stream": "stdout",
       "text": [
        "\n",
        "\n",
        "\n",
        "Sen-----0.9632 \n",
        "\n",
        "[u'People held up signs where denounced that they receive only air on their faucets; at the same time that demanded a solution in the short term.']"
       ]
      },
      {
       "output_type": "stream",
       "stream": "stdout",
       "text": [
        "\n",
        "\n",
        "\n",
        "Sen-----0.9630 \n",
        "\n",
        "error"
       ]
      },
      {
       "output_type": "stream",
       "stream": "stdout",
       "text": [
        "\n",
        "Sen-----0.9629 \n",
        "\n",
        "[u'Appearance of the protest carried out in front of the Government House.']"
       ]
      },
      {
       "output_type": "stream",
       "stream": "stdout",
       "text": [
        "\n",
        "\n",
        "\n",
        "Sen-----0.9626 \n",
        "\n",
        "[u'The protesters started the socket without intentions to raise the protest until government representatives present were and reallocating them the lack of current water.']"
       ]
      },
      {
       "output_type": "stream",
       "stream": "stdout",
       "text": [
        "\n",
        "\n",
        "\n",
        "Sen-----0.9625 \n",
        "\n",
        "[u'Vendors blocked the four-lane of the avenida Maldonado, at the height of Guajalo, in the South of Quito.']"
       ]
      },
      {
       "output_type": "stream",
       "stream": "stdout",
       "text": [
        "\n",
        "\n",
        "\n",
        "Sen-----0.9623 \n",
        "\n",
        "[u'He added that today will be once again a peaceful demonstration and tomorrow already has planned to carry out a March to the home of the Dean.']"
       ]
      },
      {
       "output_type": "stream",
       "stream": "stdout",
       "text": [
        "\n",
        "\n",
        "\n",
        "Sen-----0.9622 \n",
        "\n",
        "[u'For its part, the Councillor of Ciudad del Este, Celso Miranda, alias Kelembu, announced that they will be holding a demonstration opposite the plaza de la Paz, at 16.00, Friday and call for all citizens to join the condemnation against the holder of the commune.']"
       ]
      },
      {
       "output_type": "stream",
       "stream": "stdout",
       "text": [
        "\n",
        "\n",
        "\n",
        "Sen-----0.9622 \n",
        "\n",
        "[u'The protest took place after 18.00 in the plaza de armas, located in front of the National Congress.']"
       ]
      },
      {
       "output_type": "stream",
       "stream": "stdout",
       "text": [
        "\n",
        "\n",
        "\n",
        "Sen-----0.9617 \n",
        "\n",
        "[u'Last night carriers decided to cross trucks because you have to wait two to three days for the migration procedures.']"
       ]
      },
      {
       "output_type": "stream",
       "stream": "stdout",
       "text": [
        "\n",
        "\n",
        "\n",
        "Sen-----0.9616 \n",
        "\n",
        "[u'On Thursday reported a protest on the road Petare - Santa Lucia for lack of water.']"
       ]
      },
      {
       "output_type": "stream",
       "stream": "stdout",
       "text": [
        "\n",
        "\n",
        "\n",
        "Sen-----0.9613 \n",
        "\n",
        "[u'Yesterday the Unap officials, academics and students marched along the waterfront of Iquique.']"
       ]
      },
      {
       "output_type": "stream",
       "stream": "stdout",
       "text": [
        "\n",
        "\n",
        "\n",
        "Sen-----0.9612 \n",
        "\n",
        "[u'The mobilization of public servants with posters alluding to his preference for a \"well-male\" Mayor and one \"dubious\", all functional to the intendant, not was last Sunday against the communal headquarters.']"
       ]
      },
      {
       "output_type": "stream",
       "stream": "stdout",
       "text": [
        "\n",
        "\n",
        "\n",
        "Sen-----0.9612 \n",
        "\n",
        "error"
       ]
      },
      {
       "output_type": "stream",
       "stream": "stdout",
       "text": [
        "\n",
        "Sen-----0.9607 \n",
        "\n",
        "[u'Teachers and retired State bureaucrats blocked this Friday for more than 3 hours streets of the historic center of Veracruz, dissatisfied because they not deposited them pensions.']"
       ]
      },
      {
       "output_type": "stream",
       "stream": "stdout",
       "text": [
        "\n",
        "\n",
        "\n",
        "Sen-----0.9607 \n",
        "\n",
        "[u\"Barinas-a. 6:00 o'clock on Monday afternoon, residents of the sector La Mula de Barinas, took national trunk Highway 5 protesting the lack of water supply from three months ago.\"]"
       ]
      },
      {
       "output_type": "stream",
       "stream": "stdout",
       "text": [
        "\n",
        "\n",
        "\n",
        "Sen-----0.9605 \n",
        "\n",
        "[u'A massive group of people walked with rants on voice and banners in their hands until the Park of lights, in the Centre of the capital of Antioquia.']"
       ]
      },
      {
       "output_type": "stream",
       "stream": "stdout",
       "text": [
        "\n",
        "\n",
        "\n",
        "Sen-----0.9601 \n",
        "\n",
        "[u'Protesters said that the fast it will be throughout this day; they carry covered mouths with different slogans written as \"pay me!']"
       ]
      },
      {
       "output_type": "stream",
       "stream": "stdout",
       "text": [
        "\n",
        "\n",
        "\n",
        "Sen-----0.9599 \n",
        "\n",
        "[u'| MORE THAN 300 SOLIDARITY ENTITIES WILL ADHERE TO THE DAY OF PROTESTS']"
       ]
      },
      {
       "output_type": "stream",
       "stream": "stdout",
       "text": [
        "\n",
        "\n",
        "\n",
        "Sen-----0.9599 \n",
        "\n",
        "[u'With banners and slogans they feel his affection for pets and all animals and the rejection of any form of abuse.']"
       ]
      },
      {
       "output_type": "stream",
       "stream": "stdout",
       "text": [
        "\n",
        "\n",
        "\n",
        "Sen-----0.9598 \n",
        "\n",
        "[u'This situation will continue until next Tuesday, while we study the possibility of transferring the measurement of protest to the capital of the country.']"
       ]
      },
      {
       "output_type": "stream",
       "stream": "stdout",
       "text": [
        "\n",
        "\n",
        "\n",
        "Sen-----0.9597 \n",
        "\n",
        "[u'| drivers demanded intervention to company \"limpena\"']"
       ]
      },
      {
       "output_type": "stream",
       "stream": "stdout",
       "text": [
        "\n",
        "\n",
        "\n",
        "Sen-----0.9596 \n",
        "\n",
        "[u'He said that since the mobilizations of the side supports to their children, who study in public schools.']"
       ]
      },
      {
       "output_type": "stream",
       "stream": "stdout",
       "text": [
        "\n",
        "\n",
        "\n",
        "Sen-----0.9594 \n",
        "\n",
        "[u'The protest, which began at the Hotel Argentino of Piriapolis in the morning and ended this afternoon with a closing ceremony opposite the Conrad Hotel, where expressed their repudiation to the renewal of the contract by the Government to the Chilean company Enjoy for the exploitation of the hotel.']"
       ]
      },
      {
       "output_type": "stream",
       "stream": "stdout",
       "text": [
        "\n",
        "\n",
        "\n",
        "Sen-----0.9593 \n",
        "\n",
        "[u'That day, a Friday, October 23, a large group of students marched to the Palace of the Lopez claim the defence of national sovereignty.']"
       ]
      },
      {
       "output_type": "stream",
       "stream": "stdout",
       "text": [
        "\n",
        "\n",
        "\n",
        "Sen-----0.9593 \n",
        "\n",
        "[u'Hundreds of informal vendors blocked part of the road Los Chorros, the afternoon of Monday, as a protest against the eviction of the last of the 2nd Friday.']"
       ]
      },
      {
       "output_type": "stream",
       "stream": "stdout",
       "text": [
        "\n",
        "\n",
        "\n",
        "Sen-----0.9593 \n",
        "\n",
        "error"
       ]
      },
      {
       "output_type": "stream",
       "stream": "stdout",
       "text": [
        "\n",
        "Sen-----0.9591 \n",
        "\n",
        "[u'During this day, officials of the Civil Registry delivered via e-mail a counter-proposal to the Executive.']"
       ]
      },
      {
       "output_type": "stream",
       "stream": "stdout",
       "text": [
        "\n",
        "\n",
        "\n",
        "Sen-----0.9591 \n",
        "\n",
        "[u'Residents of the urbanization El Sauce, in Sonzacate, do not have the service household drinking water for three months because, according to the same affected, the well where we supply dried up.']"
       ]
      },
      {
       "output_type": "stream",
       "stream": "stdout",
       "text": [
        "\n",
        "\n",
        "\n",
        "Sen-----0.9590 \n",
        "\n",
        "[u'Prior to mobilization, the leaders of the Confech were about Bill short of gratuity which is pending in Congress; situation that Marta Matalama, President of the Feusach, lamented that \"at this time still not known conditions and which universities will have the benefit\".']"
       ]
      },
      {
       "output_type": "stream",
       "stream": "stdout",
       "text": [
        "\n",
        "\n",
        "\n",
        "Sen-----0.9586 \n",
        "\n",
        "[u'They kill family members of prisoners in protest against the prison in Chilpancingo']"
       ]
      },
      {
       "output_type": "stream",
       "stream": "stdout",
       "text": [
        "\n",
        "\n",
        "\n",
        "Sen-----0.9584 \n",
        "\n",
        "[u'Vendors block road Los Chorros by protest eviction after traders decided to allow the free passage of one of the lanes of Los Chorros']"
       ]
      },
      {
       "output_type": "stream",
       "stream": "stdout",
       "text": [
        "\n",
        "\n",
        "\n",
        "Sen-----0.9583 \n",
        "\n",
        "[u'He said that officials of the State police and national guard, arrived in the site of the protest to require them to open the passage of vehicles, because it was an important way.']"
       ]
      },
      {
       "output_type": "stream",
       "stream": "stdout",
       "text": [
        "\n",
        "\n",
        "\n",
        "Sen-----0.9582 \n",
        "\n",
        "error"
       ]
      },
      {
       "output_type": "stream",
       "stream": "stdout",
       "text": [
        "\n",
        "Sen-----0.9574 \n",
        "\n",
        "[u'In a noisy demonstration, they demanded the eradication of corruption and punishment for those who in some way contributed to the lack of administrative control on the one in several of their faculties.']"
       ]
      },
      {
       "output_type": "stream",
       "stream": "stdout",
       "text": [
        "\n",
        "\n",
        "\n",
        "Sen-----0.9573 \n",
        "\n",
        "[u'More than one hundred members of the State Coordinator of independent carriers of Guerrero (Cetig) demonstrated during the morning at the roundabout of La Diana, in the tourist strip of Acapulco, to demand end to harassment by State authorities against.']"
       ]
      },
      {
       "output_type": "stream",
       "stream": "stdout",
       "text": [
        "\n",
        "\n",
        "\n",
        "Sen-----0.9573 \n",
        "\n",
        "[u'The requested tour is from Plaza de Armas, by Ahumada, to the Mall.']"
       ]
      },
      {
       "output_type": "stream",
       "stream": "stdout",
       "text": [
        "\n",
        "\n",
        "\n",
        "Sen-----0.9572 \n",
        "\n",
        "error"
       ]
      },
      {
       "output_type": "stream",
       "stream": "stdout",
       "text": [
        "\n",
        "Sen-----0.9572 \n",
        "\n",
        "[u'Protesters denounce irregularities in all areas, that supposedly occur in these subsidiaries.']"
       ]
      },
      {
       "output_type": "stream",
       "stream": "stdout",
       "text": [
        "\n",
        "\n",
        "\n",
        "Sen-----0.9569 \n",
        "\n",
        "[u'The protesters warned that they will release the building when they pay them.']"
       ]
      },
      {
       "output_type": "stream",
       "stream": "stdout",
       "text": [
        "\n",
        "\n",
        "\n",
        "Sen-----0.9569 \n",
        "\n",
        "[u'Students of the Faculty of exact sciences and natural of the one manifested itself last night.']"
       ]
      },
      {
       "output_type": "stream",
       "stream": "stdout",
       "text": [
        "\n",
        "\n",
        "\n",
        "Sen-----0.9567 \n",
        "\n",
        "[u'Ruiz Diaz said that to fully lighten, not attached to the mobilization drivers already came out to serve.']"
       ]
      },
      {
       "output_type": "stream",
       "stream": "stdout",
       "text": [
        "\n",
        "\n",
        "\n",
        "Sen-----0.9561 \n",
        "\n",
        "[u'Murdered by two men who were protesting outside of the prison of Chilpancingo, in the relocation of his family claim, shot against the police officers who protect the place.']"
       ]
      },
      {
       "output_type": "stream",
       "stream": "stdout",
       "text": [
        "\n",
        "\n",
        "\n",
        "Sen-----0.9560 \n",
        "\n",
        "[u'They are protesting taxi drivers in La Diana; they demand to stop extortion, abductions and murders']"
       ]
      },
      {
       "output_type": "stream",
       "stream": "stdout",
       "text": [
        "\n",
        "\n",
        "\n",
        "Sen-----0.9558 \n",
        "\n",
        "[u'Members of the Magisterial movement Popular Veracruz and the CNTE clashed with police from Xalapa for opposing the national evaluation of teaching.']"
       ]
      },
      {
       "output_type": "stream",
       "stream": "stdout",
       "text": [
        "\n",
        "\n",
        "\n",
        "Sen-----0.9558 \n",
        "\n",
        "error"
       ]
      },
      {
       "output_type": "stream",
       "stream": "stdout",
       "text": [
        "\n",
        "Sen-----0.9558 \n",
        "\n",
        "[u'Yesterday, defying the persistent rain, unworthy thirty - two neighbors gathered on the Esplanade of the premise muni-cipal to demand that the former Mayor of the city is send - do to jail, according to the voices of the protesters during the open mic - which took this protest citizen - for about 3 hours, where each one gave a testimony of indignation.']"
       ]
      },
      {
       "output_type": "stream",
       "stream": "stdout",
       "text": [
        "\n",
        "\n",
        "\n",
        "Sen-----0.9557 \n",
        "\n",
        "[u'| Photo by Marlon Hernandez sellers of informal jobs blocked the motorway the Jets by eviction from their jobs.']"
       ]
      },
      {
       "output_type": "stream",
       "stream": "stdout",
       "text": [
        "\n",
        "\n",
        "\n",
        "Sen-----0.9557 \n",
        "\n",
        "[u'As every Thursday for 38 years a new March of the mothers was held in the Plaza de Mayo.']"
       ]
      },
      {
       "output_type": "stream",
       "stream": "stdout",
       "text": [
        "\n",
        "\n",
        "\n",
        "Sen-----0.9556 \n",
        "\n",
        "[u'About 300 cooperatives around the country today adhere to the national strike in protest against the recent regulation of the VAT levied sector activities.']"
       ]
      },
      {
       "output_type": "stream",
       "stream": "stdout",
       "text": [
        "\n",
        "\n",
        "\n",
        "Sen-----0.9553 \n",
        "\n",
        "[u'The leader said that the mobilization will begin at 7:00 in different parts of the country.']"
       ]
      },
      {
       "output_type": "stream",
       "stream": "stdout",
       "text": [
        "\n",
        "\n",
        "\n",
        "Sen-----0.9551 \n",
        "\n",
        "[u'During the protest held in the Faculty and in a peaceful manner, we have officers and hired graduates who constantly tried to frighten and encourage that the demonstration was violent, said Guedes.']"
       ]
      },
      {
       "output_type": "stream",
       "stream": "stdout",
       "text": [
        "\n",
        "\n",
        "\n",
        "Sen-----0.9550 \n",
        "\n",
        "[u'Grouped in the March were carriers, street vendors and tenants, led by the Council of Jurists, who marched to get to City Hall, and then continue with their protest until Buenos Aires socket.']"
       ]
      },
      {
       "output_type": "stream",
       "stream": "stdout",
       "text": [
        "\n",
        "\n",
        "\n",
        "Sen-----0.9550 \n",
        "\n",
        "[u'In Michoacan, more than 10 thousand teachers from 22 regions of the State, Guild members to the national coordinator of education workers (CNTE) marched in Morelia to reject the educational evaluation.']"
       ]
      },
      {
       "output_type": "stream",
       "stream": "stdout",
       "text": [
        "\n",
        "\n",
        "\n",
        "Sen-----0.9550 \n",
        "\n",
        "[u'In addition, they chained against the premises of the institution.']"
       ]
      },
      {
       "output_type": "stream",
       "stream": "stdout",
       "text": [
        "\n",
        "\n",
        "\n",
        "Sen-----0.9548 \n",
        "\n",
        "[u'The demonstrators, carrying 49 days of resistance, blocked the entrance to the officials.']"
       ]
      },
      {
       "output_type": "stream",
       "stream": "stdout",
       "text": [
        "\n",
        "\n",
        "\n",
        "Sen-----0.9548 \n",
        "\n",
        "[u'A month of the national March of public colleges and private (MNCPP), on 18 September last, Espinola says still mobilized waiting that orders are met.']\n",
        "\n",
        "\n",
        "Sen-----0.9547 \n",
        "\n",
        "[u\"The lambarenos require both the Comptroller's Office and the Prosecutor's Office to intervene the administrative offices of the commune, to the numerous irregularities and evidence of embezzlement of public funds that came to light.\"]"
       ]
      },
      {
       "output_type": "stream",
       "stream": "stdout",
       "text": [
        "\n",
        "\n",
        "\n",
        "Sen-----0.9547 \n",
        "\n",
        "[u'| demonstration in favour of \"Well-male\" Mayor']"
       ]
      },
      {
       "output_type": "stream",
       "stream": "stdout",
       "text": [
        "\n",
        "\n",
        "\n",
        "Sen-----0.9546 \n",
        "\n",
        "[u'Altamira in a group of teachers of the close to 200 who were subjected to the tests of evaluation, presented under protest since they say they are against education reform.']"
       ]
      },
      {
       "output_type": "stream",
       "stream": "stdout",
       "text": [
        "\n",
        "\n",
        "\n",
        "Sen-----0.9546 \n",
        "\n",
        "[u'At the request of the University, police did not allow access to this seat the Governor of San Pedro and his group, who, from the outside, shouted looking for cause, without success, the reaction of the students, still with its manifestation within the University.']"
       ]
      },
      {
       "output_type": "stream",
       "stream": "stdout",
       "text": [
        "\n",
        "\n",
        "\n",
        "Sen-----0.9544 \n",
        "\n",
        "[u'Outside of Chilpancingo prison were protesting relatives of the 22 prisoners who yesterday pulled and moved to Sinaloa.']"
       ]
      },
      {
       "output_type": "stream",
       "stream": "stdout",
       "text": [
        "\n",
        "\n",
        "\n",
        "Sen-----0.9544 \n",
        "\n",
        "[u'\"Already not to protest, we will sell on the street\".']"
       ]
      },
      {
       "output_type": "stream",
       "stream": "stdout",
       "text": [
        "\n",
        "\n",
        "\n",
        "Sen-----0.9541 \n",
        "\n",
        "[u'In recent days, another trade union protest had affected four bus lines in the area south of the GBA, in demand of wage arrears.']"
       ]
      },
      {
       "output_type": "stream",
       "stream": "stdout",
       "text": [
        "\n",
        "\n",
        "\n",
        "Sen-----0.9540 \n",
        "\n",
        "error"
       ]
      },
      {
       "output_type": "stream",
       "stream": "stdout",
       "text": [
        "\n",
        "Sen-----0.9540 \n",
        "\n",
        "[u'Shoving, shouting and insults occurred outside the building of the Flagrancias unit (North of Quito), overnight on Thursday 3 December 2015, during the protests by opposition groups to the constitutional amendments.']"
       ]
      },
      {
       "output_type": "stream",
       "stream": "stdout",
       "text": [
        "\n",
        "\n",
        "\n",
        "Sen-----0.9538 \n",
        "\n",
        "[u'A demonstration left Park students or Jovita, opposite the Santa Librada College, and focused on Municipal administrative centre (CAM).']"
       ]
      },
      {
       "output_type": "stream",
       "stream": "stdout",
       "text": [
        "\n",
        "\n",
        "\n",
        "Sen-----0.9535 \n",
        "\n",
        "[]\n",
        "\n",
        "\n",
        "Sen-----0.9535 \n",
        "\n",
        "[u'Neighbors of the friars of Catia protest this Saturday for the breach of a Mercal, which was planned for today in the parish of Caracas.']"
       ]
      },
      {
       "output_type": "stream",
       "stream": "stdout",
       "text": [
        "\n",
        "\n",
        "\n",
        "Sen-----0.9532 \n",
        "\n",
        "[u'Alert: Wednesday and Thursday, national strike in public services and ministries.']"
       ]
      },
      {
       "output_type": "stream",
       "stream": "stdout",
       "text": [
        "\n",
        "\n",
        "\n",
        "Sen-----0.9530 \n",
        "\n",
        "[u'There are drivers who were injured even by not supporting the mobilization and going out to work, as reported.']"
       ]
      },
      {
       "output_type": "stream",
       "stream": "stdout",
       "text": [
        "\n",
        "\n",
        "\n",
        "Sen-----0.9529 \n",
        "\n",
        "error"
       ]
      },
      {
       "output_type": "stream",
       "stream": "stdout",
       "text": [
        "\n",
        "Sen-----0.9526 \n",
        "\n",
        "[u'Members of different groups demonstrated against the representation of the State of Veracruz in Mexico City against the reform \"anti-abortion\", local Deputies approved last Thursday 21st.']"
       ]
      },
      {
       "output_type": "stream",
       "stream": "stdout",
       "text": [
        "\n",
        "\n",
        "\n",
        "Sen-----0.9520 \n",
        "\n",
        "[u'\"Listen to rector, the U is in the fight,\" they shouted, as they lifted banners with phrases alluding to that you do not want to lose their jobs.']"
       ]
      },
      {
       "output_type": "stream",
       "stream": "stdout",
       "text": [
        "\n",
        "\n",
        "\n",
        "Sen-----0.9519 \n",
        "\n",
        "[u'The students announced that they will continue with the measurement of force and explained that they take turns between the University carried out the strike to keep free access.']"
       ]
      },
      {
       "output_type": "stream",
       "stream": "stdout",
       "text": [
        "\n",
        "\n",
        "\n",
        "Sen-----0.9518 \n",
        "\n",
        "[u'Activists for the rights of animals and owners of dogs and cats were this Sunday, world day of the Animal and San Francisco, in a square of Area 4.']"
       ]
      },
      {
       "output_type": "stream",
       "stream": "stdout",
       "text": [
        "\n",
        "\n",
        "\n",
        "Sen-----0.9510 \n",
        "\n",
        "[u'Across the center of technological high school, industry and services (Colegialas) Pachuca 08 protesters demonstrated against the evaluation when arrived about 40 individuals armed with sticks and stones, who beat them.']"
       ]
      },
      {
       "output_type": "stream",
       "stream": "stdout",
       "text": [
        "\n",
        "\n",
        "\n",
        "Sen-----0.9510 \n",
        "\n",
        "[u'Parliamentary heads of Morena and the leadership of the party in the city demonstrated Tuesday against the legislature.']"
       ]
      },
      {
       "output_type": "stream",
       "stream": "stdout",
       "text": [
        "\n",
        "\n",
        "\n",
        "Sen-----0.9510 \n",
        "\n",
        "[u'The protest in the square which is located opposite the House of Oscar Galeano, which placed more than three patrol boats of the national police to prevent clashes.']"
       ]
      },
      {
       "output_type": "stream",
       "stream": "stdout",
       "text": [
        "\n",
        "\n",
        "\n",
        "Sen-----0.9505 \n",
        "\n",
        "error"
       ]
      },
      {
       "output_type": "stream",
       "stream": "stdout",
       "text": [
        "\n",
        "Sen-----0.9501 \n",
        "\n",
        "[u'According to witnesses, at 11:00 am appeared in the area the Bolivarian National Guard to break up the protest and suppress the workers.']"
       ]
      },
      {
       "output_type": "stream",
       "stream": "stdout",
       "text": [
        "\n",
        "\n",
        "\n",
        "Sen-----0.9499 \n",
        "\n",
        "error"
       ]
      },
      {
       "output_type": "stream",
       "stream": "stdout",
       "text": [
        "\n",
        "Sen-----0.9499 \n",
        "\n",
        "[u'Unemployment was also made in support of the workers of the passive of Maldonado, who demand the payment of wages for may and June, as well as the average bonus corresponding to the first half of the year.']"
       ]
      },
      {
       "output_type": "stream",
       "stream": "stdout",
       "text": [
        "\n",
        "\n",
        "\n",
        "Sen-----0.9498 \n",
        "\n",
        "[u'\"We make three cuts in the morning and three in the afternoon, 20 minutes each\", explained Wladimiro Dubatouka, one of those who lead the protest here.']"
       ]
      },
      {
       "output_type": "stream",
       "stream": "stdout",
       "text": [
        "\n",
        "\n",
        "\n",
        "Sen-----0.9495 \n",
        "\n",
        "[u'Relatives of inmates say that passes the midday came out two ambulances from the penitentiary.']"
       ]
      },
      {
       "output_type": "stream",
       "stream": "stdout",
       "text": [
        "\n",
        "\n",
        "\n",
        "Sen-----0.9492 \n",
        "\n",
        "[u'Different organizations staged this Friday a demonstration against the mayors accused of squandering funds from the National Fund for public investment and development (Fonacide).']"
       ]
      },
      {
       "output_type": "stream",
       "stream": "stdout",
       "text": [
        "\n",
        "\n",
        "\n",
        "Sen-----0.9492 \n",
        "\n",
        "[u'Headed by its leader Juan Mendoza Tapia, about hundreds of workers also demanded that authorities put high to extortions, kidnappings and murders.']"
       ]
      },
      {
       "output_type": "stream",
       "stream": "stdout",
       "text": [
        "\n",
        "\n",
        "\n",
        "Sen-----0.9492 \n",
        "\n",
        "[u'\"The demonstration in rejection of the amendments carried out in the vicinity of the National Assembly was violently suppressed by the police anti riot with the slogan stop leaders and referents\", he said the information, at the time that demanded the release of the group.']"
       ]
      },
      {
       "output_type": "stream",
       "stream": "stdout",
       "text": [
        "\n",
        "\n",
        "\n",
        "Sen-----0.9491 \n",
        "\n",
        "error"
       ]
      },
      {
       "output_type": "stream",
       "stream": "stdout",
       "text": [
        "\n",
        "Sen-----0.9487 \n",
        "\n",
        "[u'This action generated the first actions of protest of the CETEG, that with the closure of roads reported that hundreds of mentors had been the retention of between 800 and thousand dollars of your bi-weekly income.']"
       ]
      },
      {
       "output_type": "stream",
       "stream": "stdout",
       "text": [
        "\n",
        "\n",
        "\n",
        "Sen-----0.9486 \n",
        "\n",
        "[u'He gave a speech to workers of Cantv in Miraflores, with regard to the progress made from the headquarters of the company in the Avenida Libertador, to reject the alleged claims of some sectors of privatizing it.']"
       ]
      },
      {
       "output_type": "stream",
       "stream": "stdout",
       "text": [
        "\n",
        "\n",
        "\n"
       ]
      }
     ],
     "prompt_number": 31
    },
    {
     "cell_type": "code",
     "collapsed": false,
     "input": [
      "\n",
      "token = getToken();\n",
      "for sen in sorted_sens[-200:-100]:\n",
      "    print 'Sen-----%0.4f \\n' % sen[1]\n",
      "    try:\n",
      "        print getText(sen[0].encode('utf-8'))\n",
      "    except:\n",
      "        print 'error'\n",
      "        continue\n",
      "    print '\\n'"
     ],
     "language": "python",
     "metadata": {},
     "outputs": [
      {
       "output_type": "stream",
       "stream": "stdout",
       "text": [
        "Sen-----0.2119 \n",
        "\n",
        "[u\"'It's not about us, but it removes rights to children'\"]"
       ]
      },
      {
       "output_type": "stream",
       "stream": "stdout",
       "text": [
        "\n",
        "\n",
        "\n",
        "Sen-----0.2070 \n",
        "\n",
        "[u'She believes that her work is important for society because it is through the love and care that start children in education.']"
       ]
      },
      {
       "output_type": "stream",
       "stream": "stdout",
       "text": [
        "\n",
        "\n",
        "\n",
        "Sen-----0.2033 \n",
        "\n",
        "[u'\"The immediate implementation of the rule, which unknown administrative and operational factors that have subjects bound to tax, motivate a chaos tributary, keeping the material impossibility of compliance, distorting the objective of the same\", referred to the document. The imposition of VAT cooperatives produced a massive rejection in the sector which went out to the streets to mobilize expressing its repudiation on the grounds that affect most humble people who deposit their money. Cooperators continue with measures of protest until you review the Act.']"
       ]
      },
      {
       "output_type": "stream",
       "stream": "stdout",
       "text": [
        "\n",
        "\n",
        "\n",
        "Sen-----0.1991 \n",
        "\n",
        "[u'22 policemen were injured and four horses were hurt protesters \"tried to attack the police with the fences that separated them\".']"
       ]
      },
      {
       "output_type": "stream",
       "stream": "stdout",
       "text": [
        "\n",
        "\n",
        "\n",
        "Sen-----0.1968 \n",
        "\n",
        "[u'Ensure that students have awakened and demand their leaders \"to respond with facts and not with speeches and empty words like all the rulers who have gone\".']"
       ]
      },
      {
       "output_type": "stream",
       "stream": "stdout",
       "text": [
        "\n",
        "\n",
        "\n",
        "Sen-----0.1940 \n",
        "\n",
        "[u'Numerous contingent of street vendors protest at the Palacio Municipal de Guadalajara against the new municipal standards.']"
       ]
      },
      {
       "output_type": "stream",
       "stream": "stdout",
       "text": [
        "\n",
        "\n",
        "\n",
        "Sen-----0.1935 \n",
        "\n",
        "[u'Producers marched across the country on Tuesday rejecting the rise in rates and had warned that do not have a response in the short term would come back to protest routes.']"
       ]
      },
      {
       "output_type": "stream",
       "stream": "stdout",
       "text": [
        "\n",
        "\n",
        "\n",
        "Sen-----0.1899 \n",
        "\n",
        "[u'The headquarters is a historic building, national heritage, which operate several offices of the Codicen, as the sectoral direction for youth and adults.']"
       ]
      },
      {
       "output_type": "stream",
       "stream": "stdout",
       "text": [
        "\n",
        "\n",
        "\n",
        "Sen-----0.1895 \n",
        "\n",
        "[u'pic.twitter.com/MaFSkuRiHT - UNICOM (@MI_UNICOM) October 2, 2015']"
       ]
      },
      {
       "output_type": "stream",
       "stream": "stdout",
       "text": [
        "\n",
        "\n",
        "\n",
        "Sen-----0.1792 \n",
        "\n",
        "[u'In the early hours of Friday the headquarters of the Central Executive Council of ANEP (Codicen) located on the Black River Street, dawned with remains of could have been an explosion.']"
       ]
      },
      {
       "output_type": "stream",
       "stream": "stdout",
       "text": [
        "\n",
        "\n",
        "\n",
        "Sen-----0.1780 \n",
        "\n",
        "[u'Bled some guardians, also protesters, friends and family that went with them.']"
       ]
      },
      {
       "output_type": "stream",
       "stream": "stdout",
       "text": [
        "\n",
        "\n",
        "\n",
        "Sen-----0.1775 \n",
        "\n",
        "error"
       ]
      },
      {
       "output_type": "stream",
       "stream": "stdout",
       "text": [
        "\n",
        "Sen-----0.1763 \n",
        "\n",
        "[u'Today we made a symbolic walk and next Tuesday we will convene a general strike,\"said the Secretary of the Union of officers, employees and workers of the Public Ministry, Odilon Turo.']"
       ]
      },
      {
       "output_type": "stream",
       "stream": "stdout",
       "text": [
        "\n",
        "\n",
        "\n",
        "Sen-----0.1754 \n",
        "\n",
        "[u'Until he set up camp in the noses of Morales, on 14 December last year, the Tupac controlled 150 cooperatives.']"
       ]
      },
      {
       "output_type": "stream",
       "stream": "stdout",
       "text": [
        "\n",
        "\n",
        "\n",
        "Sen-----0.1751 \n",
        "\n",
        "[u'We seized because we were tired and we fell.']"
       ]
      },
      {
       "output_type": "stream",
       "stream": "stdout",
       "text": [
        "\n",
        "\n",
        "\n",
        "Sen-----0.1745 \n",
        "\n",
        "[u'GM workers in mining tailings working without security, denounces Union in Taxco']"
       ]
      },
      {
       "output_type": "stream",
       "stream": "stdout",
       "text": [
        "\n",
        "\n",
        "\n",
        "Sen-----0.1700 \n",
        "\n",
        "[u'According to the Ceteg, magisterial assessment was not conducted.']"
       ]
      },
      {
       "output_type": "stream",
       "stream": "stdout",
       "text": [
        "\n",
        "\n",
        "\n",
        "Sen-----0.1680 \n",
        "\n",
        "[u'In Bank of mining waste, several workers carry only boots, a helmet and a vest to remove the pull.']"
       ]
      },
      {
       "output_type": "stream",
       "stream": "stdout",
       "text": [
        "\n",
        "\n",
        "\n",
        "Sen-----0.1679 \n",
        "\n",
        "error"
       ]
      },
      {
       "output_type": "stream",
       "stream": "stdout",
       "text": [
        "\n",
        "Sen-----0.1641 \n",
        "\n",
        "[u'A contingent of the public school teachers March through the streets and is planted to protest against \"punitive evaluation\", sent by the new laws emerging from the Reformation to third party articles and seventy-three of the Constitution.']"
       ]
      },
      {
       "output_type": "stream",
       "stream": "stdout",
       "text": [
        "\n",
        "\n",
        "\n",
        "Sen-----0.1639 \n",
        "\n",
        "[u'Veron died on Monday morning.']"
       ]
      },
      {
       "output_type": "stream",
       "stream": "stdout",
       "text": [
        "\n",
        "\n",
        "\n",
        "Sen-----0.1612 \n",
        "\n",
        "[u'Line 49 protesters intend to move to the crucified to give evidence, but police were not allowed to leave claiming exposure to danger.']"
       ]
      },
      {
       "output_type": "stream",
       "stream": "stdout",
       "text": [
        "\n",
        "\n",
        "\n",
        "Sen-----0.1612 \n",
        "\n",
        "[u'One of the coordinators of the event, the Professor Dolly Ortiz, said that governance donated t-shirts that use volunteers; In addition, it has the support of farmers who gave food for those working at the event, which will culminate tomorrow, Saturday at 20:00.']"
       ]
      },
      {
       "output_type": "stream",
       "stream": "stdout",
       "text": [
        "\n",
        "\n",
        "\n",
        "Sen-----0.1599 \n",
        "\n",
        "[u'Relatives of Veron, on the other hand, returned to take responsibility of death to the repression executed on September 24.']"
       ]
      },
      {
       "output_type": "stream",
       "stream": "stdout",
       "text": [
        "\n",
        "\n",
        "\n",
        "Sen-----0.1596 \n",
        "\n",
        "[u'In a short time, Hall has established itself as top dog of the network of social organizations (ROS), comprising hundreds of unemployed and cooperative groups in addition to the Tupac.']"
       ]
      },
      {
       "output_type": "stream",
       "stream": "stdout",
       "text": [
        "\n",
        "\n",
        "\n",
        "Sen-----0.1591 \n",
        "\n",
        "[u'Estrada Lara said that this part of the insecurity was noted by environmental experts, State of Semaren and local officials, as well as by the core of the Advisory Council for sustainable development of Taxco that Friday were inspecting the work.']"
       ]
      },
      {
       "output_type": "stream",
       "stream": "stdout",
       "text": [
        "\n",
        "\n",
        "\n",
        "Sen-----0.1585 \n",
        "\n",
        "[u'Let tents are multiply metres from his office and during the first few days was limited to questioning the protest by the media.']"
       ]
      },
      {
       "output_type": "stream",
       "stream": "stdout",
       "text": [
        "\n",
        "\n",
        "\n",
        "Sen-----0.1581 \n",
        "\n",
        "[u'But those who violated a March which had been peaceful, were what one calls nacoanarquistas.']"
       ]
      },
      {
       "output_type": "stream",
       "stream": "stdout",
       "text": [
        "\n",
        "\n",
        "\n",
        "Sen-----0.1578 \n",
        "\n",
        "[u'\"Excessive violence\" agents were authorized to implement the progressive use of force, to avoid one confrontation with the protesters who were in other sectors of the Assembly.']"
       ]
      },
      {
       "output_type": "stream",
       "stream": "stdout",
       "text": [
        "\n",
        "\n",
        "\n",
        "Sen-----0.1576 \n",
        "\n",
        "[u'This once on Tuesday a group of small producers of milk of Tarqui and Victoria the Portete made a protest on the Panamericana Sur, where indicated that industrialists do not consume their production, that they want to pay less per liter and that there is overproduction by the importation of powdered milk.']"
       ]
      },
      {
       "output_type": "stream",
       "stream": "stdout",
       "text": [
        "\n",
        "\n",
        "\n",
        "Sen-----0.1548 \n",
        "\n",
        "[u'The police threw many gases, anger or stoned, and ultimately ran the boys.']"
       ]
      },
      {
       "output_type": "stream",
       "stream": "stdout",
       "text": [
        "\n",
        "\n",
        "\n",
        "Sen-----0.1532 \n",
        "\n",
        "[u'They reiterated to not agree with the work \"the people did not ask for and wants to impose public force\".']"
       ]
      },
      {
       "output_type": "stream",
       "stream": "stdout",
       "text": [
        "\n",
        "\n",
        "\n",
        "Sen-----0.1454 \n",
        "\n",
        "[u'\"Between 1991 and 2000 Codelco removed between 1 and 8 million tonnes of ice a year,\" declared a statement delivered Wednesday by the NGOs, expressed their displeasure and protest through dances performed Tuesday against the corporate building of the mining company in the center of Santiago.']"
       ]
      },
      {
       "output_type": "stream",
       "stream": "stdout",
       "text": [
        "\n",
        "\n",
        "\n",
        "Sen-----0.1438 \n",
        "\n",
        "[u'Relatives of the two sergeants ensured that they are humble and hard-working.']"
       ]
      },
      {
       "output_type": "stream",
       "stream": "stdout",
       "text": [
        "\n",
        "\n",
        "\n",
        "Sen-----0.1435 \n",
        "\n",
        "[u'The contingent is crowd, sometimes just numerous.']"
       ]
      },
      {
       "output_type": "stream",
       "stream": "stdout",
       "text": [
        "\n",
        "\n",
        "\n",
        "Sen-----0.1410 \n",
        "\n",
        "[u'The doctors went on strike Wednesday 4 November that in principle would extend for 15 days, but managed to deactivate it the 12 Thursday, after reaching an agreement with the management of the Faculty of medicine, through the mediation of the Ministry of labour.']"
       ]
      },
      {
       "output_type": "stream",
       "stream": "stdout",
       "text": [
        "\n",
        "\n",
        "\n",
        "Sen-----0.1378 \n",
        "\n",
        "[u'\"Since Friday we have been making demonstration and will increase the hours.']"
       ]
      },
      {
       "output_type": "stream",
       "stream": "stdout",
       "text": [
        "\n",
        "\n",
        "\n",
        "Sen-----0.1345 \n",
        "\n",
        "[u'Pizzurno pointed out that economical by stoppage loss there is no since the institution exempts 70% the services provided to users.']"
       ]
      },
      {
       "output_type": "stream",
       "stream": "stdout",
       "text": [
        "\n",
        "\n",
        "\n",
        "Sen-----0.1309 \n",
        "\n",
        "[u'With that I think that 10 days would be regulating everything\", said.']"
       ]
      },
      {
       "output_type": "stream",
       "stream": "stdout",
       "text": [
        "\n",
        "\n",
        "\n",
        "Sen-----0.1302 \n",
        "\n",
        "[u'From this place, the tenants claimed that the writing with the order to leave the enclosure does not have legislation for this, and that in addition not were notified that should make leaving the place.']"
       ]
      },
      {
       "output_type": "stream",
       "stream": "stdout",
       "text": [
        "\n",
        "\n",
        "\n",
        "Sen-----0.1298 \n",
        "\n",
        "[u'The complaint is by what happened on December 12, 2011, in Chilpancingo, Guerrero, when federal, State and municipality police officers mobilized to evict a demonstration that performed the preservice on the Autopista del Sol.']"
       ]
      },
      {
       "output_type": "stream",
       "stream": "stdout",
       "text": [
        "\n",
        "\n",
        "\n",
        "Sen-----0.1279 \n",
        "\n",
        "error"
       ]
      },
      {
       "output_type": "stream",
       "stream": "stdout",
       "text": [
        "\n",
        "Sen-----0.1279 \n",
        "\n",
        "[u'The leader of the Trade Union described as illegal discounts against the masters of the Trade Union, \"because their actions have them using their right to free expression\".']"
       ]
      },
      {
       "output_type": "stream",
       "stream": "stdout",
       "text": [
        "\n",
        "\n",
        "\n",
        "Sen-----0.1270 \n",
        "\n",
        "[u'Students of the Seine, Asonal and ICBF officials protested in the main streets of the city calling for a leveling wage n for the Judicial Branch.']"
       ]
      },
      {
       "output_type": "stream",
       "stream": "stdout",
       "text": [
        "\n",
        "\n",
        "\n",
        "Sen-----0.1268 \n",
        "\n",
        "[u'At the moment there is agreement to unlock the strike, signed by 750 physicians of the Hospital, of the total of about 1,300.']"
       ]
      },
      {
       "output_type": "stream",
       "stream": "stdout",
       "text": [
        "\n",
        "\n",
        "\n",
        "Sen-----0.1231 \n",
        "\n",
        "error"
       ]
      },
      {
       "output_type": "stream",
       "stream": "stdout",
       "text": [
        "\n",
        "Sen-----0.1215 \n",
        "\n",
        "[u'Arrived the kids to class,\"shouted the President of the employer of the cab, Oscar Dourado.']"
       ]
      },
      {
       "output_type": "stream",
       "stream": "stdout",
       "text": [
        "\n",
        "\n",
        "\n",
        "Sen-----0.1208 \n",
        "\n",
        "[u'Students were moved to the premises of the Attorney General of Justice of the State, located in Morelia.']"
       ]
      },
      {
       "output_type": "stream",
       "stream": "stdout",
       "text": [
        "\n",
        "\n",
        "\n",
        "Sen-----0.1179 \n",
        "\n",
        "[u'This \"should be outraged and as Chileans, we must demand that the company that claims to be a pride not destroy glaciers during their mining operations,\" said the ecologist.']"
       ]
      },
      {
       "output_type": "stream",
       "stream": "stdout",
       "text": [
        "\n",
        "\n",
        "\n",
        "Sen-----0.1172 \n",
        "\n",
        "[u'After students at the school Ysaty are placed to the demonstrations in favour of better education, the authorities of the institution decided to suspend all extracurricular activities outside of the educational facility, among these the intercollegiate.']"
       ]
      },
      {
       "output_type": "stream",
       "stream": "stdout",
       "text": [
        "\n",
        "\n",
        "\n",
        "Sen-----0.1165 \n",
        "\n",
        "[u'Mobilization will be held for 48 hours, \"while waiting for measures\" to help the fruit sector, he said.']"
       ]
      },
      {
       "output_type": "stream",
       "stream": "stdout",
       "text": [
        "\n",
        "\n",
        "\n",
        "Sen-----0.1160 \n",
        "\n",
        "[u'IEEPA reiterates that there will be discounts to truancy']"
       ]
      },
      {
       "output_type": "stream",
       "stream": "stdout",
       "text": [
        "\n",
        "\n",
        "\n",
        "Sen-----0.1146 \n",
        "\n",
        "[u'Sources close to the company told the country that identified several women arrived with the intention of training, and then turned and went.']"
       ]
      },
      {
       "output_type": "stream",
       "stream": "stdout",
       "text": [
        "\n",
        "\n",
        "\n",
        "Sen-----0.1138 \n",
        "\n",
        "[u'The hall they entered dozens of taximetristas.']"
       ]
      },
      {
       "output_type": "stream",
       "stream": "stdout",
       "text": [
        "\n",
        "\n",
        "\n",
        "Sen-----0.1138 \n",
        "\n",
        "[u'However, in communication with Lucia Benitez, the third course of the average student, the student denied this fact and even said that several times she and colleagues were threatened with this measure if they participated in the sit, that was finally fulfilled yesterday by Apuril.']"
       ]
      },
      {
       "output_type": "stream",
       "stream": "stdout",
       "text": [
        "\n",
        "\n",
        "\n",
        "Sen-----0.1133 \n",
        "\n",
        "error"
       ]
      },
      {
       "output_type": "stream",
       "stream": "stdout",
       "text": [
        "\n",
        "Sen-----0.1124 \n",
        "\n",
        "[u'In an interview, police command said that the security strategy yielded fruit and there were no major alterations to public order or damage to third parties, except for reports of complaints from motorists who criticized the semiparalizacion of Madero, Ventura bridge, solidarity and avenues Beltway South, where magisterial contingent marched.']"
       ]
      },
      {
       "output_type": "stream",
       "stream": "stdout",
       "text": [
        "\n",
        "\n",
        "\n",
        "Sen-----0.1116 \n",
        "\n",
        "[u'They may intervene, but not our conscience and our struggle\", warned Diaz together with hold that\"any decision will be with the officials of the country\". Thus the representative of workers who met 29 days on strike, pointed out that today will gather at Assembly \"to decide the future of this movement\".']"
       ]
      },
      {
       "output_type": "stream",
       "stream": "stdout",
       "text": [
        "\n",
        "\n",
        "\n",
        "Sen-----0.1115 \n",
        "\n",
        "[u'Robles said that he is already ready the second wage discount for educational paristas and informed that already it has discounted 50 thousand 83 thousand teachers salary for absences.']"
       ]
      },
      {
       "output_type": "stream",
       "stream": "stdout",
       "text": [
        "\n",
        "\n",
        "\n",
        "Sen-----0.1077 \n",
        "\n",
        "[u'Rodolfo Pisa, who had the idea of bringing together all the inhabitants of the village to protest against mining, has lost its cultivation of strawberries by the dust that rise mine trucks.']"
       ]
      },
      {
       "output_type": "stream",
       "stream": "stdout",
       "text": [
        "\n",
        "\n",
        "\n",
        "Sen-----0.1057 \n",
        "\n",
        "[u'With posters and banners in favor of ayoreo them totobiegosode, activists surrounded the front door of the SEAM with a long Ribbon and wait for an hour until finally they were received by officials of the institution.']"
       ]
      },
      {
       "output_type": "stream",
       "stream": "stdout",
       "text": [
        "\n",
        "\n",
        "\n",
        "Sen-----0.1048 \n",
        "\n",
        "[u'11 military troop processed concentrated their weapons of equipment and uniformed, the morning of July 24 in the floral clock, to then do a demonstration towards the Assembly to demand a bonus of $600 on the grounds that their lives are in danger as well as the police.']"
       ]
      },
      {
       "output_type": "stream",
       "stream": "stdout",
       "text": [
        "\n",
        "\n",
        "\n",
        "Sen-----0.1045 \n",
        "\n",
        "[u'The meeting was held from the Miraflores Palace']"
       ]
      },
      {
       "output_type": "stream",
       "stream": "stdout",
       "text": [
        "\n",
        "\n",
        "\n",
        "Sen-----0.1027 \n",
        "\n",
        "[u'Not for nothing: the followers of the star will meet today, at 23.30, to demand their release.']"
       ]
      },
      {
       "output_type": "stream",
       "stream": "stdout",
       "text": [
        "\n",
        "\n",
        "\n",
        "Sen-----0.1022 \n",
        "\n",
        "[u'A group of soldiers concentrated the morning of July 24 to demand a $600 bonus similar to given the cops as... | Do photo by file 14 military that they are arrested in the special Brigade of military security, by demanding a bonus of 600 d? lares similar to that received the polic? as, considering that also? n they expose their lives to the high? criminality indexes']"
       ]
      },
      {
       "output_type": "stream",
       "stream": "stdout",
       "text": [
        "\n",
        "\n",
        "\n",
        "Sen-----0.1005 \n",
        "\n",
        "[u'By the imprisonment of its fourth leader, the Popular Union of street vendors (UPVA) October 28 marched against the Attorney General of Justice (PGJ) and House Aguayo to demand the release of their prisoners.']"
       ]
      },
      {
       "output_type": "stream",
       "stream": "stdout",
       "text": [
        "\n",
        "\n",
        "\n",
        "Sen-----0.0961 \n",
        "\n",
        "error"
       ]
      },
      {
       "output_type": "stream",
       "stream": "stdout",
       "text": [
        "\n",
        "Sen-----0.0951 \n",
        "\n",
        "[u'A tent was installed in the sidewalk and next to a barbecue.']"
       ]
      },
      {
       "output_type": "stream",
       "stream": "stdout",
       "text": [
        "\n",
        "\n",
        "\n",
        "Sen-----0.0950 \n",
        "\n",
        "error"
       ]
      },
      {
       "output_type": "stream",
       "stream": "stdout",
       "text": [
        "\n",
        "Sen-----0.0948 \n",
        "\n",
        "[u'Today there will be a March in Tulua organized by relatives of the soldier Perez, who earlier Friday was 24 years old.']"
       ]
      },
      {
       "output_type": "stream",
       "stream": "stdout",
       "text": [
        "\n",
        "\n",
        "\n",
        "Sen-----0.0935 \n",
        "\n",
        "[u'Today, in fact, from 23.30, they held a March in the Obelisk order \"by the very rapid release of Mo!']"
       ]
      },
      {
       "output_type": "stream",
       "stream": "stdout",
       "text": [
        "\n",
        "\n",
        "\n",
        "Sen-----0.0919 \n",
        "\n",
        "[u'Also mentioned the progress made Monday by workers, who started from the headquarters of the Public Ministry, Park ideally, and whose end point was the Palacio de Miraflores, in defense of great mission housing Venezuela and the great mission District new Tricolor.']"
       ]
      },
      {
       "output_type": "stream",
       "stream": "stdout",
       "text": [
        "\n",
        "\n",
        "\n",
        "Sen-----0.0913 \n",
        "\n",
        "[u'Ayala argued that there is no legal provision that sustains the motives and the infringements which is directed downward.']"
       ]
      },
      {
       "output_type": "stream",
       "stream": "stdout",
       "text": [
        "\n",
        "\n",
        "\n",
        "Sen-----0.0904 \n",
        "\n",
        "[u'The communities of ayoreo, who have several years to denounce this situation, they have also seen on several occasions the presence of several hundred kilometers of fences, operators and tractor introduced into their lands by another company, the firm Itapoti, according to GAT.']"
       ]
      },
      {
       "output_type": "stream",
       "stream": "stdout",
       "text": [
        "\n",
        "\n",
        "\n",
        "Sen-----0.0897 \n",
        "\n",
        "[u'The occupation was carried out by officers uniform with green t-shirts.']"
       ]
      },
      {
       "output_type": "stream",
       "stream": "stdout",
       "text": [
        "\n",
        "\n",
        "\n",
        "Sen-----0.0853 \n",
        "\n",
        "[u'When harvest time came, most of their crops had died.']"
       ]
      },
      {
       "output_type": "stream",
       "stream": "stdout",
       "text": [
        "\n",
        "\n",
        "\n",
        "Sen-----0.0835 \n",
        "\n",
        "error"
       ]
      },
      {
       "output_type": "stream",
       "stream": "stdout",
       "text": [
        "\n",
        "Sen-----0.0819 \n",
        "\n",
        "[u'\"We are going to be paid directly to the cooperative members and beneficiaries, there is bancarizarlos decision.']"
       ]
      },
      {
       "output_type": "stream",
       "stream": "stdout",
       "text": [
        "\n",
        "\n",
        "\n",
        "Sen-----0.0816 \n",
        "\n",
        "[u'After weeks of struggle, where the municipality had given the refusal to the mobilization to end in the square, they didn\\'t provide the public baths and the ambulance service and asked the police to halt the passage of the cart drivers coming in motorcade an hour that starts everything, finally people could manifest itself in peace and tell : \"no to arrests for possession of face\".']"
       ]
      },
      {
       "output_type": "stream",
       "stream": "stdout",
       "text": [
        "\n",
        "\n",
        "\n",
        "Sen-----0.0793 \n",
        "\n",
        "[u'A group of protesters met against the facilities of Ecopetrol, in Barrancabermeja, ask the national Government to speed up the modernization of the plant refinery which will allow a growth of 22 percent in the use of oil derivatives to prevent the mass dismissal of employees.']"
       ]
      },
      {
       "output_type": "stream",
       "stream": "stdout",
       "text": [
        "\n",
        "\n",
        "\n",
        "Sen-----0.0787 \n",
        "\n",
        "[u'Members of the national coordinator of education workers (CNTE) will today be a mobilization of the Angel of independence to the facilities of the Secretariat of public education (SEP), in the historic centre, on demand of a roundtable dialogue.']"
       ]
      },
      {
       "output_type": "stream",
       "stream": "stdout",
       "text": [
        "\n",
        "\n",
        "\n",
        "Sen-----0.0784 \n",
        "\n",
        "error"
       ]
      },
      {
       "output_type": "stream",
       "stream": "stdout",
       "text": [
        "\n",
        "Sen-----0.0773 \n",
        "\n",
        "[u'Meanwhile, a conflict between the Polic a and the students of the Universidad Distrital Francisco Jos de Caldas (Headquarters Macarena) blocked Avenida Circunvalar.']"
       ]
      },
      {
       "output_type": "stream",
       "stream": "stdout",
       "text": [
        "\n",
        "\n",
        "\n",
        "Sen-----0.0757 \n",
        "\n",
        "[u'The transfer of the gendarmes was to control the routes\", said the President, who yesterday visited the injured policemen in Salta.']"
       ]
      },
      {
       "output_type": "stream",
       "stream": "stdout",
       "text": [
        "\n",
        "\n",
        "\n",
        "Sen-----0.0741 \n",
        "\n",
        "[u'Meanwhile a group of teachers of section 22 of the national coordinator of education workers (CNTE) manifested itself in front of a hotel in the area west of the city of Oaxaca to demand the withdrawal of federal forces and demand the release of detained colleagues, as well as protest against the teacher evaluation process, unless you report damage or injuries, or confrontation, since in the place he had hosted various elements of the national gendarmerie.']"
       ]
      },
      {
       "output_type": "stream",
       "stream": "stdout",
       "text": [
        "\n",
        "\n",
        "\n",
        "Sen-----0.0731 \n",
        "\n",
        "[u'Fruit producers return to routes to demand help']"
       ]
      },
      {
       "output_type": "stream",
       "stream": "stdout",
       "text": [
        "\n",
        "\n",
        "\n",
        "Sen-----0.0722 \n",
        "\n",
        "[u'Anti-bullfighting protest a group of activists are pronounced against the bullfights of bulls that will be developed in the square of Belmonte, since this December 2, by Quito parties.']"
       ]
      },
      {
       "output_type": "stream",
       "stream": "stdout",
       "text": [
        "\n",
        "\n",
        "\n",
        "Sen-----0.0720 \n",
        "\n",
        "[u'Shouting \"your police state left you front sea\", all the protesters asked: \"in the hands of zero tolerance, the executioner of the cordoban people (J.M.']"
       ]
      },
      {
       "output_type": "stream",
       "stream": "stdout",
       "text": [
        "\n",
        "\n",
        "\n",
        "Sen-----0.0703 \n",
        "\n",
        "[u'Teachers have rallied in the streets, have thrown eggs against the headquarters of the Palace of Government to require the installation of a political and legal table both with the Oaxaca as federal Government to secure the release of detained 4 teachers last weekend accused of committing federal crimes and who federal judges already dictated the car of detention and to demand the cancellation of orders arrest warrants against their leaders RID.']"
       ]
      },
      {
       "output_type": "stream",
       "stream": "stdout",
       "text": [
        "\n",
        "\n",
        "\n",
        "Sen-----0.0701 \n",
        "\n",
        "[u'Family members protested outside the municipality, where officials pledged to solve the problem.']"
       ]
      },
      {
       "output_type": "stream",
       "stream": "stdout",
       "text": [
        "\n",
        "\n",
        "\n",
        "Sen-----0.0676 \n",
        "\n",
        "[u'Sunday 27 December 2015, p.']"
       ]
      },
      {
       "output_type": "stream",
       "stream": "stdout",
       "text": [
        "\n",
        "\n",
        "\n",
        "Sen-----0.0675 \n",
        "\n",
        "error"
       ]
      },
      {
       "output_type": "stream",
       "stream": "stdout",
       "text": [
        "\n",
        "Sen-----0.0672 \n",
        "\n",
        "[u'Friday, October 2, 2015, p.']"
       ]
      },
      {
       "output_type": "stream",
       "stream": "stdout",
       "text": [
        "\n",
        "\n",
        "\n",
        "Sen-----0.0664 \n",
        "\n",
        "error"
       ]
      },
      {
       "output_type": "stream",
       "stream": "stdout",
       "text": [
        "\n",
        "Sen-----0.0664 \n",
        "\n",
        "[u'Nearly 1,000 people took part in the call organized by the Catholic and Evangelical churches.']"
       ]
      },
      {
       "output_type": "stream",
       "stream": "stdout",
       "text": [
        "\n",
        "\n",
        "\n",
        "Sen-----0.0661 \n",
        "\n",
        "[u'Activists are pronounced against the bullfights that will develop in Belmonte square from morning till 20:00, for the holidays of Quito.']"
       ]
      },
      {
       "output_type": "stream",
       "stream": "stdout",
       "text": [
        "\n",
        "\n",
        "\n",
        "Sen-----0.0656 \n",
        "\n",
        "[u'This afternoon, relatives of Miriam Patricia Almanza Cruz, held a March \"By the security in Vallarta\", which will depart at 19:00 hours at the hotel Sheraton.']"
       ]
      },
      {
       "output_type": "stream",
       "stream": "stdout",
       "text": [
        "\n",
        "\n",
        "\n",
        "Sen-----0.0656 \n",
        "\n",
        "[u'Freight forwarders closed borders this month to protest the arrears that have been common throughout the year.']"
       ]
      },
      {
       "output_type": "stream",
       "stream": "stdout",
       "text": [
        "\n",
        "\n",
        "\n",
        "Sen-----0.0638 \n",
        "\n",
        "[u'This is just one case of so many others, represented in the pictures, flags, t-shirts and pamphlet that family members had marked all the crimes of the State.']"
       ]
      },
      {
       "output_type": "stream",
       "stream": "stdout",
       "text": [
        "\n",
        "\n",
        "\n",
        "Sen-----0.0624 \n",
        "\n",
        "[u\"Valenzuela was one of the first speakers at the March for life, which began at the Plaza Uruguaya and ended on one side of the Plaza Juan E. O'Leary.\"]"
       ]
      },
      {
       "output_type": "stream",
       "stream": "stdout",
       "text": [
        "\n",
        "\n",
        "\n"
       ]
      }
     ],
     "prompt_number": 36
    },
    {
     "cell_type": "code",
     "collapsed": false,
     "input": [
      "getText(docs[6][4].encode(\"utf-8\"))"
     ],
     "language": "python",
     "metadata": {},
     "outputs": [
      {
       "metadata": {},
       "output_type": "pyout",
       "prompt_number": 26,
       "text": [
        "[u'There the dissident teachers showed banners and threw slogans against educational policies and public security.']"
       ]
      }
     ],
     "prompt_number": 26
    },
    {
     "cell_type": "code",
     "collapsed": false,
     "input": [
      "# load the protest articles\n",
      "full_text"
     ],
     "language": "python",
     "metadata": {},
     "outputs": [],
     "prompt_number": 37
    }
   ],
   "metadata": {}
  }
 ]
}